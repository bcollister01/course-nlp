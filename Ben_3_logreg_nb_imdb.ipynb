{
  "nbformat": 4,
  "nbformat_minor": 0,
  "metadata": {
    "kernelspec": {
      "display_name": "Python 3",
      "language": "python",
      "name": "python3"
    },
    "language_info": {
      "codemirror_mode": {
        "name": "ipython",
        "version": 3
      },
      "file_extension": ".py",
      "mimetype": "text/x-python",
      "name": "python",
      "nbconvert_exporter": "python",
      "pygments_lexer": "ipython3",
      "version": "3.7.3"
    },
    "colab": {
      "name": "Ben 3-logreg-nb-imdb.ipynb",
      "provenance": [],
      "collapsed_sections": [
        "3CLBXkIXrxBI",
        "9jeENiU9rxBS",
        "Jass4HZ7rxBT",
        "A6tq1CSyrxBa",
        "fIIomAjlrxBb",
        "44PUgCEqrxBb",
        "PltAbnRVrxBb",
        "ZXVxXLnerxBb",
        "3s04BkmxrxBb",
        "QTH26HEdrxBc",
        "xm_7T12DrxBc",
        "F42yamULrxBi",
        "cH5LcN-LrxBj",
        "-vv_-0-BrxBj",
        "B8OHHBttrxBp",
        "w5pilE9ArxBp",
        "VZUbo_fqrxBp",
        "KY1qcxfkrxBr",
        "r7pgnbUzrxB0",
        "MF6Fiz6ArxB0",
        "zTEKEnTfrxB0",
        "wJm6NrharxB0",
        "86HGP004rxB1",
        "Zj4XODXXrxB1",
        "li5u_tCSrxB6",
        "8wgNLcY8rxCH",
        "RmaHkj6JrxCH",
        "nmwPNIyirxCW",
        "0kiUvDfBrxCX",
        "Tz5GoGu3rxCa",
        "45hW6gnarxCf",
        "yNMR1RN5rxCf",
        "IupKVPkZrxCf",
        "PvZ-sO-drxCg",
        "-ffxwLSjrxCg",
        "gvJDttWtrxCh"
      ]
    }
  },
  "cells": [
    {
      "cell_type": "markdown",
      "metadata": {
        "id": "lOgKHIqGrxAw"
      },
      "source": [
        "# Sentiment Classification the old-fashioned way: \n",
        "## `Naive Bayes`, `Logistic Regression`, and `Ngrams`"
      ]
    },
    {
      "cell_type": "markdown",
      "metadata": {
        "id": "bpqpml_ErxA7"
      },
      "source": [
        "The purpose of this notebook is to show how sentiment classification is done via the classic techniques of `Naive Bayes`, `Logistic regression`, and `Ngrams`.  We will be using `sklearn` and the `fastai` library.\n",
        "\n",
        "In a future lesson, we will revisit sentiment classification using `deep learning`, so that you can compare the two approaches."
      ]
    },
    {
      "cell_type": "markdown",
      "metadata": {
        "id": "lOv9UqI-rxA8"
      },
      "source": [
        "The content here was extended from [Lesson 10 of the fast.ai Machine Learning course](https://course.fast.ai/lessonsml1/lesson10.html). Linear model is pretty close to the state of the art here.  Jeremy surpassed state of the art using a RNN in fall 2017."
      ]
    },
    {
      "cell_type": "markdown",
      "metadata": {
        "heading_collapsed": true,
        "id": "IgeZqitJrxA8"
      },
      "source": [
        "## 0.The fastai library"
      ]
    },
    {
      "cell_type": "markdown",
      "metadata": {
        "hidden": true,
        "id": "Ew_XNF5UrxA8"
      },
      "source": [
        "We will begin using [the fastai library](https://docs.fast.ai) (version 1.0) in this notebook.  We will use it more once we move on to neural networks.\n",
        "\n",
        "The fastai library is built on top of PyTorch and encodes many state-of-the-art best practices. It is used in production at a number of companies.  You can read more about it here:\n",
        "\n",
        "- [Fast.ai's software could radically democratize AI](https://www.zdnet.com/article/fast-ais-new-software-could-radically-democratize-ai/) (ZDNet)\n",
        "\n",
        "- [fastai v1 for PyTorch: Fast and accurate neural nets using modern best practices](https://www.fast.ai/2018/10/02/fastai-ai/) (fast.ai)\n",
        "\n",
        "- [fastai docs](https://docs.fast.ai/)\n",
        "\n",
        "### Installation\n",
        "\n",
        "With conda:\n",
        "\n",
        "`conda install -c pytorch -c fastai fastai=1.0`\n",
        "\n",
        "Or with pip:\n",
        "\n",
        "`pip install fastai==1.0`\n",
        "\n",
        "More [installation information here](https://github.com/fastai/fastai/blob/master/README.md).\n",
        "\n",
        "Beginning in lesson 4, we will be using GPUs, so if you want, you could switch to a [cloud option](https://course.fast.ai/#using-a-gpu) now to setup fastai."
      ]
    },
    {
      "cell_type": "markdown",
      "metadata": {
        "id": "Xbb8zun1rxA9"
      },
      "source": [
        "## 1. The IMDB dataset"
      ]
    },
    {
      "cell_type": "markdown",
      "metadata": {
        "id": "NUkng9SrrxA9"
      },
      "source": [
        "<img src=\"https://github.com/bcollister01/course-nlp/blob/master/IMDb.png?raw=1\" alt=\"floating point\" style=\"width: 90%\"/>"
      ]
    },
    {
      "cell_type": "markdown",
      "metadata": {
        "id": "5h06kjelrxA-"
      },
      "source": [
        "The [large movie review dataset](http://ai.stanford.edu/~amaas/data/sentiment/) contains a collection of 50,000 reviews from IMDB, We will use the version hosted as part [fast.ai datasets](https://course.fast.ai/datasets.html) on AWS Open Datasets. \n",
        "\n",
        "The dataset contains an even number of positive and negative reviews. The authors considered only highly polarized reviews. A negative review has a score ≤ 4 out of 10, and a positive review has a score ≥ 7 out of 10. Neutral reviews are not included in the dataset. The dataset is divided into training and test sets. The training set is the same 25,000 labeled reviews.\n",
        "\n",
        "The **sentiment classification task** consists of predicting the polarity (positive or negative) of a given text."
      ]
    },
    {
      "cell_type": "markdown",
      "metadata": {
        "id": "W0EHOyeqrxA-"
      },
      "source": [
        "### Imports"
      ]
    },
    {
      "cell_type": "code",
      "metadata": {
        "scrolled": true,
        "id": "Q-DhOe_rrxA-"
      },
      "source": [
        "%reload_ext autoreload\n",
        "%autoreload 2\n",
        "%matplotlib inline"
      ],
      "execution_count": 2,
      "outputs": []
    },
    {
      "cell_type": "code",
      "metadata": {
        "id": "OkTOx7ZlrxA_"
      },
      "source": [
        "from fastai import *\n",
        "from fastai.text import *\n",
        "from fastai.utils.mem import GPUMemTrace #call with mtrace"
      ],
      "execution_count": 3,
      "outputs": []
    },
    {
      "cell_type": "code",
      "metadata": {
        "id": "6xAvEJi9rxA_"
      },
      "source": [
        "import sklearn.feature_extraction.text as sklearn_text\n",
        "import pickle "
      ],
      "execution_count": 4,
      "outputs": []
    },
    {
      "cell_type": "markdown",
      "metadata": {
        "id": "16JLYwnRrxBA"
      },
      "source": [
        "### Preview the sample IMDb data set"
      ]
    },
    {
      "cell_type": "markdown",
      "metadata": {
        "id": "sDXGlWhFrxBA"
      },
      "source": [
        "fast.ai has a number of [datasets hosted via AWS Open Datasets](https://course.fast.ai/datasets.html) for easy download. We can see them by checking the docs for URLs (remember `??` is a helpful command):"
      ]
    },
    {
      "cell_type": "code",
      "metadata": {
        "id": "rDGk8nkNrxBA"
      },
      "source": [
        "?? URLs"
      ],
      "execution_count": null,
      "outputs": []
    },
    {
      "cell_type": "markdown",
      "metadata": {
        "id": "MumGNYEgrxBA"
      },
      "source": [
        "It is always good to start working on a sample of your data before you use the full dataset-- this allows for quicker computations as you debug and get your code working. For IMDB, there is a sample dataset already available:"
      ]
    },
    {
      "cell_type": "code",
      "metadata": {
        "id": "dd9xivarrxBB",
        "colab": {
          "base_uri": "https://localhost:8080/",
          "height": 55
        },
        "outputId": "5f194d2f-bcbc-4b0f-e345-da16fd5addcc"
      },
      "source": [
        "path = untar_data(URLs.IMDB_SAMPLE)\n",
        "path"
      ],
      "execution_count": 4,
      "outputs": [
        {
          "output_type": "stream",
          "text": [
            "Downloading http://files.fast.ai/data/examples/imdb_sample.tgz\n"
          ],
          "name": "stdout"
        },
        {
          "output_type": "display_data",
          "data": {
            "text/html": [
              ""
            ],
            "text/plain": [
              "<IPython.core.display.HTML object>"
            ]
          },
          "metadata": {
            "tags": []
          }
        },
        {
          "output_type": "execute_result",
          "data": {
            "text/plain": [
              "PosixPath('/root/.fastai/data/imdb_sample')"
            ]
          },
          "metadata": {
            "tags": []
          },
          "execution_count": 4
        }
      ]
    },
    {
      "cell_type": "markdown",
      "metadata": {
        "id": "l72yNeynrxBC"
      },
      "source": [
        "#### Read the data set into a pandas dataframe, which we can inspect to get a sense of what our data looks like. We see that the three columns contain review label, review text, and the `is_valid` flag, respectively. `is_valid` is a boolean flag indicating whether the row is from the validation set or not."
      ]
    },
    {
      "cell_type": "code",
      "metadata": {
        "scrolled": true,
        "id": "wItqFq40rxBC",
        "colab": {
          "base_uri": "https://localhost:8080/",
          "height": 204
        },
        "outputId": "85e62d6f-e863-445e-82b4-00e19d387c88"
      },
      "source": [
        "df = pd.read_csv(path/'texts.csv')\n",
        "df.head()"
      ],
      "execution_count": 5,
      "outputs": [
        {
          "output_type": "execute_result",
          "data": {
            "text/html": [
              "<div>\n",
              "<style scoped>\n",
              "    .dataframe tbody tr th:only-of-type {\n",
              "        vertical-align: middle;\n",
              "    }\n",
              "\n",
              "    .dataframe tbody tr th {\n",
              "        vertical-align: top;\n",
              "    }\n",
              "\n",
              "    .dataframe thead th {\n",
              "        text-align: right;\n",
              "    }\n",
              "</style>\n",
              "<table border=\"1\" class=\"dataframe\">\n",
              "  <thead>\n",
              "    <tr style=\"text-align: right;\">\n",
              "      <th></th>\n",
              "      <th>label</th>\n",
              "      <th>text</th>\n",
              "      <th>is_valid</th>\n",
              "    </tr>\n",
              "  </thead>\n",
              "  <tbody>\n",
              "    <tr>\n",
              "      <th>0</th>\n",
              "      <td>negative</td>\n",
              "      <td>Un-bleeping-believable! Meg Ryan doesn't even ...</td>\n",
              "      <td>False</td>\n",
              "    </tr>\n",
              "    <tr>\n",
              "      <th>1</th>\n",
              "      <td>positive</td>\n",
              "      <td>This is a extremely well-made film. The acting...</td>\n",
              "      <td>False</td>\n",
              "    </tr>\n",
              "    <tr>\n",
              "      <th>2</th>\n",
              "      <td>negative</td>\n",
              "      <td>Every once in a long while a movie will come a...</td>\n",
              "      <td>False</td>\n",
              "    </tr>\n",
              "    <tr>\n",
              "      <th>3</th>\n",
              "      <td>positive</td>\n",
              "      <td>Name just says it all. I watched this movie wi...</td>\n",
              "      <td>False</td>\n",
              "    </tr>\n",
              "    <tr>\n",
              "      <th>4</th>\n",
              "      <td>negative</td>\n",
              "      <td>This movie succeeds at being one of the most u...</td>\n",
              "      <td>False</td>\n",
              "    </tr>\n",
              "  </tbody>\n",
              "</table>\n",
              "</div>"
            ],
            "text/plain": [
              "      label                                               text  is_valid\n",
              "0  negative  Un-bleeping-believable! Meg Ryan doesn't even ...     False\n",
              "1  positive  This is a extremely well-made film. The acting...     False\n",
              "2  negative  Every once in a long while a movie will come a...     False\n",
              "3  positive  Name just says it all. I watched this movie wi...     False\n",
              "4  negative  This movie succeeds at being one of the most u...     False"
            ]
          },
          "metadata": {
            "tags": []
          },
          "execution_count": 5
        }
      ]
    },
    {
      "cell_type": "markdown",
      "metadata": {
        "id": "vXVWZLqKrxBD"
      },
      "source": [
        "### Extract the movie reviews from the sample IMDb data set.\n",
        "#### We will be using [TextList](https://docs.fast.ai/text.data.html#TextList) from the fastai library:"
      ]
    },
    {
      "cell_type": "code",
      "metadata": {
        "id": "9UGlO6-OrxBD",
        "colab": {
          "base_uri": "https://localhost:8080/",
          "height": 151
        },
        "outputId": "fded5134-d9ec-48e6-df1e-750e134fdf13"
      },
      "source": [
        "%%time\n",
        "# throws `BrokenProcessPool' Error sometimes. Keep trying `till it works!\n",
        "\n",
        "count = 0\n",
        "error = True\n",
        "while error:\n",
        "    try: \n",
        "        # Preprocessing steps\n",
        "        movie_reviews = (TextList.from_csv(path, 'texts.csv', cols='text')\n",
        "                         .split_from_df(col=2)\n",
        "                         .label_from_df(cols=0))\n",
        "        error = False\n",
        "        print(f'failure count is {count}\\n')    \n",
        "    except: # catch *all* exceptions\n",
        "        # accumulate failure count\n",
        "        count = count + 1\n",
        "        print(f'failure count is {count}')\n"
      ],
      "execution_count": 6,
      "outputs": [
        {
          "output_type": "display_data",
          "data": {
            "text/html": [
              ""
            ],
            "text/plain": [
              "<IPython.core.display.HTML object>"
            ]
          },
          "metadata": {
            "tags": []
          }
        },
        {
          "output_type": "stream",
          "text": [
            "/usr/local/lib/python3.6/dist-packages/fastai/core.py:302: VisibleDeprecationWarning: Creating an ndarray from ragged nested sequences (which is a list-or-tuple of lists-or-tuples-or ndarrays with different lengths or shapes) is deprecated. If you meant to do this, you must specify 'dtype=object' when creating the ndarray\n",
            "  return np.array(a, dtype=dtype, **kwargs)\n"
          ],
          "name": "stderr"
        },
        {
          "output_type": "display_data",
          "data": {
            "text/html": [
              ""
            ],
            "text/plain": [
              "<IPython.core.display.HTML object>"
            ]
          },
          "metadata": {
            "tags": []
          }
        },
        {
          "output_type": "stream",
          "text": [
            "failure count is 0\n",
            "\n",
            "CPU times: user 228 ms, sys: 49.2 ms, total: 277 ms\n",
            "Wall time: 3.24 s\n"
          ],
          "name": "stdout"
        }
      ]
    },
    {
      "cell_type": "markdown",
      "metadata": {
        "id": "bvbpRAUorxBE"
      },
      "source": [
        "### Exploring IMDb review data"
      ]
    },
    {
      "cell_type": "markdown",
      "metadata": {
        "id": "G2XR9LuWrxBF"
      },
      "source": [
        "A good first step for any data problem is to explore the data and get a sense of what it looks like.  In this case we are looking at movie reviews, which have been labeled as \"positive\" or \"negative\". The reviews have already been `tokenized`, i.e. split into `tokens`, basic units such as words, prefixes, punctuation, capitalization, and other features of the text.\n",
        "\n",
        "xxunk - word that is unknown, xxbos - beginning of string, xxmaj - capital letter, \n",
        "\n",
        "Many libraries let you set if a word appears less than say 3 times, you can set it to be unknown since you don't have enough information to learn about it.\n",
        "\n",
        "Having something in all caps indicates something about the tone and language so we want to capture that information."
      ]
    },
    {
      "cell_type": "code",
      "metadata": {
        "colab": {
          "base_uri": "https://localhost:8080/"
        },
        "id": "y7v2yeSPtVlu",
        "outputId": "5d6fb7d9-cdfe-4f41-bde4-09d189df7c64"
      },
      "source": [
        "movie_reviews"
      ],
      "execution_count": null,
      "outputs": [
        {
          "output_type": "execute_result",
          "data": {
            "text/plain": [
              "LabelLists;\n",
              "\n",
              "Train: LabelList (800 items)\n",
              "x: TextList\n",
              "xxbos xxmaj un - xxunk - believable ! xxmaj meg xxmaj ryan does n't even look her usual xxunk lovable self in this , which normally makes me forgive her shallow xxunk acting xxunk . xxmaj hard to believe she was the producer on this dog . xxmaj plus xxmaj kevin xxmaj kline : what kind of suicide trip has his career been on ? xxmaj xxunk ... xxmaj xxunk ! ! ! xxmaj finally this was directed by the guy who did xxmaj big xxmaj xxunk ? xxmaj must be a replay of xxmaj jonestown - hollywood style . xxmaj xxunk !,xxbos xxmaj this is a extremely well - made film . xxmaj the acting , script and camera - work are all first - rate . xxmaj the music is good , too , though it is mostly early in the film , when things are still relatively xxunk . xxmaj there are no really xxunk in the cast , though several faces will be familiar . xxmaj the entire cast does an excellent job with the script . \n",
              " \n",
              "  xxmaj but it is hard to watch , because there is no good end to a situation like the one presented . xxmaj it is now xxunk to blame the xxmaj british for setting xxmaj hindus and xxmaj muslims against each other , and then xxunk xxunk them into two countries . xxmaj there is some merit in this view , but it 's also true that no one forced xxmaj hindus and xxmaj muslims in the region to xxunk each other as they did around the time of partition . xxmaj it seems more likely that the xxmaj british simply saw the xxunk between the xxunk and were clever enough to exploit them to their own ends . \n",
              " \n",
              "  xxmaj the result is that there is much cruelty and inhumanity in the situation and this is very unpleasant to remember and to see on the screen . xxmaj but it is never painted as a black - and - white case . xxmaj there is xxunk and xxunk on both sides , and also the hope for change in the younger generation . \n",
              " \n",
              "  xxmaj there is redemption of a sort , in the end , when xxmaj xxunk has to make a hard choice between a man who has ruined her life , but also truly loved her , and her family which has xxunk her , then later come looking for her . xxmaj but by that point , she has no xxunk that is without great pain for her . \n",
              " \n",
              "  xxmaj this film carries the message that both xxmaj muslims and xxmaj hindus have their grave xxunk , and also that both can be xxunk and caring people . xxmaj the reality of partition makes that xxunk all the more wrenching , since there can never be real xxunk across the xxmaj india / xxmaj pakistan border . xxmaj in that sense , it is similar to \" xxmaj mr & xxmaj xxunk xxmaj xxunk \" . \n",
              " \n",
              "  xxmaj in the end , we were glad to have seen the film , even though the resolution was xxunk . xxmaj if the xxup uk and xxup us could deal with their own xxunk of racism with this kind of xxunk , they would certainly be better off .,xxbos xxmaj every once in a long while a movie will come along that will be so awful that i feel compelled to warn people . xxmaj if i labor all my days and i can save but one soul from watching this movie , how great will be my joy . \n",
              " \n",
              "  xxmaj where to begin my discussion of pain . xxmaj for xxunk , there was a musical xxunk every five minutes . xxmaj there was no character development . xxmaj every character was a stereotype . xxmaj we had xxunk guy , fat guy who eats donuts , goofy foreign guy , etc . xxmaj the script felt as if it were being written as the movie was being shot . xxmaj the production value was so incredibly low that it felt like i was watching a junior high video presentation . xxmaj have the directors , producers , etc . ever even seen a movie before ? xxmaj xxunk is getting worse and worse with every new entry . xxmaj the concept for this movie sounded so funny . xxmaj how could you go wrong with xxmaj gary xxmaj coleman and a handful of somewhat legitimate actors . xxmaj but trust me when i say this , things went wrong , xxup very xxup wrong .,xxbos xxmaj name just says it all . i watched this movie with my dad when it came out and having served in xxmaj xxunk he had great admiration for the man . xxmaj the disappointing thing about this film is that it only xxunk on a short period of the man 's life - interestingly enough the man 's entire life would have made such an epic bio - xxunk that it is staggering to imagine the cost for production . \n",
              " \n",
              "  xxmaj some posters xxunk to the flawed xxunk about the man , which are cheap shots . xxmaj the theme of the movie \" xxmaj duty , xxmaj honor , xxmaj country \" are not just mere words xxunk from the lips of a high - xxunk officer - it is the deep xxunk of one man 's total devotion to his country . \n",
              " \n",
              "  xxmaj ironically xxmaj xxunk being the liberal that he was xxunk a better understanding of the man . xxmaj he does a great job showing the xxunk general xxunk with the xxunk side of the man .,xxbos xxmaj this movie succeeds at being one of the most unique movies you 've seen . xxmaj however this comes from the fact that you ca n't make heads or xxunk of this mess . xxmaj it almost seems as a series of challenges set up to determine whether or not you are willing to walk out of the movie and give up the money you just paid . xxmaj if you do n't want to feel xxunk you 'll sit through this horrible film and develop a real sense of pity for the actors involved , they 've all seen better days , but then you realize they actually got paid quite a bit of money to do this and you 'll lose pity for them just like you 've already done for the film . i ca n't go on enough about this horrible movie , its almost something that xxmaj ed xxmaj wood would have made and in that case it surely would have been his masterpiece . \n",
              " \n",
              "  xxmaj to start you are forced to sit through an opening dialogue the likes of which you 've never seen / heard , this thing has got to be five minutes long . xxmaj on top of that it is narrated , as to suggest that you the viewer can not read . xxmaj then we meet xxmaj mr. xxmaj xxunk and the xxunk of terrible lines gets xxunk , it is as if he is xxunk solely to get lines on to the movie poster xxunk line . xxmaj soon we meet xxmaj stephen xxmaj xxunk , who i typically enjoy ) and he does his best not to drown in this but ultimately he does . xxmaj then comes the ultimate insult , xxmaj tara xxmaj xxunk playing an intelligent role , oh help us ! xxmaj tara xxmaj xxunk is not a very talented actress and somehow she xxunk gets roles in movies , in my opinion though she should stick to movies of the xxmaj american pie type . \n",
              " \n",
              "  xxmaj all in all you just may want to see this for yourself when it comes out on video , i know that i got a kick out of it , i mean lets all be honest here , sometimes its comforting to xxunk in the shortcomings of others .\n",
              "y: CategoryList\n",
              "negative,positive,negative,positive,negative\n",
              "Path: /root/.fastai/data/imdb_sample;\n",
              "\n",
              "Valid: LabelList (200 items)\n",
              "x: TextList\n",
              "xxbos xxmaj this very funny xxmaj british comedy shows what might happen if a section of xxmaj london , in this case xxmaj xxunk , were to xxunk itself independent from the rest of the xxup uk and its laws , xxunk & post - war xxunk . xxmaj merry xxunk is what would happen . \n",
              " \n",
              "  xxmaj the explosion of a wartime bomb leads to the xxunk of ancient xxunk which show that xxmaj xxunk was xxunk to the xxmaj xxunk of xxmaj xxunk xxunk ago , a small historical xxunk long since forgotten . xxmaj to the new xxmaj xxunk , however , this is an unexpected opportunity to live as they please , free from any xxunk from xxmaj xxunk . \n",
              " \n",
              "  xxmaj stanley xxmaj xxunk is excellent as the minor city xxunk who suddenly finds himself leading one of the world 's xxunk xxunk . xxmaj xxunk xxmaj margaret xxmaj xxunk is a delight as the history professor who sides with xxmaj xxunk . xxmaj others in the stand - out cast include xxmaj xxunk xxmaj xxunk , xxmaj paul xxmaj xxunk , xxmaj xxunk xxmaj xxunk , xxmaj xxunk xxmaj xxunk & xxmaj sir xxmaj michael xxmaj xxunk . \n",
              " \n",
              "  xxmaj welcome to xxmaj xxunk !,xxbos i saw this movie once as a kid on the late - late show and fell in love with it . \n",
              " \n",
              "  xxmaj it took 30 + years , but i recently did find it on xxup dvd - it was n't cheap , either - in a xxunk that xxunk in war movies . xxmaj we watched it last night for the first time . xxmaj the audio was good , however it was grainy and had the trailers between xxunk . xxmaj even so , it was better than i remembered it . i was also impressed at how true it was to the play . \n",
              " \n",
              "  xxmaj the xxunk is around here xxunk . xxmaj if you 're xxunk in finding it , fire me a xxunk and i 'll see if i can get you the xxunk . xxunk,xxbos xxmaj this is , in my opinion , a very good film , especially for xxmaj michael xxmaj jackson lovers . xxmaj it contains a message on drugs , stunning special effects , and an awesome music video . \n",
              " \n",
              "  xxmaj the main film is xxunk around the song and music video ' xxmaj smooth xxmaj criminal . ' xxmaj unlike the four - minute music video , it is normal speed and , in my opinion , much xxunk to watch . \n",
              " \n",
              "  xxmaj the plot is rather weird , however . xxmaj michael xxmaj jackson plays a xxunk ' gangster ' that , when he sees a shooting star , he xxunk into a piece of xxunk . xxmaj throughout the film , he xxunk into a race car , a giant robot , and a space ship . \n",
              " \n",
              "  xxmaj the robot scene in particular is a bit drawn out and strange . i found it a little out - of - whack compared to the rest of the film . \n",
              " \n",
              "  a child is kidnapped , xxmaj michael tries to save her , is tortured and beaten , and suddenly turns into a giant robot that blows up all the bad guys . a little weird ? xxmaj yeah . \n",
              " \n",
              "  xxmaj but besides the bizarre robot scene , it 's a very good movie , and any xxmaj michael xxmaj jackson fan will enjoy both the xxmaj smooth xxmaj criminal music video and the movie .,xxbos xxmaj in xxmaj iran , women are not xxunk to attend men 's sporting events , apparently to \" xxunk \" them from all the xxunk and foul language they might hear xxunk from the male fans ( so since men ca n't xxunk or xxunk themselves , women are forced to suffer . xxmaj go figure . ) . \" xxmaj xxunk \" tells the tale of a half dozen or so young women who , dressed like men , attempt to xxunk into the high - xxunk match between xxmaj iran and xxmaj xxunk that , in xxunk , qualified xxmaj iran to go to the xxmaj world xxmaj cup ( the movie was actually filmed in large part during that game ) . \n",
              " \n",
              "  \" xxmaj xxunk \" is a xxunk - of - life comedy that will remind you of all those great xxunk films ( \" xxmaj the xxmaj shop on xxmaj main xxmaj street , \" \" xxmaj loves of a xxmaj blonde , \" \" xxmaj closely xxmaj watched xxmaj trains \" etc . ) that xxunk out of xxmaj communist xxmaj xxunk as part of the \" xxmaj xxunk xxmaj xxunk \" in the mid xxunk 's . xxmaj as with many of those works , \" xxmaj xxunk \" is more concerned with xxunk life than with xxunk any kind of xxunk contrived fictional narrative . xxmaj indeed , it is the simplicity of the xxunk and the xxunk of the style that make the movie so effective . \n",
              " \n",
              "  xxmaj once their xxunk is discovered , the girls are xxunk into a small xxunk right outside the xxunk where they can hear the xxunk xxunk xxunk from the game inside . xxmaj stuck where they are , all they can do is xxunk with the security guards to let them go in , guards who are basically xxunk , good - xxunk xxunk who are compelled to do their duty as a part of their xxunk military service . xxmaj even most of the men going into the xxunk do n't seem particularly xxunk at the thought of these women being allowed in . xxmaj still the prohibition xxunk . xxmaj yet , how can one not be impressed by the very real courage and xxunk displayed by these women as they go up against a system that continues to xxunk such a xxunk xxunk and xxunk xxunk ? xxmaj and , yet , the purpose of these women is not to xxunk behind a cause or to make a \" point . \" xxmaj they are simply obsessed fans with a burning desire to watch a soccer game and , like all the men in the country , xxunk on their team . \n",
              " \n",
              "  xxmaj it 's hard to tell just how much of the dialogue is scripted and how much of it is xxunk , but , in either case , the actors , with their xxunk xxunk faces , do a magnificent job making each moment seem utterly real and convincing . xxmaj xxunk xxmaj xxunk - xxunk and xxmaj xxunk xxmaj xxunk are notable xxunk in a xxunk excellent cast . xxmaj the structure of the film is also very loose and xxunk , as writer / director xxmaj xxunk xxmaj xxunk and co - writer xxmaj xxunk xxmaj xxunk focus for a few brief moments on one or two of the characters , then move xxunk and xxunk onto others . xxmaj with this documentary - type approach , we come to feel as if we are xxunk an actual event xxunk in \" real time . \" xxmaj very often , it 's quite easy for us to forget we 're actually watching a movie . \n",
              " \n",
              "  xxmaj it was a very smart move on the part of the filmmakers to include so much good - xxunk humor in the film ( it 's what the xxmaj xxunk filmmakers did as well ) , the better to point up the utter absurdity of the situation and xxunk the appeal of the film for audiences both domestic and foreign . \" xxmaj xxunk \" is obviously a cry for justice , but it is one that is made all the more effective by its xxunk to make of its story a heavy - breathing tragedy . xxmaj instead , it realizes that nothing breaks down social xxunk quite as xxunk as humor and an appeal to the audience 's common humanity . xxmaj and is n't that what true art is supposed to be all about ? xxmaj in its own quiet , xxunk way , \" xxmaj xxunk \" is one of the great , under - appreciated xxunk of xxunk .,xxbos \" xxmaj in xxmaj xxunk xxunk , the xxmaj university of xxmaj xxunk xxunk to xxunk xxmaj xxunk xxmaj national xxmaj xxunk , with an xxunk of xxmaj xxunk xxunk offering to xxunk the research . xxmaj xxunk xxunk became the first \" national \" xxunk . xxmaj it did not , however , remain at its original location in the xxmaj xxunk forest . xxmaj in xxunk , it moved xxunk west from the \" xxmaj xxunk xxmaj city \" to a new site on xxmaj xxunk xxunk . xxmaj when xxmaj xxunk xxmaj xxunk visited xxmaj xxunk 's director , xxmaj walter xxmaj xxunk , in xxunk , he asked him what kind of xxunk was to be built at the new site . xxmaj when xxmaj xxunk described a heavy - water xxunk xxunk at one - xxunk the power of the xxmaj xxunk xxmaj xxunk xxmaj xxunk under design at xxmaj xxunk xxmaj xxunk , xxmaj xxunk xxunk it would be xxunk if xxmaj xxunk took the xxmaj xxunk xxmaj xxunk design and xxunk the xxmaj xxunk xxmaj xxunk xxmaj xxunk at one - xxunk capacity . xxmaj the joke proved unintentionally xxunk . \" \n",
              " \n",
              "  xxmaj the xxup xxunk plant used xxunk to separate the xxunk in thousands of tall xxunk . xxmaj it was built next to the xxup xxunk power plant , which provided the necessary steam . xxmaj much less xxunk than xxup xxunk , the xxup xxunk plant was torn down after the war . \n",
              " \n",
              "  xxmaj concerned that the xxmaj xxunk xxmaj energy xxmaj xxunk research program might become too xxunk , xxmaj xxunk xxunk a xxunk of industrial xxunk , and during a xxmaj xxunk visit to xxmaj xxunk xxmaj xxunk , he xxunk with xxmaj clark xxmaj center , manager of xxmaj xxunk & xxmaj xxunk , a xxunk of xxmaj union xxmaj xxunk xxmaj corporation at xxmaj xxunk xxmaj xxunk , the possibility of the company xxunk xxunk of the xxmaj xxunk . \n",
              " \n",
              "  xxmaj prince xxmaj henry ( of xxmaj xxunk ) xxmaj xxunk in xxmaj washington and xxmaj visiting the xxmaj german xxmaj xxunk ( xxunk ) . xxmaj xxunk , with xxmaj prince xxmaj henry of xxmaj xxunk according to the xxunk of science and its xxunk their were already concerns with the xxunk of new science with military xxunk . xxmaj the xxmaj xxunk ( xxunk / xxup ii ) , \" xxmaj xxunk xxmaj xxunk 's splendid xxunk at the xxunk xxmaj st. xxmaj xxunk , xxmaj new xxmaj york . xxmaj taken at the exact moment of xxmaj prince xxmaj henry 's xxunk , and the raising of the xxunk standard . \" xxmaj if xxmaj xxunk knew of these necessary xxunk to xxunk xxunk then what was the xxunk of the xxunk xxup xxunk and xxup wwii . xxmaj the quality of xxunk control i xxunk ? \n",
              " \n",
              "  xxmaj thus , did the xxunk of xxmaj xxunk xxmaj xxunk xxunk for a military mission , or a business plan , based on the security xxunk of xxmaj xxunk xxunk ? xxmaj because supposedly their were no survivors , and the ones who were caught in xxmaj europe ordered to be executed . xxmaj of the xxunk man commando team the survivors who were captured were executed under orders of the xxmaj german xxmaj army against xxunk , and xxunk acts of the xxmaj state of xxmaj germany . \n",
              " \n",
              "  xxmaj the xxmaj xxunk xxmaj no . xxunk / xxunk xxunk xxmaj xxunk . xxup xxunk / xxunk , xxmaj xxunk xxup xxunk , 18 xxmaj xxunk xxunk , ( xxunk ) xxmaj xxunk xxmaj hitler ; xxmaj translation of xxmaj document no . xxup xxunk , xxmaj office of xxup u.s. xxmaj chief of xxmaj xxunk , xxunk true copy xxmaj xxunk xxmaj major , xxunk xxup xxunk xxunk xxmaj march xxunk , xxunk , xxunk at the xxup u.s. xxmaj national xxmaj xxunk . \n",
              " \n",
              "  xxmaj the xxup xxunk xxmaj society xxunk xxunk xxmaj xxunk xxmaj xxunk . , xxunk xxunk , xxup xxunk xxunk\n",
              "y: CategoryList\n",
              "positive,positive,positive,positive,positive\n",
              "Path: /root/.fastai/data/imdb_sample;\n",
              "\n",
              "Test: None"
            ]
          },
          "metadata": {
            "tags": []
          },
          "execution_count": 8
        }
      ]
    },
    {
      "cell_type": "markdown",
      "metadata": {
        "id": "37Wr-8GprxBG"
      },
      "source": [
        "### Let's examine the`movie_reviews` object:"
      ]
    },
    {
      "cell_type": "code",
      "metadata": {
        "id": "N-lCsF5orxBG",
        "colab": {
          "base_uri": "https://localhost:8080/"
        },
        "outputId": "42523276-c44a-486c-d59a-b9e5632cc27b"
      },
      "source": [
        "dir(movie_reviews)"
      ],
      "execution_count": null,
      "outputs": [
        {
          "output_type": "execute_result",
          "data": {
            "text/plain": [
              "['__class__',\n",
              " '__delattr__',\n",
              " '__dict__',\n",
              " '__dir__',\n",
              " '__doc__',\n",
              " '__eq__',\n",
              " '__format__',\n",
              " '__ge__',\n",
              " '__getattr__',\n",
              " '__getattribute__',\n",
              " '__gt__',\n",
              " '__hash__',\n",
              " '__init__',\n",
              " '__init_subclass__',\n",
              " '__le__',\n",
              " '__lt__',\n",
              " '__module__',\n",
              " '__ne__',\n",
              " '__new__',\n",
              " '__reduce__',\n",
              " '__reduce_ex__',\n",
              " '__repr__',\n",
              " '__setattr__',\n",
              " '__setstate__',\n",
              " '__sizeof__',\n",
              " '__str__',\n",
              " '__subclasshook__',\n",
              " '__weakref__',\n",
              " 'add_test',\n",
              " 'add_test_folder',\n",
              " 'databunch',\n",
              " 'filter_by_func',\n",
              " 'get_processors',\n",
              " 'label_const',\n",
              " 'label_empty',\n",
              " 'label_from_df',\n",
              " 'label_from_folder',\n",
              " 'label_from_func',\n",
              " 'label_from_list',\n",
              " 'label_from_lists',\n",
              " 'label_from_re',\n",
              " 'lists',\n",
              " 'load_empty',\n",
              " 'load_state',\n",
              " 'path',\n",
              " 'process',\n",
              " 'test',\n",
              " 'train',\n",
              " 'transform',\n",
              " 'transform_y',\n",
              " 'valid']"
            ]
          },
          "metadata": {
            "tags": []
          },
          "execution_count": 9
        }
      ]
    },
    {
      "cell_type": "markdown",
      "metadata": {
        "id": "26vu-v_JrxBH"
      },
      "source": [
        "### `movie_reviews` splits the data into training and validation sets, `.train` and `.valid` "
      ]
    },
    {
      "cell_type": "code",
      "metadata": {
        "id": "fvi9zmzMrxBH",
        "colab": {
          "base_uri": "https://localhost:8080/"
        },
        "outputId": "d0629ef9-90fb-4bff-b5eb-8b286e176e90"
      },
      "source": [
        "print(f'There are {len(movie_reviews.train.x)} and {len(movie_reviews.valid.x)} reviews in the training and validations sets, respectively.')"
      ],
      "execution_count": null,
      "outputs": [
        {
          "output_type": "stream",
          "text": [
            "There are 800 and 200 reviews in the training and validations sets, respectively.\n"
          ],
          "name": "stdout"
        }
      ]
    },
    {
      "cell_type": "markdown",
      "metadata": {
        "id": "Vm9GTXMurxBI"
      },
      "source": [
        "### Reviews are composed of lists of tokens. In NLP, a **token** is the basic unit of processing (what the tokens are depends on the application and your choices). Here, the tokens mostly correspond to words or punctuation, as well as several special tokens, corresponding to unknown words, capitalization, etc."
      ]
    },
    {
      "cell_type": "markdown",
      "metadata": {
        "id": "a5EYb9QpYcau"
      },
      "source": [
        "![Screen Shot 2021-02-02 at 20.09.43.png](data:image/png;base64,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)"
      ]
    },
    {
      "cell_type": "markdown",
      "metadata": {
        "id": "3CLBXkIXrxBI"
      },
      "source": [
        "### Special tokens:\n",
        "All those tokens starting with \"xx\" are fastai special tokens.  You can see the list of all of them and their meanings ([in the fastai docs](https://docs.fast.ai/text.transform.html)): \n",
        "\n",
        "![image.png](attachment:image.png)"
      ]
    },
    {
      "cell_type": "markdown",
      "metadata": {
        "id": "Z6jNjrEPrxBJ"
      },
      "source": [
        "### Let's examine the structure of the `training set`"
      ]
    },
    {
      "cell_type": "markdown",
      "metadata": {
        "id": "7FkKG-gPrxBJ"
      },
      "source": [
        "#### movie_reviews.train is a `LabelList` object. \n",
        "#### movie_reviews.train.x  is a `TextList` object that holds the reviews\n",
        "#### movie_reviews.train.y is a `CategoryList` object that holds the labels "
      ]
    },
    {
      "cell_type": "code",
      "metadata": {
        "id": "k-OTqv9IrxBK",
        "colab": {
          "base_uri": "https://localhost:8080/"
        },
        "outputId": "566f812d-ec1e-43d4-ddd7-c0b7cb3da50f"
      },
      "source": [
        "print(f'\\fThere are {len(movie_reviews.train.x)} movie reviews in the training set\\n')\n",
        "print(movie_reviews.train)"
      ],
      "execution_count": null,
      "outputs": [
        {
          "output_type": "stream",
          "text": [
            "\fThere are 800 movie reviews in the training set\n",
            "\n",
            "LabelList (800 items)\n",
            "x: TextList\n",
            "xxbos xxmaj un - xxunk - believable ! xxmaj meg xxmaj ryan does n't even look her usual xxunk lovable self in this , which normally makes me forgive her shallow xxunk acting xxunk . xxmaj hard to believe she was the producer on this dog . xxmaj plus xxmaj kevin xxmaj kline : what kind of suicide trip has his career been on ? xxmaj xxunk ... xxmaj xxunk ! ! ! xxmaj finally this was directed by the guy who did xxmaj big xxmaj xxunk ? xxmaj must be a replay of xxmaj jonestown - hollywood style . xxmaj xxunk !,xxbos xxmaj this is a extremely well - made film . xxmaj the acting , script and camera - work are all first - rate . xxmaj the music is good , too , though it is mostly early in the film , when things are still relatively xxunk . xxmaj there are no really xxunk in the cast , though several faces will be familiar . xxmaj the entire cast does an excellent job with the script . \n",
            " \n",
            "  xxmaj but it is hard to watch , because there is no good end to a situation like the one presented . xxmaj it is now xxunk to blame the xxmaj british for setting xxmaj hindus and xxmaj muslims against each other , and then xxunk xxunk them into two countries . xxmaj there is some merit in this view , but it 's also true that no one forced xxmaj hindus and xxmaj muslims in the region to xxunk each other as they did around the time of partition . xxmaj it seems more likely that the xxmaj british simply saw the xxunk between the xxunk and were clever enough to exploit them to their own ends . \n",
            " \n",
            "  xxmaj the result is that there is much cruelty and inhumanity in the situation and this is very unpleasant to remember and to see on the screen . xxmaj but it is never painted as a black - and - white case . xxmaj there is xxunk and xxunk on both sides , and also the hope for change in the younger generation . \n",
            " \n",
            "  xxmaj there is redemption of a sort , in the end , when xxmaj xxunk has to make a hard choice between a man who has ruined her life , but also truly loved her , and her family which has xxunk her , then later come looking for her . xxmaj but by that point , she has no xxunk that is without great pain for her . \n",
            " \n",
            "  xxmaj this film carries the message that both xxmaj muslims and xxmaj hindus have their grave xxunk , and also that both can be xxunk and caring people . xxmaj the reality of partition makes that xxunk all the more wrenching , since there can never be real xxunk across the xxmaj india / xxmaj pakistan border . xxmaj in that sense , it is similar to \" xxmaj mr & xxmaj xxunk xxmaj xxunk \" . \n",
            " \n",
            "  xxmaj in the end , we were glad to have seen the film , even though the resolution was xxunk . xxmaj if the xxup uk and xxup us could deal with their own xxunk of racism with this kind of xxunk , they would certainly be better off .,xxbos xxmaj every once in a long while a movie will come along that will be so awful that i feel compelled to warn people . xxmaj if i labor all my days and i can save but one soul from watching this movie , how great will be my joy . \n",
            " \n",
            "  xxmaj where to begin my discussion of pain . xxmaj for xxunk , there was a musical xxunk every five minutes . xxmaj there was no character development . xxmaj every character was a stereotype . xxmaj we had xxunk guy , fat guy who eats donuts , goofy foreign guy , etc . xxmaj the script felt as if it were being written as the movie was being shot . xxmaj the production value was so incredibly low that it felt like i was watching a junior high video presentation . xxmaj have the directors , producers , etc . ever even seen a movie before ? xxmaj xxunk is getting worse and worse with every new entry . xxmaj the concept for this movie sounded so funny . xxmaj how could you go wrong with xxmaj gary xxmaj coleman and a handful of somewhat legitimate actors . xxmaj but trust me when i say this , things went wrong , xxup very xxup wrong .,xxbos xxmaj name just says it all . i watched this movie with my dad when it came out and having served in xxmaj xxunk he had great admiration for the man . xxmaj the disappointing thing about this film is that it only xxunk on a short period of the man 's life - interestingly enough the man 's entire life would have made such an epic bio - xxunk that it is staggering to imagine the cost for production . \n",
            " \n",
            "  xxmaj some posters xxunk to the flawed xxunk about the man , which are cheap shots . xxmaj the theme of the movie \" xxmaj duty , xxmaj honor , xxmaj country \" are not just mere words xxunk from the lips of a high - xxunk officer - it is the deep xxunk of one man 's total devotion to his country . \n",
            " \n",
            "  xxmaj ironically xxmaj xxunk being the liberal that he was xxunk a better understanding of the man . xxmaj he does a great job showing the xxunk general xxunk with the xxunk side of the man .,xxbos xxmaj this movie succeeds at being one of the most unique movies you 've seen . xxmaj however this comes from the fact that you ca n't make heads or xxunk of this mess . xxmaj it almost seems as a series of challenges set up to determine whether or not you are willing to walk out of the movie and give up the money you just paid . xxmaj if you do n't want to feel xxunk you 'll sit through this horrible film and develop a real sense of pity for the actors involved , they 've all seen better days , but then you realize they actually got paid quite a bit of money to do this and you 'll lose pity for them just like you 've already done for the film . i ca n't go on enough about this horrible movie , its almost something that xxmaj ed xxmaj wood would have made and in that case it surely would have been his masterpiece . \n",
            " \n",
            "  xxmaj to start you are forced to sit through an opening dialogue the likes of which you 've never seen / heard , this thing has got to be five minutes long . xxmaj on top of that it is narrated , as to suggest that you the viewer can not read . xxmaj then we meet xxmaj mr. xxmaj xxunk and the xxunk of terrible lines gets xxunk , it is as if he is xxunk solely to get lines on to the movie poster xxunk line . xxmaj soon we meet xxmaj stephen xxmaj xxunk , who i typically enjoy ) and he does his best not to drown in this but ultimately he does . xxmaj then comes the ultimate insult , xxmaj tara xxmaj xxunk playing an intelligent role , oh help us ! xxmaj tara xxmaj xxunk is not a very talented actress and somehow she xxunk gets roles in movies , in my opinion though she should stick to movies of the xxmaj american pie type . \n",
            " \n",
            "  xxmaj all in all you just may want to see this for yourself when it comes out on video , i know that i got a kick out of it , i mean lets all be honest here , sometimes its comforting to xxunk in the shortcomings of others .\n",
            "y: CategoryList\n",
            "negative,positive,negative,positive,negative\n",
            "Path: /root/.fastai/data/imdb_sample\n"
          ],
          "name": "stdout"
        }
      ]
    },
    {
      "cell_type": "markdown",
      "metadata": {
        "id": "1DvjRJGZrxBK"
      },
      "source": [
        "#### The text of the movie review is stored as a character `string`, which contains the tokens separated by spaces. Here is the text of the first review:"
      ]
    },
    {
      "cell_type": "code",
      "metadata": {
        "id": "B24B5Mj1rxBK",
        "colab": {
          "base_uri": "https://localhost:8080/"
        },
        "outputId": "3a396971-9bc4-47fc-9f65-06abd8f2cc00"
      },
      "source": [
        "print(movie_reviews.train.x[0].text)\n",
        "print(f'\\nThere are {len(movie_reviews.train.x[0].text)} characters in the review')"
      ],
      "execution_count": null,
      "outputs": [
        {
          "output_type": "stream",
          "text": [
            "xxbos xxmaj un - xxunk - believable ! xxmaj meg xxmaj ryan does n't even look her usual xxunk lovable self in this , which normally makes me forgive her shallow xxunk acting xxunk . xxmaj hard to believe she was the producer on this dog . xxmaj plus xxmaj kevin xxmaj kline : what kind of suicide trip has his career been on ? xxmaj xxunk ... xxmaj xxunk ! ! ! xxmaj finally this was directed by the guy who did xxmaj big xxmaj xxunk ? xxmaj must be a replay of xxmaj jonestown - hollywood style . xxmaj xxunk !\n",
            "\n",
            "There are 511 characters in the review\n"
          ],
          "name": "stdout"
        }
      ]
    },
    {
      "cell_type": "markdown",
      "metadata": {
        "id": "qGTmyjyBrxBL"
      },
      "source": [
        "#### The text string can be split to get the list of tokens."
      ]
    },
    {
      "cell_type": "code",
      "metadata": {
        "id": "VWJ8CR_RrxBL",
        "colab": {
          "base_uri": "https://localhost:8080/"
        },
        "outputId": "cc0ea9bb-30cd-48a2-efc3-fd1d71ab7843"
      },
      "source": [
        "print(movie_reviews.train.x[0].text.split())\n",
        "print(f'\\nThe review has {len(movie_reviews.train.x[0].text.split())} tokens')"
      ],
      "execution_count": null,
      "outputs": [
        {
          "output_type": "stream",
          "text": [
            "['xxbos', 'xxmaj', 'un', '-', 'xxunk', '-', 'believable', '!', 'xxmaj', 'meg', 'xxmaj', 'ryan', 'does', \"n't\", 'even', 'look', 'her', 'usual', 'xxunk', 'lovable', 'self', 'in', 'this', ',', 'which', 'normally', 'makes', 'me', 'forgive', 'her', 'shallow', 'xxunk', 'acting', 'xxunk', '.', 'xxmaj', 'hard', 'to', 'believe', 'she', 'was', 'the', 'producer', 'on', 'this', 'dog', '.', 'xxmaj', 'plus', 'xxmaj', 'kevin', 'xxmaj', 'kline', ':', 'what', 'kind', 'of', 'suicide', 'trip', 'has', 'his', 'career', 'been', 'on', '?', 'xxmaj', 'xxunk', '...', 'xxmaj', 'xxunk', '!', '!', '!', 'xxmaj', 'finally', 'this', 'was', 'directed', 'by', 'the', 'guy', 'who', 'did', 'xxmaj', 'big', 'xxmaj', 'xxunk', '?', 'xxmaj', 'must', 'be', 'a', 'replay', 'of', 'xxmaj', 'jonestown', '-', 'hollywood', 'style', '.', 'xxmaj', 'xxunk', '!']\n",
            "\n",
            "The review has 103 tokens\n"
          ],
          "name": "stdout"
        }
      ]
    },
    {
      "cell_type": "markdown",
      "metadata": {
        "id": "yj74yrNirxBL"
      },
      "source": [
        "#### The review tokens are `numericalized`, ie. mapped to integers.  So a movie review is also stored as an array of integers:"
      ]
    },
    {
      "cell_type": "code",
      "metadata": {
        "id": "kNRC0AGMrxBM",
        "colab": {
          "base_uri": "https://localhost:8080/"
        },
        "outputId": "7714b36d-08c4-4a3b-ca34-02eca2d9c6c5"
      },
      "source": [
        "print(movie_reviews.train.x[0].data)\n",
        "print(f'\\nThe array contains {len(movie_reviews.train.x[0].data)} numericalized tokens')"
      ],
      "execution_count": null,
      "outputs": [
        {
          "output_type": "stream",
          "text": [
            "[   2    5 4619   25 ...   10    5    0   52]\n",
            "\n",
            "The array contains 103 numericalized tokens\n"
          ],
          "name": "stdout"
        }
      ]
    },
    {
      "cell_type": "markdown",
      "metadata": {
        "id": "fTRQiOPqrxBM"
      },
      "source": [
        "## 2. The IMDb Vocabulary"
      ]
    },
    {
      "cell_type": "markdown",
      "metadata": {
        "id": "wre2gxuprxBM"
      },
      "source": [
        "### The `movie_revews` object also contains a `.vocab` property, even though it is not shown with`dir()`. (This may be an error in the `fastai` library.) "
      ]
    },
    {
      "cell_type": "code",
      "metadata": {
        "scrolled": false,
        "id": "B8sdIAGXrxBN",
        "colab": {
          "base_uri": "https://localhost:8080/"
        },
        "outputId": "0e89ccc2-4976-4a49-92c6-2000ba6ce4ff"
      },
      "source": [
        "movie_reviews.vocab"
      ],
      "execution_count": null,
      "outputs": [
        {
          "output_type": "execute_result",
          "data": {
            "text/plain": [
              "<fastai.text.transform.Vocab at 0x7f9cd3ae4908>"
            ]
          },
          "metadata": {
            "tags": []
          },
          "execution_count": 14
        }
      ]
    },
    {
      "cell_type": "markdown",
      "metadata": {
        "id": "V3D6hgMerxBN"
      },
      "source": [
        "### The `vocab` object is a kind of reversible dictionary that translates back and forth between tokens and their integer representations.  It has two methods of particular interest: `stoi` and `itos`, which stand for `string-to-index` and `index-to-string`"
      ]
    },
    {
      "cell_type": "markdown",
      "metadata": {
        "id": "HjpU2i_PrxBN"
      },
      "source": [
        "#### `movie_reviews.vocab.stoi` maps vocabulary tokens to their `indexes` in vocab"
      ]
    },
    {
      "cell_type": "code",
      "metadata": {
        "id": "8AH9AgUKrxBN"
      },
      "source": [
        "#movie_reviews.vocab.stoi"
      ],
      "execution_count": 20,
      "outputs": []
    },
    {
      "cell_type": "code",
      "metadata": {
        "colab": {
          "base_uri": "https://localhost:8080/"
        },
        "id": "ch2tIwV-47hZ",
        "outputId": "aebe058d-5040-4e7c-cb30-788813a0d490"
      },
      "source": [
        "movie_reviews.vocab.stoi['xxup']"
      ],
      "execution_count": 105,
      "outputs": [
        {
          "output_type": "execute_result",
          "data": {
            "text/plain": [
              "6"
            ]
          },
          "metadata": {
            "tags": []
          },
          "execution_count": 105
        }
      ]
    },
    {
      "cell_type": "markdown",
      "metadata": {
        "id": "Vojl-Mk6rxBO"
      },
      "source": [
        "#### `movie_reviews.vocab.itos` maps the `indexes` of vocabulary tokens to `strings`"
      ]
    },
    {
      "cell_type": "code",
      "metadata": {
        "scrolled": true,
        "id": "0Wqg23t4rxBO",
        "colab": {
          "base_uri": "https://localhost:8080/"
        },
        "outputId": "904d338d-90b2-4448-84d5-e61492432b4b"
      },
      "source": [
        "movie_reviews.vocab.itos[0:20]"
      ],
      "execution_count": null,
      "outputs": [
        {
          "output_type": "execute_result",
          "data": {
            "text/plain": [
              "['xxunk',\n",
              " 'xxpad',\n",
              " 'xxbos',\n",
              " 'xxeos',\n",
              " 'xxfld',\n",
              " 'xxmaj',\n",
              " 'xxup',\n",
              " 'xxrep',\n",
              " 'xxwrep',\n",
              " 'the',\n",
              " '.',\n",
              " ',',\n",
              " 'and',\n",
              " 'a',\n",
              " 'of',\n",
              " 'to',\n",
              " 'is',\n",
              " 'it',\n",
              " 'in',\n",
              " 'i']"
            ]
          },
          "metadata": {
            "tags": []
          },
          "execution_count": 18
        }
      ]
    },
    {
      "cell_type": "markdown",
      "metadata": {
        "id": "CHyKH-bMrxBP"
      },
      "source": [
        "#### Notice that ints-to-string and string-to-ints have different lengths.  Think for a moment about why this is.\n",
        "See Hint below\n",
        "\n",
        "Answer: itos is a list of tokens and mapping integer to string (can look up integer to find a token). Need to use itos to go from int to string. Itos shows the tokens in order of frequency. \n",
        "Reason why stoi is bigger is that several words can map to the same index - e.g. lots of words may map to capital token or unknown token."
      ]
    },
    {
      "cell_type": "code",
      "metadata": {
        "id": "92e_0R-xrxBP",
        "colab": {
          "base_uri": "https://localhost:8080/"
        },
        "outputId": "0329a1e3-7faa-4a89-84e7-17a91d2b7474"
      },
      "source": [
        "print('itos ', 'length ',len(movie_reviews.vocab.itos),type(movie_reviews.vocab.itos) )\n",
        "print('stoi ', 'length ',len(movie_reviews.vocab.stoi),type(movie_reviews.vocab.stoi) )"
      ],
      "execution_count": null,
      "outputs": [
        {
          "output_type": "stream",
          "text": [
            "itos  length  6008 <class 'list'>\n",
            "stoi  length  19159 <class 'collections.defaultdict'>\n"
          ],
          "name": "stdout"
        }
      ]
    },
    {
      "cell_type": "code",
      "metadata": {
        "colab": {
          "base_uri": "https://localhost:8080/"
        },
        "id": "HmUXWEa0atFB",
        "outputId": "95ab7c95-c5bb-40e7-edc3-cc651ed02d16"
      },
      "source": [
        "movie_reviews.vocab.stoi['language']"
      ],
      "execution_count": null,
      "outputs": [
        {
          "output_type": "execute_result",
          "data": {
            "text/plain": [
              "917"
            ]
          },
          "metadata": {
            "tags": []
          },
          "execution_count": 16
        }
      ]
    },
    {
      "cell_type": "code",
      "metadata": {
        "colab": {
          "base_uri": "https://localhost:8080/",
          "height": 37
        },
        "id": "6qNE6Jxza73v",
        "outputId": "8668b9e9-d71d-48df-ca90-18a4f6af4dd9"
      },
      "source": [
        "movie_reviews.vocab.itos[917]"
      ],
      "execution_count": null,
      "outputs": [
        {
          "output_type": "execute_result",
          "data": {
            "application/vnd.google.colaboratory.intrinsic+json": {
              "type": "string"
            },
            "text/plain": [
              "'language'"
            ]
          },
          "metadata": {
            "tags": []
          },
          "execution_count": 17
        }
      ]
    },
    {
      "cell_type": "markdown",
      "metadata": {
        "id": "VuBAR-V7rxBP"
      },
      "source": [
        "#### Hint: `stoi` is an instance of the class `defaultdict`\n",
        "<img src=\"https://github.com/bcollister01/course-nlp/blob/master/default_dict.png?raw=1\" alt=\"floating point\" style=\"width: 90%\"/>"
      ]
    },
    {
      "cell_type": "markdown",
      "metadata": {
        "id": "vGl4i9-1b8mw"
      },
      "source": [
        "Why is itos a list and stoi a dictionary? Ans: Dictionary is good for searching by string. You could create dictionary going from itos but it is implied by index - it takes less space to store a list. Dictionary - you have to store key and value. "
      ]
    },
    {
      "cell_type": "markdown",
      "metadata": {
        "id": "Qpw3GIbWrxBQ"
      },
      "source": [
        "#### In a `defaultdict`, rare words that appear fewer than three times in the corpus, and words that are not in the dictionary, are mapped to a `default value`, in this case, zero"
      ]
    },
    {
      "cell_type": "code",
      "metadata": {
        "scrolled": true,
        "id": "SW587kf3rxBQ",
        "outputId": "86d97bf4-d298-4b12-fc0a-e83523eba02e"
      },
      "source": [
        "rare_words = ['acrid','a_random_made_up_nonexistant_word','acrimonious','allosteric','anodyne','antikythera']\n",
        "for word in rare_words:\n",
        "    print(movie_reviews.vocab.stoi[word])"
      ],
      "execution_count": null,
      "outputs": [
        {
          "output_type": "stream",
          "text": [
            "0\n",
            "0\n",
            "0\n",
            "0\n",
            "0\n",
            "0\n"
          ],
          "name": "stdout"
        }
      ]
    },
    {
      "cell_type": "code",
      "metadata": {
        "id": "PXZd-gEAcmGl"
      },
      "source": [
        ""
      ],
      "execution_count": null,
      "outputs": []
    },
    {
      "cell_type": "markdown",
      "metadata": {
        "id": "FLQRVl3FrxBQ"
      },
      "source": [
        "#### What's the `token` corresponding to the `default` value?"
      ]
    },
    {
      "cell_type": "code",
      "metadata": {
        "id": "sHcRfP8HrxBQ",
        "outputId": "f7800506-3bb6-4283-b291-267ce569a808"
      },
      "source": [
        "print(movie_reviews.vocab.itos[0])"
      ],
      "execution_count": null,
      "outputs": [
        {
          "output_type": "stream",
          "text": [
            "xxunk\n"
          ],
          "name": "stdout"
        }
      ]
    },
    {
      "cell_type": "markdown",
      "metadata": {
        "id": "r3lB7kaNrxBR"
      },
      "source": [
        "#### Note that `stoi` (string-to-int) is larger than `itos` (int-to-string)."
      ]
    },
    {
      "cell_type": "code",
      "metadata": {
        "id": "FPauT0MmrxBR",
        "outputId": "d3da94ff-24ad-41e4-eb89-849f27060984"
      },
      "source": [
        "print(f'len(stoi) = {len(movie_reviews.vocab.stoi)}')\n",
        "print(f'len(itos) = {len(movie_reviews.vocab.itos)}')\n",
        "print(f'len(stoi) - len(itos) = {len(movie_reviews.vocab.stoi) - len(movie_reviews.vocab.itos)}')"
      ],
      "execution_count": null,
      "outputs": [
        {
          "output_type": "stream",
          "text": [
            "len(stoi) = 19165\n",
            "len(itos) = 6016\n",
            "len(stoi) - len(itos) = 13149\n"
          ],
          "name": "stdout"
        }
      ]
    },
    {
      "cell_type": "markdown",
      "metadata": {
        "id": "BvYbDLzfrxBR"
      },
      "source": [
        "#### This is because many words map to `unknown`.  We can confirm here:"
      ]
    },
    {
      "cell_type": "code",
      "metadata": {
        "id": "txh88iU7rxBS"
      },
      "source": [
        "unk = []\n",
        "for word, num in movie_reviews.vocab.stoi.items():\n",
        "    if num==0:\n",
        "        unk.append(word)"
      ],
      "execution_count": null,
      "outputs": []
    },
    {
      "cell_type": "code",
      "metadata": {
        "id": "uQyA0Fp2rxBS",
        "outputId": "135381cd-e360-4f92-ce68-636d7bfc6c44"
      },
      "source": [
        "len(unk)"
      ],
      "execution_count": null,
      "outputs": [
        {
          "output_type": "execute_result",
          "data": {
            "text/plain": [
              "13155"
            ]
          },
          "metadata": {
            "tags": []
          },
          "execution_count": 23
        }
      ]
    },
    {
      "cell_type": "markdown",
      "metadata": {
        "id": "9jeENiU9rxBS"
      },
      "source": [
        "#### Question: why isn't len(unk) = len(stoi) - len(itos)?\n",
        "Hint: remember the list of rare words we used to query `stoi` a few cells back?"
      ]
    },
    {
      "cell_type": "markdown",
      "metadata": {
        "id": "2wpsFapbrxBS"
      },
      "source": [
        "#### Here are the first 25 words that are mapped to `unknown`"
      ]
    },
    {
      "cell_type": "code",
      "metadata": {
        "scrolled": false,
        "id": "7dIKqkucrxBS",
        "outputId": "9a12bff6-e316-4ad5-8ae8-e157c6dd49cf"
      },
      "source": [
        "unk[:25]"
      ],
      "execution_count": null,
      "outputs": [
        {
          "output_type": "execute_result",
          "data": {
            "text/plain": [
              "['xxunk',\n",
              " 'bleeping',\n",
              " 'pert',\n",
              " 'ticky',\n",
              " 'schtick',\n",
              " 'whoosh',\n",
              " 'banzai',\n",
              " 'chill',\n",
              " 'wooofff',\n",
              " 'cheery',\n",
              " 'superstars',\n",
              " 'fashionable',\n",
              " 'cruelly',\n",
              " 'separating',\n",
              " 'mistreat',\n",
              " 'tensions',\n",
              " 'religions',\n",
              " 'baseness',\n",
              " 'nobility',\n",
              " 'puro',\n",
              " 'disowned',\n",
              " 'option',\n",
              " 'faults',\n",
              " 'dignified',\n",
              " 'realisation']"
            ]
          },
          "metadata": {
            "tags": []
          },
          "execution_count": 24
        }
      ]
    },
    {
      "cell_type": "markdown",
      "metadata": {
        "id": "s8Bj51x1rxBT"
      },
      "source": [
        "## 3. Map the movie reviews into a vector space"
      ]
    },
    {
      "cell_type": "markdown",
      "metadata": {
        "id": "IYqCIAAFrxBT"
      },
      "source": [
        "### There are 6016 unique tokens in the IMDb review vocabulary. Their numericalized values range from 0 to 6015"
      ]
    },
    {
      "cell_type": "code",
      "metadata": {
        "id": "aTk39V54rxBT",
        "outputId": "fd786dfd-0a66-4b85-bb0a-4cee789270db"
      },
      "source": [
        "print(f'There are {len(movie_reviews.vocab.itos)} unique tokens in the IMDb review sample vocabulary')\n",
        "print(f'The numericalized token values run from {min(movie_reviews.vocab.stoi.values())} to {max(movie_reviews.vocab.stoi.values())} ')"
      ],
      "execution_count": null,
      "outputs": [
        {
          "output_type": "stream",
          "text": [
            "There are 6016 unique tokens in the IMDb review sample vocabulary\n",
            "The numericalized token values run from 0 to 6015 \n"
          ],
          "name": "stdout"
        }
      ]
    },
    {
      "cell_type": "markdown",
      "metadata": {
        "id": "Jass4HZ7rxBT"
      },
      "source": [
        "### Each review can be mapped to a 6016-dimensional `embedding vector` whose indices correspond to the numericalized tokens, and whose values are the number of times the corresponding token appeared in the review. To do this efficiently we need to learn a bit about `Counters`.\n",
        "\n",
        "Not only can you set up tokenization where word is a token if it appears x number of times, you can also set up maximum number of words/tokens in your corpus."
      ]
    },
    {
      "cell_type": "markdown",
      "metadata": {
        "id": "nejERXUqrxBT"
      },
      "source": [
        "### 3A. Counters"
      ]
    },
    {
      "cell_type": "markdown",
      "metadata": {
        "id": "08HI22chrxBU"
      },
      "source": [
        "A **Counter** is a useful Python object.  A **Counter** applied to a list returns an ordered dictionary whose keys are the unique elements in the list, and whose values are the counts of the unique elements. Counters are from the collections module (along with OrderedDict, defaultdict, deque, and namedtuple).\n",
        "Here is how Counters work:\n",
        "\n",
        "They basically create a dictionary of frequencies - keys are values in list, the dictionary values are the frequencies."
      ]
    },
    {
      "cell_type": "markdown",
      "metadata": {
        "id": "wKO4XCVOrxBU"
      },
      "source": [
        "#### Let's make a TokenCounter for movie reviews"
      ]
    },
    {
      "cell_type": "code",
      "metadata": {
        "id": "ONlzxllNrxBU",
        "colab": {
          "base_uri": "https://localhost:8080/"
        },
        "outputId": "7f9a125e-23a8-4d04-a46a-694fa119e6e3"
      },
      "source": [
        "TokenCounter = lambda review_index : Counter((movie_reviews.train.x)[review_index].data)\n",
        "TokenCounter(0).items()"
      ],
      "execution_count": 7,
      "outputs": [
        {
          "output_type": "execute_result",
          "data": {
            "text/plain": [
              "dict_items([(2, 1), (5, 15), (4619, 1), (25, 3), (0, 8), (867, 1), (52, 5), (3776, 1), (1800, 1), (95, 1), (37, 1), (85, 1), (192, 1), (64, 2), (935, 1), (2738, 1), (517, 1), (18, 1), (21, 3), (11, 1), (84, 1), (2417, 1), (193, 1), (88, 1), (3777, 1), (1801, 1), (127, 1), (10, 3), (269, 1), (15, 1), (273, 1), (73, 1), (26, 2), (9, 2), (1360, 1), (35, 2), (1213, 1), (1144, 1), (1145, 1), (2418, 1), (91, 1), (63, 1), (245, 1), (14, 2), (1361, 1), (1447, 1), (65, 1), (40, 1), (796, 1), (103, 1), (72, 2), (99, 1), (534, 1), (616, 1), (48, 1), (282, 1), (54, 1), (90, 1), (219, 1), (228, 1), (43, 1), (13, 1), (3778, 1), (3779, 1), (355, 1), (492, 1)])"
            ]
          },
          "metadata": {
            "tags": []
          },
          "execution_count": 7
        }
      ]
    },
    {
      "cell_type": "markdown",
      "metadata": {
        "id": "I_KHxk7UrxBU"
      },
      "source": [
        "#### The TokenCounter `keys` are the numericalized `tokens` that apper in the review"
      ]
    },
    {
      "cell_type": "code",
      "metadata": {
        "id": "QW8pyehDrxBU",
        "outputId": "1ee93299-d72a-4388-b2f4-f56cc46d550c"
      },
      "source": [
        "TokenCounter(0).keys()"
      ],
      "execution_count": null,
      "outputs": [
        {
          "output_type": "execute_result",
          "data": {
            "text/plain": [
              "dict_keys([2, 5, 4622, 25, 0, 867, 52, 3776, 1800, 95, 37, 85, 191, 63, 936, 2740, 517, 18, 21, 11, 84, 2418, 192, 88, 3777, 1801, 127, 10, 269, 15, 273, 73, 26, 9, 1360, 35, 1213, 1144, 1145, 2419, 91, 62, 245, 14, 1361, 1447, 64, 40, 797, 103, 72, 99, 534, 616, 48, 282, 54, 90, 219, 228, 43, 13, 3778, 3779, 355, 492])"
            ]
          },
          "metadata": {
            "tags": []
          },
          "execution_count": 27
        }
      ]
    },
    {
      "cell_type": "markdown",
      "metadata": {
        "id": "027V_4WsrxBV"
      },
      "source": [
        "#### The TokenCounter `values` are the `token multiplicities`, i.e the number of times each `token` appears in the review"
      ]
    },
    {
      "cell_type": "code",
      "metadata": {
        "id": "w2lp16qJrxBV",
        "outputId": "bdf39f6f-8f67-4429-e73f-26c0f7fd117d"
      },
      "source": [
        "TokenCounter(0).values()"
      ],
      "execution_count": null,
      "outputs": [
        {
          "output_type": "execute_result",
          "data": {
            "text/plain": [
              "dict_values([1, 15, 1, 3, 8, 1, 5, 1, 1, 1, 1, 1, 1, 2, 1, 1, 1, 1, 3, 1, 1, 1, 1, 1, 1, 1, 1, 3, 1, 1, 1, 1, 2, 2, 1, 2, 1, 1, 1, 1, 1, 1, 1, 2, 1, 1, 1, 1, 1, 1, 2, 1, 1, 1, 1, 1, 1, 1, 1, 1, 1, 1, 1, 1, 1, 1])"
            ]
          },
          "metadata": {
            "tags": []
          },
          "execution_count": 28
        }
      ]
    },
    {
      "cell_type": "markdown",
      "metadata": {
        "id": "bNtQsQzMrxBV"
      },
      "source": [
        "### 3B. Mapping movie reviews to `embedding vectors`"
      ]
    },
    {
      "cell_type": "markdown",
      "metadata": {
        "id": "NcKXEHMUrxBV"
      },
      "source": [
        "#### Make a `count_vectorizer` function that represents a movie review as a 6016-dimensional `embedding vector`\n",
        "#### The `indices` of  the `embedding vector` correspond to the n6016 numericalized tokens in the vocabulary; the `values` specify how often the corresponding token appears in the review. "
      ]
    },
    {
      "cell_type": "code",
      "metadata": {
        "id": "eWi_VWhirxBV"
      },
      "source": [
        "n_terms = len(movie_reviews.vocab.itos)\n",
        "n_docs = len(movie_reviews.train.x)\n",
        "make_token_counter = lambda review_index: Counter(movie_reviews.train.x[review_index].data)\n",
        "def count_vectorizer(review_index,n_terms = n_terms,make_token_counter = make_token_counter):\n",
        "    # input: review index, n_terms, and tokenizer function\n",
        "    # output: embedding vector for the review\n",
        "    embedding_vector = np.zeros(n_terms)        \n",
        "    keys = list(make_token_counter(review_index).keys())\n",
        "    values = list(make_token_counter(review_index).values())\n",
        "    embedding_vector[keys] = values\n",
        "    return embedding_vector\n",
        "\n",
        "# make the embedding vector for the first review\n",
        "embedding_vector = count_vectorizer(0)"
      ],
      "execution_count": 8,
      "outputs": []
    },
    {
      "cell_type": "markdown",
      "metadata": {
        "id": "uDdiOvdgrxBW"
      },
      "source": [
        "#### Here is the `embedding vector` for the first review in the training data set"
      ]
    },
    {
      "cell_type": "code",
      "metadata": {
        "id": "DLa2tNdXrxBW",
        "outputId": "18770e34-03fe-44b6-f149-4fa97e0a7d21"
      },
      "source": [
        "print(f'The review is embedded in a {len(embedding_vector)} dimensional vector')\n",
        "embedding_vector"
      ],
      "execution_count": null,
      "outputs": [
        {
          "output_type": "stream",
          "text": [
            "The review is embedded in a 6016 dimensional vector\n"
          ],
          "name": "stdout"
        },
        {
          "output_type": "execute_result",
          "data": {
            "text/plain": [
              "array([8., 0., 1., 0., ..., 0., 0., 0., 0.])"
            ]
          },
          "metadata": {
            "tags": []
          },
          "execution_count": 30
        }
      ]
    },
    {
      "cell_type": "markdown",
      "metadata": {
        "id": "9Vka8ijDrxBX"
      },
      "source": [
        "## 4. Create the document-term matrix for the IMDb"
      ]
    },
    {
      "cell_type": "markdown",
      "metadata": {
        "id": "Bx1eMgMArxBY"
      },
      "source": [
        "#### In non-deep learning methods of NLP, we are often interested only in `which words` were used in a review, and `how often each word got used`. This is known as the `bag of words` approach, and it suggests a really simple way to store a document (in this case, a movie review). \n",
        "\n",
        "#### For each review we can keep track of which words were used and how often each word was used with a `vector` whose `length` is the number of tokens in the vocabulary, which we will call `n`. The `indexes` of this `vector` correspond to the `tokens` in the `IMDb vocabulary`, and the`values` of the vector are the number of times the corresponding tokens appeared in the review. For example the values stored at indexes 0, 1, 2, 3, 4 of the vector record the number of times the 5 tokens ['xxunk','xxpad','xxbos','xxeos','xxfld'] appeared in the review, respectively.\n",
        "\n",
        "#### Now, if our movie review database has `m` reviews, and each review is represented by a `vector` of length `n`, then vertically stacking the row vectors for all the reviews creates a matrix representation of the IMDb, which we call its `document-term matrix`. The `rows` correspond to `documents` (reviews), while the `columns` correspond to `terms` (or tokens in the vocabulary)."
      ]
    },
    {
      "cell_type": "markdown",
      "metadata": {
        "id": "uCGMmeJYrxBY"
      },
      "source": [
        "In the previous lesson, we used [sklearn's CountVectorizer](https://github.com/scikit-learn/scikit-learn/blob/55bf5d9/sklearn/feature_extraction/text.py#L940) to generate the `vectors` that represent individual reviews. Today we will create our own (similar) version.  This is for two reasons:\n",
        "- to understand what sklearn is doing underneath the hood\n",
        "- to create something that will work with a fastai TextList"
      ]
    },
    {
      "cell_type": "markdown",
      "metadata": {
        "id": "65G_rYjArxBY"
      },
      "source": [
        "### Form the embedding vectors for the movie_reviews in the training set and stack them vertically"
      ]
    },
    {
      "cell_type": "code",
      "metadata": {
        "id": "3Y1BWpu6rxBY",
        "colab": {
          "base_uri": "https://localhost:8080/"
        },
        "outputId": "1e13005a-361a-4bfb-f7f5-86f21f23e6e5"
      },
      "source": [
        "# Define a function to build the full document-term matrix\n",
        "print(f'there are {n_docs} reviews, and {n_terms} unique tokens in the vocabulary')\n",
        "def make_full_doc_term_matrix(count_vectorizer,n_terms=n_terms,n_docs=n_docs):\n",
        "    \n",
        "    # loop through the movie reviews\n",
        "    for doc_index in range(n_docs):\n",
        "        \n",
        "        # make the embedding vector for the current review\n",
        "        embedding_vector = count_vectorizer(doc_index,n_terms)    \n",
        "            \n",
        "        # append the embedding vector to the document-term matrix\n",
        "        if(doc_index == 0):\n",
        "            A = embedding_vector\n",
        "        else:\n",
        "            A = np.vstack((A,embedding_vector))\n",
        "            \n",
        "    # return the document-term matrix\n",
        "    return A\n",
        "\n",
        "# Build the full document term matrix for the movie_reviews training set\n",
        "A = make_full_doc_term_matrix(count_vectorizer)"
      ],
      "execution_count": 9,
      "outputs": [
        {
          "output_type": "stream",
          "text": [
            "there are 800 reviews, and 6008 unique tokens in the vocabulary\n"
          ],
          "name": "stdout"
        }
      ]
    },
    {
      "cell_type": "markdown",
      "metadata": {
        "id": "CHec3C1lrxBZ"
      },
      "source": [
        "### Explore the `sparsity` of the document-term matrix"
      ]
    },
    {
      "cell_type": "markdown",
      "metadata": {
        "id": "XUg2vQBWrxBZ"
      },
      "source": [
        "#### The `sparsity` of a matrix is defined as the fraction of zero-valued elements"
      ]
    },
    {
      "cell_type": "code",
      "metadata": {
        "id": "21bab1VRrxBZ",
        "colab": {
          "base_uri": "https://localhost:8080/"
        },
        "outputId": "5729d6c7-c719-47fc-8103-9d63ab410d5d"
      },
      "source": [
        "NNZ = np.count_nonzero(A)\n",
        "sparsity = (A.size-NNZ)/A.size\n",
        "print(f'Only {NNZ} of the {A.size} elements in the document-term matrix are nonzero')\n",
        "print(f'The sparsity of the document-term matrix is {sparsity}')"
      ],
      "execution_count": 10,
      "outputs": [
        {
          "output_type": "stream",
          "text": [
            "Only 112409 of the 4806400 elements in the document-term matrix are nonzero\n",
            "The sparsity of the document-term matrix is 0.9766126414780293\n"
          ],
          "name": "stdout"
        }
      ]
    },
    {
      "cell_type": "markdown",
      "metadata": {
        "id": "_oE7qOBdrxBa"
      },
      "source": [
        "#### Using matplotlib's `spy` method, we can visualize the structure of the `document-term matrix`\n",
        "`spy` plots the array, indicating each non-zero value with a dot."
      ]
    },
    {
      "cell_type": "code",
      "metadata": {
        "id": "gtBmoSkjrxBa",
        "outputId": "a8f359aa-96da-490c-d0fb-ccedae5703e3"
      },
      "source": [
        "fig = plt.figure()\n",
        "plt.spy(A, markersize=0.10, aspect = 'auto')\n",
        "fig.set_size_inches(8,6)\n",
        "fig.savefig('doc_term_matrix.png', dpi=800)"
      ],
      "execution_count": null,
      "outputs": [
        {
          "output_type": "display_data",
          "data": {
            "image/png": "[encoded data removed]",
            "text/plain": [
              "<Figure size 576x432 with 1 Axes>"
            ]
          },
          "metadata": {
            "tags": [],
            "needs_background": "light"
          }
        }
      ]
    },
    {
      "cell_type": "markdown",
      "metadata": {
        "id": "A6tq1CSyrxBa"
      },
      "source": [
        "#### Several observations stand out:\n",
        "1. Evidently, the document-term matrix is `sparse` ie. has a high proportion of zeros! \n",
        "2. The density of the matrix increases toward the `left` edge. This makes sense because the tokens are ordered by usage frequency, with frequency increasing toward the `left`.\n",
        "3. There is a perplexing pattern of curved vertical `density ripples`. If anyone has an explanation, please let me know! \n",
        "\n",
        "#### Next we'll see how to  exploit matrix sparsity to save memory storage space, and compute time and resources.\n"
      ]
    },
    {
      "cell_type": "markdown",
      "metadata": {
        "id": "aF23t7djrxBa"
      },
      "source": [
        "## 5. Sparse Matrix Representation"
      ]
    },
    {
      "cell_type": "markdown",
      "metadata": {
        "id": "fIIomAjlrxBb"
      },
      "source": [
        "#### Even though we've reduced over 19,000 unique words in our corpus of reviews down to a vocabulary of 6,000 words, that's still a lot! But reviews are generally short, a few hundred words. So most tokens don't appear in a typical review.  That means that most of the entries in the document-term matrix will be zeros, and therefore ordinary matrix operations will waste a lot of compute resources multiplying and adding zeros. \n",
        "\n",
        "####  We want to maximize the use of space and time by storing and performing matrix operations on our document-term matrix as a **sparse matrix**. `scipy` provides tools for efficient sparse matrix representation and operations. "
      ]
    },
    {
      "cell_type": "markdown",
      "metadata": {
        "id": "44PUgCEqrxBb"
      },
      "source": [
        "#### Loosely speaking,  matrix with a high proportion of zeros is called `sparse` (the opposite of sparse is `dense`).  For sparse matrices, you can save a lot of memory by only storing the non-zero values.\n",
        "\n",
        "#### More specifically, a class of matrices is called **sparse** if the number of non-zero elements is proportional to the number of rows (or columns) instead of being proportional to the product rows x columns. An example is the class of diagonal matrices.\n",
        "\n",
        "\n",
        "<img src=\"https://github.com/bcollister01/course-nlp/blob/master/images/sparse.png?raw=1\" alt=\"floating point\" style=\"width: 30%\"/>\n",
        "\n"
      ]
    },
    {
      "cell_type": "markdown",
      "metadata": {
        "id": "PltAbnRVrxBb"
      },
      "source": [
        "### Visualizing sparse matrix structure\n",
        "<img src=\"https://github.com/bcollister01/course-nlp/blob/master/sparse-matrix-structure-visualization.png?raw=1\" alt=\"floating point\" style=\"width: 90%\"/>\n",
        "ref. https://scipy-lectures.org/advanced/scipy_sparse/introduction.html"
      ]
    },
    {
      "cell_type": "markdown",
      "metadata": {
        "id": "ZXVxXLnerxBb"
      },
      "source": [
        "### Sparse matrix storage formats\n",
        "\n",
        "<img src=\"https://github.com/bcollister01/course-nlp/blob/master/summary_of_sparse_matrix_storage_schemes.png?raw=1\" alt=\"floating point\" style=\"width: 90%\"/>\n",
        "ref. https://scipy-lectures.org/advanced/scipy_sparse/storage_schemes.html\n",
        "\n",
        "There are the most common sparse storage formats:\n",
        "- coordinate-wise (scipy calls COO)\n",
        "- compressed sparse row (CSR)\n",
        "- compressed sparse column (CSC)\n",
        "\n",
        "With COO, you just store the row index of the ith value, so it's not as efficient memory wise as CSR.\n",
        "\n",
        "Properties of COO:\n",
        "Rows or columns need not be ordered in any way.\n",
        "\n",
        "Storage requirement:\n",
        "\n",
        "N floating point, and 2N integer (indices)\n",
        "\n",
        "Accessing the matrix elements by row or column is equally easy.\n"
      ]
    },
    {
      "cell_type": "markdown",
      "metadata": {
        "id": "3s04BkmxrxBb"
      },
      "source": [
        "### Definition of the Compressed Sparse Row (CSR) format\n",
        "\n",
        "Let's start out with a prsecription for the **CSR format** (ref. https://en.wikipedia.org/wiki/Sparse_matrix)\n",
        "\n",
        "Given a full matrix **`A`** that has **`m`** rows, **`n`** columns, and **`N`** nonzero values, the CSR (Compressed Sparse Row) representation uses three arrays as follows:\n",
        "\n",
        "1. **`Val[0:N]`** contains the **values** of the **`N` non-zero elements**.\n",
        "\n",
        "2. **`Col[0:N]`** contains the **column indices** of the **`N` non-zero elements**. \n",
        "    \n",
        "3. For each row **`i`** of **`A`**, **`RowPointer[i]`** contains the index in **Val** of the the first **nonzero value** in row **`i`**. If there are no nonzero values in the **ith** row, then **`RowPointer[i] = None`**. And, by convention, an extra value **`RowPointer[m] = N`** is tacked on at the end. So if there are 3 nonzero elements in the first row of the matrix, then the second element of this RowPointer vector is 3.\n",
        "\n",
        "\n",
        "\n",
        "Question: How many floats and ints does it take to store the matrix **`A`** in CSR format?\n",
        "\n",
        "Let's walk through [a few examples](http://www.mathcs.emory.edu/~cheung/Courses/561/Syllabus/3-C/sparse.html) at the Emory University website\n",
        "\n",
        "Properties of the Compressed Sparse Row method:\n",
        "\n",
        "Requires entries from a row to be consecutively located in data structure.\n",
        "\n",
        "Columns need not be ordered in any way.\n",
        "\n",
        "Storage required: N floating point, N+m+1 integer. (N = Number of Non-Zero values, m = dimension of matrix)\n",
        "Row access is easy, but column access difficult.\n",
        "\n",
        "The number of operations to perform matrix-vector multiplication (where vector is called d) in both storage method are the same...\n",
        "However: the number of memory accesses is reduced (by 2 to be exact) in the CSR method:\n",
        "The statement\n",
        "\n",
        "result[Row[k]] = result[Row[k]] + Val[k]*d[Col[k]];\n",
        "in the Coordinate-wise method, uses 2 more memory accesses than the statement\n",
        "\n",
        "result[i] = result[i] + Val[k]*d[Col[k]];\n",
        "in the CSR method.\n",
        "\n",
        "\n"
      ]
    },
    {
      "cell_type": "markdown",
      "metadata": {
        "id": "mr0Q_0H0rxBc"
      },
      "source": [
        "## 6. Store the document-term matrix in CSR format\n",
        "i.e. given the `TextList` object containing the list of reviews, return the three arrays (values, column_indices, row_pointer)"
      ]
    },
    {
      "cell_type": "markdown",
      "metadata": {
        "id": "QTH26HEdrxBc"
      },
      "source": [
        "### Scipy Implementation of sparse matrices\n",
        "\n",
        "From the [Scipy Sparse Matrix Documentation](https://docs.scipy.org/doc/scipy-0.18.1/reference/sparse.html)\n",
        "\n",
        "- To construct a matrix efficiently, use either dok_matrix or lil_matrix. The lil_matrix class supports basic slicing and fancy indexing with a similar syntax to NumPy arrays. As illustrated below, the COO format may also be used to efficiently construct matrices\n",
        "- To perform manipulations such as multiplication or inversion, first convert the matrix to either CSC or CSR format.\n",
        "- All conversions among the CSR, CSC, and COO formats are efficient, linear-time operations."
      ]
    },
    {
      "cell_type": "markdown",
      "metadata": {
        "id": "xm_7T12DrxBc"
      },
      "source": [
        "### To really understand the CSR format, we need to be able know how to do two things:\n",
        "1. Translate a regular matrix A into CSR format\n",
        "2. Reconstruct a regular matrix from its CSR sparse representation\n"
      ]
    },
    {
      "cell_type": "markdown",
      "metadata": {
        "id": "F-hi8C7vrxBc"
      },
      "source": [
        "### 6.1. Translate a regular matrix A into CSR format\n",
        "This is done by implementing the definition of `CSR format`, given above.\n",
        "\n",
        "Done at minute 47 in Video 4."
      ]
    },
    {
      "cell_type": "code",
      "metadata": {
        "id": "jpg20o79rxBc"
      },
      "source": [
        "# construct the document-term matrix in CSR format\n",
        "# i.e. return (values, column_indices, row_pointer)\n",
        "def get_doc_term_matrix(text_list, n_terms):\n",
        "    \n",
        "    # inputs:\n",
        "    #    text_list, a TextList object\n",
        "    #    n_terms, the number of tokens in our IMDb vocabulary\n",
        "    \n",
        "    # output: \n",
        "    #    the CSR format sparse representation of the document-term matrix in the form of a\n",
        "    #    scipy.sparse.csr.csr_matrix object\n",
        "\n",
        "    \n",
        "    # initialize arrays\n",
        "    values = []\n",
        "    column_indices = []\n",
        "    row_pointer = []\n",
        "    row_pointer.append(0)\n",
        "\n",
        "    #The extend() method adds all the elements of an iterable (list, tuple, string etc.) to the end of the list.\n",
        "    # from the TextList object\n",
        "    for _, doc in enumerate(text_list):\n",
        "        feature_counter = Counter(doc.data)\n",
        "        column_indices.extend(feature_counter.keys())\n",
        "        values.extend(feature_counter.values())\n",
        "        # Tack on N (number of nonzero elements in the matrix) to the end of the row_pointer array\n",
        "        row_pointer.append(len(values))\n",
        "        \n",
        "    return scipy.sparse.csr_matrix((values, column_indices, row_pointer),\n",
        "                                   shape=(len(row_pointer) - 1, n_terms),\n",
        "                                   dtype=int)"
      ],
      "execution_count": 5,
      "outputs": []
    },
    {
      "cell_type": "markdown",
      "metadata": {
        "id": "LuDBKih5rxBc"
      },
      "source": [
        "#### Get the document-term matrix in CSR format for the training data"
      ]
    },
    {
      "cell_type": "code",
      "metadata": {
        "id": "a62-jCEPrxBd",
        "colab": {
          "base_uri": "https://localhost:8080/"
        },
        "outputId": "a3c3cbec-09c3-4aa9-a6d4-b6037eac9af2"
      },
      "source": [
        "%%time\n",
        "train_doc_term = get_doc_term_matrix(movie_reviews.train.x, len(movie_reviews.vocab.itos))"
      ],
      "execution_count": 12,
      "outputs": [
        {
          "output_type": "stream",
          "text": [
            "CPU times: user 185 ms, sys: 2.72 ms, total: 188 ms\n",
            "Wall time: 190 ms\n"
          ],
          "name": "stdout"
        }
      ]
    },
    {
      "cell_type": "code",
      "metadata": {
        "id": "p_earDqsrxBd",
        "colab": {
          "base_uri": "https://localhost:8080/"
        },
        "outputId": "828eb7d1-2612-4201-9d0d-c48c6584c9cf"
      },
      "source": [
        "type(train_doc_term)"
      ],
      "execution_count": 13,
      "outputs": [
        {
          "output_type": "execute_result",
          "data": {
            "text/plain": [
              "scipy.sparse.csr.csr_matrix"
            ]
          },
          "metadata": {
            "tags": []
          },
          "execution_count": 13
        }
      ]
    },
    {
      "cell_type": "code",
      "metadata": {
        "id": "vFhwraP_rxBd",
        "outputId": "54aa172b-0827-45ff-a6e5-8bc75ea8d660"
      },
      "source": [
        "train_doc_term.shape"
      ],
      "execution_count": null,
      "outputs": [
        {
          "output_type": "execute_result",
          "data": {
            "text/plain": [
              "(800, 6016)"
            ]
          },
          "metadata": {
            "tags": []
          },
          "execution_count": 37
        }
      ]
    },
    {
      "cell_type": "markdown",
      "metadata": {
        "id": "6F2rny8SrxBd"
      },
      "source": [
        "#### Get the document-term matrix in CSR format for the validation data"
      ]
    },
    {
      "cell_type": "code",
      "metadata": {
        "id": "RoscN8_WrxBe",
        "colab": {
          "base_uri": "https://localhost:8080/"
        },
        "outputId": "c1bf3e2a-57cd-418b-b6ee-cb5652218155"
      },
      "source": [
        "%%time\n",
        "valid_doc_term = get_doc_term_matrix(movie_reviews.valid.x, len(movie_reviews.vocab.itos))"
      ],
      "execution_count": 14,
      "outputs": [
        {
          "output_type": "stream",
          "text": [
            "CPU times: user 47 ms, sys: 0 ns, total: 47 ms\n",
            "Wall time: 47.1 ms\n"
          ],
          "name": "stdout"
        }
      ]
    },
    {
      "cell_type": "code",
      "metadata": {
        "id": "qthVDmRHrxBe",
        "outputId": "b8b1d1d7-2c60-4d6f-a93e-dd77dd427aa3"
      },
      "source": [
        "type(valid_doc_term)"
      ],
      "execution_count": null,
      "outputs": [
        {
          "output_type": "execute_result",
          "data": {
            "text/plain": [
              "scipy.sparse.csr.csr_matrix"
            ]
          },
          "metadata": {
            "tags": []
          },
          "execution_count": 39
        }
      ]
    },
    {
      "cell_type": "code",
      "metadata": {
        "id": "cNeHpk7vrxBe",
        "outputId": "f8861584-687b-4f70-b2cd-301ecbfb6332"
      },
      "source": [
        "valid_doc_term.shape"
      ],
      "execution_count": null,
      "outputs": [
        {
          "output_type": "execute_result",
          "data": {
            "text/plain": [
              "(200, 6016)"
            ]
          },
          "metadata": {
            "tags": []
          },
          "execution_count": 40
        }
      ]
    },
    {
      "cell_type": "markdown",
      "metadata": {
        "id": "gAV1Q10jrxBe"
      },
      "source": [
        "### 6.2 Reconstruct a regular matrix from its CSR sparse representation\n",
        "#### Given a CSR format sparse matrix representation $(\\text{values},\\text{column_indices}, \\text{row_pointer})$ of a $\\text{m}\\times \\text{n}$ matrix $\\text{A}$, <br> how can we recover $\\text{A}$?\n",
        "\n",
        "First create $\\text{m}\\times \\text{n}$ matrix with all zeros.\n",
        "We will recover $\\text{A}$ by overwriting the entries in the zeros matrix row by row with the non-zero entries in $\\text{A}$ as follows:"
      ]
    },
    {
      "cell_type": "code",
      "metadata": {
        "id": "lqkYbOjirxBe"
      },
      "source": [
        "def CSR_to_full(values, column_indices, row_ptr, m,n):\n",
        "    A = zeros(m,n)\n",
        "    for row in range(n):\n",
        "        if row_ptr is not null:\n",
        "            A[row,column_indices[row_ptr[row]:row_ptr[row+1]]] = values[row_ptr[row]:row_ptr[row+1]]\n",
        "    return A\n"
      ],
      "execution_count": 6,
      "outputs": []
    },
    {
      "cell_type": "markdown",
      "metadata": {
        "id": "o0V77O_hrxBf"
      },
      "source": [
        "## 7. IMDb data exploration exercises"
      ]
    },
    {
      "cell_type": "markdown",
      "metadata": {
        "id": "6LHqRT6yrxBf"
      },
      "source": [
        "#### The`.todense()` method converts a sparse matrix back to a regular (dense) matrix."
      ]
    },
    {
      "cell_type": "code",
      "metadata": {
        "id": "4jucwC9wrxBf",
        "colab": {
          "base_uri": "https://localhost:8080/"
        },
        "outputId": "e17aa442-c072-446f-d59a-0f5376308587"
      },
      "source": [
        "valid_doc_term"
      ],
      "execution_count": 16,
      "outputs": [
        {
          "output_type": "execute_result",
          "data": {
            "text/plain": [
              "<200x6008 sparse matrix of type '<class 'numpy.int64'>'\n",
              "\twith 27848 stored elements in Compressed Sparse Row format>"
            ]
          },
          "metadata": {
            "tags": []
          },
          "execution_count": 16
        }
      ]
    },
    {
      "cell_type": "code",
      "metadata": {
        "scrolled": false,
        "id": "A78GbwT1rxBf",
        "colab": {
          "base_uri": "https://localhost:8080/"
        },
        "outputId": "71785983-ba74-42b6-d944-dd1cc0a15a0e"
      },
      "source": [
        "valid_doc_term.todense()[:10,:10]"
      ],
      "execution_count": 17,
      "outputs": [
        {
          "output_type": "execute_result",
          "data": {
            "text/plain": [
              "matrix([[32,  0,  1,  0, ...,  1,  0,  0, 10],\n",
              "        [ 9,  0,  1,  0, ...,  1,  0,  0,  7],\n",
              "        [ 6,  0,  1,  0, ...,  0,  0,  0, 12],\n",
              "        [78,  0,  1,  0, ...,  0,  0,  0, 44],\n",
              "        ...,\n",
              "        [ 8,  0,  1,  0, ...,  0,  0,  0,  8],\n",
              "        [43,  0,  1,  0, ...,  8,  1,  0, 25],\n",
              "        [ 7,  0,  1,  0, ...,  1,  0,  0,  9],\n",
              "        [19,  0,  1,  0, ...,  2,  0,  0,  5]])"
            ]
          },
          "metadata": {
            "tags": []
          },
          "execution_count": 17
        }
      ]
    },
    {
      "cell_type": "markdown",
      "metadata": {
        "id": "7GirtZvfrxBf"
      },
      "source": [
        "#### Consider the second review in the validation set"
      ]
    },
    {
      "cell_type": "code",
      "metadata": {
        "id": "mkOn5ma_rxBg",
        "colab": {
          "base_uri": "https://localhost:8080/"
        },
        "outputId": "3e8969f2-17f0-4be7-856d-117d7e967956"
      },
      "source": [
        "review = movie_reviews.valid.x[1]\n",
        "review"
      ],
      "execution_count": 22,
      "outputs": [
        {
          "output_type": "execute_result",
          "data": {
            "text/plain": [
              "Text [  2  19 248  21 ...   9   0  10   0]"
            ]
          },
          "metadata": {
            "tags": []
          },
          "execution_count": 22
        }
      ]
    },
    {
      "cell_type": "markdown",
      "metadata": {
        "id": "6MUwqZPnrxBg"
      },
      "source": [
        "**Exercise 1:** How many times does the word \"it\" appear in this review? Confirm that the correct values is stored in the document-term matrix, for the row corresponding to this review and the column corresponding to the word \"it\"."
      ]
    },
    {
      "cell_type": "markdown",
      "metadata": {
        "id": "NiWQT3c5rxBg"
      },
      "source": [
        "#### Answer 1:"
      ]
    },
    {
      "cell_type": "code",
      "metadata": {
        "id": "AX8mIz73rxBg",
        "colab": {
          "base_uri": "https://localhost:8080/"
        },
        "outputId": "f1d2e37f-2781-4711-d62c-8145beecfc99"
      },
      "source": [
        "# try it! \n",
        "# Your code here.\n",
        "movie_reviews.vocab.stoi['it']"
      ],
      "execution_count": 18,
      "outputs": [
        {
          "output_type": "execute_result",
          "data": {
            "text/plain": [
              "17"
            ]
          },
          "metadata": {
            "tags": []
          },
          "execution_count": 18
        }
      ]
    },
    {
      "cell_type": "code",
      "metadata": {
        "colab": {
          "base_uri": "https://localhost:8080/"
        },
        "id": "NNyCdzlQeLAz",
        "outputId": "8005790a-b387-41e1-8d94-9be4fc9dfd50"
      },
      "source": [
        "valid_doc_term[1,17]"
      ],
      "execution_count": 19,
      "outputs": [
        {
          "output_type": "execute_result",
          "data": {
            "text/plain": [
              "10"
            ]
          },
          "metadata": {
            "tags": []
          },
          "execution_count": 19
        }
      ]
    },
    {
      "cell_type": "markdown",
      "metadata": {
        "id": "nKQelT5JrxBg"
      },
      "source": [
        "**Exercise 2**: Confirm that the review has 144 tokens, 81 of which are distinct"
      ]
    },
    {
      "cell_type": "markdown",
      "metadata": {
        "id": "5nq80eVXrxBg"
      },
      "source": [
        "#### Answer 2:"
      ]
    },
    {
      "cell_type": "code",
      "metadata": {
        "id": "3vBaEZmdrxBh",
        "outputId": "45951860-ed69-4276-b626-dc76a27d837c"
      },
      "source": [
        "valid_doc_term[1] #non-empty elements in row corresponding to review 2"
      ],
      "execution_count": null,
      "outputs": [
        {
          "output_type": "execute_result",
          "data": {
            "text/plain": [
              "<1x6016 sparse matrix of type '<class 'numpy.int32'>'\n",
              "\twith 81 stored elements in Compressed Sparse Row format>"
            ]
          },
          "metadata": {
            "tags": []
          },
          "execution_count": 46
        }
      ]
    },
    {
      "cell_type": "code",
      "metadata": {
        "id": "nWqVj7V7rxBh",
        "outputId": "3aecbe69-50ec-4603-8050-d9dd56737fdd"
      },
      "source": [
        "valid_doc_term[1].sum() #summing along row gets total tokens."
      ],
      "execution_count": null,
      "outputs": [
        {
          "output_type": "execute_result",
          "data": {
            "text/plain": [
              "144"
            ]
          },
          "metadata": {
            "tags": []
          },
          "execution_count": 47
        }
      ]
    },
    {
      "cell_type": "code",
      "metadata": {
        "id": "Qz9XTi8ErxBh",
        "colab": {
          "base_uri": "https://localhost:8080/"
        },
        "outputId": "4dd16344-ce85-446f-c04a-b30cfad5a701"
      },
      "source": [
        "len(set(review.data))"
      ],
      "execution_count": 23,
      "outputs": [
        {
          "output_type": "execute_result",
          "data": {
            "text/plain": [
              "81"
            ]
          },
          "metadata": {
            "tags": []
          },
          "execution_count": 23
        }
      ]
    },
    {
      "cell_type": "markdown",
      "metadata": {
        "id": "MsnyltpGrxBh"
      },
      "source": [
        "**Exercise 3:** How could you convert review.data back to text (without just using review.text)?"
      ]
    },
    {
      "cell_type": "code",
      "metadata": {
        "id": "F1W63jWYrxBi",
        "outputId": "0f20ddea-5e57-4baf-9e1a-5d6eb554ec51"
      },
      "source": [
        "review.data"
      ],
      "execution_count": null,
      "outputs": [
        {
          "output_type": "execute_result",
          "data": {
            "text/plain": [
              "array([  2,  19, 248,  21, ...,   9,   0,  10,   0], dtype=int64)"
            ]
          },
          "metadata": {
            "tags": []
          },
          "execution_count": 49
        }
      ]
    },
    {
      "cell_type": "markdown",
      "metadata": {
        "id": "FgJzMCn2rxBi"
      },
      "source": [
        "#### Answer 3:"
      ]
    },
    {
      "cell_type": "code",
      "metadata": {
        "id": "scNtl9EjrxBi",
        "colab": {
          "base_uri": "https://localhost:8080/"
        },
        "outputId": "0e7bdd65-0e71-4f65-9fa5-210358d07116"
      },
      "source": [
        "word_list = [movie_reviews.vocab.itos[a] for a in review.data]\n",
        "print(word_list)"
      ],
      "execution_count": 24,
      "outputs": [
        {
          "output_type": "stream",
          "text": [
            "['xxbos', 'i', 'saw', 'this', 'movie', 'once', 'as', 'a', 'kid', 'on', 'the', 'late', '-', 'late', 'show', 'and', 'fell', 'in', 'love', 'with', 'it', '.', '\\n \\n ', 'xxmaj', 'it', 'took', '30', '+', 'years', ',', 'but', 'i', 'recently', 'did', 'find', 'it', 'on', 'xxup', 'dvd', '-', 'it', 'was', \"n't\", 'cheap', ',', 'either', '-', 'in', 'a', 'xxunk', 'that', 'xxunk', 'in', 'war', 'movies', '.', 'xxmaj', 'we', 'watched', 'it', 'last', 'night', 'for', 'the', 'first', 'time', '.', 'xxmaj', 'the', 'audio', 'was', 'good', ',', 'however', 'it', 'was', 'grainy', 'and', 'had', 'the', 'trailers', 'between', 'xxunk', '.', 'xxmaj', 'even', 'so', ',', 'it', 'was', 'better', 'than', 'i', 'remembered', 'it', '.', 'i', 'was', 'also', 'impressed', 'at', 'how', 'true', 'it', 'was', 'to', 'the', 'play', '.', '\\n \\n ', 'xxmaj', 'the', 'xxunk', 'is', 'around', 'here', 'xxunk', '.', 'xxmaj', 'if', 'you', \"'re\", 'xxunk', 'in', 'finding', 'it', ',', 'fire', 'me', 'a', 'xxunk', 'and', 'i', \"'ll\", 'see', 'if', 'i', 'can', 'get', 'you', 'the', 'xxunk', '.', 'xxunk']\n"
          ],
          "name": "stdout"
        }
      ]
    },
    {
      "cell_type": "code",
      "metadata": {
        "id": "ETwhzvzHrxBi",
        "colab": {
          "base_uri": "https://localhost:8080/"
        },
        "outputId": "60537a4b-5e02-4e5f-885e-db259559f4fd"
      },
      "source": [
        "reconstructed_text = ' '.join(word_list)\n",
        "print(reconstructed_text)"
      ],
      "execution_count": 25,
      "outputs": [
        {
          "output_type": "stream",
          "text": [
            "xxbos i saw this movie once as a kid on the late - late show and fell in love with it . \n",
            " \n",
            "  xxmaj it took 30 + years , but i recently did find it on xxup dvd - it was n't cheap , either - in a xxunk that xxunk in war movies . xxmaj we watched it last night for the first time . xxmaj the audio was good , however it was grainy and had the trailers between xxunk . xxmaj even so , it was better than i remembered it . i was also impressed at how true it was to the play . \n",
            " \n",
            "  xxmaj the xxunk is around here xxunk . xxmaj if you 're xxunk in finding it , fire me a xxunk and i 'll see if i can get you the xxunk . xxunk\n"
          ],
          "name": "stdout"
        }
      ]
    },
    {
      "cell_type": "markdown",
      "metadata": {
        "id": "F42yamULrxBi"
      },
      "source": [
        "## *Video 4 material ends here.* \n",
        "## *Video 5 material begins below.*"
      ]
    },
    {
      "cell_type": "markdown",
      "metadata": {
        "id": "cg4frCgorxBj"
      },
      "source": [
        "## 8. What is a [Naive Bayes classifier](https://towardsdatascience.com/the-naive-bayes-classifier-e92ea9f47523)? "
      ]
    },
    {
      "cell_type": "markdown",
      "metadata": {
        "id": "cH5LcN-LrxBj"
      },
      "source": [
        "\n",
        "#### The `bag of words model` considers a movie review as equivalent to a list of the counts of all the tokens that it contains. When you do this, you throw away the rich information that comes from the sequential arrangement of the tokens into sentences and paragraphs. \n",
        "\n",
        "#### Nevertheless, even if you are not allowed to read the review but are only given its representation as `token counts`, you can usually still get a pretty good sense of whether the review was good or bad. How do you do this?  By mentally gauging the overall `positive` or `negative` sentiment that the collection of words conveys, right?  \n",
        "\n",
        "#### The `Naive Bayes Classifier` is an algorithm that encodes this simple reasoning process mathematically. It is based on two important pieces of information that we can learn from the training set:\n",
        "* The `class priors`, i.e. the probabilities that a randomly chosen review will be `positive`, or `negative`\n",
        "* The `token likelihoods` i.e. how likely is it that a given token would appear in a `positive` or `negative` review \n",
        "\n",
        "#### It turns out that this is all the information we need to build a model capable of predicting fairly accurately how any given review will be classified, given its text! \n",
        "\n",
        "#### We shall unfold the complete explanation of the magic of the Naive Bayes Classifier in the next section. \n",
        "\n",
        "#### Meanwhile, In this section, we focus on how to compute the necessary information from the training data, specifically the `prior probabilities` for reviews of each class, and the `class occurrence counts` and `class likelihood ratios` for each `token` in the `vocabulary`. "
      ]
    },
    {
      "cell_type": "markdown",
      "metadata": {
        "id": "QEfi7G82rxBj"
      },
      "source": [
        "### 8A. Class priors"
      ]
    },
    {
      "cell_type": "markdown",
      "metadata": {
        "id": "-vv_-0-BrxBj"
      },
      "source": [
        "#### From the training data we can determine the `class priors` $p$ and $q$, which are the overall probabilities that a randomly chosen review is in the `positive`, or `negative` class, resepectively. \n",
        "\n",
        "#### $p=\\frac{N^{+}}{N}$ \n",
        "#### and\n",
        "#### $q=\\frac{N^{-}}{N}$ \n",
        "\n",
        "#### Here $N^{+}$ and $N^{-}$ are the numbers of `positive` and `negative` reviews, and $N$ is the total number of reviews in the training set, so that \n",
        "\n",
        "#### $N = N^{+} + N^{-}$, \n",
        "\n",
        "#### and \n",
        "\n",
        "#### $q = 1-p$"
      ]
    },
    {
      "cell_type": "markdown",
      "metadata": {
        "id": "6I3tQelErxBj"
      },
      "source": [
        "### 8B. Class `occurrence counts`"
      ]
    },
    {
      "cell_type": "markdown",
      "metadata": {
        "id": "Sm_5rDhIrxBj"
      },
      "source": [
        "#### Let $C^{+}_{t}$ and $C^{-}_{t}$ be the `occurrence counts` of token $t$ in `positive` and `negative` reviews, respectively, and $N^{+}$ and $N^{-}$ be the total numbers of`positive` and `negative` reviews in the data set, respectively. \n"
      ]
    },
    {
      "cell_type": "code",
      "metadata": {
        "id": "crJtRNKLiOhd"
      },
      "source": [
        ""
      ],
      "execution_count": null,
      "outputs": []
    },
    {
      "cell_type": "markdown",
      "metadata": {
        "id": "B_M5660erxBk"
      },
      "source": [
        "### 8B.1 Data exploration with class `occurrence counts`"
      ]
    },
    {
      "cell_type": "markdown",
      "metadata": {
        "id": "p8wlkp3orxBk"
      },
      "source": [
        "#### Movie reviews classes and their integer representations"
      ]
    },
    {
      "cell_type": "code",
      "metadata": {
        "id": "IoXJbAFurxBk",
        "outputId": "0cf473de-80b0-4f61-9a85-2a5cdce90f2d"
      },
      "source": [
        "dir(movie_reviews)"
      ],
      "execution_count": null,
      "outputs": [
        {
          "output_type": "execute_result",
          "data": {
            "text/plain": [
              "['__class__',\n",
              " '__delattr__',\n",
              " '__dict__',\n",
              " '__dir__',\n",
              " '__doc__',\n",
              " '__eq__',\n",
              " '__format__',\n",
              " '__ge__',\n",
              " '__getattr__',\n",
              " '__getattribute__',\n",
              " '__gt__',\n",
              " '__hash__',\n",
              " '__init__',\n",
              " '__init_subclass__',\n",
              " '__le__',\n",
              " '__lt__',\n",
              " '__module__',\n",
              " '__ne__',\n",
              " '__new__',\n",
              " '__reduce__',\n",
              " '__reduce_ex__',\n",
              " '__repr__',\n",
              " '__setattr__',\n",
              " '__setstate__',\n",
              " '__sizeof__',\n",
              " '__slotnames__',\n",
              " '__str__',\n",
              " '__subclasshook__',\n",
              " '__weakref__',\n",
              " 'add_test',\n",
              " 'add_test_folder',\n",
              " 'databunch',\n",
              " 'filter_by_func',\n",
              " 'get_processors',\n",
              " 'label_const',\n",
              " 'label_empty',\n",
              " 'label_from_df',\n",
              " 'label_from_folder',\n",
              " 'label_from_func',\n",
              " 'label_from_list',\n",
              " 'label_from_lists',\n",
              " 'label_from_re',\n",
              " 'lists',\n",
              " 'load_empty',\n",
              " 'load_state',\n",
              " 'path',\n",
              " 'process',\n",
              " 'test',\n",
              " 'train',\n",
              " 'transform',\n",
              " 'transform_y',\n",
              " 'valid']"
            ]
          },
          "metadata": {
            "tags": []
          },
          "execution_count": 197
        }
      ]
    },
    {
      "cell_type": "code",
      "metadata": {
        "id": "zw1--cLorxBk",
        "colab": {
          "base_uri": "https://localhost:8080/"
        },
        "outputId": "4d4f9432-1366-4381-88e5-ce1248aff994"
      },
      "source": [
        "movie_reviews.y.c"
      ],
      "execution_count": 26,
      "outputs": [
        {
          "output_type": "execute_result",
          "data": {
            "text/plain": [
              "2"
            ]
          },
          "metadata": {
            "tags": []
          },
          "execution_count": 26
        }
      ]
    },
    {
      "cell_type": "code",
      "metadata": {
        "id": "sVceeS-DrxBl",
        "colab": {
          "base_uri": "https://localhost:8080/"
        },
        "outputId": "798aac4f-f3bc-45ed-fd1e-ca969005c281"
      },
      "source": [
        "movie_reviews.y.classes"
      ],
      "execution_count": 27,
      "outputs": [
        {
          "output_type": "execute_result",
          "data": {
            "text/plain": [
              "['negative', 'positive']"
            ]
          },
          "metadata": {
            "tags": []
          },
          "execution_count": 27
        }
      ]
    },
    {
      "cell_type": "code",
      "metadata": {
        "id": "tMWO8kwrrxBl",
        "colab": {
          "base_uri": "https://localhost:8080/"
        },
        "outputId": "4c90fd32-5019-4a6c-c98e-8f80f51235e4"
      },
      "source": [
        "positive = movie_reviews.y.c2i['positive']\n",
        "negative = movie_reviews.y.c2i['negative']\n",
        "print(f'Integer representations:  positive: {positive}, negative: {negative}')"
      ],
      "execution_count": 28,
      "outputs": [
        {
          "output_type": "stream",
          "text": [
            "Integer representations:  positive: 1, negative: 0\n"
          ],
          "name": "stdout"
        }
      ]
    },
    {
      "cell_type": "markdown",
      "metadata": {
        "id": "fjdbD85HrxBl"
      },
      "source": [
        "#### Brief names for training set document term matrix and its labels, validation labels, and vocabulary"
      ]
    },
    {
      "cell_type": "code",
      "metadata": {
        "id": "V2kG8lBPrxBl"
      },
      "source": [
        "x = train_doc_term\n",
        "y = movie_reviews.train.y\n",
        "valid_y = movie_reviews.valid.y\n",
        "v = movie_reviews.vocab"
      ],
      "execution_count": 30,
      "outputs": []
    },
    {
      "cell_type": "code",
      "metadata": {
        "id": "q_GR-eqzrxBm",
        "colab": {
          "base_uri": "https://localhost:8080/"
        },
        "outputId": "b74bdfb9-19cc-4e2b-e358-9d0aef25875f"
      },
      "source": [
        "x.shape"
      ],
      "execution_count": 31,
      "outputs": [
        {
          "output_type": "execute_result",
          "data": {
            "text/plain": [
              "(800, 6008)"
            ]
          },
          "metadata": {
            "tags": []
          },
          "execution_count": 31
        }
      ]
    },
    {
      "cell_type": "markdown",
      "metadata": {
        "id": "18ORb8vErxBm"
      },
      "source": [
        "#### The `count arrays` `C1` and `C0` list the total `occurrence counts` of the tokens in `positive` and `negative` reviews, respectively.\n",
        "\n",
        "np.squeeze takes input array but with all or a subset of the dimensions of length 1 removed. If you have a nested array, it takes off one of the nestings."
      ]
    },
    {
      "cell_type": "code",
      "metadata": {
        "colab": {
          "base_uri": "https://localhost:8080/"
        },
        "id": "UeFlEnPRrkLl",
        "outputId": "998afb75-2c50-4286-87b7-22f892d375d1"
      },
      "source": [
        "np.asarray(x[y.items==positive].sum(0))"
      ],
      "execution_count": 55,
      "outputs": [
        {
          "output_type": "execute_result",
          "data": {
            "text/plain": [
              "array([[6471,    0,  383,    0, ...,    3,    0,    0,    0]], dtype=int64)"
            ]
          },
          "metadata": {
            "tags": []
          },
          "execution_count": 55
        }
      ]
    },
    {
      "cell_type": "code",
      "metadata": {
        "colab": {
          "base_uri": "https://localhost:8080/"
        },
        "id": "xHGxFMIfrnNR",
        "outputId": "68744f4a-c08a-4e00-ef14-2f662feb0025"
      },
      "source": [
        "np.squeeze(np.asarray(x[y.items==positive].sum(0)))"
      ],
      "execution_count": 56,
      "outputs": [
        {
          "output_type": "execute_result",
          "data": {
            "text/plain": [
              "array([6471,    0,  383,    0, ...,    3,    0,    0,    0], dtype=int64)"
            ]
          },
          "metadata": {
            "tags": []
          },
          "execution_count": 56
        }
      ]
    },
    {
      "cell_type": "code",
      "metadata": {
        "id": "nbccSEn9rxBm"
      },
      "source": [
        "C1 = np.squeeze(np.asarray(x[y.items==positive].sum(0)))\n",
        "C0 = np.squeeze(np.asarray(x[y.items==negative].sum(0)))"
      ],
      "execution_count": 32,
      "outputs": []
    },
    {
      "cell_type": "markdown",
      "metadata": {
        "id": "i0ux5NiUrxBm"
      },
      "source": [
        "For each vocabulary token, we are summing up how many positive reviews it is in, and how many negative reviews it is in. Here are the occurrence counts for the first 10 tokens in the vocabulary."
      ]
    },
    {
      "cell_type": "code",
      "metadata": {
        "id": "FJlSAB03rxBm",
        "colab": {
          "base_uri": "https://localhost:8080/"
        },
        "outputId": "395018f9-bbaa-4c1d-cecc-62467efb45e3"
      },
      "source": [
        "print(C1[:10])\n",
        "print(C0[:10])"
      ],
      "execution_count": 33,
      "outputs": [
        {
          "output_type": "stream",
          "text": [
            "[ 6471     0   383     0     0 10267   674    57     0  5260]\n",
            "[ 7153     0   417     0     0 10741   908    53     1  6150]\n"
          ],
          "name": "stdout"
        }
      ]
    },
    {
      "cell_type": "markdown",
      "metadata": {
        "id": "eAThQ9mWrxBn"
      },
      "source": [
        "### 8B.2 Exercise"
      ]
    },
    {
      "cell_type": "markdown",
      "metadata": {
        "id": "vyrLuAqQrxBn"
      },
      "source": [
        "#### We can use `C0` and `C1` to do some more data exploration!"
      ]
    },
    {
      "cell_type": "markdown",
      "metadata": {
        "id": "C3XnHCOyrxBn"
      },
      "source": [
        "**Exercise 4**: Compare how often the word \"loved\" appears in positive reviews vs. negative reviews.  Do the same for the word \"hate\""
      ]
    },
    {
      "cell_type": "markdown",
      "metadata": {
        "id": "PbCaWLBRrxBn"
      },
      "source": [
        "#### Answer 4:"
      ]
    },
    {
      "cell_type": "code",
      "metadata": {
        "id": "BDbQyMG6rxBn",
        "colab": {
          "base_uri": "https://localhost:8080/"
        },
        "outputId": "ab77581c-9d2f-436e-8a0a-e6d1a2440bae"
      },
      "source": [
        "# Exercise: How often does the word \"love\" appear in neg vs. pos reviews?\n",
        "ind = v.stoi['love']\n",
        "pos_counts = C1[ind] \n",
        "neg_counts = C0[ind] \n",
        "print(f'The word \"love\" appears {pos_counts} and {neg_counts} times in positive and negative documents, respectively')"
      ],
      "execution_count": 34,
      "outputs": [
        {
          "output_type": "stream",
          "text": [
            "The word \"love\" appears 133 and 75 times in positive and negative documents, respectively\n"
          ],
          "name": "stdout"
        }
      ]
    },
    {
      "cell_type": "code",
      "metadata": {
        "id": "yYQVCDrqrxBn",
        "colab": {
          "base_uri": "https://localhost:8080/"
        },
        "outputId": "c1898849-c995-440c-c6ea-1c7a1c3a313e"
      },
      "source": [
        "# Exercise: How often does the word \"hate\" appear in neg vs. pos reviews?\n",
        "ind = v.stoi['hate']\n",
        "pos_counts = C1[ind] \n",
        "neg_counts = C0[ind] \n",
        "print(f'The word \"hate\" appears {pos_counts} and {neg_counts} times in positive and negative documents, respectively')"
      ],
      "execution_count": 35,
      "outputs": [
        {
          "output_type": "stream",
          "text": [
            "The word \"hate\" appears 5 and 13 times in positive and negative documents, respectively\n"
          ],
          "name": "stdout"
        }
      ]
    },
    {
      "cell_type": "markdown",
      "metadata": {
        "id": "jMV0mqBGrxBo"
      },
      "source": [
        "#### Let's look for an example of a positive review containing the word \"hated\""
      ]
    },
    {
      "cell_type": "code",
      "metadata": {
        "id": "cRWCjTpZrxBo",
        "colab": {
          "base_uri": "https://localhost:8080/",
          "height": 189
        },
        "outputId": "152e9abf-8e36-476d-bda9-f0148dc4d0cf"
      },
      "source": [
        "index = v.stoi['hated']\n",
        "#np.argwhere - Find the indices of array elements that are non-zero, grouped by element.\n",
        "a = np.argwhere((x[:,index] > 0))[:,0]\n",
        "print(a)\n",
        "b = np.argwhere(y.items==positive)[:,0]\n",
        "print(b)\n",
        "c = list(set(a).intersection(set(b)))[0]\n",
        "print(c)\n",
        "review = movie_reviews.train.x[c]\n",
        "review.text"
      ],
      "execution_count": 38,
      "outputs": [
        {
          "output_type": "stream",
          "text": [
            "[ 15  49 304 351 393 612 695 773]\n",
            "[  1   3  10  11 ... 787 789 790 797]\n",
            "393\n"
          ],
          "name": "stdout"
        },
        {
          "output_type": "execute_result",
          "data": {
            "application/vnd.google.colaboratory.intrinsic+json": {
              "type": "string"
            },
            "text/plain": [
              "'xxbos xxmaj there are numerous films relating to xxup xxunk , but xxmaj mother xxmaj night is quite xxunk among them : xxmaj in this film , we are introduced to xxmaj howard xxmaj campbell ( xxmaj nolte ) , an xxmaj american living in xxmaj berlin and married to a xxmaj german , xxmaj xxunk xxmaj xxunk ( xxmaj lee ) , who decides to accept the role of a spy : xxmaj more specifically , a xxup cia agent xxmaj major xxmaj xxunk ( xxmaj goodman ) recruits xxmaj campbell who becomes a xxmaj nazi xxunk in order to enter the highest xxunk of the xxmaj hitler xxunk . xxmaj however , the deal is that the xxup us xxmaj government will never xxunk xxmaj campbell \\'s role in the war for national security reasons , and so xxmaj campbell becomes a hated figure across the xxup us . xxmaj after the war , he tries to xxunk his identity , but the past comes back and xxunk him . xxmaj his only \" friend \" is xxmaj xxunk , but even he can not do much for the xxunk of events that fall upon poor xxmaj campbell ... \\n \\n  xxmaj the story is deeply touching , as we watch the tragedy of xxmaj campbell who although a great patriot , is treated by xxunk by everybody who xxunk him . xxmaj not only that , but he also gradually realizes that even the persons who are most close to him , have many xxunk of their own . xxmaj vonnegut provides us with a moving atmosphere , with xxmaj campbell \\'s despair building up and almost choking the viewer . \\n \\n  xxmaj nolte plays the role of his life , in my opinion ; he is even better than in \" xxmaj xxunk \" , although in both roles he plays tragic figures who are destined to self - destruction . xxmaj xxunk xxmaj lee is also excellent , and the same can be said for the whole cast in general . \\n \\n  i have n\\'t read the book , so i can not xxunk how the film compares to it . xxmaj in any case , this is something of no importance here : xxmaj my xxunk is upon the film per xxunk , and the film xxunk deserves a 9 / 10 .'"
            ]
          },
          "metadata": {
            "tags": []
          },
          "execution_count": 38
        }
      ]
    },
    {
      "cell_type": "markdown",
      "metadata": {
        "id": "oZVkp2hRrxBo"
      },
      "source": [
        "#### Example of a negative review with the word \"loved\""
      ]
    },
    {
      "cell_type": "code",
      "metadata": {
        "id": "-R96bSCXrxBo",
        "colab": {
          "base_uri": "https://localhost:8080/",
          "height": 208
        },
        "outputId": "acfa311f-2708-4d2e-8a81-ec24cd7bfaf6"
      },
      "source": [
        "index = v.stoi['loved']\n",
        "a = np.argwhere((x[:,index] > 0))[:,0]\n",
        "print(a)\n",
        "b = np.argwhere(y.items==negative)[:,0]\n",
        "print(b)\n",
        "c = list(set(a).intersection(set(b)))[0]\n",
        "print(c)\n",
        "review = movie_reviews.train.x[c]\n",
        "review.text"
      ],
      "execution_count": 39,
      "outputs": [
        {
          "output_type": "stream",
          "text": [
            "[  1  15  29  69  75  79 174 185 200 205 262 296 303 333 350 351 398 407 440 489 496 528 538 600 602 605 627 642 657\n",
            " 660 700 712 729 735 755 767 785]\n",
            "[  0   2   4   5 ... 795 796 798 799]\n",
            "642\n"
          ],
          "name": "stdout"
        },
        {
          "output_type": "execute_result",
          "data": {
            "application/vnd.google.colaboratory.intrinsic+json": {
              "type": "string"
            },
            "text/plain": [
              "'xxbos xxmaj oh if only i could give this rubbish less than one star ! xxmaj there were two mildly amusing parts in the whole film and that is it ! one was where a line or two from the song xxmaj do n\\'t xxmaj worry , xxmaj be xxmaj happy was xxunk by the slugs and the other was where xxmaj roddy fell of the toilet roll and landed with his feet and legs apart so that everything else he landed on on the way down hit him in the xxunk . xxmaj that is it there was nothing more amusing than that , at least not for me anyway ! xxmaj xxunk is not right in saying \\' xxmaj fans of the completely terrible \" xxmaj shrek \" might enjoy , but \" xxmaj wallace & xxmaj xxunk \" fans will probably turn away in xxunk . \\' xxmaj as i loved xxmaj shrek 1 2 and 3 and i also love xxmaj wallace and xxmaj xxunk . xxmaj you see what it xxunk down to is that if an animation is done extremely well then it is definitely worth watching , this however was about as far from done well as you can possibly get ! xxmaj the continuity mistakes were too big in number . xxmaj some were pointed out by the makers of this site others were not . i wo n\\'t point out all of the others , but here are a few more to see : xxmaj when the young daughter leaves at the start of the film the catch to the cage door comes down and the hook part of it that is on the right clearly goes back around behind the round xxunk thus effectively making sure xxmaj roddy would not be able to get out and yet he does just by simply kicking at it . xxmaj at one point the ruby falls down xxmaj roddy \\'s back and gets pushed straight up into the the air by xxmaj xxunk all the while the ship is moving forwards . xxmaj in the next scene xxmaj roddy has caught it again . xxmaj this is impossible . xxmaj seeing as how the ship is moving forwards the only place when the ruby was xxunk out from under the back of xxmaj roddy \\'s shirt the only place it could have landed was in the water not in xxmaj roddy \\'s hand . xxmaj there was a third one i wanted to point out but for now i have forgotten it . \\n \\n  xxmaj too many , for want of a better word , \\' jokes \\' were repeated in one way or another , there was not enough time to establish any sort of connection with any of the characters , the characters were xxunk , shallow and empty , and the whole film left you wanting xxrep 4 . wanting to watch xxunk minutes of anything else ! xxmaj paint xxunk or grass growing are two superb xxunk !'"
            ]
          },
          "metadata": {
            "tags": []
          },
          "execution_count": 39
        }
      ]
    },
    {
      "cell_type": "markdown",
      "metadata": {
        "id": "bn8cCtU-rxBp"
      },
      "source": [
        "### 8C. Class likelihood ratios"
      ]
    },
    {
      "cell_type": "markdown",
      "metadata": {
        "id": "B8OHHBttrxBp"
      },
      "source": [
        "#### Then, given the knowledge that a review is classified as `positive`, the `conditional likelihood` that a token $t$ will appear in the review is\n",
        "### $ L(t|+) = \\frac{C^{+}_{t}}{N^+}$, \n",
        "#### and simlarly, the `conditional likelihood` of a token appearing in a `negative` review is \n",
        "### $ L(t|-) = \\frac{C^{-}_{t}}{N^-}$"
      ]
    },
    {
      "cell_type": "markdown",
      "metadata": {
        "id": "GMafXsWkrxBp"
      },
      "source": [
        "### 8D. The `log-count ratio`"
      ]
    },
    {
      "cell_type": "markdown",
      "metadata": {
        "id": "w5pilE9ArxBp"
      },
      "source": [
        "#### From the class likelihood ratios, we can define a **log-count ratio** $R_{t}$ for each token $t$ as\n",
        "### $ R_{t} = \\text{log} \\frac{L(t|+)}  {L(t|-)}$\n",
        "#### The `log-count ratio` ranks tokens by their relative affinities for positive and negative reviews\n",
        "#### We observe that\n",
        "* $R_{t} \\gt 0$ means `positive` reviews are more likely to contain this token \n",
        "* $R_{t} \\lt 0$ means `negative` reviews are more likely to contain this token \n",
        "* $R_{t} = 0$ indicates the token $t$ has equal likelihood to appear in  `positive` and `negative` reviews\n"
      ]
    },
    {
      "cell_type": "markdown",
      "metadata": {
        "id": "jCGFaroprxBp"
      },
      "source": [
        "## 9. Building a Naive Bayes Classifier for IMDb movie reviews"
      ]
    },
    {
      "cell_type": "markdown",
      "metadata": {
        "id": "VZUbo_fqrxBp"
      },
      "source": [
        "#### From the `occurrence count` arrays, we can compute the `class likelihoods` and `log-count ratios` of all the tokens in the vocabulary. "
      ]
    },
    {
      "cell_type": "markdown",
      "metadata": {
        "id": "yV2h4ejtrxBq"
      },
      "source": [
        "### 9A. Compute the `class likelihoods`"
      ]
    },
    {
      "cell_type": "markdown",
      "metadata": {
        "id": "mLBtyuA8rxBq"
      },
      "source": [
        "#### We compute slightly modified `conditional likelihoods`, by adding 1 to the numerator and denominator to insure numerically stability."
      ]
    },
    {
      "cell_type": "code",
      "metadata": {
        "id": "mnNUK-P5rxBq"
      },
      "source": [
        "L1 = (C1+1) / ((y.items==positive).sum() + 1)\n",
        "L0 = (C0+1) / ((y.items==negative).sum() + 1)"
      ],
      "execution_count": 40,
      "outputs": []
    },
    {
      "cell_type": "code",
      "metadata": {
        "colab": {
          "base_uri": "https://localhost:8080/"
        },
        "id": "kiU7CKSimqOf",
        "outputId": "9661ef54-3f65-4206-c637-e748801ebf65"
      },
      "source": [
        "L0[:10]"
      ],
      "execution_count": 41,
      "outputs": [
        {
          "output_type": "execute_result",
          "data": {
            "text/plain": [
              "array([1.711483e+01, 2.392344e-03, 1.000000e+00, 2.392344e-03, 2.392344e-03, 2.569856e+01, 2.174641e+00, 1.291866e-01,\n",
              "       4.784689e-03, 1.471531e+01])"
            ]
          },
          "metadata": {
            "tags": []
          },
          "execution_count": 41
        }
      ]
    },
    {
      "cell_type": "markdown",
      "metadata": {
        "id": "mY79HBu6rxBq"
      },
      "source": [
        "### 9B. Compute the `log-count ratios`"
      ]
    },
    {
      "cell_type": "markdown",
      "metadata": {
        "id": "ER3ecNHgrxBq"
      },
      "source": [
        "#### The log-count ratios are"
      ]
    },
    {
      "cell_type": "code",
      "metadata": {
        "id": "3bfId27XrxBq",
        "colab": {
          "base_uri": "https://localhost:8080/"
        },
        "outputId": "9c489c51-992c-4bb3-a801-8f5734d40209"
      },
      "source": [
        "R = np.log(L1/L0)\n",
        "print(R)"
      ],
      "execution_count": 43,
      "outputs": [
        {
          "output_type": "stream",
          "text": [
            "[-0.015348  0.084839  0.        0.084839 ...  1.471133 -1.301455 -1.301455 -1.301455]\n"
          ],
          "name": "stdout"
        }
      ]
    },
    {
      "cell_type": "markdown",
      "metadata": {
        "id": "KY1qcxfkrxBr"
      },
      "source": [
        "#### Data Exercise: find the vocabulary words most likely to be associated with positive and negative reviews"
      ]
    },
    {
      "cell_type": "markdown",
      "metadata": {
        "id": "wU1gbk4JrxBr"
      },
      "source": [
        "#### Get the indices of the tokens with the highest and lowest log-count ratios"
      ]
    },
    {
      "cell_type": "code",
      "metadata": {
        "id": "KP7vOFYprxBv"
      },
      "source": [
        "n_tokens = 10\n",
        "#np.argparitition(a, kth, axis=-1, kind='introselect', order=None) - Perform an indirect partition along the given axis \n",
        "#using the algorithm specified by the kind keyword. It returns an array of indices of the same shape as a that index data along the given axis in partitioned order.\n",
        "#a - array to sort, kth - Element index to partition by.\n",
        "highest_R = np.argpartition(R, -n_tokens)[-n_tokens:]\n",
        "lowest_R = np.argpartition(R, n_tokens)[:n_tokens]"
      ],
      "execution_count": 44,
      "outputs": []
    },
    {
      "cell_type": "code",
      "metadata": {
        "id": "YQ5xJ_oUrxBv",
        "colab": {
          "base_uri": "https://localhost:8080/"
        },
        "outputId": "0ce94f08-5636-40ab-c92b-8424323e8910"
      },
      "source": [
        "print(f'Highest {n_tokens} log-count ratios: {R[list(highest_R)]}\\n')\n",
        "print(f'Lowest {n_tokens} log-count ratios: {R[list(lowest_R)]}')"
      ],
      "execution_count": 45,
      "outputs": [
        {
          "output_type": "stream",
          "text": [
            "Highest 10 log-count ratios: [2.569746 2.649788 2.649788 2.649788 2.792889 2.723896 2.723896 2.857428 2.975211 3.029278]\n",
            "\n",
            "Lowest 10 log-count ratios: [-3.093215 -2.623211 -2.68775  -3.134037 -2.8596   -2.636457 -2.748374 -2.805533 -2.554218 -2.554218]\n"
          ],
          "name": "stdout"
        }
      ]
    },
    {
      "cell_type": "markdown",
      "metadata": {
        "id": "nlmahwAJrxBv"
      },
      "source": [
        "#### Most positive words:"
      ]
    },
    {
      "cell_type": "code",
      "metadata": {
        "id": "lIlwqHftrxBv",
        "colab": {
          "base_uri": "https://localhost:8080/"
        },
        "outputId": "98578ded-b275-4023-906d-933e71594e5e"
      },
      "source": [
        "highest_R"
      ],
      "execution_count": 46,
      "outputs": [
        {
          "output_type": "execute_result",
          "data": {
            "text/plain": [
              "array([1744, 1620, 1666, 1662, 1386, 1529,  795, 1358, 1212, 1143])"
            ]
          },
          "metadata": {
            "tags": []
          },
          "execution_count": 46
        }
      ]
    },
    {
      "cell_type": "code",
      "metadata": {
        "id": "KsCzDE1zrxBw",
        "colab": {
          "base_uri": "https://localhost:8080/"
        },
        "outputId": "409b13be-442e-4c8e-a0dd-78f1fb15df4b"
      },
      "source": [
        "[v.itos[k] for k in highest_R]"
      ],
      "execution_count": 47,
      "outputs": [
        {
          "output_type": "execute_result",
          "data": {
            "text/plain": [
              "['han',\n",
              " 'jabba',\n",
              " 'gilliam',\n",
              " 'davies',\n",
              " 'noir',\n",
              " 'felix',\n",
              " 'jimmy',\n",
              " 'astaire',\n",
              " 'fanfan',\n",
              " 'biko']"
            ]
          },
          "metadata": {
            "tags": []
          },
          "execution_count": 47
        }
      ]
    },
    {
      "cell_type": "markdown",
      "metadata": {
        "id": "QGnHiKEWrxBw"
      },
      "source": [
        "#### There are only two movie reviews that mention \"biko\""
      ]
    },
    {
      "cell_type": "code",
      "metadata": {
        "id": "k4VX79ZfrxBw",
        "colab": {
          "base_uri": "https://localhost:8080/"
        },
        "outputId": "26a01a1d-5635-4201-d8d5-46197e67f0c5"
      },
      "source": [
        "token = 'biko'\n",
        "train_doc_term[:,v.stoi[token]]"
      ],
      "execution_count": 48,
      "outputs": [
        {
          "output_type": "execute_result",
          "data": {
            "text/plain": [
              "<800x1 sparse matrix of type '<class 'numpy.int64'>'\n",
              "\twith 2 stored elements in Compressed Sparse Row format>"
            ]
          },
          "metadata": {
            "tags": []
          },
          "execution_count": 48
        }
      ]
    },
    {
      "cell_type": "markdown",
      "metadata": {
        "id": "gqZgV1sqrxBw"
      },
      "source": [
        "#### Which movie review has the most occurrences of 'biko'?"
      ]
    },
    {
      "cell_type": "code",
      "metadata": {
        "id": "Frk2z6xbrxBx",
        "colab": {
          "base_uri": "https://localhost:8080/"
        },
        "outputId": "9188a4af-b453-49b7-fb08-1128db25aaaf"
      },
      "source": [
        "index = np.argmax(train_doc_term[:,v.stoi[token]])\n",
        "n_times = train_doc_term[index,v.stoi[token]]\n",
        "print(f'review # {index} has {n_times} occurrences of \"{token}\"\\n')\n",
        "print(movie_reviews.train.x[index].text)"
      ],
      "execution_count": 49,
      "outputs": [
        {
          "output_type": "stream",
          "text": [
            "review # 515 has 14 occurrences of \"biko\"\n",
            "\n",
            "xxbos \" xxmaj the xxmaj true xxmaj story xxmaj of xxmaj the xxmaj friendship xxmaj that xxmaj shook xxmaj south xxmaj africa xxmaj and xxmaj xxunk xxmaj the xxmaj world . \" \n",
            " \n",
            "  xxmaj richard xxmaj attenborough , who directed \" a xxmaj bridge xxmaj too xxmaj far \" and \" xxmaj gandhi \" , wanted to bring the story of xxmaj steve xxmaj biko to life , and the journey and trouble that xxunk xxmaj donald xxmaj woods went through in order to get his story told . xxmaj the films uses xxmaj wood 's two books for it 's information and basis - \" xxmaj biko \" and \" xxmaj asking for xxmaj trouble \" . \n",
            " \n",
            "  xxmaj the film takes place in the late 1970 's , in xxmaj south xxmaj africa . xxmaj south xxmaj africa is in the grip of the terrible apartheid , which keeps the blacks separated from the whites and xxunk the whites as the superior race . xxmaj the blacks are forced to live in xxunk on the xxunk of the cities and xxunk , and they come under frequent xxunk by the police and the army . xxmaj we are shown a dawn xxunk on a xxunk , as xxunk and armed police force their way through the camp beating and even killing the inhabitants . xxmaj then we are introduced to xxmaj donald xxmaj woods ( xxmaj kevin xxmaj kline ) , who is the editor of a popular newspaper . xxmaj after xxunk a negative story about black xxunk xxmaj steve xxmaj biko ( xxmaj denzel xxmaj washington ) , xxmaj woods goes to meet with him . xxmaj the two are xxunk of each other at first , but they soon become good friends and xxmaj biko shows the horrors of the apartheid system from a black persons point of view to xxmaj woods . xxmaj this xxunk xxmaj woods to speak out against what 's happening around him , and makes him desperate to bring xxmaj steve xxmaj biko 's story out of the xxunk of the white man 's xxmaj south xxmaj africa and to the world . xxmaj soon , xxmaj steve xxmaj biko is arrested and is killed in prison . xxmaj now xxmaj woods and his family are daring to escape from xxmaj south xxmaj africa to xxmaj england , where xxmaj woods can xxunk his book about xxmaj steve xxmaj biko and the apartheid . \n",
            " \n",
            "  xxmaj when i first heard of \" xxmaj cry xxmaj freedom \" , i was under the impression that it was a movie completely dedicated to the life of xxmaj steve xxmaj biko . i had never actually heard of xxmaj steve xxmaj biko before i seen this film , as the events in this film were really before my time . xxmaj but it 's more about the story of xxmaj donald xxmaj woods and his journey across the border into xxmaj xxunk as he tried to xxunk the xxmaj south xxmaj african xxunk . xxmaj woods was put on a five year type house xxunk after xxmaj steve xxmaj biko was killed . xxmaj so in order to xxunk his xxunk on xxmaj steve xxmaj biko , he had to escape . xxmaj because the xxunk would be considered xxunk in xxmaj south xxmaj africa and that could have resulted in xxmaj woods meeting a fate similar to that of xxmaj biko 's . xxmaj the real xxmaj donald xxmaj woods and his wife acted as xxunk to this film . \n",
            " \n",
            "  xxmaj denzel xxmaj washington is only in the film for the first hour , and i was disappointed with that as i was expecting to see him for the entire movie . xxmaj but he was amazing as xxmaj steve xxmaj biko , and captured his personality from what i 've read really well and his accent sounded perfect . xxmaj his performance earned him an xxmaj oscar nomination for xxmaj best xxmaj supporting xxmaj actor . xxmaj kevin xxmaj kline delivers a excellent and thought - xxunk performance as xxmaj donald xxmaj woods , and xxmaj penelope xxmaj xxunk is excellent as his wife xxmaj xxunk . \n",
            " \n",
            "  xxmaj filming took place in xxmaj xxunk , as needless to say problems xxunk when they tried to film it in xxmaj south xxmaj africa . xxmaj while in xxmaj south xxmaj africa , the xxmaj south xxmaj african xxunk followed the film crew everywhere , so they got the bad xxunk and they pulled out and went to xxunk xxmaj xxunk instead . xxmaj despite everything , and the fact that the apartheid did n't end ' xxunk seven years later , \" xxmaj cry xxmaj freedom \" was n't xxunk in xxmaj south xxmaj africa . xxmaj but xxunk showing the movie received bomb threats . \n",
            " \n",
            "  xxmaj richard xxmaj attenborough brings the horrors of the apartheid to the screen with extreme force and determination . xxmaj he does n't hold back at the end of the movie when showing what was supposed to be a xxunk xxunk by students in a xxunk , turns into a massacre when police open fire on them . xxmaj the film ends with the names of all the anti - apartheid xxunk who died in prison , and the explanations for their deaths . xxmaj many had \" xxmaj no xxmaj explanation \" . xxmaj quite a few were \" xxmaj xxunk \" , which is hard to believe , and many more either fell from the top of the xxunk or were \" xxmaj suicide from xxmaj hanging \" . xxmaj no one will ever know what really happened to them , but i think it 's fair to say that none of these men died at their own hands , but at the hands of others ; or to be more xxunk , at the hands of the police . \n",
            " \n",
            "  \" xxmaj cry xxmaj freedom \" is a must - see movie for it 's portrayal and story of xxmaj steve xxmaj biko . xxmaj it 's also a xxunk and xxunk portrayal of a beautiful land divided and in the xxunk grips of racial xxunk and violence .\n"
          ],
          "name": "stdout"
        }
      ]
    },
    {
      "cell_type": "markdown",
      "metadata": {
        "id": "kZJikRO4rxBx"
      },
      "source": [
        "#### Most negative words:"
      ]
    },
    {
      "cell_type": "code",
      "metadata": {
        "id": "pDtbKVtarxBx",
        "colab": {
          "base_uri": "https://localhost:8080/"
        },
        "outputId": "09fb32b9-1968-4906-d0ed-72cd0fff7f42"
      },
      "source": [
        "lowest_R"
      ],
      "execution_count": 50,
      "outputs": [
        {
          "output_type": "execute_result",
          "data": {
            "text/plain": [
              "array([ 934, 1438, 1345,  904,  572,  301, 1213, 1189, 1545, 1544])"
            ]
          },
          "metadata": {
            "tags": []
          },
          "execution_count": 50
        }
      ]
    },
    {
      "cell_type": "code",
      "metadata": {
        "id": "mauNAELsrxBx",
        "colab": {
          "base_uri": "https://localhost:8080/"
        },
        "outputId": "d4b34f52-0cf8-4566-fef0-e4cd44aa53ac"
      },
      "source": [
        "[v.itos[k] for k in lowest_R]"
      ],
      "execution_count": 51,
      "outputs": [
        {
          "output_type": "execute_result",
          "data": {
            "text/plain": [
              "['vargas',\n",
              " 'disappointment',\n",
              " 'crater',\n",
              " 'porn',\n",
              " 'crap',\n",
              " 'worst',\n",
              " 'dog',\n",
              " 'naschy',\n",
              " 'soderbergh',\n",
              " 'fuqua']"
            ]
          },
          "metadata": {
            "tags": []
          },
          "execution_count": 51
        }
      ]
    },
    {
      "cell_type": "markdown",
      "metadata": {
        "id": "dsuac6NirxBx"
      },
      "source": [
        "#### There's only one movie review that mentions \"soderbergh\""
      ]
    },
    {
      "cell_type": "code",
      "metadata": {
        "id": "yfk2PE-yrxBy",
        "colab": {
          "base_uri": "https://localhost:8080/"
        },
        "outputId": "e74f480b-08c4-4e67-f3bb-e2027d26b2eb"
      },
      "source": [
        "token = 'soderbergh'\n",
        "train_doc_term[:,v.stoi[token]]"
      ],
      "execution_count": 52,
      "outputs": [
        {
          "output_type": "execute_result",
          "data": {
            "text/plain": [
              "<800x1 sparse matrix of type '<class 'numpy.int64'>'\n",
              "\twith 1 stored elements in Compressed Sparse Row format>"
            ]
          },
          "metadata": {
            "tags": []
          },
          "execution_count": 52
        }
      ]
    },
    {
      "cell_type": "code",
      "metadata": {
        "id": "8B1_vRdirxBy",
        "colab": {
          "base_uri": "https://localhost:8080/"
        },
        "outputId": "a3e9bced-fcff-4d5d-a514-b0cb9fcccfdf"
      },
      "source": [
        "index = np.argmax(train_doc_term[:,v.stoi[token]])\n",
        "n_times = train_doc_term[index,v.stoi[token]]\n",
        "print(f'review # {index} has {n_times} occurrences of \"{token}\"\\n')\n",
        "print(movie_reviews.train.x[index].text)\n"
      ],
      "execution_count": 53,
      "outputs": [
        {
          "output_type": "stream",
          "text": [
            "review # 434 has 13 occurrences of \"soderbergh\"\n",
            "\n",
            "xxbos xxmaj now that xxmaj che(2008 ) has finished its relatively short xxmaj australian cinema run ( extremely limited xxunk screen in xxmaj xxunk , after xxunk ) , i can xxunk join both xxunk of \" xxmaj at xxmaj the xxmaj movies \" in taking xxmaj steven xxmaj soderbergh to task . \n",
            " \n",
            "  xxmaj it 's usually satisfying to watch a film director change his style / subject , but xxmaj soderbergh 's most recent stinker , xxmaj the xxmaj girlfriend xxmaj xxunk ) , was also missing a story , so narrative ( and editing ? ) seem to suddenly be xxmaj soderbergh 's main challenge . xxmaj strange , after xxunk years in the business . xxmaj he was probably never much good at narrative , just xxunk it well inside \" edgy \" projects . \n",
            " \n",
            "  xxmaj none of this excuses him this present , almost diabolical failure . xxmaj as xxmaj david xxmaj xxunk xxunk , \" two parts of xxmaj che do n't ( even ) make a whole \" . \n",
            " \n",
            "  xxmaj epic xxunk in name only , xxmaj che(2008 ) barely qualifies as a feature film ! xxmaj it certainly has no legs , xxunk as except for its xxunk ultimate resolution forced upon it by history , xxmaj soderbergh 's xxunk - long xxunk just goes nowhere . \n",
            " \n",
            "  xxmaj even xxmaj margaret xxmaj xxunk , the more xxunk of xxmaj australia 's xxmaj at xxmaj the xxmaj movies duo , noted about xxmaj soderbergh 's xxunk waste of ( xxup xxunk digital xxunk ) : \" you 're in the woods ... xxunk in the woods ... xxunk in the woods ... \" . i too am surprised xxmaj soderbergh did n't give us another xxunk of xxup that somewhere between his xxunk two xxmaj parts , because he still left out massive xxunk of xxmaj che 's \" xxunk \" life ! \n",
            " \n",
            "  xxmaj for a xxunk of an important but infamous historical figure , xxmaj soderbergh xxunk xxunk , if not deliberately insults , his audiences by \n",
            " \n",
            "  1 . never providing most of xxmaj che 's story ; \n",
            " \n",
            "  2 . xxunk xxunk film xxunk with mere xxunk xxunk ; \n",
            " \n",
            "  3 . xxunk both true xxunk and a narrative of events ; \n",
            " \n",
            "  4 . barely developing an idea , or a character ; \n",
            " \n",
            "  5 . remaining xxunk episodic ; \n",
            " \n",
            "  6 . xxunk proper context for scenes --- whatever we do get is xxunk in xxunk xxunk ; \n",
            " \n",
            "  7 . xxunk xxunk all audiences ( even xxmaj spanish - xxunk will be confused by the xxunk xxunk in xxmaj english ) ; and \n",
            " \n",
            "  8 . xxunk xxunk his main subject into one dimension . xxmaj why , at xxup this late stage ? xxmaj the t - shirt franchise has been a success ! \n",
            " \n",
            "  xxmaj our sense of xxunk is surely due to xxmaj peter xxmaj xxunk and xxmaj benjamin xxunk xxmaj xxunk xxunk their screenplay solely on xxmaj xxunk 's memoirs . xxmaj so , like a poor student who has read only xxup one of his xxunk xxunk for his xxunk , xxmaj soderbergh 's product is xxunk limited in perspective . \n",
            " \n",
            "  xxmaj the audience is held captive within the same xxunk knowledge , scenery and circumstances of the \" revolutionaries \" , but that does n't xxunk our sympathy . xxmaj instead , it xxunk on us that \" xxmaj ah , xxmaj soderbergh 's trying to xxunk his audiences the same as the xxmaj latino peasants were at the time \" . xxmaj but these are the xxup same illiterate xxmaj latino peasants who xxunk out the good doctor to his enemies . xxmaj why does xxmaj soderbergh feel the need to xxunk us with them , and keep us equally mentally captive ? xxmaj such audience xxunk must have a purpose . \n",
            " \n",
            "  xxmaj part2 is more xxunk than xxmaj part1 , but it 's literally mind - numbing with its repetitive bush - bashing , misery of xxunk , and lack of variety or character xxunk . deltoro 's xxmaj che has no opportunity to grow as a person while he struggles to xxunk his own ill - xxunk troops . xxmaj the only xxunk is the humour as xxmaj che deals with his sometimes deeply ignorant \" revolutionaries \" , some of whom xxunk lack self - control around local peasants or food . xxmaj we certainly get no insight into what caused the conditions , nor any xxunk xxunk of their xxunk xxunk , such as it was . \n",
            " \n",
            "  xxmaj part2 's xxunk xxunk remains xxunk episodic : again , nothing is telegraphed or xxunk . xxmaj thus even the scenes with xxmaj xxunk xxmaj xxunk ( xxmaj xxunk xxmaj xxunk ) are unexpected and disconcerting . xxmaj any xxunk events are portrayed xxunk and xxmaj latino - xxunk , with xxmaj part1 's interviews xxunk by time - xxunk xxunk between the corrupt xxmaj xxunk president ( xxmaj xxunk de xxmaj xxunk ) and xxup us xxmaj government xxunk promising xxup cia xxunk ( ! ) . \n",
            " \n",
            "  xxmaj the rest of xxmaj part2 's \" woods \" and day - for - night blue xxunk just xxunk the audience until they 're xxunk the xxunk . \n",
            " \n",
            "  xxmaj perhaps deltoro felt too xxunk the frustration of many non - xxmaj american xxmaj latinos about never getting a truthful , xxunk history of xxmaj che 's xxunk within their own countries . xxmaj when foreign xxunk still wo n't deliver a free press to their people -- for whatever reason -- then one can see how a popular xxmaj american indie producer might set out to xxunk the not - so - well - read ( \" i may not be able to read or write , but i 'm xxup not xxunk . xxmaj the xxmaj inspector xxmaj xxunk ) ) out to their own local xxunk . xxmaj the film 's obvious xxunk and gross over - xxunk hint very strongly that it 's aiming only at the xxunk of the less - informed xxup who xxup still xxup speak xxup little xxmaj english . xxmaj if they did , they 'd have read xxunk on the subject already , and xxunk the relevant social issues amongst themselves -- learning the lessons of history as they should . \n",
            " \n",
            "  xxmaj such insights are precisely what societies still need -- and not just the remaining illiterate xxmaj latinos of xxmaj central and xxmaj south xxmaj america -- yet it 's what xxmaj che(2008 ) xxunk fails to deliver . xxmaj soderbergh xxunk his lead because he 's weak on narrative . i am xxunk why xxmaj xxunk deltoro deliberately chose xxmaj soderbergh for this project if he knew this . xxmaj it 's been xxunk , xxunk about xxmaj xxunk was xxunk wanted : it 's what i went to see this film for , but the director xxunk robs us of that . \n",
            " \n",
            "  xxmaj david xxmaj xxunk , writing in xxmaj the xxmaj australian ( xxunk ) observed that while xxmaj part1 was \" uneven \" , xxmaj part2 actually \" goes rapidly downhill \" from there , \" xxunk xxmaj che 's final xxunk in xxmaj xxunk in xxunk detail \" , which \" ... feels almost unbearably slow and turgid \" . \n",
            " \n",
            "  xxmaj che : xxmaj the xxmaj xxunk aka xxmaj part2 is certainly no xxunk for xxmaj xxunk , painting it a picture of misery and xxunk . xxmaj the entire second half is only xxunk by the aforementioned humour , and the dramatic -- yet tragic -- capture and execution of the film 's subject . \n",
            " \n",
            "  xxmaj the rest of this xxunk cinema xxunk is just confusing , irritating misery -- xxunk , for a xxmaj soderbergh film , to be avoided at all costs . xxmaj it is bound to break the hearts of all who know even just a xxunk about the xxunk / 10 )\n"
          ],
          "name": "stdout"
        }
      ]
    },
    {
      "cell_type": "markdown",
      "metadata": {
        "id": "nyLmbgqFrxBy"
      },
      "source": [
        "### 9C. Compute the prior probabilities for  each class"
      ]
    },
    {
      "cell_type": "code",
      "metadata": {
        "id": "soMeId5VrxBz",
        "colab": {
          "base_uri": "https://localhost:8080/"
        },
        "outputId": "dc9b6af1-92a2-4af1-f8a8-22908df717bb"
      },
      "source": [
        "p = (y.items==positive).mean()\n",
        "q = (y.items==negative).mean()\n",
        "print(f'The prior probabilities for positive and negative classes are {p} annd {q}')"
      ],
      "execution_count": 57,
      "outputs": [
        {
          "output_type": "stream",
          "text": [
            "The prior probabilities for positive and negative classes are 0.47875 annd 0.52125\n"
          ],
          "name": "stdout"
        }
      ]
    },
    {
      "cell_type": "markdown",
      "metadata": {
        "id": "B-6qgq0wrxBz"
      },
      "source": [
        "#### The log probability ratio is\n",
        "\n",
        "### $b = \\text{log} \\frac{p} {q}$ \n",
        "\n",
        "#### is a measure of the `bias`, or `imbalance` in the data set. \n",
        "\n",
        "* $b = 0$ indicates a perfectly balanced data set\n",
        "* $b \\gt 0$ indicates bias towards `positive` reviews \n",
        "* $b \\lt 0$ indicates bias towards `negative` reviews "
      ]
    },
    {
      "cell_type": "code",
      "metadata": {
        "id": "FDGhcqxsrxBz",
        "colab": {
          "base_uri": "https://localhost:8080/"
        },
        "outputId": "334699c6-3c7b-4acd-9d4d-31e56cba4eef"
      },
      "source": [
        "b = np.log((y.items==positive).mean() / (y.items==negative).mean())\n",
        "print(f'The log probability ratio is L = {b}')"
      ],
      "execution_count": 58,
      "outputs": [
        {
          "output_type": "stream",
          "text": [
            "The log probability ratio is L = -0.08505123261815539\n"
          ],
          "name": "stdout"
        }
      ]
    },
    {
      "cell_type": "markdown",
      "metadata": {
        "id": "r7pgnbUzrxB0"
      },
      "source": [
        "#### We see that the training set is slightly imbalanced toward `negative` reviews."
      ]
    },
    {
      "cell_type": "markdown",
      "metadata": {
        "id": "MF6Fiz6ArxB0"
      },
      "source": [
        "### 9D.  Putting it all together: the Naive Bayes Movie Review Classifier\n",
        "In this section, we'll start with a discussion of Bayes' Theorem, then we'll use it to derive the Naive Bayes Classifier. Next we'll apply the Naive Bayes classifier to our movie reviews problem. Finally we'll review the prescription for building a Naive Bayes Classifier. "
      ]
    },
    {
      "cell_type": "markdown",
      "metadata": {
        "id": "zTEKEnTfrxB0"
      },
      "source": [
        "### 9D.1 What is Bayes Theorem, and what does it have to say about IMDb movie reviews?\n",
        "\n",
        "Consider two events, $A$ and $B$  \n",
        "Then the probability of $A$ and $B$ occurring together can be written in two ways:\n",
        "$p(A,B) = p(A|B)\\cdot p(B)$\n",
        "$p(A,B) = p(B|A)\\cdot p(A)$\n",
        "\n",
        "where $p(A|B)$ and $p(B|A)$ are conditional probabilities:\n",
        "$p(A|B)$ is the probability of $A$ occurring given that $B$ has occurred,\n",
        "$p(A)$ is the probability that $A$ occurs,\n",
        "$p(B)$ is the probability that $B$ occurs\n",
        "\n",
        "\n",
        "$\\textbf{Bayes Theorem}$ is just the statement that the right hand sides of the above two equations are equal:\n",
        "\n",
        "$p(A|B) \\cdot p(B) = p(B|A) \\cdot p(A)$\n",
        "\n",
        "Applying $\\textbf{Bayes Theorem}$ to our IMDb movie review problem:\n",
        "\n",
        "We identify $A$ and $B$ as <br> \n",
        "$A \\equiv \\text{class}$, i.e. positive or negative, and <br>\n",
        "$B \\equiv \\text{tokens}$, i.e. the \"bag\" of tokens used in the review\n",
        "\n",
        "Then $\\textbf{Bayes Theorem}$ says\n",
        "\n",
        "$p(\\text{class}|\\text{tokens})\\cdot p(\\text{tokens}) = p(\\text{tokens}|\\text{class}) \\cdot p(\\text{class})$\n",
        "\n",
        "so that <br>\n",
        "$p(\\text{class}|\\text{tokens}) = p(\\text{tokens}|\\text{class})\\cdot \\frac{p(\\text{class})}{p(\\text{tokens})}$\n",
        "\n",
        "Since $p(\\text{tokens})$ is a constant, we have the proportionality \n",
        "\n",
        "$p(\\text{class}|\\text{tokens}) \\propto p(\\text{tokens}|\\text{class})\\cdot p(\\text{class})$\n",
        "\n",
        "The left hand side of the above expression is called the $\\textbf{posterior class probability}$, the probability that the review is positive (or negative), given the tokens it contains. This is exactly what we want to predict!"
      ]
    },
    {
      "cell_type": "markdown",
      "metadata": {
        "id": "wJm6NrharxB0"
      },
      "source": [
        "### 9D.2 The Naive Bayes Classifier\n",
        "\n",
        "#### Given the list of tokens in a review, we seek to predict whether the review is rated as `positive` or `negative` \n",
        "\n",
        "#### We can make the prediction if we know the `posterior class probabilities`.\n",
        "\n",
        "#### $p(\\text{class}|\\text{tokens})$,\n",
        "#### where $\\text{class}$ is either `positive` or `negative`, and $\\text{tokens}$ is the list of tokens that appear in the review.\n",
        "#### [Bayes' Theorem](https://en.wikipedia.org/wiki/Bayes%27_theorem) tells us that the posterior probabilities, the likelihoods and the priors are related this way:\n",
        "\n",
        "#### $p(\\text{class}|\\text{tokens}) \\propto p(\\text{tokens}|\\text{class})\\cdot p(\\text{class})$\n",
        "\n",
        "#### Now the tokens are not independent of one another.  For example, 'go' often appears with 'to', so if 'go' appears in a review it is more likely that the review also contains 'to'. Nevertheless, assuming the tokens are independent allows us to simplify things, so we recklessly do it, hoping it's not too wrong!\n",
        "#### $p(\\text{tokens}|\\text{class}) = \\prod_{i=1}^{n} p(t_{i}|\\text{class})$\n",
        "\n",
        "#### where $t_{i}$ is the $i\\text{th}$ token in the vocabulary and $n$ is the number of tokens in the vocabulary. \n",
        "\n",
        "#### So Bayes' theorem is\n",
        "\n",
        "#### $p(\\text{class}|\\text{tokens}) \\propto p(\\text{class}) \\prod_{i=1}^{n} p(t_{i}|\\text{class}) $\n",
        "\n",
        "#### Taking the ratio of the $\\textbf{posterior class probabilities}$ for the `positive` and `negative` classes, we have\n",
        "\n",
        "#### $\\frac{p(+|\\text{tokens})}{p( - |\\text{tokens})} =  \\frac{p(+)}{p( - )}  \\cdot  \\prod_{i=1}^{n} \\frac {p(t_{i}|+)}  {p(t_{i}| - )} = \\frac{p}{q}  \\cdot  \\prod_{i=1}^{n} \\frac {L(t_{i}|+)}  {L(t_{i}| - )}$\n",
        "#### since likelihoods are proportional to probabilities.\n",
        "#### Taking the log of both sides converts this to a `linear` problem:\n",
        "#### $\\text{log} \\frac{p(+|\\text{tokens})}{p( - |\\text{tokens})} = \\text{log}\\frac{p}{q} + \\sum_{i=1}^{n} \\text{log} \\frac {L(t_{i}|+)}  {L(t_{i}| - )} = b + \\sum_{i=1}^{n}  R_{t_{i}}$\n",
        "\n",
        "#### The first term on the right-hand side is the `bias`, and the second term is the dot product of the *binarized* embedding vector and the log-count ratios\n",
        "\n",
        "#### If the left-hand side is greater than or equal to zero, we predict the review is `positive`, else we predict the review is `negative`. \n",
        "\n",
        "####  We can re-write the last equation in matrix form to generate a $m \\times 1$ boolean column vector $\\textbf{preds}$ of review predictions:\n",
        "\n",
        "#### $\\textbf{preds} = \\textbf{W} \\cdot \\textbf{R} + \\textbf{b}$\n",
        "#### where \n",
        "\n",
        "* $\\textbf{preds} \\equiv \\text{log} \\frac{p(+|\\text{tokens})}{p( - |\\text{tokens})}$\n",
        "* $\\textbf{W}$ is the $m\\times n$ `binarized document-term matrix`, whose rows are the binarized embedding vectors for the movie reviews - that is, if rows contains a positive term, it goes to a 1 and all the zeros stay as they are.\n",
        "* $\\textbf{R}$ is the $n\\times 1$ vector of `log-count ratios`  for the tokens, and \n",
        "* $\\textbf{b}$ is a $n\\times 1$ vector whose entries are the bias $b$\n",
        "\n",
        "\n",
        "#### The Naive Bayes model consists of the log-counts vector $\\textbf{R}$ and the bias $\\textbf{b}$"
      ]
    },
    {
      "cell_type": "markdown",
      "metadata": {
        "id": "2l42TbLVrxB0"
      },
      "source": [
        "### 9E. Implement our Naive Bayes Movie Review classifier\n",
        "#### and use it to predict labels for the training and validation sets of the IMDb_sample data."
      ]
    },
    {
      "cell_type": "code",
      "metadata": {
        "id": "QqiaQgJJrxB0",
        "colab": {
          "base_uri": "https://localhost:8080/"
        },
        "outputId": "c76a2d36-0865-4e7f-bdf1-659f374738ac"
      },
      "source": [
        "#.sign() Returns a new tensor with the signs of the elements of input.\n",
        "\n",
        "W = train_doc_term.sign()\n",
        "\n",
        "preds_train = (W @ R + b) > 0\n",
        "train_accuracy = (preds_train == y.items).mean()\n",
        "print(f'The prediction accuracy for the training set is {train_accuracy}')"
      ],
      "execution_count": 59,
      "outputs": [
        {
          "output_type": "stream",
          "text": [
            "The prediction accuracy for the training set is 0.90125\n"
          ],
          "name": "stdout"
        }
      ]
    },
    {
      "cell_type": "code",
      "metadata": {
        "id": "gjc9rBvNrxB1",
        "colab": {
          "base_uri": "https://localhost:8080/"
        },
        "outputId": "f591054f-448b-4b61-ccc1-793221846723"
      },
      "source": [
        "W = valid_doc_term.sign()\n",
        "preds_valid = (W @ R + b) > 0\n",
        "valid_accuracy = (preds_valid == valid_y.items).mean()\n",
        "print(f'The prediction accuracy for the validation set is {valid_accuracy}')"
      ],
      "execution_count": 60,
      "outputs": [
        {
          "output_type": "stream",
          "text": [
            "The prediction accuracy for the validation set is 0.675\n"
          ],
          "name": "stdout"
        }
      ]
    },
    {
      "cell_type": "markdown",
      "metadata": {
        "id": "86HGP004rxB1"
      },
      "source": [
        "### 9F. Summary: A recipe for the Naive Bayes  Classifier\n",
        "#### Here is a summary of our procedure for predicting labels with the Naive Bayes Classifier, starting with the training set `x` and the training labels `y`\n",
        "\n",
        "\n",
        "#### 1. Compute the token count vectors\n",
        "> C0 = np.squeeze(np.asarray(x[y.items==negative].sum(0))) <br> \n",
        "> C1 = np.squeeze(np.asarray(x[y.items==positive].sum(0))) <br> \n",
        "\n",
        "#### 2. Compute the token class likelihood vectors\n",
        "> L0 = (C0+1) / ((y.items==negative).sum() + 1) <br> \n",
        "> L1 = (C1+1) / ((y.items==positive).sum() + 1) <br> \n",
        "\n",
        "#### 3. Compute the log-count ratios vector\n",
        "> R = np.log(L1/L0)\n",
        "\n",
        "#### 4. Compute the bias term\n",
        "> b = np.log((y.items==positive).mean() / (y.items==negative).mean())\n",
        "\n",
        "#### 5. The Naive Bayes model consists of the log-counts vector $\\textbf{R}$ and the bias $\\textbf{b}$\n",
        "#### 6. Predict the movie review labels from a linear transformation of the log-count ratios vector:\n",
        "> preds = (W @ R + b) > 0, <br> \n",
        "> where the weights matrix W = valid_doc_term.sign() is the binarized `valid_doc_term matrix` whose rows are the binarized embedding vectors for the movie reviews for which you want to predict ratings.\n"
      ]
    },
    {
      "cell_type": "markdown",
      "metadata": {
        "id": "oGjKcqPBrxB1"
      },
      "source": [
        "## 10. Working with the full IMDb data set"
      ]
    },
    {
      "cell_type": "markdown",
      "metadata": {
        "id": "RgWJaZQrrxB1"
      },
      "source": [
        "Now that we have our approach working on a smaller sample of the data, we can try using it on the full dataset. She mentioned 25k reviews in both train and valid sets."
      ]
    },
    {
      "cell_type": "markdown",
      "metadata": {
        "id": "Zj4XODXXrxB1"
      },
      "source": [
        "### 10A. Download the data"
      ]
    },
    {
      "cell_type": "code",
      "metadata": {
        "id": "iakD9G2hrxB2",
        "colab": {
          "base_uri": "https://localhost:8080/",
          "height": 169
        },
        "outputId": "05b4560d-2e85-4c43-c34d-750238c79e17"
      },
      "source": [
        "path = untar_data(URLs.IMDB)\n",
        "path.ls()"
      ],
      "execution_count": 7,
      "outputs": [
        {
          "output_type": "stream",
          "text": [
            "Downloading https://s3.amazonaws.com/fast-ai-nlp/imdb.tgz\n"
          ],
          "name": "stdout"
        },
        {
          "output_type": "display_data",
          "data": {
            "text/html": [
              ""
            ],
            "text/plain": [
              "<IPython.core.display.HTML object>"
            ]
          },
          "metadata": {
            "tags": []
          }
        },
        {
          "output_type": "execute_result",
          "data": {
            "text/plain": [
              "[PosixPath('/root/.fastai/data/imdb/test'),\n",
              " PosixPath('/root/.fastai/data/imdb/train'),\n",
              " PosixPath('/root/.fastai/data/imdb/tmp_clas'),\n",
              " PosixPath('/root/.fastai/data/imdb/unsup'),\n",
              " PosixPath('/root/.fastai/data/imdb/README'),\n",
              " PosixPath('/root/.fastai/data/imdb/imdb.vocab'),\n",
              " PosixPath('/root/.fastai/data/imdb/tmp_lm')]"
            ]
          },
          "metadata": {
            "tags": []
          },
          "execution_count": 7
        }
      ]
    },
    {
      "cell_type": "code",
      "metadata": {
        "id": "Zr6otdchrxB2",
        "colab": {
          "base_uri": "https://localhost:8080/"
        },
        "outputId": "dcb658ce-b1de-4bfa-f56d-446781049acb"
      },
      "source": [
        "(path/'train').ls()"
      ],
      "execution_count": 8,
      "outputs": [
        {
          "output_type": "execute_result",
          "data": {
            "text/plain": [
              "[PosixPath('/root/.fastai/data/imdb/train/unsupBow.feat'),\n",
              " PosixPath('/root/.fastai/data/imdb/train/pos'),\n",
              " PosixPath('/root/.fastai/data/imdb/train/neg'),\n",
              " PosixPath('/root/.fastai/data/imdb/train/labeledBow.feat')]"
            ]
          },
          "metadata": {
            "tags": []
          },
          "execution_count": 8
        }
      ]
    },
    {
      "cell_type": "markdown",
      "metadata": {
        "id": "tSuPEtZ8rxB2"
      },
      "source": [
        "### 10B. Preprocess the data"
      ]
    },
    {
      "cell_type": "markdown",
      "metadata": {
        "id": "kq70eFxXrxB3"
      },
      "source": [
        "#### Attempt to split and label the data fails most of the time, throwing a `BrokenProcessPool`  error; we apply a `brute force` approach, trying repeatedly until we succeed. Takes 10 minutes if it goes on the first try."
      ]
    },
    {
      "cell_type": "code",
      "metadata": {
        "id": "xvjM_p_orxB3",
        "colab": {
          "base_uri": "https://localhost:8080/",
          "height": 151
        },
        "outputId": "cbf27190-0a0a-4d07-9a03-653d3e9384fd"
      },
      "source": [
        "%%time\n",
        "# throws `BrokenProcessPool' Error sometimes. Keep trying `till it works!\n",
        "count = 0\n",
        "error = True\n",
        "while error:\n",
        "    try: \n",
        "        # Preprocessing steps\n",
        "        reviews_full = (TextList.from_folder(path)\n",
        "             #  Make a `TextList` object that is a list of `WindowsPath` objects, \n",
        "             #     each of which contains the full path to one of the data files.\n",
        "             .split_by_folder(valid='test')\n",
        "             # Generate a `LabelLists` object that splits files by training and validation folders\n",
        "             # Note: .label_from_folder in next line causes the `BrokenProcessPool` error\n",
        "             .label_from_folder(classes=['neg', 'pos']))\n",
        "             # Create a `CategoryLists` object which contains the data and\n",
        "             #   its labels that are derived from folder names\n",
        "        error = False\n",
        "        print(f'failure count is {count}\\n')    \n",
        "    except: # catch *all* exceptions\n",
        "        # accumulate failure count\n",
        "        count = count + 1\n",
        "        print(f'failure count is {count}')\n"
      ],
      "execution_count": 9,
      "outputs": [
        {
          "output_type": "display_data",
          "data": {
            "text/html": [
              ""
            ],
            "text/plain": [
              "<IPython.core.display.HTML object>"
            ]
          },
          "metadata": {
            "tags": []
          }
        },
        {
          "output_type": "stream",
          "text": [
            "/usr/local/lib/python3.6/dist-packages/fastai/core.py:302: VisibleDeprecationWarning: Creating an ndarray from ragged nested sequences (which is a list-or-tuple of lists-or-tuples-or ndarrays with different lengths or shapes) is deprecated. If you meant to do this, you must specify 'dtype=object' when creating the ndarray\n",
            "  return np.array(a, dtype=dtype, **kwargs)\n"
          ],
          "name": "stderr"
        },
        {
          "output_type": "display_data",
          "data": {
            "text/html": [
              ""
            ],
            "text/plain": [
              "<IPython.core.display.HTML object>"
            ]
          },
          "metadata": {
            "tags": []
          }
        },
        {
          "output_type": "stream",
          "text": [
            "failure count is 0\n",
            "\n",
            "CPU times: user 9.6 s, sys: 1.7 s, total: 11.3 s\n",
            "Wall time: 1min 36s\n"
          ],
          "name": "stdout"
        }
      ]
    },
    {
      "cell_type": "markdown",
      "metadata": {
        "id": "-FtQE36trxB4"
      },
      "source": [
        "### 10C. Create document-term matrices for training and validation sets. \n",
        "#### This takes about ~4 sec per matrix"
      ]
    },
    {
      "cell_type": "code",
      "metadata": {
        "id": "jCDdBEhQrxB4",
        "colab": {
          "base_uri": "https://localhost:8080/"
        },
        "outputId": "b7fa28df-9001-40d3-95c2-2aeee02b03d6"
      },
      "source": [
        "%%time\n",
        "valid_doc_term = get_doc_term_matrix(reviews_full.valid.x, len(reviews_full.vocab.itos))"
      ],
      "execution_count": 10,
      "outputs": [
        {
          "output_type": "stream",
          "text": [
            "CPU times: user 4.45 s, sys: 73.3 ms, total: 4.52 s\n",
            "Wall time: 4.52 s\n"
          ],
          "name": "stdout"
        }
      ]
    },
    {
      "cell_type": "code",
      "metadata": {
        "scrolled": true,
        "id": "ihDTj9MUrxB4",
        "colab": {
          "base_uri": "https://localhost:8080/"
        },
        "outputId": "a1f060ce-d7a9-4532-bcd1-fc0e6a917dd8"
      },
      "source": [
        "%%time\n",
        "train_doc_term = get_doc_term_matrix(reviews_full.train.x, len(reviews_full.vocab.itos))"
      ],
      "execution_count": 11,
      "outputs": [
        {
          "output_type": "stream",
          "text": [
            "CPU times: user 4.57 s, sys: 35 ms, total: 4.6 s\n",
            "Wall time: 4.61 s\n"
          ],
          "name": "stdout"
        }
      ]
    },
    {
      "cell_type": "markdown",
      "metadata": {
        "id": "NFh8k_yxrxB4"
      },
      "source": [
        "### 10D. Save the data\n",
        "When storing data like this, always make sure it's included in your `.gitignore` file"
      ]
    },
    {
      "cell_type": "code",
      "metadata": {
        "id": "XV7yoB_brxB4"
      },
      "source": [
        "scipy.sparse.save_npz(\"train_doc_term.npz\", train_doc_term)"
      ],
      "execution_count": 66,
      "outputs": []
    },
    {
      "cell_type": "code",
      "metadata": {
        "id": "zPVnFlq5rxB5"
      },
      "source": [
        "scipy.sparse.save_npz(\"valid_doc_term.npz\", valid_doc_term)"
      ],
      "execution_count": 67,
      "outputs": []
    },
    {
      "cell_type": "code",
      "metadata": {
        "id": "90FhgeJcrxB5"
      },
      "source": [
        "with open('reviews_full.pickle', 'wb') as handle:\n",
        "    pickle.dump(reviews_full, handle, protocol=pickle.HIGHEST_PROTOCOL)"
      ],
      "execution_count": 68,
      "outputs": []
    },
    {
      "cell_type": "markdown",
      "metadata": {
        "id": "cMnV3p0hrxB5"
      },
      "source": [
        "#### In the future, we'll just be able to load our data:"
      ]
    },
    {
      "cell_type": "code",
      "metadata": {
        "id": "DiGHbkVsrxB5"
      },
      "source": [
        "train_doc_term = scipy.sparse.load_npz(\"train_doc_term.npz\")\n",
        "valid_doc_term = scipy.sparse.load_npz(\"valid_doc_term.npz\")"
      ],
      "execution_count": 69,
      "outputs": []
    },
    {
      "cell_type": "code",
      "metadata": {
        "id": "seLyhx8SrxB5"
      },
      "source": [
        "with open('reviews_full.pickle', 'rb') as handle:\n",
        "    pickle.load(handle)"
      ],
      "execution_count": 70,
      "outputs": []
    },
    {
      "cell_type": "markdown",
      "metadata": {
        "id": "li5u_tCSrxB6"
      },
      "source": [
        "## 11. Understanding Fastai's API$^\\dagger$ for text data sets <br>\n",
        "$^\\dagger$API $\\equiv$ Application Programming Interface"
      ]
    },
    {
      "cell_type": "markdown",
      "metadata": {
        "id": "-TflxLbNrxB6"
      },
      "source": [
        "#### reviews_full is a `LabelLists` object, which contains `LabelList` objects `train`, `valid` and potentially `test`"
      ]
    },
    {
      "cell_type": "code",
      "metadata": {
        "id": "KU89gc0ArxB6",
        "colab": {
          "base_uri": "https://localhost:8080/"
        },
        "outputId": "ff584965-653e-4ad6-894a-3eb850ea5180"
      },
      "source": [
        "type(reviews_full)"
      ],
      "execution_count": 80,
      "outputs": [
        {
          "output_type": "execute_result",
          "data": {
            "text/plain": [
              "fastai.data_block.LabelLists"
            ]
          },
          "metadata": {
            "tags": []
          },
          "execution_count": 80
        }
      ]
    },
    {
      "cell_type": "code",
      "metadata": {
        "id": "kgTJUIlDrxB6",
        "colab": {
          "base_uri": "https://localhost:8080/"
        },
        "outputId": "b9aaf782-9020-4913-a487-a5c2c75c83db"
      },
      "source": [
        "type(reviews_full.valid)"
      ],
      "execution_count": 81,
      "outputs": [
        {
          "output_type": "execute_result",
          "data": {
            "text/plain": [
              "fastai.data_block.LabelList"
            ]
          },
          "metadata": {
            "tags": []
          },
          "execution_count": 81
        }
      ]
    },
    {
      "cell_type": "markdown",
      "metadata": {
        "id": "SjGODlsirxB7"
      },
      "source": [
        "#### reviews_full also contains the `vocab` object though it is not shown with the dir() command. This is an error."
      ]
    },
    {
      "cell_type": "code",
      "metadata": {
        "id": "y_7OoPBdrxB7",
        "colab": {
          "base_uri": "https://localhost:8080/"
        },
        "outputId": "8bf6660f-bdfc-403b-857d-d84a2a6890bb"
      },
      "source": [
        "print(reviews_full.vocab)"
      ],
      "execution_count": 82,
      "outputs": [
        {
          "output_type": "stream",
          "text": [
            "<fastai.text.transform.Vocab object at 0x7fda2460c6a0>\n"
          ],
          "name": "stdout"
        }
      ]
    },
    {
      "cell_type": "markdown",
      "metadata": {
        "id": "Km5eySv7rxB7"
      },
      "source": [
        "#### We will store the `vocabulary` in a variable `full_vocab`"
      ]
    },
    {
      "cell_type": "code",
      "metadata": {
        "id": "5URJDjxcrxB7"
      },
      "source": [
        "full_vocab = reviews_full.vocab"
      ],
      "execution_count": 83,
      "outputs": []
    },
    {
      "cell_type": "markdown",
      "metadata": {
        "id": "TW761MIhrxB7"
      },
      "source": [
        "#### Recall that a `vocab` object has a method `itos` which returns a list of tokens"
      ]
    },
    {
      "cell_type": "code",
      "metadata": {
        "scrolled": true,
        "id": "PYd94p7XrxB8",
        "colab": {
          "base_uri": "https://localhost:8080/"
        },
        "outputId": "23831b27-259c-4cbf-8e20-db652e1a5bbb"
      },
      "source": [
        "full_vocab.itos[100:110]"
      ],
      "execution_count": 84,
      "outputs": [
        {
          "output_type": "execute_result",
          "data": {
            "text/plain": [
              "['people',\n",
              " 'bad',\n",
              " 'will',\n",
              " 'other',\n",
              " 'also',\n",
              " 'into',\n",
              " 'first',\n",
              " 'great',\n",
              " 'because',\n",
              " 'how']"
            ]
          },
          "metadata": {
            "tags": []
          },
          "execution_count": 84
        }
      ]
    },
    {
      "cell_type": "markdown",
      "metadata": {
        "id": "qDt59cYVrxB8"
      },
      "source": [
        "#### A LabelList object contains a `TextList` object `x` and a `CategoryList` object `y` "
      ]
    },
    {
      "cell_type": "code",
      "metadata": {
        "id": "Oi4uA7AgrxB8",
        "colab": {
          "base_uri": "https://localhost:8080/"
        },
        "outputId": "00aaf08b-35b7-4df3-c11c-ef6f01b9e791"
      },
      "source": [
        "reviews_full.valid"
      ],
      "execution_count": 85,
      "outputs": [
        {
          "output_type": "execute_result",
          "data": {
            "text/plain": [
              "LabelList (25000 items)\n",
              "x: TextList\n",
              "xxbos xxmaj the hurried approach that xxmaj lewis xxmaj xxunk takes with xxmaj king of the xxmaj underworld establishes a deeper plot , while still maintaining an efficient run - time . xxmaj one of the xxunk examples of this is the transition between poverty and wealth for the married medical couple . xxmaj the audience is instantly transported from a shanty medical office to a luxurious suite at the city 's most prestigious inn . xxmaj this development is critical to understanding the position the doctors have been thrown into . xxmaj the story suggests from the intro that these two people are generally happy with providing medical practice to those who are less fortunate . xxmaj by abruptly cutting from this scenario to the morally conflicting occupation ( the mob 's personal physician ) , the viewer is called upon to experience this sudden turn of events . xxmaj the xxmaj xxunk ( xxmaj kay xxmaj francis and xxmaj john xxmaj xxunk ) are forcibly employed by xxmaj gurney ( xxmaj bogart ) without objections . xxmaj this stylized notion of organized crime being too influential and powerful to overcome has become a standard component in every gangster picture . xxmaj the one aspect of this film that raised some questions for me , ironically dealt with the pacing of the story , and that rate at which it was told . i think that character development and social identity can suffer when certain aspects of a story are not fully examined . xxmaj this paradox happens to be a result of personal taste , in that i think that the movie going experience can be enhanced through rigorous character development . xxmaj however , for the purposes of this film , i must admit that the rapid action contributes more dynamic flare to the impact of the film . \n",
              " \n",
              "  * * 1 / 2 ( of xxrep 4 * ),xxbos xxmaj this is an account of events that have been covered in print several times , and i had read two books - ' a xxmaj voyage for xxmaj madmen ' and ' xxmaj the xxmaj strange xxmaj last xxmaj voyage of xxmaj donald xxmaj xxunk ' before seeing the film in xxmaj sheffield just before xxmaj christmas . i must say , it exceeded all expectations in its telling of the 1968 xxmaj sunday xxmaj times xxmaj golden xxmaj globe yacht race . xxmaj these men set out to do something that had never been done before with no support vessels , wooden boats , no satellite phones , no xxup xxunk , and just their wits and skill to get them round the globe in one piece . xxmaj not to mention the months of solitude , the thundering southern ocean , little sleep , and boats that were often literally falling apart around them . \n",
              " \n",
              "  xxmaj this documentary is excellently put together in my opinion , tightly edited , well paced with superb narration . xxmaj the archive footage and the interviews are fascinating and bring the story to life . xxmaj clare xxmaj xxunk 's interview footage is especially revealing and moving as she relates the events that led up to her husband , xxmaj donald xxmaj xxunk 's departure from xxmaj xxunk , the doubts and fears in his mind and her reaction as subsequent events unfolded . \n",
              " \n",
              "  i was moved and had even shed a tear or two by the time the credits started rolling , and overheard other people expressing similar feelings . \n",
              " \n",
              "  xxmaj the two books i mentioned above are useful for more detail and back - story which could n't have been fitted into the 90 minutes and i would recommend those too . \n",
              " \n",
              "  xxmaj this is ultimately a true story of human courage and human frailty . a must see for anyone interested in sailing , adventure , human endeavour and real - life heroes .,xxbos i just took my 11 year old daughter and 8 year old son to this movie and i ca n't remember a movie where i laughed xxup so hard -- literal out loud , deep bursts of laughter because this movie is hilarious . xxmaj granted the story line is predictable but the ride is so extremely enjoyable it does n't matter that you know how it 's going to end . xxmaj the actors ' comedic senses of timing were impeccable . xxmaj the actors were perfectly cast . xxmaj my children mentioned that xxmaj amanda xxmaj bynes seems to be the last of the young women actresses who are n't ruining their lives . xxmaj she is so refreshing . xxmaj my children said this is now their favorite movie of 2006 . xxmaj our money was well spent on this movie .,xxbos xxmaj caddyshack 2 has a dreadful reputation , due only to the fact that it is a sequel to a highly - held classic . xxmaj people have criticised the film on a lot of grounds , but they all ultimately hark back to the fact that this is not xxmaj caddyshack . \n",
              " \n",
              "  i would begin by saying that we should just take xxmaj caddyshack out of the equation and consider this film on its own merits , but i think that would be unfair . xxmaj the movie does have a lot in common with its predecessor . xxmaj the class - related themes of ' snobs versus slobs ' and the desire to fit in to a class above your own are as prevalent here as they were in the first movie . xxmaj the two things that are truly lacking here are xxmaj bill xxmaj murray and xxmaj rodney xxmaj dangerfield , who are replaced with xxmaj dan xxmaj ackroyd and xxmaj jackie xxmaj mason respectively . \n",
              " \n",
              "  xxmaj now i am not about to try and argue that xxmaj ackroyd comes close to xxmaj murray in the movie , but xxmaj jackie xxmaj mason is an admirable successor to xxmaj dangerfield . xxmaj he comes off as a cross between xxmaj dangerfield and xxmaj arnold xxmaj xxunk , but without biting too heavily on either . i would n't say that he is anywhere close to being as funny as xxmaj dangerfield is in xxmaj caddyshack , but there is a whole lot more point to his character and his dilemma in the film . \n",
              " \n",
              "  xxmaj chevy xxmaj chase only pops up and handful of times in the movie , which is another common complaint . xxmaj maybe these particular naysayers did n't notice that he only popped up a few times in the first movie . xxmaj for my money , his scenes here are a lot funnier , if somewhat over - directed . \n",
              " \n",
              "  xxmaj while i 'm on the subject , it is really the over - direction of this movie that brings it down . xxmaj it comes across as far more self - conscious in its attempts to get a laugh . xxmaj many of the jokes are laboured and there 's far too much of the xxmaj gopher , who seems to have taken on a far more anthropomorphic personality and a voice , just in case we did n't grasp the idea that its meant to be funny . \n",
              " \n",
              "  xxmaj characters are similarly hammered home , particularly the smarmy xxunk kids . xxmaj jackie xxmaj mason rarely misses a beat , and is consistently likable and very funny , but we did n't need the tango sequence at all ! xxmaj the director is clearly not of the same school of thought as xxmaj harold xxmaj ramis . xxmaj not to suggest that xxmaj caddyshack was subtle , but the jokes here are just a little overcooked , and most of them are unnecessarily embellished with a quirky music cue . \n",
              " \n",
              "  xxmaj all things considered , this is a fun , goofy movie with something to say about class and identity that very few movies at the time were saying . xxmaj do n't be put off by the appallingly low rating on imdb , check it out for yourself .,xxbos xxmaj might contain spoilers . \n",
              " \n",
              "  xxmaj this is just a good movie . xxmaj lots of good silly stuff to laugh at . xxmaj however , do not watch the xxup tv version , they cut to much out . xxmaj dom xxmaj deluise is rather awesome as the mafia xxmaj don who is hired to kill xxmaj robin . xxmaj all i can say about his ten minutes : it 's a long drive from xxmaj jersey . xxmaj also you got ta love them checking the script to make sure xxmaj robin gets another shot . xxmaj also : 12th xxmaj century xxmaj fox . \n",
              " \n",
              "  xxmaj any bad stuff ? xxmaj the rappers at the beginning and the end seem rather out dated . xxmaj the songs were rather lame . xxmaj one time while watching this movie , i could think out a few more times when they could have thrown in another joke or 2 . \n",
              " \n",
              "  xxmaj on the whole , however , an enjoyable movie experience . a must watch for comedy fans .\n",
              "y: CategoryList\n",
              "pos,pos,pos,pos,pos\n",
              "Path: /root/.fastai/data/imdb"
            ]
          },
          "metadata": {
            "tags": []
          },
          "execution_count": 85
        }
      ]
    },
    {
      "cell_type": "markdown",
      "metadata": {
        "id": "wacmGytFrxB8"
      },
      "source": [
        "#### A `TextList` object is a list of `Text` objects containing the reviews as items"
      ]
    },
    {
      "cell_type": "code",
      "metadata": {
        "id": "F7vH9URXrxB8",
        "colab": {
          "base_uri": "https://localhost:8080/"
        },
        "outputId": "3b51c569-e3ad-4d2a-d495-691809bc1407"
      },
      "source": [
        "type(reviews_full.valid.x[0])"
      ],
      "execution_count": 86,
      "outputs": [
        {
          "output_type": "execute_result",
          "data": {
            "text/plain": [
              "fastai.text.data.Text"
            ]
          },
          "metadata": {
            "tags": []
          },
          "execution_count": 86
        }
      ]
    },
    {
      "cell_type": "markdown",
      "metadata": {
        "id": "t_XDcHP6rxB9"
      },
      "source": [
        "#### A `Text` object has properties \n",
        "#### `text`, which is a `str` containing the review text:"
      ]
    },
    {
      "cell_type": "code",
      "metadata": {
        "id": "ZHVvYLWfrxB9",
        "colab": {
          "base_uri": "https://localhost:8080/",
          "height": 132
        },
        "outputId": "a9b22226-20a9-4485-bfd8-79b390896614"
      },
      "source": [
        "reviews_full.valid.x[0].text"
      ],
      "execution_count": 87,
      "outputs": [
        {
          "output_type": "execute_result",
          "data": {
            "application/vnd.google.colaboratory.intrinsic+json": {
              "type": "string"
            },
            "text/plain": [
              "\"xxbos xxmaj the hurried approach that xxmaj lewis xxmaj xxunk takes with xxmaj king of the xxmaj underworld establishes a deeper plot , while still maintaining an efficient run - time . xxmaj one of the xxunk examples of this is the transition between poverty and wealth for the married medical couple . xxmaj the audience is instantly transported from a shanty medical office to a luxurious suite at the city 's most prestigious inn . xxmaj this development is critical to understanding the position the doctors have been thrown into . xxmaj the story suggests from the intro that these two people are generally happy with providing medical practice to those who are less fortunate . xxmaj by abruptly cutting from this scenario to the morally conflicting occupation ( the mob 's personal physician ) , the viewer is called upon to experience this sudden turn of events . xxmaj the xxmaj xxunk ( xxmaj kay xxmaj francis and xxmaj john xxmaj xxunk ) are forcibly employed by xxmaj gurney ( xxmaj bogart ) without objections . xxmaj this stylized notion of organized crime being too influential and powerful to overcome has become a standard component in every gangster picture . xxmaj the one aspect of this film that raised some questions for me , ironically dealt with the pacing of the story , and that rate at which it was told . i think that character development and social identity can suffer when certain aspects of a story are not fully examined . xxmaj this paradox happens to be a result of personal taste , in that i think that the movie going experience can be enhanced through rigorous character development . xxmaj however , for the purposes of this film , i must admit that the rapid action contributes more dynamic flare to the impact of the film . \\n \\n  * * 1 / 2 ( of xxrep 4 * )\""
            ]
          },
          "metadata": {
            "tags": []
          },
          "execution_count": 87
        }
      ]
    },
    {
      "cell_type": "markdown",
      "metadata": {
        "id": "amGvFcuarxB9"
      },
      "source": [
        "####  and  `data`,  which is an array of integers representing the tokens in the review:"
      ]
    },
    {
      "cell_type": "code",
      "metadata": {
        "id": "vrcjGep1rxB9",
        "colab": {
          "base_uri": "https://localhost:8080/"
        },
        "outputId": "c9b6ecc9-13ef-4e2f-bf9c-5c3c582c59e5"
      },
      "source": [
        "reviews_full.valid.x[0].data"
      ],
      "execution_count": 88,
      "outputs": [
        {
          "output_type": "execute_result",
          "data": {
            "text/plain": [
              "array([    2,     5,     9, 19315, ...,     7,   235,   195,    33])"
            ]
          },
          "metadata": {
            "tags": []
          },
          "execution_count": 88
        }
      ]
    },
    {
      "cell_type": "markdown",
      "metadata": {
        "id": "5uqABK-trxB9"
      },
      "source": [
        "#### A `Text` object also has a method `.items` which returns the integer array representations for all the reviews"
      ]
    },
    {
      "cell_type": "code",
      "metadata": {
        "id": "47cSlDWFrxB9",
        "colab": {
          "base_uri": "https://localhost:8080/"
        },
        "outputId": "5c3aeff4-5097-4dc9-8dbc-e04c779d8f46"
      },
      "source": [
        "reviews_full.valid.x.items"
      ],
      "execution_count": 89,
      "outputs": [
        {
          "output_type": "execute_result",
          "data": {
            "text/plain": [
              "array([array([    2,     5,     9, 19315, ...,     7,   235,   195,    33]),\n",
              "       array([   2,    5,   20,   16, ...,   24,  131, 1702,   10]),\n",
              "       array([  2,  19,  58, 576, ...,  34,  20,  30,  10]),\n",
              "       array([    2,     5, 29987,   272, ...,    63,    28,   636,    10]), ...,\n",
              "       array([   2,    5,  121, 1267, ...,   11,   19,   73,   10]),\n",
              "       array([   2,    5,   20,   26, ...,  211,    5, 1651,   10]),\n",
              "       array([   2,    5,  101, 1644, ...,   18,   20,   30,   10]),\n",
              "       array([    2,     5,    20,    32, ...,    10, 19702,   322,    10])], dtype=object)"
            ]
          },
          "metadata": {
            "tags": []
          },
          "execution_count": 89
        }
      ]
    },
    {
      "cell_type": "markdown",
      "metadata": {
        "id": "S2zRLaQVrxB-"
      },
      "source": [
        "#### Review labels are stored as a `CategoryList` object"
      ]
    },
    {
      "cell_type": "code",
      "metadata": {
        "id": "5h-UiaPTrxB-",
        "colab": {
          "base_uri": "https://localhost:8080/"
        },
        "outputId": "17e6e588-4ba2-45b0-8d11-f3f27dc0a903"
      },
      "source": [
        "type(reviews_full.valid.y)"
      ],
      "execution_count": 90,
      "outputs": [
        {
          "output_type": "execute_result",
          "data": {
            "text/plain": [
              "fastai.data_block.CategoryList"
            ]
          },
          "metadata": {
            "tags": []
          },
          "execution_count": 90
        }
      ]
    },
    {
      "cell_type": "markdown",
      "metadata": {
        "id": "6IKde0B-rxB-"
      },
      "source": [
        "#### A `CategoryList` object is a list of `Category` objects"
      ]
    },
    {
      "cell_type": "code",
      "metadata": {
        "id": "sz9e0SCJrxB-",
        "colab": {
          "base_uri": "https://localhost:8080/"
        },
        "outputId": "ba71387f-7652-4fa0-e340-c742018969dc"
      },
      "source": [
        "type(reviews_full.valid.y[0])"
      ],
      "execution_count": 91,
      "outputs": [
        {
          "output_type": "execute_result",
          "data": {
            "text/plain": [
              "fastai.core.Category"
            ]
          },
          "metadata": {
            "tags": []
          },
          "execution_count": 91
        }
      ]
    },
    {
      "cell_type": "code",
      "metadata": {
        "id": "xhsUmQSrrxB-",
        "colab": {
          "base_uri": "https://localhost:8080/"
        },
        "outputId": "ba421097-063f-4c93-acc4-f4045917a074"
      },
      "source": [
        "reviews_full.valid.y[0]"
      ],
      "execution_count": 92,
      "outputs": [
        {
          "output_type": "execute_result",
          "data": {
            "text/plain": [
              "Category 1"
            ]
          },
          "metadata": {
            "tags": []
          },
          "execution_count": 92
        }
      ]
    },
    {
      "cell_type": "markdown",
      "metadata": {
        "id": "23ZlFv3SrxB_"
      },
      "source": [
        "#### A `Category` object also has a method `.items` which returns an array of integers labels for all the reviews"
      ]
    },
    {
      "cell_type": "code",
      "metadata": {
        "id": "YQagG3sNrxB_",
        "colab": {
          "base_uri": "https://localhost:8080/"
        },
        "outputId": "1efdb782-8aed-49d7-f64f-50a54b99551e"
      },
      "source": [
        "reviews_full.valid.y.items"
      ],
      "execution_count": 93,
      "outputs": [
        {
          "output_type": "execute_result",
          "data": {
            "text/plain": [
              "array([1, 1, 1, 1, ..., 0, 0, 0, 0])"
            ]
          },
          "metadata": {
            "tags": []
          },
          "execution_count": 93
        }
      ]
    },
    {
      "cell_type": "markdown",
      "metadata": {
        "id": "bDruu4zyrxB_"
      },
      "source": [
        "#### The label of the first review seems right"
      ]
    },
    {
      "cell_type": "code",
      "metadata": {
        "id": "yRflwB-rrxB_",
        "colab": {
          "base_uri": "https://localhost:8080/"
        },
        "outputId": "2224141c-a240-456c-ba13-ec5530740f75"
      },
      "source": [
        "reviews_full.valid.y[0]"
      ],
      "execution_count": 94,
      "outputs": [
        {
          "output_type": "execute_result",
          "data": {
            "text/plain": [
              "Category 1"
            ]
          },
          "metadata": {
            "tags": []
          },
          "execution_count": 94
        }
      ]
    },
    {
      "cell_type": "markdown",
      "metadata": {
        "id": "d110jIaorxB_"
      },
      "source": [
        "#### Names of classes\n",
        "\n",
        "Class 0 negative, class 1 positive"
      ]
    },
    {
      "cell_type": "code",
      "metadata": {
        "id": "ys4xk1zjrxCA",
        "colab": {
          "base_uri": "https://localhost:8080/"
        },
        "outputId": "08146777-f956-4f94-e5b0-f7e0d36facfe"
      },
      "source": [
        "reviews_full.valid.y.classes"
      ],
      "execution_count": 95,
      "outputs": [
        {
          "output_type": "execute_result",
          "data": {
            "text/plain": [
              "['neg', 'pos']"
            ]
          },
          "metadata": {
            "tags": []
          },
          "execution_count": 95
        }
      ]
    },
    {
      "cell_type": "markdown",
      "metadata": {
        "id": "KgteY4RdrxCA"
      },
      "source": [
        "#### Number of classes"
      ]
    },
    {
      "cell_type": "code",
      "metadata": {
        "id": "w1nvdSb4rxCA",
        "colab": {
          "base_uri": "https://localhost:8080/"
        },
        "outputId": "59e0e57f-97da-4674-d40a-6393029fba59"
      },
      "source": [
        "reviews_full.valid.y.c"
      ],
      "execution_count": 96,
      "outputs": [
        {
          "output_type": "execute_result",
          "data": {
            "text/plain": [
              "2"
            ]
          },
          "metadata": {
            "tags": []
          },
          "execution_count": 96
        }
      ]
    },
    {
      "cell_type": "markdown",
      "metadata": {
        "id": "0oZfhsU4rxCA"
      },
      "source": [
        "#### The classes have both integer rand string representations:"
      ]
    },
    {
      "cell_type": "code",
      "metadata": {
        "id": "k3tpKEmPrxCA",
        "colab": {
          "base_uri": "https://localhost:8080/"
        },
        "outputId": "d18fb1c7-5108-42fb-adca-8c66fb9c5ba5"
      },
      "source": [
        "reviews_full.valid.y.c2i"
      ],
      "execution_count": 97,
      "outputs": [
        {
          "output_type": "execute_result",
          "data": {
            "text/plain": [
              "{'neg': 0, 'pos': 1}"
            ]
          },
          "metadata": {
            "tags": []
          },
          "execution_count": 97
        }
      ]
    },
    {
      "cell_type": "code",
      "metadata": {
        "id": "-cpjxe3qrxCA",
        "colab": {
          "base_uri": "https://localhost:8080/"
        },
        "outputId": "7ab71218-da4d-421e-8aa6-f6b11629d146"
      },
      "source": [
        "reviews_full.valid.y[0].data"
      ],
      "execution_count": 98,
      "outputs": [
        {
          "output_type": "execute_result",
          "data": {
            "text/plain": [
              "1"
            ]
          },
          "metadata": {
            "tags": []
          },
          "execution_count": 98
        }
      ]
    },
    {
      "cell_type": "code",
      "metadata": {
        "id": "84rPgmO1rxCB",
        "colab": {
          "base_uri": "https://localhost:8080/",
          "height": 37
        },
        "outputId": "af2377a2-6c9a-4fa5-eeb2-4bf501773716"
      },
      "source": [
        "reviews_full.valid.y[0].obj"
      ],
      "execution_count": 99,
      "outputs": [
        {
          "output_type": "execute_result",
          "data": {
            "application/vnd.google.colaboratory.intrinsic+json": {
              "type": "string"
            },
            "text/plain": [
              "'pos'"
            ]
          },
          "metadata": {
            "tags": []
          },
          "execution_count": 99
        }
      ]
    },
    {
      "cell_type": "markdown",
      "metadata": {
        "id": "j9z5KHlIrxCB"
      },
      "source": [
        "#### The training and validation data sets each have 25000 samples"
      ]
    },
    {
      "cell_type": "code",
      "metadata": {
        "id": "OYkPeWGRrxCB",
        "outputId": "d41e1a7a-cc1b-4eda-a727-5e68a28d6c22"
      },
      "source": [
        "len(reviews_full.train), len(reviews_full.valid)"
      ],
      "execution_count": null,
      "outputs": [
        {
          "output_type": "execute_result",
          "data": {
            "text/plain": [
              "(25000, 25000)"
            ]
          },
          "metadata": {
            "tags": []
          },
          "execution_count": 108
        }
      ]
    },
    {
      "cell_type": "markdown",
      "metadata": {
        "id": "eDf3GGh5rxCB"
      },
      "source": [
        "## 12. The Naive Bayes classifier with the full IMDb dataset"
      ]
    },
    {
      "cell_type": "code",
      "metadata": {
        "id": "yj5U9qE3rxCB"
      },
      "source": [
        "x=train_doc_term\n",
        "y=reviews_full.train.y\n",
        "valid_y = reviews_full.valid.y.items"
      ],
      "execution_count": 12,
      "outputs": []
    },
    {
      "cell_type": "code",
      "metadata": {
        "id": "e-Ik4AqtrxCC",
        "colab": {
          "base_uri": "https://localhost:8080/"
        },
        "outputId": "6ad5903a-ce69-416e-ffad-1e9d9ec0794a"
      },
      "source": [
        "x"
      ],
      "execution_count": 72,
      "outputs": [
        {
          "output_type": "execute_result",
          "data": {
            "text/plain": [
              "<25000x38440 sparse matrix of type '<class 'numpy.int64'>'\n",
              "\twith 3716349 stored elements in Compressed Sparse Row format>"
            ]
          },
          "metadata": {
            "tags": []
          },
          "execution_count": 72
        }
      ]
    },
    {
      "cell_type": "code",
      "metadata": {
        "id": "nXoiEyJorxCC"
      },
      "source": [
        "#c2i converts a class to an integer\n",
        "positive = y.c2i['pos']\n",
        "negative = y.c2i['neg']"
      ],
      "execution_count": 13,
      "outputs": []
    },
    {
      "cell_type": "code",
      "metadata": {
        "id": "2h_mvDvxrxCC"
      },
      "source": [
        "C0 = np.squeeze(np.asarray(x[y.items==negative].sum(0)))\n",
        "C1 = np.squeeze(np.asarray(x[y.items==positive].sum(0)))"
      ],
      "execution_count": 14,
      "outputs": []
    },
    {
      "cell_type": "code",
      "metadata": {
        "id": "T0_4BEJGrxCC",
        "colab": {
          "base_uri": "https://localhost:8080/"
        },
        "outputId": "577ba4d1-1322-4718-c16e-79fd0d53edb0"
      },
      "source": [
        "C0"
      ],
      "execution_count": 15,
      "outputs": [
        {
          "output_type": "execute_result",
          "data": {
            "text/plain": [
              "array([26553,     0, 12500,     0, ...,     0,     0,     0,     0], dtype=int64)"
            ]
          },
          "metadata": {
            "tags": []
          },
          "execution_count": 15
        }
      ]
    },
    {
      "cell_type": "code",
      "metadata": {
        "id": "Xz7miH-8rxCC",
        "colab": {
          "base_uri": "https://localhost:8080/"
        },
        "outputId": "5677bc25-d23b-42ad-bf71-6bf2b0f7da3d"
      },
      "source": [
        "C1"
      ],
      "execution_count": 76,
      "outputs": [
        {
          "output_type": "execute_result",
          "data": {
            "text/plain": [
              "array([28357,     0, 12500,     0, ...,     0,     0,     0,     0], dtype=int64)"
            ]
          },
          "metadata": {
            "tags": []
          },
          "execution_count": 76
        }
      ]
    },
    {
      "cell_type": "markdown",
      "metadata": {
        "id": "ybwluQWXrxCD"
      },
      "source": [
        "### 12A. Data exploration: log-count ratios"
      ]
    },
    {
      "cell_type": "markdown",
      "metadata": {
        "id": "gjC_fC7KrxCD"
      },
      "source": [
        "#### Token likelihoods conditioned on class"
      ]
    },
    {
      "cell_type": "code",
      "metadata": {
        "id": "0VeNCsXIrxCD"
      },
      "source": [
        "L1 = (C1+1) / ((y.items==positive).sum() + 1)\n",
        "L0 = (C0+1) / ((y.items==negative).sum() + 1)"
      ],
      "execution_count": 16,
      "outputs": []
    },
    {
      "cell_type": "markdown",
      "metadata": {
        "id": "7WElIWMJrxCD"
      },
      "source": [
        "#### log-count ratios"
      ]
    },
    {
      "cell_type": "code",
      "metadata": {
        "id": "GFzod16wrxCD"
      },
      "source": [
        "R = np.log(L1/L0)"
      ],
      "execution_count": 17,
      "outputs": []
    },
    {
      "cell_type": "markdown",
      "metadata": {
        "id": "2Hr83pZmrxCD"
      },
      "source": [
        "#### Examples of log-count ratios for a few words\n",
        "Check that log-count ratios are negative for words with `negative` sentiment and positive for words with `positive` sentiment! \n",
        "\n",
        "People in negative reviews can be sarcastic and say like and love in a negative way."
      ]
    },
    {
      "cell_type": "code",
      "metadata": {
        "id": "BBnRnNwHrxCD",
        "colab": {
          "base_uri": "https://localhost:8080/"
        },
        "outputId": "f4f26861-54d1-4a74-e504-28ed8f1d8d76"
      },
      "source": [
        "R[full_vocab.stoi['hated']]"
      ],
      "execution_count": 100,
      "outputs": [
        {
          "output_type": "execute_result",
          "data": {
            "text/plain": [
              "-0.7133498878774648"
            ]
          },
          "metadata": {
            "tags": []
          },
          "execution_count": 100
        }
      ]
    },
    {
      "cell_type": "code",
      "metadata": {
        "colab": {
          "base_uri": "https://localhost:8080/"
        },
        "id": "tgHVXybu5DWx",
        "outputId": "62e452f2-82aa-4c6a-e703-afc2287e6ec2"
      },
      "source": [
        "R[full_vocab.stoi['xxup']]"
      ],
      "execution_count": 106,
      "outputs": [
        {
          "output_type": "execute_result",
          "data": {
            "text/plain": [
              "-0.18510319975583134"
            ]
          },
          "metadata": {
            "tags": []
          },
          "execution_count": 106
        }
      ]
    },
    {
      "cell_type": "code",
      "metadata": {
        "colab": {
          "base_uri": "https://localhost:8080/"
        },
        "id": "nS4YiZVn-m3j",
        "outputId": "4a2c3f68-f672-43eb-ab28-a8d9c5675237"
      },
      "source": [
        "R[full_vocab.stoi['xxmaj']]"
      ],
      "execution_count": 108,
      "outputs": [
        {
          "output_type": "execute_result",
          "data": {
            "text/plain": [
              "0.17422636142134196"
            ]
          },
          "metadata": {
            "tags": []
          },
          "execution_count": 108
        }
      ]
    },
    {
      "cell_type": "code",
      "metadata": {
        "colab": {
          "base_uri": "https://localhost:8080/"
        },
        "id": "UlgjeKhn-0Ju",
        "outputId": "68e18d3b-9671-4d96-e05a-76814e346422"
      },
      "source": [
        "R[full_vocab.stoi['not']]"
      ],
      "execution_count": 110,
      "outputs": [
        {
          "output_type": "execute_result",
          "data": {
            "text/plain": [
              "-0.13909781903042737"
            ]
          },
          "metadata": {
            "tags": []
          },
          "execution_count": 110
        }
      ]
    },
    {
      "cell_type": "code",
      "metadata": {
        "colab": {
          "base_uri": "https://localhost:8080/"
        },
        "id": "6e9K4g3k_Ttu",
        "outputId": "044359d0-9de8-4f1f-b007-bf5ef9e08021"
      },
      "source": [
        "R[full_vocab.stoi['/s']]"
      ],
      "execution_count": 113,
      "outputs": [
        {
          "output_type": "execute_result",
          "data": {
            "text/plain": [
              "0.06572878184165593"
            ]
          },
          "metadata": {
            "tags": []
          },
          "execution_count": 113
        }
      ]
    },
    {
      "cell_type": "code",
      "metadata": {
        "colab": {
          "base_uri": "https://localhost:8080/"
        },
        "id": "jpC8EsLFCelT",
        "outputId": "3a957403-076d-4097-c4e8-7828b401c79d"
      },
      "source": [
        "R[full_vocab.stoi['emotional']]"
      ],
      "execution_count": 114,
      "outputs": [
        {
          "output_type": "execute_result",
          "data": {
            "text/plain": [
              "0.736782116456815"
            ]
          },
          "metadata": {
            "tags": []
          },
          "execution_count": 114
        }
      ]
    },
    {
      "cell_type": "code",
      "metadata": {
        "colab": {
          "base_uri": "https://localhost:8080/"
        },
        "id": "lOkD_cLmCgkU",
        "outputId": "3b9efec4-e6dc-4698-803c-afe73510a321"
      },
      "source": [
        "R[full_vocab.stoi['emotion']]"
      ],
      "execution_count": 115,
      "outputs": [
        {
          "output_type": "execute_result",
          "data": {
            "text/plain": [
              "0.22767870647960098"
            ]
          },
          "metadata": {
            "tags": []
          },
          "execution_count": 115
        }
      ]
    },
    {
      "cell_type": "code",
      "metadata": {
        "colab": {
          "base_uri": "https://localhost:8080/"
        },
        "id": "zSEY-_knC2Po",
        "outputId": "149a974b-d3ee-464b-ddc5-930cf88639a0"
      },
      "source": [
        "R[full_vocab.stoi['negative']]"
      ],
      "execution_count": 116,
      "outputs": [
        {
          "output_type": "execute_result",
          "data": {
            "text/plain": [
              "0.11311480443783156"
            ]
          },
          "metadata": {
            "tags": []
          },
          "execution_count": 116
        }
      ]
    },
    {
      "cell_type": "code",
      "metadata": {
        "colab": {
          "base_uri": "https://localhost:8080/"
        },
        "id": "GBHEtElGC4KF",
        "outputId": "c3ce5e42-9975-4fa9-a37a-afe7d08cbc6b"
      },
      "source": [
        "R[full_vocab.stoi['positive']]"
      ],
      "execution_count": 117,
      "outputs": [
        {
          "output_type": "execute_result",
          "data": {
            "text/plain": [
              "-0.5573456394008836"
            ]
          },
          "metadata": {
            "tags": []
          },
          "execution_count": 117
        }
      ]
    },
    {
      "cell_type": "code",
      "metadata": {
        "id": "1XOaX8ZZrxCE",
        "colab": {
          "base_uri": "https://localhost:8080/"
        },
        "outputId": "17eac45f-3e89-41d2-ee16-52c4a77464d0"
      },
      "source": [
        "R[full_vocab.stoi['loved']]"
      ],
      "execution_count": 107,
      "outputs": [
        {
          "output_type": "execute_result",
          "data": {
            "text/plain": [
              "1.1563661500586044"
            ]
          },
          "metadata": {
            "tags": []
          },
          "execution_count": 107
        }
      ]
    },
    {
      "cell_type": "code",
      "metadata": {
        "id": "LAbtD-6grxCE",
        "outputId": "7b8ffa3a-8662-4f13-9c68-5dde7c97732f"
      },
      "source": [
        "R[full_vocab.stoi['liked']]"
      ],
      "execution_count": null,
      "outputs": [
        {
          "output_type": "execute_result",
          "data": {
            "text/plain": [
              "0.4418327522790391"
            ]
          },
          "metadata": {
            "tags": []
          },
          "execution_count": 119
        }
      ]
    },
    {
      "cell_type": "code",
      "metadata": {
        "id": "Z0BSXdmXrxCE",
        "outputId": "04b3d03e-46c8-465c-9e41-e1012785a42d"
      },
      "source": [
        "R[full_vocab.stoi['worst']]"
      ],
      "execution_count": null,
      "outputs": [
        {
          "output_type": "execute_result",
          "data": {
            "text/plain": [
              "-2.2826243504315076"
            ]
          },
          "metadata": {
            "tags": []
          },
          "execution_count": 120
        }
      ]
    },
    {
      "cell_type": "code",
      "metadata": {
        "id": "B2DqA5ECrxCF",
        "outputId": "97ca7957-a786-44b0-d565-2c135904e677"
      },
      "source": [
        "R[full_vocab.stoi['best']]"
      ],
      "execution_count": null,
      "outputs": [
        {
          "output_type": "execute_result",
          "data": {
            "text/plain": [
              "0.7225576052173609"
            ]
          },
          "metadata": {
            "tags": []
          },
          "execution_count": 121
        }
      ]
    },
    {
      "cell_type": "code",
      "metadata": {
        "colab": {
          "base_uri": "https://localhost:8080/",
          "height": 189
        },
        "id": "Ip76_vTNGcqo",
        "outputId": "f461b8bf-f9c6-4d14-ecfb-5f47a236793e"
      },
      "source": [
        "index = full_vocab.stoi['positive']\n",
        "a = np.argwhere((x[:,index] > 0))[:,0]\n",
        "print(a)\n",
        "b = np.argwhere(y.items==negative)[:,0]\n",
        "print(b)\n",
        "c = list(set(a).intersection(set(b)))[0]\n",
        "print(c)\n",
        "review = reviews_full.train.x[c]\n",
        "review.text"
      ],
      "execution_count": 120,
      "outputs": [
        {
          "output_type": "stream",
          "text": [
            "[   35    56    95   128 ... 24852 24854 24931 24939]\n",
            "[12500 12501 12502 12503 ... 24996 24997 24998 24999]\n",
            "14341\n"
          ],
          "name": "stdout"
        },
        {
          "output_type": "execute_result",
          "data": {
            "application/vnd.google.colaboratory.intrinsic+json": {
              "type": "string"
            },
            "text/plain": [
              "\"xxbos xxmaj this is pretty much the first xxmaj jason xxmaj scott xxmaj lee film i 've seen . i say pretty much , because i have also seen xxmaj soldier , in which he plays the villain ... but from what i 've heard , it 's not considered a xxmaj jason xxmaj scott xxmaj lee film . xxmaj this , however , is . xxmaj and if this is any indication of the quality of such films , i wo n't be seeing any of the others . xxmaj lee is basically passable as a martial arts artist ... as the lead , he 's awful . xxmaj he gets in a fight with random no - name characters every few minutes of the film , probably because the script writer could n't figure out how else to stretch out the film to the minimum required running time for a feature film . xxmaj the villain is the only character with even a hint of personality , and aside from the fact that he 's certifiably insane , he barely seems like a villain at all . xxmaj the majority of the film is basically xxmaj lee chasing the villain through time ... or maybe it 's the other way around . i ca n't say for sure ... and i definitely would n't watch it again to make sure . xxmaj the effects are not completely horrible ... but it 's close . xxmaj the title comes from the popular idea of using a time - machine to go and kill xxmaj hitler . xxmaj somehow , the film screws up that interesting idea as well . xxmaj the plot is too complicated for its own good . xxmaj the pacing is poor . i ca n't think of one positive thing to say about this film ... i really ca n't . xxmaj it 's simply too formulaic and pointless . xxmaj if only i had a time - machine , so i could go back and prevent this film from ever being made ... no , never mind . i just hope as few fragile minds are exposed to this as possible . xxmaj listen to the negative reviewers . xxmaj avoid this turkey . i recommend this to fans of xxmaj lee , and no one else . xxmaj if you 're looking for a quality film ... well , this is n't it . xxmaj that 's for sure . 1 / 10\""
            ]
          },
          "metadata": {
            "tags": []
          },
          "execution_count": 120
        }
      ]
    },
    {
      "cell_type": "code",
      "metadata": {
        "colab": {
          "base_uri": "https://localhost:8080/"
        },
        "id": "bsJEjnj4Hc4m",
        "outputId": "0b8e7377-487a-461c-f992-e5f6824114ce"
      },
      "source": [
        "print(a)"
      ],
      "execution_count": 122,
      "outputs": [
        {
          "output_type": "stream",
          "text": [
            "[   35    56    95   128 ... 24852 24854 24931 24939]\n"
          ],
          "name": "stdout"
        }
      ]
    },
    {
      "cell_type": "code",
      "metadata": {
        "colab": {
          "base_uri": "https://localhost:8080/",
          "height": 113
        },
        "id": "I7Zw8PfiHBj7",
        "outputId": "f8e69192-38a7-4777-cb1f-95da6b9ad5a9"
      },
      "source": [
        "review = reviews_full.train.x[24852]\n",
        "review.text"
      ],
      "execution_count": 123,
      "outputs": [
        {
          "output_type": "execute_result",
          "data": {
            "application/vnd.google.colaboratory.intrinsic+json": {
              "type": "string"
            },
            "text/plain": [
              "\"xxbos xxmaj this movie was like a bad train wreck , as horrible as it was , you still had to continue to watch . xxmaj my boyfriend and i rented it and wasted two hours of our day . xxmaj now do n't get me wrong , the acting is good . xxmaj just the movie as a whole just enraged both of us . xxmaj there was n't anything positive or good about this scenario . xxmaj after this movie , i had to go rent something else that was a little lighter . xxmaj jennifer xxmaj tilly is as usual a very dramatic actress . xxmaj her character seems manic and not all there . xxmaj darryl xxmaj hannah , though over played , she does a wonderful job playing out the situation she is in . xxmaj more than once i found myself yelling at the xxup tv telling her to fight back or to get violent . xxmaj all in all , very violent movie ... not for the faint of heart .\""
            ]
          },
          "metadata": {
            "tags": []
          },
          "execution_count": 123
        }
      ]
    },
    {
      "cell_type": "markdown",
      "metadata": {
        "id": "3hPMEGqerxCF"
      },
      "source": [
        "#### Since we have equal numbers of positive and negative reviews in this data set, the `bias` $b$ is 0."
      ]
    },
    {
      "cell_type": "code",
      "metadata": {
        "id": "fAvr5LoRrxCF",
        "colab": {
          "base_uri": "https://localhost:8080/"
        },
        "outputId": "b01d9ab3-63d6-4cc4-c2c0-d69fa54710c8"
      },
      "source": [
        "b = np.log((y.items==positive).mean() / (y.items==negative).mean())\n",
        "print(f'The bias term b is {b}')"
      ],
      "execution_count": 19,
      "outputs": [
        {
          "output_type": "stream",
          "text": [
            "The bias term b is 0.0\n"
          ],
          "name": "stdout"
        }
      ]
    },
    {
      "cell_type": "markdown",
      "metadata": {
        "id": "KU3v01OVrxCF"
      },
      "source": [
        "### 12B. Predictions of the Naive Bayes Classifier for the full IMDb data set.\n",
        "#### We get much better accuracy this time, because of the larger training set.\n",
        "\n",
        "What we have actually used here is binarized Naive Bayes (we've only cared whether a word was in the review or not, rather than the frequency of the word within the review). Mentioned 30 mins into Video 5. The binarized version had higher accuracy in this case but she said it's not clear which version is better in general."
      ]
    },
    {
      "cell_type": "code",
      "metadata": {
        "id": "LGxp_3ROrxCF",
        "colab": {
          "base_uri": "https://localhost:8080/"
        },
        "outputId": "af6f25d7-4872-4fbb-af4a-b74a13a5e767"
      },
      "source": [
        "# predict labels for the validation data\n",
        "W = valid_doc_term.sign()\n",
        "preds = (W @ R + b) > 0\n",
        "valid_accuracy = (preds == valid_y).mean()\n",
        "print(f'Validation accuracy is {valid_accuracy} for the full data set')"
      ],
      "execution_count": 20,
      "outputs": [
        {
          "output_type": "stream",
          "text": [
            "Validation accuracy is 0.83304 for the full data set\n"
          ],
          "name": "stdout"
        }
      ]
    },
    {
      "cell_type": "code",
      "metadata": {
        "colab": {
          "base_uri": "https://localhost:8080/"
        },
        "id": "RR9k8pKL0qmT",
        "outputId": "facb60de-41b3-42b2-aad3-aea8cc41aa60"
      },
      "source": [
        "W.todense()[:10,:10]"
      ],
      "execution_count": 21,
      "outputs": [
        {
          "output_type": "execute_result",
          "data": {
            "text/plain": [
              "matrix([[1, 0, 1, 0, ..., 0, 1, 0, 1],\n",
              "        [1, 0, 1, 0, ..., 1, 0, 0, 1],\n",
              "        [1, 0, 1, 0, ..., 1, 0, 0, 1],\n",
              "        [0, 0, 1, 0, ..., 0, 0, 0, 1],\n",
              "        ...,\n",
              "        [1, 0, 1, 0, ..., 0, 0, 0, 1],\n",
              "        [1, 0, 1, 0, ..., 0, 0, 0, 1],\n",
              "        [0, 0, 1, 0, ..., 0, 0, 0, 1],\n",
              "        [1, 0, 1, 0, ..., 0, 0, 0, 1]])"
            ]
          },
          "metadata": {
            "tags": []
          },
          "execution_count": 21
        }
      ]
    },
    {
      "cell_type": "markdown",
      "metadata": {
        "id": "aKQMLHoCrxCG"
      },
      "source": [
        "## 13. The Logistic Regression classifier with the full IMBb data set"
      ]
    },
    {
      "cell_type": "markdown",
      "metadata": {
        "id": "eWPADlcCrxCG"
      },
      "source": [
        "#### With the `sci-kit learn` library, we can fit logistic a regression model where the features are the unigrams. Here $C$ is a regularization parameter."
      ]
    },
    {
      "cell_type": "code",
      "metadata": {
        "id": "TJKtwAQrrxCG"
      },
      "source": [
        "from sklearn.linear_model import LogisticRegression"
      ],
      "execution_count": 22,
      "outputs": []
    },
    {
      "cell_type": "markdown",
      "metadata": {
        "id": "HudU4eNSrxCG"
      },
      "source": [
        "#### Using the full `document-term matrix`:"
      ]
    },
    {
      "cell_type": "code",
      "metadata": {
        "id": "_p_RJZ0trxCG",
        "colab": {
          "base_uri": "https://localhost:8080/"
        },
        "outputId": "15498268-42c5-4435-9bfe-14b3cdc1f216"
      },
      "source": [
        "m = LogisticRegression(C=0.1, dual=False,solver = 'liblinear')\n",
        "# 'liblinear' and 'newton-cg' solvers both get 0.88328 accuracy\n",
        "# 'sag', 'saga', and 'lbfgs' don't converge\n",
        "# Note below how y values have to be converted to integers\n",
        "m.fit(train_doc_term, y.items.astype(int))\n",
        "preds = m.predict(valid_doc_term)\n",
        "valid_accuracy = (preds==valid_y).mean()\n",
        "print(f'Validation accuracy is {valid_accuracy} using the full doc-term matrix')"
      ],
      "execution_count": 23,
      "outputs": [
        {
          "output_type": "stream",
          "text": [
            "Validation accuracy is 0.88316 using the full doc-term matrix\n"
          ],
          "name": "stdout"
        }
      ]
    },
    {
      "cell_type": "markdown",
      "metadata": {
        "id": "44Gi1lmdrxCH"
      },
      "source": [
        "#### Using the binarized `document-term` matrix gets a slightly higher accuracy:"
      ]
    },
    {
      "cell_type": "code",
      "metadata": {
        "id": "wCNCmTekrxCH",
        "outputId": "22812035-e223-4de4-a941-46ca5adfa4ac"
      },
      "source": [
        "m = LogisticRegression(C=0.1, dual=False,solver = 'liblinear')\n",
        "m.fit(train_doc_term.sign(), y.items.astype(int))\n",
        "preds = m.predict(valid_doc_term.sign())\n",
        "valid_accuracy = (preds==valid_y).mean()\n",
        "print(f'Validation accuracy is {valid_accuracy} using the binarized doc-term matrix')"
      ],
      "execution_count": null,
      "outputs": [
        {
          "output_type": "stream",
          "text": [
            "Validation accuracy is 0.88532 using the binarized doc-term matrix\n"
          ],
          "name": "stdout"
        }
      ]
    },
    {
      "cell_type": "markdown",
      "metadata": {
        "id": "zqCRk-c7rxCH"
      },
      "source": [
        "## 14. `Trigram` representation of the `IMDb_sample`: preprocessing"
      ]
    },
    {
      "cell_type": "markdown",
      "metadata": {
        "id": "8wgNLcY8rxCH"
      },
      "source": [
        "#### Our next model is a version of logistic regression with Naive Bayes features extended to include bigrams and trigrams as well as unigrams, described [here](https://www.aclweb.org/anthology/P12-2018). For every document we compute binarized features as described above, but this time we use bigrams and trigrams too. Each feature is a log-count ratio. A logistic regression model is then trained to predict sentiment. Because of the much larger number of features, we will return to the smaller `IMDb_sample` data set."
      ]
    },
    {
      "cell_type": "markdown",
      "metadata": {
        "id": "aqvoWb8ArxCH"
      },
      "source": [
        "### What are `ngrams`?"
      ]
    },
    {
      "cell_type": "markdown",
      "metadata": {
        "id": "RmaHkj6JrxCH"
      },
      "source": [
        "#### An `n-gram` is a contiguous sequence of n items (where the items can be characters, syllables, or words).  A `1-gram` is a `unigram`, a `2-gram` is a `bigram`, and a `3-gram` is a `trigram`.\n",
        "\n",
        "#### Here, we are referring to sequences of words. So examples of bigrams include \"the dog\", \"said that\", and \"can't you\"."
      ]
    },
    {
      "cell_type": "markdown",
      "metadata": {
        "id": "KmN9TO4OrxCI"
      },
      "source": [
        "### 14A. Get the IMDb_sample"
      ]
    },
    {
      "cell_type": "code",
      "metadata": {
        "id": "lTe8ivrirxCI",
        "colab": {
          "base_uri": "https://localhost:8080/",
          "height": 36
        },
        "outputId": "4f8f82fd-e2bc-42ad-f6da-188ae684f862"
      },
      "source": [
        "path = untar_data(URLs.IMDB_SAMPLE)"
      ],
      "execution_count": 24,
      "outputs": [
        {
          "output_type": "stream",
          "text": [
            "Downloading http://files.fast.ai/data/examples/imdb_sample.tgz\n"
          ],
          "name": "stdout"
        },
        {
          "output_type": "display_data",
          "data": {
            "text/html": [
              ""
            ],
            "text/plain": [
              "<IPython.core.display.HTML object>"
            ]
          },
          "metadata": {
            "tags": []
          }
        }
      ]
    },
    {
      "cell_type": "markdown",
      "metadata": {
        "id": "npk1wg8jrxCI"
      },
      "source": [
        "####  Again we find that accessing the `TextList` API *sometimes* (about 50% of the time) throws a `BrokenProcessPool` Error. This is puzzling, I don't know why it happens. But usually works on 1st or 2nd try."
      ]
    },
    {
      "cell_type": "code",
      "metadata": {
        "id": "IRJrlMzSrxCI",
        "colab": {
          "base_uri": "https://localhost:8080/",
          "height": 151
        },
        "outputId": "5f08c706-e066-4bd0-c10d-978dbf4cc1f5"
      },
      "source": [
        "%%time\n",
        "# throws `BrokenProcessPool' Error sometimes. Keep trying `till it works!\n",
        "\n",
        "count = 0\n",
        "error = True\n",
        "while error:\n",
        "    try: \n",
        "        # Preprocessing steps\n",
        "        movie_reviews = (TextList.from_csv(path, 'texts.csv', cols='text')\n",
        "                .split_from_df(col=2)\n",
        "                .label_from_df(cols=0))\n",
        "\n",
        "        error = False\n",
        "        print(f'failure count is {count}\\n')    \n",
        "    except: # catch *all* exceptions\n",
        "        # accumulate failure count\n",
        "        count = count + 1\n",
        "        print(f'failure count is {count}')\n"
      ],
      "execution_count": 25,
      "outputs": [
        {
          "output_type": "display_data",
          "data": {
            "text/html": [
              ""
            ],
            "text/plain": [
              "<IPython.core.display.HTML object>"
            ]
          },
          "metadata": {
            "tags": []
          }
        },
        {
          "output_type": "stream",
          "text": [
            "/usr/local/lib/python3.6/dist-packages/fastai/core.py:302: VisibleDeprecationWarning: Creating an ndarray from ragged nested sequences (which is a list-or-tuple of lists-or-tuples-or ndarrays with different lengths or shapes) is deprecated. If you meant to do this, you must specify 'dtype=object' when creating the ndarray\n",
            "  return np.array(a, dtype=dtype, **kwargs)\n"
          ],
          "name": "stderr"
        },
        {
          "output_type": "display_data",
          "data": {
            "text/html": [
              ""
            ],
            "text/plain": [
              "<IPython.core.display.HTML object>"
            ]
          },
          "metadata": {
            "tags": []
          }
        },
        {
          "output_type": "stream",
          "text": [
            "failure count is 0\n",
            "\n",
            "CPU times: user 240 ms, sys: 337 ms, total: 576 ms\n",
            "Wall time: 3.96 s\n"
          ],
          "name": "stdout"
        }
      ]
    },
    {
      "cell_type": "markdown",
      "metadata": {
        "id": "rTWEembdrxCI"
      },
      "source": [
        "#### IMDb_sample vocabulary"
      ]
    },
    {
      "cell_type": "code",
      "metadata": {
        "id": "rZF0oGKSrxCJ",
        "colab": {
          "base_uri": "https://localhost:8080/"
        },
        "outputId": "e2112bf1-b666-4e9a-c843-4d02d4624cb9"
      },
      "source": [
        "vocab_sample = movie_reviews.vocab.itos\n",
        "vocab_len = len(vocab_sample)\n",
        "print(f'IMDb_sample vocabulary has {vocab_len} tokens')"
      ],
      "execution_count": 26,
      "outputs": [
        {
          "output_type": "stream",
          "text": [
            "IMDb_sample vocabulary has 6008 tokens\n"
          ],
          "name": "stdout"
        }
      ]
    },
    {
      "cell_type": "markdown",
      "metadata": {
        "id": "O0_ucUp6rxCJ"
      },
      "source": [
        "### 14B. Create the `ngram-doc matrix` for the training data"
      ]
    },
    {
      "cell_type": "markdown",
      "metadata": {
        "id": "S0Ioi7_jrxCK"
      },
      "source": [
        "#### Just as the `doc-term matrix` encodes the `token` features, the `ngram-doc matrix` encodes the `ngram` features."
      ]
    },
    {
      "cell_type": "code",
      "metadata": {
        "id": "QS1ogw1BrxCK"
      },
      "source": [
        "min_n=1\n",
        "max_n=3\n",
        "\n",
        "j_indices = []\n",
        "indptr = []\n",
        "values = []\n",
        "indptr.append(0)\n",
        "num_tokens = vocab_len\n",
        "\n",
        "itongram = dict()\n",
        "ngramtoi = dict()"
      ],
      "execution_count": 27,
      "outputs": []
    },
    {
      "cell_type": "markdown",
      "metadata": {
        "id": "B19dv-KirxCK"
      },
      "source": [
        "#### We will iterate through the sequences of words to create our n-grams. This takes several minutes:"
      ]
    },
    {
      "cell_type": "code",
      "metadata": {
        "id": "vw8VG9flrxCL",
        "colab": {
          "base_uri": "https://localhost:8080/"
        },
        "outputId": "48b1493a-8f91-4bef-8c57-3d19f1bc21b2"
      },
      "source": [
        "%%time\n",
        "for i, doc in enumerate(movie_reviews.train.x):\n",
        "    feature_counter = Counter(doc.data)\n",
        "    j_indices.extend(feature_counter.keys())\n",
        "    values.extend(feature_counter.values())\n",
        "    this_doc_ngrams = list()\n",
        "\n",
        "    m = 0\n",
        "    for n in range(min_n, max_n + 1): #n for ngram so n=1,2,3\n",
        "        for k in range(vocab_len - n + 1):\n",
        "            ngram = doc.data[k: k + n]\n",
        "            #so it looks like here, we are creating the stoi and itos dictionaries except not a string but an ngram.\n",
        "            #Dictionaries will have the 1 grams first, then the 2 grams and 3 grams.\n",
        "            if str(ngram) not in ngramtoi:\n",
        "                if len(ngram)==1:\n",
        "                    num = ngram[0]\n",
        "                    ngramtoi[str(ngram)] = num\n",
        "                    itongram[num] = ngram\n",
        "                else:\n",
        "                    ngramtoi[str(ngram)] = num_tokens\n",
        "                    itongram[num_tokens] = ngram\n",
        "                    num_tokens += 1\n",
        "            this_doc_ngrams.append(ngramtoi[str(ngram)])\n",
        "            m += 1\n",
        "\n",
        "    ngram_counter = Counter(this_doc_ngrams)\n",
        "    j_indices.extend(ngram_counter.keys())\n",
        "    values.extend(ngram_counter.values())\n",
        "    indptr.append(len(j_indices))"
      ],
      "execution_count": 28,
      "outputs": [
        {
          "output_type": "stream",
          "text": [
            "CPU times: user 2min 50s, sys: 179 ms, total: 2min 50s\n",
            "Wall time: 2min 50s\n"
          ],
          "name": "stdout"
        }
      ]
    },
    {
      "cell_type": "markdown",
      "metadata": {
        "id": "oT5JuWu4rxCL"
      },
      "source": [
        "#### Using dictionaries to convert between indices and strings (in this case, for n-grams) is a common and useful approach!  Here, we have created `itongram` (index to n-gram) and `ngramtoi` (n-gram to index) dictionaries. This takes a few minutes..."
      ]
    },
    {
      "cell_type": "code",
      "metadata": {
        "id": "AOox2aNhrxCL",
        "colab": {
          "base_uri": "https://localhost:8080/"
        },
        "outputId": "abf5e53b-2220-4783-f433-60e68b9c97d0"
      },
      "source": [
        "%%time\n",
        "train_ngram_doc_matrix = scipy.sparse.csr_matrix((values, j_indices, indptr),\n",
        "                                   shape=(len(indptr) - 1, len(ngramtoi)),\n",
        "                                   dtype=int)"
      ],
      "execution_count": 29,
      "outputs": [
        {
          "output_type": "stream",
          "text": [
            "CPU times: user 191 ms, sys: 0 ns, total: 191 ms\n",
            "Wall time: 192 ms\n"
          ],
          "name": "stdout"
        }
      ]
    },
    {
      "cell_type": "code",
      "metadata": {
        "id": "V_RLSYkhrxCM",
        "colab": {
          "base_uri": "https://localhost:8080/"
        },
        "outputId": "9c390d8b-6bb1-4837-f33f-762a56bfdf66"
      },
      "source": [
        "train_ngram_doc_matrix"
      ],
      "execution_count": 30,
      "outputs": [
        {
          "output_type": "execute_result",
          "data": {
            "text/plain": [
              "<800x260382 sparse matrix of type '<class 'numpy.int64'>'\n",
              "\twith 678912 stored elements in Compressed Sparse Row format>"
            ]
          },
          "metadata": {
            "tags": []
          },
          "execution_count": 30
        }
      ]
    },
    {
      "cell_type": "markdown",
      "metadata": {
        "id": "KIjxX-3TrxCM"
      },
      "source": [
        "### 14C. Examine some ngrams in the training data"
      ]
    },
    {
      "cell_type": "code",
      "metadata": {
        "id": "F1QVYtX2rxCM",
        "outputId": "32839725-1096-4524-b215-0dd8b235085c"
      },
      "source": [
        "len(ngramtoi), len(itongram)"
      ],
      "execution_count": null,
      "outputs": [
        {
          "output_type": "execute_result",
          "data": {
            "text/plain": [
              "(260402, 260402)"
            ]
          },
          "metadata": {
            "tags": []
          },
          "execution_count": 134
        }
      ]
    },
    {
      "cell_type": "code",
      "metadata": {
        "id": "qD8NapthrxCN",
        "outputId": "ca447f75-0864-4617-f0a9-36f611366bc5"
      },
      "source": [
        "itongram[20005]"
      ],
      "execution_count": null,
      "outputs": [
        {
          "output_type": "execute_result",
          "data": {
            "text/plain": [
              "array([125, 340,  10], dtype=int64)"
            ]
          },
          "metadata": {
            "tags": []
          },
          "execution_count": 135
        }
      ]
    },
    {
      "cell_type": "code",
      "metadata": {
        "id": "ctLP3Vl3rxCN",
        "outputId": "e8046f67-4546-4450-814b-bafe1644722c"
      },
      "source": [
        "ngramtoi[str(itongram[20005])]"
      ],
      "execution_count": null,
      "outputs": [
        {
          "output_type": "execute_result",
          "data": {
            "text/plain": [
              "20005"
            ]
          },
          "metadata": {
            "tags": []
          },
          "execution_count": 136
        }
      ]
    },
    {
      "cell_type": "code",
      "metadata": {
        "id": "KBZOhx2-rxCO",
        "outputId": "fd935897-0ec5-4a5f-bc83-a39b88e54427"
      },
      "source": [
        "vocab_sample[125],vocab_sample[340],vocab_sample[10], "
      ],
      "execution_count": null,
      "outputs": [
        {
          "output_type": "execute_result",
          "data": {
            "text/plain": [
              "('never', 'mind', '.')"
            ]
          },
          "metadata": {
            "tags": []
          },
          "execution_count": 137
        }
      ]
    },
    {
      "cell_type": "code",
      "metadata": {
        "id": "oXQpL2DMrxCO",
        "outputId": "a0d1219e-1ac8-4544-a353-713cfa185c6c"
      },
      "source": [
        "itongram[100000]"
      ],
      "execution_count": null,
      "outputs": [
        {
          "output_type": "execute_result",
          "data": {
            "text/plain": [
              "array([42, 49], dtype=int64)"
            ]
          },
          "metadata": {
            "tags": []
          },
          "execution_count": 138
        }
      ]
    },
    {
      "cell_type": "code",
      "metadata": {
        "id": "IBLq9uCWrxCO",
        "outputId": "0f20240d-6f13-4892-b855-8e7925a01d46"
      },
      "source": [
        "vocab_sample[42], vocab_sample[49]"
      ],
      "execution_count": null,
      "outputs": [
        {
          "output_type": "execute_result",
          "data": {
            "text/plain": [
              "('have', 'an')"
            ]
          },
          "metadata": {
            "tags": []
          },
          "execution_count": 139
        }
      ]
    },
    {
      "cell_type": "code",
      "metadata": {
        "id": "X3cV3hP7rxCP",
        "outputId": "421950b3-e63a-4915-d1fa-db7a5298ee80"
      },
      "source": [
        "itongram[100010]"
      ],
      "execution_count": null,
      "outputs": [
        {
          "output_type": "execute_result",
          "data": {
            "text/plain": [
              "array([ 38, 862], dtype=int64)"
            ]
          },
          "metadata": {
            "tags": []
          },
          "execution_count": 140
        }
      ]
    },
    {
      "cell_type": "code",
      "metadata": {
        "id": "PeSBuhD7rxCP",
        "outputId": "76fa1b89-9041-4ba2-8461-a6aa8c0009e4"
      },
      "source": [
        "vocab_sample[38], vocab_sample[862]"
      ],
      "execution_count": null,
      "outputs": [
        {
          "output_type": "execute_result",
          "data": {
            "text/plain": [
              "('are', 'within')"
            ]
          },
          "metadata": {
            "tags": []
          },
          "execution_count": 141
        }
      ]
    },
    {
      "cell_type": "code",
      "metadata": {
        "id": "YX_xBMmIrxCP",
        "outputId": "ff897205-e2de-4ad2-f535-a4e2b9c9c926"
      },
      "source": [
        "itongram[6116]"
      ],
      "execution_count": null,
      "outputs": [
        {
          "output_type": "execute_result",
          "data": {
            "text/plain": [
              "array([867,  52,   5], dtype=int64)"
            ]
          },
          "metadata": {
            "tags": []
          },
          "execution_count": 142
        }
      ]
    },
    {
      "cell_type": "code",
      "metadata": {
        "id": "eiDF1iDUrxCQ",
        "outputId": "1da2ba9c-3bc8-494d-acf4-3db700480e33"
      },
      "source": [
        "vocab_sample[867], vocab_sample[52], vocab_sample[5]"
      ],
      "execution_count": null,
      "outputs": [
        {
          "output_type": "execute_result",
          "data": {
            "text/plain": [
              "('believable', '!', 'xxmaj')"
            ]
          },
          "metadata": {
            "tags": []
          },
          "execution_count": 143
        }
      ]
    },
    {
      "cell_type": "code",
      "metadata": {
        "id": "ksgmrQPIrxCQ",
        "outputId": "7ee09e51-4196-4c54-c7ca-576fd1a5fe20"
      },
      "source": [
        "itongram[6119]"
      ],
      "execution_count": null,
      "outputs": [
        {
          "output_type": "execute_result",
          "data": {
            "text/plain": [
              "array([3776,    5, 1800], dtype=int64)"
            ]
          },
          "metadata": {
            "tags": []
          },
          "execution_count": 144
        }
      ]
    },
    {
      "cell_type": "code",
      "metadata": {
        "id": "AyWW8BMmrxCQ",
        "outputId": "521bb992-dc8f-47be-cfa0-8fb67dcc1bde"
      },
      "source": [
        "vocab_sample[3376], vocab_sample[5], vocab_sample[1800]"
      ],
      "execution_count": null,
      "outputs": [
        {
          "output_type": "execute_result",
          "data": {
            "text/plain": [
              "('parallel', 'xxmaj', 'ryan')"
            ]
          },
          "metadata": {
            "tags": []
          },
          "execution_count": 145
        }
      ]
    },
    {
      "cell_type": "code",
      "metadata": {
        "id": "hW01PbPjrxCR",
        "outputId": "52715adc-9613-405a-a0e5-02e080c37c78"
      },
      "source": [
        "itongram[80000]"
      ],
      "execution_count": null,
      "outputs": [
        {
          "output_type": "execute_result",
          "data": {
            "text/plain": [
              "array([   0, 1240,    0], dtype=int64)"
            ]
          },
          "metadata": {
            "tags": []
          },
          "execution_count": 146
        }
      ]
    },
    {
      "cell_type": "code",
      "metadata": {
        "id": "P4IS__2grxCR",
        "outputId": "07b1fe65-87d8-49ac-c672-e6d4b7a0c577"
      },
      "source": [
        "vocab_sample[0], vocab_sample[1240], vocab_sample[0]"
      ],
      "execution_count": null,
      "outputs": [
        {
          "output_type": "execute_result",
          "data": {
            "text/plain": [
              "('xxunk', 'involving', 'xxunk')"
            ]
          },
          "metadata": {
            "tags": []
          },
          "execution_count": 147
        }
      ]
    },
    {
      "cell_type": "markdown",
      "metadata": {
        "id": "NoYRHLhrrxCR"
      },
      "source": [
        "### 14D. Create the `ngram-doc matrix` for the validation data"
      ]
    },
    {
      "cell_type": "code",
      "metadata": {
        "id": "ma8_oEtRrxCR",
        "colab": {
          "base_uri": "https://localhost:8080/"
        },
        "outputId": "80fbb54e-c346-467d-a0eb-61cf8ac1ee0d"
      },
      "source": [
        "%%time\n",
        "j_indices = []\n",
        "indptr = []\n",
        "values = []\n",
        "indptr.append(0)\n",
        "\n",
        "for i, doc in enumerate(movie_reviews.valid.x):\n",
        "    feature_counter = Counter(doc.data)\n",
        "    j_indices.extend(feature_counter.keys())\n",
        "    values.extend(feature_counter.values())\n",
        "    this_doc_ngrams = list()\n",
        "\n",
        "    m = 0\n",
        "    for n in range(min_n, max_n + 1):\n",
        "        for k in range(vocab_len - n + 1):\n",
        "            ngram = doc.data[k: k + n]\n",
        "            if str(ngram) in ngramtoi:\n",
        "                this_doc_ngrams.append(ngramtoi[str(ngram)])\n",
        "            m += 1\n",
        "\n",
        "    ngram_counter = Counter(this_doc_ngrams)\n",
        "    j_indices.extend(ngram_counter.keys())\n",
        "    values.extend(ngram_counter.values())\n",
        "    indptr.append(len(j_indices))"
      ],
      "execution_count": 31,
      "outputs": [
        {
          "output_type": "stream",
          "text": [
            "CPU times: user 39.5 s, sys: 7.81 ms, total: 39.5 s\n",
            "Wall time: 39.6 s\n"
          ],
          "name": "stdout"
        }
      ]
    },
    {
      "cell_type": "code",
      "metadata": {
        "id": "3TZzWL4arxCS",
        "colab": {
          "base_uri": "https://localhost:8080/"
        },
        "outputId": "01b1100a-146a-42d1-92c1-d7ffdd2acc24"
      },
      "source": [
        "%%time\n",
        "valid_ngram_doc_matrix = scipy.sparse.csr_matrix((values, j_indices, indptr),\n",
        "                                   shape=(len(indptr) - 1, len(ngramtoi)),\n",
        "                                   dtype=int)"
      ],
      "execution_count": 32,
      "outputs": [
        {
          "output_type": "stream",
          "text": [
            "CPU times: user 41 ms, sys: 0 ns, total: 41 ms\n",
            "Wall time: 41 ms\n"
          ],
          "name": "stdout"
        }
      ]
    },
    {
      "cell_type": "code",
      "metadata": {
        "id": "cgiN_8WerxCS",
        "colab": {
          "base_uri": "https://localhost:8080/"
        },
        "outputId": "8142a94d-68cd-4a6d-f41d-8e9a6946d28b"
      },
      "source": [
        "valid_ngram_doc_matrix"
      ],
      "execution_count": 33,
      "outputs": [
        {
          "output_type": "execute_result",
          "data": {
            "text/plain": [
              "<200x260382 sparse matrix of type '<class 'numpy.int64'>'\n",
              "\twith 121600 stored elements in Compressed Sparse Row format>"
            ]
          },
          "metadata": {
            "tags": []
          },
          "execution_count": 33
        }
      ]
    },
    {
      "cell_type": "markdown",
      "metadata": {
        "id": "nmwPNIyirxCW"
      },
      "source": [
        "### 14E. Save the `ngram` data so we won't have to spend the time to generate it again"
      ]
    },
    {
      "cell_type": "code",
      "metadata": {
        "id": "y4qTV1mhrxCW"
      },
      "source": [
        "scipy.sparse.save_npz(\"train_ngram_matrix.npz\", train_ngram_doc_matrix)\n",
        "scipy.sparse.save_npz(\"valid_ngram_matrix.npz\", valid_ngram_doc_matrix)"
      ],
      "execution_count": null,
      "outputs": []
    },
    {
      "cell_type": "code",
      "metadata": {
        "id": "DBgWI5MXrxCX"
      },
      "source": [
        "with open('itongram.pickle', 'wb') as handle:\n",
        "    pickle.dump(itongram, handle, protocol=pickle.HIGHEST_PROTOCOL)\n",
        "    \n",
        "with open('ngramtoi.pickle', 'wb') as handle:\n",
        "    pickle.dump(ngramtoi, handle, protocol=pickle.HIGHEST_PROTOCOL)"
      ],
      "execution_count": null,
      "outputs": []
    },
    {
      "cell_type": "markdown",
      "metadata": {
        "heading_collapsed": true,
        "id": "0kiUvDfBrxCX"
      },
      "source": [
        "### 14F. Load the `ngram` data"
      ]
    },
    {
      "cell_type": "code",
      "metadata": {
        "hidden": true,
        "id": "o6tE1VMXrxCX"
      },
      "source": [
        "train_ngram_doc_matrix = scipy.sparse.load_npz(\"train_ngram_matrix.npz\")\n",
        "valid_ngram_doc_matrix = scipy.sparse.load_npz(\"valid_ngram_matrix.npz\")"
      ],
      "execution_count": null,
      "outputs": []
    },
    {
      "cell_type": "code",
      "metadata": {
        "hidden": true,
        "id": "uJ0kwROGrxCX"
      },
      "source": [
        "with open('itongram.pickle', 'rb') as handle:\n",
        "    b = pickle.load(handle)\n",
        "    \n",
        "with open('ngramtoi.pickle', 'rb') as handle:\n",
        "    b = pickle.load(handle)"
      ],
      "execution_count": null,
      "outputs": []
    },
    {
      "cell_type": "markdown",
      "metadata": {
        "id": "cbQ4yvMGrxCX"
      },
      "source": [
        "## 15. A Naive Bayes IMDb classifier using Trigrams instead of Tokens"
      ]
    },
    {
      "cell_type": "code",
      "metadata": {
        "id": "tzH8z-V0rxCY",
        "colab": {
          "base_uri": "https://localhost:8080/"
        },
        "outputId": "11686771-c62d-4e96-e840-7d02e2bd0697"
      },
      "source": [
        "x=train_ngram_doc_matrix\n",
        "x"
      ],
      "execution_count": 34,
      "outputs": [
        {
          "output_type": "execute_result",
          "data": {
            "text/plain": [
              "<800x260382 sparse matrix of type '<class 'numpy.int64'>'\n",
              "\twith 678912 stored elements in Compressed Sparse Row format>"
            ]
          },
          "metadata": {
            "tags": []
          },
          "execution_count": 34
        }
      ]
    },
    {
      "cell_type": "code",
      "metadata": {
        "id": "ybaihyabrxCY",
        "colab": {
          "base_uri": "https://localhost:8080/"
        },
        "outputId": "19e90946-8247-40cd-fdc7-e771100f546f"
      },
      "source": [
        "k = x.shape[1]\n",
        "print(f'There are {k} 1-gram, 2-gram, and 3-gram features in the IMDb_sample vocabulary')"
      ],
      "execution_count": 35,
      "outputs": [
        {
          "output_type": "stream",
          "text": [
            "There are 260382 1-gram, 2-gram, and 3-gram features in the IMDb_sample vocabulary\n"
          ],
          "name": "stdout"
        }
      ]
    },
    {
      "cell_type": "code",
      "metadata": {
        "id": "hBWrLSKPrxCY",
        "colab": {
          "base_uri": "https://localhost:8080/"
        },
        "outputId": "ae24d739-7d41-4b93-85ae-edfc942aca0e"
      },
      "source": [
        "y=movie_reviews.train.y\n",
        "y.items\n",
        "y.items.shape"
      ],
      "execution_count": 36,
      "outputs": [
        {
          "output_type": "execute_result",
          "data": {
            "text/plain": [
              "(800,)"
            ]
          },
          "metadata": {
            "tags": []
          },
          "execution_count": 36
        }
      ]
    },
    {
      "cell_type": "markdown",
      "metadata": {
        "id": "VEyGz4n2rxCY"
      },
      "source": [
        "#### Numerical label representation"
      ]
    },
    {
      "cell_type": "code",
      "metadata": {
        "id": "-RoerX0jrxCY",
        "colab": {
          "base_uri": "https://localhost:8080/"
        },
        "outputId": "e76a280e-d9af-425e-8a49-b12112694564"
      },
      "source": [
        "positive = y.c2i['positive']\n",
        "negative = y.c2i['negative']\n",
        "print(f'positive and negative review labels are represented numerically by {positive} and {negative}')"
      ],
      "execution_count": 37,
      "outputs": [
        {
          "output_type": "stream",
          "text": [
            "positive and negative review labels are represented numerically by 1 and 0\n"
          ],
          "name": "stdout"
        }
      ]
    },
    {
      "cell_type": "markdown",
      "metadata": {
        "id": "aHZbzEzvrxCZ"
      },
      "source": [
        "#### Boolean indicator tells whether or not a training label is positive"
      ]
    },
    {
      "cell_type": "code",
      "metadata": {
        "id": "9mDwSwV1rxCZ",
        "colab": {
          "base_uri": "https://localhost:8080/"
        },
        "outputId": "e6725eaa-68f6-4d36-8bbe-30ddb935dbc4"
      },
      "source": [
        "valid_labels = [label == positive for label in movie_reviews.valid.y.items]\n",
        "valid_labels=np.array(valid_labels)[:,np.newaxis]\n",
        "valid_labels.shape"
      ],
      "execution_count": 38,
      "outputs": [
        {
          "output_type": "execute_result",
          "data": {
            "text/plain": [
              "(200, 1)"
            ]
          },
          "metadata": {
            "tags": []
          },
          "execution_count": 38
        }
      ]
    },
    {
      "cell_type": "markdown",
      "metadata": {
        "id": "mt0STztTrxCZ"
      },
      "source": [
        "#### Boolean indicators for `positive` and `negative` reviews in the training set"
      ]
    },
    {
      "cell_type": "code",
      "metadata": {
        "id": "KNsmeTEXrxCZ"
      },
      "source": [
        "pos = (y.items == positive)\n",
        "neg = (y.items == negative)"
      ],
      "execution_count": 39,
      "outputs": []
    },
    {
      "cell_type": "code",
      "metadata": {
        "colab": {
          "base_uri": "https://localhost:8080/"
        },
        "id": "Kr1pomr9Cgfg",
        "outputId": "a4450133-5dde-4fdf-d54a-47c6d3437bb1"
      },
      "source": [
        "pos"
      ],
      "execution_count": 40,
      "outputs": [
        {
          "output_type": "execute_result",
          "data": {
            "text/plain": [
              "array([False,  True, False,  True, ..., False,  True, False, False])"
            ]
          },
          "metadata": {
            "tags": []
          },
          "execution_count": 40
        }
      ]
    },
    {
      "cell_type": "markdown",
      "metadata": {
        "id": "44SYGAVLrxCZ"
      },
      "source": [
        "### 15A. Naive Bayes with Trigrams"
      ]
    },
    {
      "cell_type": "markdown",
      "metadata": {
        "id": "Tz5GoGu3rxCa"
      },
      "source": [
        "#### The input is the full `ngram_doc_matrix`"
      ]
    },
    {
      "cell_type": "markdown",
      "metadata": {
        "id": "YzsTEdGErxCa"
      },
      "source": [
        "#### Token `occurrence count` vectors\n",
        "The kernel dies if I use the sparse matrix x here, so converting x to a dense matrix"
      ]
    },
    {
      "cell_type": "code",
      "metadata": {
        "id": "fVZUhEXprxCa"
      },
      "source": [
        "C0 = np.squeeze(x.todense()[neg].sum(0))\n",
        "C1 = np.squeeze(x.todense()[pos].sum(0))"
      ],
      "execution_count": 41,
      "outputs": []
    },
    {
      "cell_type": "markdown",
      "metadata": {
        "id": "15opeaV_rxCa"
      },
      "source": [
        "#### Token `class likelihood` vectors"
      ]
    },
    {
      "cell_type": "code",
      "metadata": {
        "id": "29dbuo9brxCa"
      },
      "source": [
        "L0 = (C0+1) / (neg.sum() + 1)\n",
        "L1 = (C1+1) / (pos.sum() + 1)"
      ],
      "execution_count": 42,
      "outputs": []
    },
    {
      "cell_type": "markdown",
      "metadata": {
        "id": "HnpmB7axrxCa"
      },
      "source": [
        "#### `log-count ratio` column vector"
      ]
    },
    {
      "cell_type": "code",
      "metadata": {
        "id": "Qm3JAXJ_rxCb"
      },
      "source": [
        "R = np.log(L1/L0).reshape((-1,1))"
      ],
      "execution_count": 43,
      "outputs": []
    },
    {
      "cell_type": "markdown",
      "metadata": {
        "id": "w9BkinjVrxCb"
      },
      "source": [
        "#### bias"
      ]
    },
    {
      "cell_type": "code",
      "metadata": {
        "id": "l4m1shr3rxCb",
        "colab": {
          "base_uri": "https://localhost:8080/"
        },
        "outputId": "0fa017e9-5744-4cdc-f262-58ac37a9f08f"
      },
      "source": [
        "(y.items==positive).mean(), (y.items==negative).mean()"
      ],
      "execution_count": 44,
      "outputs": [
        {
          "output_type": "execute_result",
          "data": {
            "text/plain": [
              "(0.47875, 0.52125)"
            ]
          },
          "metadata": {
            "tags": []
          },
          "execution_count": 44
        }
      ]
    },
    {
      "cell_type": "code",
      "metadata": {
        "id": "ATfX9oHXrxCc",
        "colab": {
          "base_uri": "https://localhost:8080/"
        },
        "outputId": "87386496-efc9-4d63-f386-346a5acbdbbd"
      },
      "source": [
        "b = np.log((y.items==positive).mean() / (y.items==negative).mean())\n",
        "print(b)"
      ],
      "execution_count": 45,
      "outputs": [
        {
          "output_type": "stream",
          "text": [
            "-0.08505123261815539\n"
          ],
          "name": "stdout"
        }
      ]
    },
    {
      "cell_type": "markdown",
      "metadata": {
        "id": "7W5m-0zxrxCd"
      },
      "source": [
        "#### The input is the  `ngram_doc_matrix`"
      ]
    },
    {
      "cell_type": "code",
      "metadata": {
        "id": "5zvaHM8VrxCd"
      },
      "source": [
        "W = valid_ngram_doc_matrix"
      ],
      "execution_count": 46,
      "outputs": []
    },
    {
      "cell_type": "markdown",
      "metadata": {
        "id": "4Qnof_j8rxCd"
      },
      "source": [
        "#### Label predictions with the full ngram_doc_matrix"
      ]
    },
    {
      "cell_type": "code",
      "metadata": {
        "id": "DdnCemswrxCd"
      },
      "source": [
        "preds = W @ R + b\n",
        "preds = preds > 0"
      ],
      "execution_count": 47,
      "outputs": []
    },
    {
      "cell_type": "markdown",
      "metadata": {
        "id": "LrKj2ZparxCe"
      },
      "source": [
        "#### Accuracy is much better than with the unigram model"
      ]
    },
    {
      "cell_type": "code",
      "metadata": {
        "id": "jZUqYGh0rxCe",
        "colab": {
          "base_uri": "https://localhost:8080/"
        },
        "outputId": "debba1b7-498e-4772-f68a-26dc2573f92b"
      },
      "source": [
        "accuracy = (preds == valid_labels).mean()\n",
        "print(f'Accuracy for Naive Bayes with the full trigrams Model = {accuracy}' )"
      ],
      "execution_count": 48,
      "outputs": [
        {
          "output_type": "stream",
          "text": [
            "Accuracy for Naive Bayes with the full trigrams Model = 0.76\n"
          ],
          "name": "stdout"
        }
      ]
    },
    {
      "cell_type": "markdown",
      "metadata": {
        "id": "l-Bmv2O0rxCf"
      },
      "source": [
        "### 15B. Binarized Naive Bayes with Trigrams"
      ]
    },
    {
      "cell_type": "markdown",
      "metadata": {
        "id": "45hW6gnarxCf"
      },
      "source": [
        "#### The input data is the binarized `n_gram_doc_matrix`"
      ]
    },
    {
      "cell_type": "code",
      "metadata": {
        "id": "GFrepGG3rxCf",
        "outputId": "54b7bd6e-63d8-4a47-940d-dd56de41a78c"
      },
      "source": [
        "x = train_ngram_doc_matrix.sign()\n",
        "x"
      ],
      "execution_count": null,
      "outputs": [
        {
          "output_type": "execute_result",
          "data": {
            "text/plain": [
              "<800x260402 sparse matrix of type '<class 'numpy.int32'>'\n",
              "\twith 566499 stored elements in Compressed Sparse Row format>"
            ]
          },
          "metadata": {
            "tags": []
          },
          "execution_count": 169
        }
      ]
    },
    {
      "cell_type": "markdown",
      "metadata": {
        "id": "yNMR1RN5rxCf"
      },
      "source": [
        "#### Token `occurrence count` vectors\n",
        "The kernel dies if I use the sparse matrix x here, so converting x to a dense matrix"
      ]
    },
    {
      "cell_type": "code",
      "metadata": {
        "id": "DzlEZpw1rxCf"
      },
      "source": [
        "C0 = np.squeeze(x.todense()[neg].sum(0))\n",
        "C1 = np.squeeze(x.todense()[pos].sum(0))"
      ],
      "execution_count": null,
      "outputs": []
    },
    {
      "cell_type": "markdown",
      "metadata": {
        "id": "IupKVPkZrxCf"
      },
      "source": [
        "#### Token `class likelihood` vectors"
      ]
    },
    {
      "cell_type": "code",
      "metadata": {
        "id": "BVlYzC48rxCg"
      },
      "source": [
        "L1 = (C1+1) / ((y.items==positive).sum() + 1)\n",
        "L0 = (C0+1) / ((y.items==negative).sum() + 1)"
      ],
      "execution_count": null,
      "outputs": []
    },
    {
      "cell_type": "markdown",
      "metadata": {
        "id": "PvZ-sO-drxCg"
      },
      "source": [
        "#### `log-count ratio` column vector"
      ]
    },
    {
      "cell_type": "code",
      "metadata": {
        "id": "KueFbsB0rxCg",
        "outputId": "9072986b-ee88-4402-9021-c6b0e528b778"
      },
      "source": [
        "R = np.log(L1/L0).reshape((-1,1))\n",
        "print(R)"
      ],
      "execution_count": null,
      "outputs": [
        {
          "output_type": "stream",
          "text": [
            "[[-0.005675]\n",
            " [ 0.084839]\n",
            " [ 0.      ]\n",
            " [ 0.084839]\n",
            " ...\n",
            " [-0.608308]\n",
            " [-0.608308]\n",
            " [-0.608308]\n",
            " [-0.608308]]\n"
          ],
          "name": "stdout"
        }
      ]
    },
    {
      "cell_type": "markdown",
      "metadata": {
        "id": "-ffxwLSjrxCg"
      },
      "source": [
        "#### Input to the model is the binarized `ngram_doc_matrix`"
      ]
    },
    {
      "cell_type": "code",
      "metadata": {
        "id": "Yl4gVyMZrxCg"
      },
      "source": [
        "W = valid_ngram_doc_matrix.sign()"
      ],
      "execution_count": null,
      "outputs": []
    },
    {
      "cell_type": "markdown",
      "metadata": {
        "id": "gvJDttWtrxCh"
      },
      "source": [
        "#### Label predictions with the binarized ngram_doc_matrix"
      ]
    },
    {
      "cell_type": "code",
      "metadata": {
        "id": "IxpT7AMVrxCh"
      },
      "source": [
        "preds = W @ R + b\n",
        "preds = preds>0"
      ],
      "execution_count": null,
      "outputs": []
    },
    {
      "cell_type": "markdown",
      "metadata": {
        "id": "07J9oVS1rxCh"
      },
      "source": [
        "#### Accuracy is still much better than with unigram model, but this time a bit worse with the binarized model"
      ]
    },
    {
      "cell_type": "code",
      "metadata": {
        "id": "SQSrvdWUrxCi",
        "outputId": "f3bbd4e2-2607-4ea3-88c5-c053019e7824"
      },
      "source": [
        "accuracy = (preds==valid_labels).mean()\n",
        "print(f'Accuracy for Binarized Naive Bayes with Trigrams Model = {accuracy}' )"
      ],
      "execution_count": null,
      "outputs": [
        {
          "output_type": "stream",
          "text": [
            "Accuracy for Binarized Naive Bayes with Trigrams Model = 0.735\n"
          ],
          "name": "stdout"
        }
      ]
    },
    {
      "cell_type": "markdown",
      "metadata": {
        "id": "eCSlSCyerxCi"
      },
      "source": [
        "## 16. A Logistic Regression IMDb classifier using Trigrams"
      ]
    },
    {
      "cell_type": "markdown",
      "metadata": {
        "id": "jxu_yjQOrxCi"
      },
      "source": [
        "#### Here we fit `regularized` logistic regression where the features are the trigrams."
      ]
    },
    {
      "cell_type": "code",
      "metadata": {
        "id": "BqQjC8sWrxCj"
      },
      "source": [
        "from sklearn.linear_model import LogisticRegression\n",
        "from sklearn.feature_extraction.text import CountVectorizer"
      ],
      "execution_count": 49,
      "outputs": []
    },
    {
      "cell_type": "markdown",
      "metadata": {
        "id": "Me8RoEgUrxCj"
      },
      "source": [
        "### 16A. Use `CountVectorizer` to create the `train_ngram_doc` matrix"
      ]
    },
    {
      "cell_type": "code",
      "metadata": {
        "id": "tvc6beVPrxCj"
      },
      "source": [
        "veczr = CountVectorizer(ngram_range=(1,3), preprocessor=noop, tokenizer=noop, max_features=800000)"
      ],
      "execution_count": 50,
      "outputs": []
    },
    {
      "cell_type": "code",
      "metadata": {
        "id": "MxzzpvhZrxCj"
      },
      "source": [
        "train_docs = movie_reviews.train.x\n",
        "train_words = [[movie_reviews.vocab.itos[o] for o in doc.data] for doc in train_docs]"
      ],
      "execution_count": 51,
      "outputs": []
    },
    {
      "cell_type": "code",
      "metadata": {
        "id": "0F2b4AMsrxCk"
      },
      "source": [
        "valid_docs = movie_reviews.valid.x\n",
        "valid_words = [[movie_reviews.vocab.itos[o] for o in doc.data] for doc in valid_docs]"
      ],
      "execution_count": 52,
      "outputs": []
    },
    {
      "cell_type": "code",
      "metadata": {
        "id": "524V_LW8rxCk",
        "colab": {
          "base_uri": "https://localhost:8080/"
        },
        "outputId": "bd3726b5-a1c4-494c-9aa7-b19d73775a8c"
      },
      "source": [
        "%%time\n",
        "train_ngram_doc_matrix_veczr = veczr.fit_transform(train_words)\n",
        "train_ngram_doc_matrix_veczr"
      ],
      "execution_count": 53,
      "outputs": [
        {
          "output_type": "stream",
          "text": [
            "CPU times: user 1.72 s, sys: 26.8 ms, total: 1.75 s\n",
            "Wall time: 1.75 s\n"
          ],
          "name": "stdout"
        }
      ]
    },
    {
      "cell_type": "code",
      "metadata": {
        "id": "IGIbGModrxCk",
        "colab": {
          "base_uri": "https://localhost:8080/"
        },
        "outputId": "b7a37a68-5d73-4f4e-e16b-f2a0798b6a57"
      },
      "source": [
        "valid_ngram_doc_matrix_veczr = veczr.transform(valid_words)\n",
        "valid_ngram_doc_matrix_veczr"
      ],
      "execution_count": 54,
      "outputs": [
        {
          "output_type": "execute_result",
          "data": {
            "text/plain": [
              "<200x260381 sparse matrix of type '<class 'numpy.int64'>'\n",
              "\twith 93552 stored elements in Compressed Sparse Row format>"
            ]
          },
          "metadata": {
            "tags": []
          },
          "execution_count": 54
        }
      ]
    },
    {
      "cell_type": "code",
      "metadata": {
        "id": "mx5UnzDarxCk"
      },
      "source": [
        "vocab = veczr.get_feature_names()"
      ],
      "execution_count": 55,
      "outputs": []
    },
    {
      "cell_type": "code",
      "metadata": {
        "id": "qLc8fttQrxCn",
        "colab": {
          "base_uri": "https://localhost:8080/"
        },
        "outputId": "837fd6f5-6170-4eec-ea87-56e313b7521c"
      },
      "source": [
        "vocab[200000:200005]"
      ],
      "execution_count": 56,
      "outputs": [
        {
          "output_type": "execute_result",
          "data": {
            "text/plain": [
              "['the same can',\n",
              " 'the same car',\n",
              " 'the same castle',\n",
              " 'the same cat',\n",
              " 'the same characters']"
            ]
          },
          "metadata": {
            "tags": []
          },
          "execution_count": 56
        }
      ]
    },
    {
      "cell_type": "markdown",
      "metadata": {
        "id": "R2I9kb3prxCn"
      },
      "source": [
        "#### Binarized trigram counts"
      ]
    },
    {
      "cell_type": "code",
      "metadata": {
        "id": "LIvwbqnZrxCn",
        "colab": {
          "base_uri": "https://localhost:8080/"
        },
        "outputId": "d367feb3-4b34-40cb-92a8-f6cdf0f06353"
      },
      "source": [
        "# fit model\n",
        "# C is inverse of regularization strength; must be a positive float. Like in support vector machines, smaller values specify stronger regularization.\n",
        "m = LogisticRegression(C=0.1, dual=False, solver = 'liblinear')\n",
        "m.fit(train_ngram_doc_matrix_veczr.sign(), y.items);\n",
        "\n",
        "# get predictions\n",
        "preds = m.predict(valid_ngram_doc_matrix_veczr.sign())\n",
        "valid_labels = [label == positive for label in movie_reviews.valid.y.items]\n",
        "\n",
        "# check accuracy\n",
        "accuracy = (preds==valid_labels).mean()\n",
        "print(f'Accuracy = {accuracy} for Logistic Regression, with binarized trigram counts from `CountVectorizer`' )"
      ],
      "execution_count": 57,
      "outputs": [
        {
          "output_type": "stream",
          "text": [
            "Accuracy = 0.83 for Logistic Regression, with binarized trigram counts from `CountVectorizer`\n"
          ],
          "name": "stdout"
        }
      ]
    },
    {
      "cell_type": "markdown",
      "metadata": {
        "id": "m_hUWUuArxCo"
      },
      "source": [
        "#### Full trigram counts\n",
        "Performance is worse with full trigram counts."
      ]
    },
    {
      "cell_type": "code",
      "metadata": {
        "id": "6xFzW7o5rxCo",
        "outputId": "b56e8b4e-603b-4e15-bafa-82ff620fb235"
      },
      "source": [
        "m = LogisticRegression(C=0.1, dual=False, solver = 'liblinear')\n",
        "m.fit(train_ngram_doc_matrix_veczr, y.items);\n",
        "\n",
        "preds = m.predict(valid_ngram_doc_matrix_veczr)\n",
        "accuracy =(preds==valid_labels).mean()\n",
        "print(f'Accuracy  = {accuracy} for Logistic Regression, with full trigram counts from `CountVectorizer`' )"
      ],
      "execution_count": null,
      "outputs": [
        {
          "output_type": "stream",
          "text": [
            "Accuracy  = 0.78 for Logistic Regression, with full trigram counts from `CountVectorizer`\n"
          ],
          "name": "stdout"
        }
      ]
    },
    {
      "cell_type": "markdown",
      "metadata": {
        "id": "dcqlqAMZrxCo"
      },
      "source": [
        "### 16B. This time, use `our` ngrams to create the `train_ngram_doc` matrix"
      ]
    },
    {
      "cell_type": "code",
      "metadata": {
        "id": "f6O-jS-PrxCo",
        "outputId": "68632cde-05ca-49e7-dfd1-55e648cbdaf2"
      },
      "source": [
        "train_ngram_doc_matrix.shape"
      ],
      "execution_count": null,
      "outputs": [
        {
          "output_type": "execute_result",
          "data": {
            "text/plain": [
              "(800, 260402)"
            ]
          },
          "metadata": {
            "tags": []
          },
          "execution_count": 186
        }
      ]
    },
    {
      "cell_type": "markdown",
      "metadata": {
        "id": "hjdcJHnDrxCp"
      },
      "source": [
        "#### Fit a model to the binarized trigram counts"
      ]
    },
    {
      "cell_type": "code",
      "metadata": {
        "scrolled": false,
        "id": "3rwsAiLjrxCp",
        "outputId": "906caf5e-5391-4301-9b43-7e9169df8a3a"
      },
      "source": [
        "m2=None\n",
        "m2 = LogisticRegression(C=0.1, dual=False, solver = 'liblinear')\n",
        "m2.fit(train_ngram_doc_matrix.sign(), y.items)\n",
        "\n",
        "preds = m2.predict(valid_ngram_doc_matrix.sign())\n",
        "accuracy = (preds==valid_labels).mean()\n",
        "print(f'Accuracy  = {accuracy} for Logistic Regression, with our binarized trigram counts' )"
      ],
      "execution_count": null,
      "outputs": [
        {
          "output_type": "stream",
          "text": [
            "Accuracy  = 0.83 for Logistic Regression, with our binarized trigram counts\n"
          ],
          "name": "stdout"
        }
      ]
    },
    {
      "cell_type": "markdown",
      "metadata": {
        "id": "wPU1xMCtrxCp"
      },
      "source": [
        "#### Fit a model to the full trigram counts\n",
        "Performance is again worse with full trigram counts."
      ]
    },
    {
      "cell_type": "code",
      "metadata": {
        "scrolled": false,
        "id": "gHumHEg9rxCp",
        "outputId": "b2953867-60bc-4710-c2dc-4d2e14578c2d"
      },
      "source": [
        "m2 = LogisticRegression(C=0.1, dual=False,solver='liblinear')\n",
        "m2.fit(train_ngram_doc_matrix, y.items)\n",
        "preds = m2.predict(valid_ngram_doc_matrix)\n",
        "accuracy = (preds==valid_labels).mean()\n",
        "print(f'Accuracy  = {accuracy} for Not-Binarized Logistic Regression, with our Trigrams' )"
      ],
      "execution_count": null,
      "outputs": [
        {
          "output_type": "stream",
          "text": [
            "Accuracy  = 0.795 for Not-Binarized Logistic Regression, with our Trigrams\n"
          ],
          "name": "stdout"
        }
      ]
    },
    {
      "cell_type": "markdown",
      "metadata": {
        "id": "pBNmUcV6rxCp"
      },
      "source": [
        "### 16C. Logistic Regression with the log-count ratio gives a slightly better result"
      ]
    },
    {
      "cell_type": "markdown",
      "metadata": {
        "id": "FzLAt1XjrxCq"
      },
      "source": [
        "#### Compute the $\\text{log-count ratio}, \\textbf{R}$  and the $\\text{bias}, \\textbf{b}$"
      ]
    },
    {
      "cell_type": "code",
      "metadata": {
        "id": "IM43IrXrrxCq"
      },
      "source": [
        "x=train_ngram_doc_matrix.sign()\n",
        "valid_x=valid_ngram_doc_matrix.sign()"
      ],
      "execution_count": 58,
      "outputs": []
    },
    {
      "cell_type": "code",
      "metadata": {
        "id": "mz8s5jxPrxCq"
      },
      "source": [
        "C0 = np.squeeze(x.todense()[neg].sum(axis=0))\n",
        "C1 = np.squeeze(x.todense()[pos].sum(axis=0))"
      ],
      "execution_count": 59,
      "outputs": []
    },
    {
      "cell_type": "code",
      "metadata": {
        "id": "yDRf9OP8rxCq"
      },
      "source": [
        "L1 = (C1+1) / ((pos).sum() + 1)\n",
        "L0 = (C0+1) / ((neg).sum() + 1)"
      ],
      "execution_count": 60,
      "outputs": []
    },
    {
      "cell_type": "code",
      "metadata": {
        "id": "O_1_aPJ-rxCq",
        "colab": {
          "base_uri": "https://localhost:8080/"
        },
        "outputId": "a50a1ea9-d725-4e02-c9ab-88c99adba24a"
      },
      "source": [
        "R = np.log(L1/L0)\n",
        "R.shape"
      ],
      "execution_count": 61,
      "outputs": [
        {
          "output_type": "execute_result",
          "data": {
            "text/plain": [
              "(1, 260382)"
            ]
          },
          "metadata": {
            "tags": []
          },
          "execution_count": 61
        }
      ]
    },
    {
      "cell_type": "markdown",
      "metadata": {
        "id": "aHNT6io0rxCr"
      },
      "source": [
        "#### Here we fit regularized logistic regression where the features are the log-count ratios for the trigrams':\n",
        "\n",
        "numpy.tile(A, reps)\n",
        "\n",
        "Construct an array by repeating A the number of times given by reps."
      ]
    },
    {
      "cell_type": "code",
      "metadata": {
        "id": "nPckP-uhrxCr",
        "colab": {
          "base_uri": "https://localhost:8080/"
        },
        "outputId": "d07ccb19-e27e-4357-889f-eadcbb6cb508"
      },
      "source": [
        "R_tile = np.tile(R,[x.shape[0],1])\n",
        "print(R_tile.shape)"
      ],
      "execution_count": 62,
      "outputs": [
        {
          "output_type": "stream",
          "text": [
            "(800, 260382)\n"
          ],
          "name": "stdout"
        }
      ]
    },
    {
      "cell_type": "code",
      "metadata": {
        "id": "qK8GPYWPrxCs",
        "outputId": "9d32cb34-9195-4155-ef3b-2831688a385b"
      },
      "source": [
        "# The next line causes the kernel to die?\n",
        "# x_nb = x.multiply(R)\n",
        "# As a workaround, use the full matrices\n",
        "x_nb = np.multiply(x.todense(),R_tile)\n",
        "m = LogisticRegression(dual=False, C=0.1,solver='liblinear')\n",
        "m.fit(x_nb, y.items);\n",
        "\n",
        "# why does valid_x.multiply(R) work but x.multiply(R) does not?\n",
        "valid_x_nb = valid_x.multiply(R) \n",
        "preds = m.predict(valid_x_nb)\n",
        "\n",
        "accuracy = (preds==valid_labels).mean()\n",
        "print(f'Accuracy  = {accuracy} for Logistic Regression, with trigram log-count ratios' )"
      ],
      "execution_count": null,
      "outputs": [
        {
          "output_type": "stream",
          "text": [
            "Accuracy  = 0.835 for Logistic Regression, with trigram log-count ratios\n"
          ],
          "name": "stdout"
        }
      ]
    },
    {
      "cell_type": "code",
      "metadata": {
        "id": "w98XXcx2EFyy"
      },
      "source": [
        ""
      ],
      "execution_count": null,
      "outputs": []
    },
    {
      "cell_type": "markdown",
      "metadata": {
        "id": "NytOgGQ7rxCs"
      },
      "source": [
        "## 17. Summary of movie review sentiment classifier results"
      ]
    },
    {
      "cell_type": "code",
      "metadata": {
        "id": "ia3E7SAHrxCs",
        "outputId": "b3a9ca4e-d835-4ab1-c015-0610e23e75a2"
      },
      "source": [
        "from IPython.display import HTML, display\n",
        "# Note: to install the `tabulate` package, \n",
        "#     go to a shell terminal and run the command\n",
        "#     `conda install tabulate`\n",
        "import tabulate\n",
        "table = [[\"Model\",\"Data Set\",\"Token Unit\",\"Validation Accuracy(%)\"],\n",
        "         [\"Naive Bayes\",\"IMDb_sample\", \"Full Unigram\",\"64.5 (from video #5)\"],\n",
        "         [\"Naive Bayes\",\"IMDb_sample\", \"Binarized Unigram\",\"68.0\"],\n",
        "         [\"Naive Bayes\",\"IMDb_sample\", \"Full Trigram\",\"76.0\"],\n",
        "         [\"Naive Bayes\",\"IMDb_sample\", \"Binarized Trigram\",\"73.5\"],\n",
        "         [\"Logistic Regression\",\"IMDb_sample\", \"Full Trigram\",\"78.0, 80.0 (our Trigrams)\"],\n",
        "         [\"Logistic Regression\",\"IMDb_sample\", \"Binarized Trigram\",\"83.0\"],\n",
        "         [\"Logistic Regression\",\"IMDb_sample\", \"Binarized Trigram log-count ratios\",\"83.5\"],\n",
        "         [\"Naive Bayes\",\"Full IMDb\",\"IMDb_sample\", \"Binarized Trigram\",\"83.3\"],\n",
        "         [\"Logistic Regression\",\"Full IMDb\", \"Full Trigram\",\"88.3\"],\n",
        "         [\"Logistic Regression\",\"Full IMDb\", \"Binarized Trigram\",\"88.5\"]]\n",
        "display(HTML(tabulate.tabulate(table, tablefmt='html')))"
      ],
      "execution_count": null,
      "outputs": [
        {
          "output_type": "display_data",
          "data": {
            "text/html": [
              "<table>\n",
              "<tbody>\n",
              "<tr><td>Model              </td><td>Data Set   </td><td>Token Unit                        </td><td>Validation Accuracy(%)   </td><td style=\"text-align: right;\">    </td></tr>\n",
              "<tr><td>Naive Bayes        </td><td>IMDb_sample</td><td>Full Unigram                      </td><td>64.5 (from video #5)     </td><td style=\"text-align: right;\">    </td></tr>\n",
              "<tr><td>Naive Bayes        </td><td>IMDb_sample</td><td>Binarized Unigram                 </td><td>68.0                     </td><td style=\"text-align: right;\">    </td></tr>\n",
              "<tr><td>Naive Bayes        </td><td>IMDb_sample</td><td>Full Trigram                      </td><td>76.0                     </td><td style=\"text-align: right;\">    </td></tr>\n",
              "<tr><td>Naive Bayes        </td><td>IMDb_sample</td><td>Binarized Trigram                 </td><td>73.5                     </td><td style=\"text-align: right;\">    </td></tr>\n",
              "<tr><td>Logistic Regression</td><td>IMDb_sample</td><td>Full Trigram                      </td><td>78.0, 80.0 (our Trigrams)</td><td style=\"text-align: right;\">    </td></tr>\n",
              "<tr><td>Logistic Regression</td><td>IMDb_sample</td><td>Binarized Trigram                 </td><td>83.0                     </td><td style=\"text-align: right;\">    </td></tr>\n",
              "<tr><td>Logistic Regression</td><td>IMDb_sample</td><td>Binarized Trigram log-count ratios</td><td>83.5                     </td><td style=\"text-align: right;\">    </td></tr>\n",
              "<tr><td>Naive Bayes        </td><td>Full IMDb  </td><td>IMDb_sample                       </td><td>Binarized Trigram        </td><td style=\"text-align: right;\">83.3</td></tr>\n",
              "<tr><td>Logistic Regression</td><td>Full IMDb  </td><td>Full Trigram                      </td><td>88.3                     </td><td style=\"text-align: right;\">    </td></tr>\n",
              "<tr><td>Logistic Regression</td><td>Full IMDb  </td><td>Binarized Trigram                 </td><td>88.5                     </td><td style=\"text-align: right;\">    </td></tr>\n",
              "</tbody>\n",
              "</table>"
            ],
            "text/plain": [
              "<IPython.core.display.HTML object>"
            ]
          },
          "metadata": {
            "tags": []
          }
        }
      ]
    },
    {
      "cell_type": "markdown",
      "metadata": {
        "id": "2QhVXKWPrxCt"
      },
      "source": [
        "## References"
      ]
    },
    {
      "cell_type": "markdown",
      "metadata": {
        "id": "TUM7hhlnrxCt"
      },
      "source": [
        "* Baselines and Bigrams: Simple, Good Sentiment and Topic Classification. Sida Wang and Christopher D. Manning [pdf](https://www.aclweb.org/anthology/P12-2018)\n",
        "* [The Naive Bayes Classifier](https://towardsdatascience.com/the-naive-bayes-classifier-e92ea9f47523). Joseph Catanzarite, in Towards Data Science"
      ]
    },
    {
      "cell_type": "markdown",
      "metadata": {
        "id": "1TtJc7tCrxCt"
      },
      "source": [
        ""
      ]
    }
  ]
}