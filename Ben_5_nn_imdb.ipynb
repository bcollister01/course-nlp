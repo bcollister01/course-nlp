{
  "nbformat": 4,
  "nbformat_minor": 0,
  "metadata": {
    "kernelspec": {
      "display_name": "Python 3",
      "language": "python",
      "name": "python3"
    },
    "language_info": {
      "codemirror_mode": {
        "name": "ipython",
        "version": 3
      },
      "file_extension": ".py",
      "mimetype": "text/x-python",
      "name": "python",
      "nbconvert_exporter": "python",
      "pygments_lexer": "ipython3",
      "version": "3.7.3"
    },
    "colab": {
      "name": "Ben 5-nn-imdb.ipynb",
      "provenance": [],
      "collapsed_sections": [
        "NFIU27qdm1Bi"
      ],
      "include_colab_link": true
    },
    "accelerator": "GPU"
  },
  "cells": [
    {
      "cell_type": "markdown",
      "metadata": {
        "id": "view-in-github",
        "colab_type": "text"
      },
      "source": [
        "<a href=\"https://colab.research.google.com/github/bcollister01/course-nlp/blob/master/Ben_5_nn_imdb.ipynb\" target=\"_parent\"><img src=\"https://colab.research.google.com/assets/colab-badge.svg\" alt=\"Open In Colab\"/></a>"
      ]
    },
    {
      "cell_type": "markdown",
      "metadata": {
        "id": "yOVczAIfm1AV"
      },
      "source": [
        "This lesson was adapted from the end of [lesson 3](https://course.fast.ai/videos/?lesson=3) and beginning of [lesson 4](https://course.fast.ai/videos/?lesson=4) of the latest fast.ai Practical Deep Learning for Coders course.  We will cover all the material you need here in this notebook, so no need to have taken the Deep Learning course.  Even if you have taken the DL class, we will go slower and get into more detail here!"
      ]
    },
    {
      "cell_type": "markdown",
      "metadata": {
        "id": "kLiMtclqm1Ae"
      },
      "source": [
        "# Transfer Learning for Natural Language Modeling\n",
        "### Contructing a Language Model and a Sentiment Classifier for IMDB movie reviews"
      ]
    },
    {
      "cell_type": "markdown",
      "metadata": {
        "id": "jbOrMcmAm1Af"
      },
      "source": [
        "Transfer learning has been widely used with great success in computer vision for several years, but only in the last year or so has it been successfully applied to NLP (beginning with ULMFit, which we will use here, which was built upon by BERT and GPT-2).\n",
        "\n",
        "As Sebastian Ruder wrote in [The Gradient](https://thegradient.pub/) last summer, [NLP's ImageNet moment has arrived](https://thegradient.pub/nlp-imagenet/).\n",
        "\n",
        "We will first build a language model for IMDB movie reviews.  Next we will build a sentiment classifier, which will predict whether a review is negative or positive, based on its text. For both of these tasks, we will use **transfer learning**. Starting with the pre-trained weights from the `wikitext-103` language model, we will tune these weights to specialize to the language of `IMDb` movie reviews. "
      ]
    },
    {
      "cell_type": "markdown",
      "metadata": {
        "heading_collapsed": true,
        "id": "LMGdFnUmm1Ag"
      },
      "source": [
        "## Language Models"
      ]
    },
    {
      "cell_type": "markdown",
      "metadata": {
        "hidden": true,
        "id": "1CFPCW9Fm1Ag"
      },
      "source": [
        "Language modeling can be a fun creative form. Research scientist [Janelle Shane blogs](https://aiweirdness.com/) & [tweets](https://twitter.com/JanelleCShane) about her creative AI explorations, which often involve text.  For instance, see her:\n",
        "\n",
        "- [Why did the neural network cross the road?](https://aiweirdness.com/post/174691534037/why-did-the-neural-network-cross-the-road)\n",
        "- [Try these neural network-generated recipes at your own risk.](https://aiweirdness.com/post/163878889437/try-these-neural-network-generated-recipes-at-your)\n",
        "- [D&D character bios - now making slightly more sense](https://aiweirdness.com/post/183471928977/dd-character-bios-now-making-slightly-more)"
      ]
    },
    {
      "cell_type": "markdown",
      "metadata": {
        "id": "0fMCMDVOm1Ah"
      },
      "source": [
        "## Using a GPU"
      ]
    },
    {
      "cell_type": "markdown",
      "metadata": {
        "id": "wfeqSUZIm1Ah"
      },
      "source": [
        "You will need to have the fastai library installed for this lesson, and you will want to use a GPU to train your neural net.  If you don't have a GPU you can use in your computer (currently, only Nvidia GPUs are fully supported by the main deep learning libraries), no worries!  There are a number of cloud options you can consider:\n",
        "\n",
        "[GPU Cloud Options](https://course.fast.ai/#using-a-gpu)\n",
        "\n",
        "**Reminder: If you are using a cloud GPU, always be sure to shut it down when you are done!!! Otherwise, you could end up with an expensive bill!**"
      ]
    },
    {
      "cell_type": "code",
      "metadata": {
        "id": "7cH0DdXsm1Ai"
      },
      "source": [
        "%reload_ext autoreload\n",
        "%autoreload 2\n",
        "%matplotlib inline"
      ],
      "execution_count": 1,
      "outputs": []
    },
    {
      "cell_type": "code",
      "metadata": {
        "id": "RY1ULXdnm1Aj"
      },
      "source": [
        "from fastai import *\n",
        "from fastai.text import *\n",
        "from scipy.spatial.distance import cosine as dist"
      ],
      "execution_count": 2,
      "outputs": []
    },
    {
      "cell_type": "markdown",
      "metadata": {
        "id": "Tk_G4jX0m1Aj"
      },
      "source": [
        "Note that language models can use a lot of GPU, so you may need to decrease batchsize here."
      ]
    },
    {
      "cell_type": "code",
      "metadata": {
        "id": "XG5z-ekkm1Ak"
      },
      "source": [
        "# bs=192\n",
        "bs=48\n",
        "# bs=24"
      ],
      "execution_count": 3,
      "outputs": []
    },
    {
      "cell_type": "markdown",
      "metadata": {
        "id": "YMpAr974m1Ak"
      },
      "source": [
        "### Fix this line: should be `device(0)` instead of `device(2)`\n",
        "To allow for GPU usage - go to Runtime and Change runtime type to GPU."
      ]
    },
    {
      "cell_type": "code",
      "metadata": {
        "id": "EwBnZbrzm1Al"
      },
      "source": [
        "import torch\n",
        "#torch.cuda.set_device(2)\n",
        "torch.cuda.set_device(0)"
      ],
      "execution_count": 4,
      "outputs": []
    },
    {
      "cell_type": "markdown",
      "metadata": {
        "heading_collapsed": true,
        "id": "vlSiaWS9m1Al"
      },
      "source": [
        "## 1. Prepare the IMDb data (on a sample)"
      ]
    },
    {
      "cell_type": "markdown",
      "metadata": {
        "hidden": true,
        "id": "G1H0iC2Lm1Al"
      },
      "source": [
        "First let's download the dataset we are going to study. The `IMDb` [dataset](http://ai.stanford.edu/~amaas/data/sentiment/) has been curated by Andrew Maas et al. and contains a total of 100,000 reviews on IMDB. 25,000 of them are labelled as positive and negative for training, another 25,000 are labelled for testing (in both cases they are highly polarized). The remaning 50,000 is an additional unlabelled data (but we will find a use for it nonetheless).\n",
        "\n",
        "We'll begin with a sample we've prepared for you, so that things run quickly before going over the full dataset."
      ]
    },
    {
      "cell_type": "code",
      "metadata": {
        "hidden": true,
        "id": "b3nRI0aHm1Am",
        "colab": {
          "base_uri": "https://localhost:8080/",
          "height": 55
        },
        "outputId": "db4d837a-eb08-44e5-d207-9e7ebe3c4be1"
      },
      "source": [
        "path = untar_data(URLs.IMDB_SAMPLE)\n",
        "path.ls()"
      ],
      "execution_count": 5,
      "outputs": [
        {
          "output_type": "stream",
          "text": [
            "Downloading http://files.fast.ai/data/examples/imdb_sample.tgz\n"
          ],
          "name": "stdout"
        },
        {
          "output_type": "display_data",
          "data": {
            "text/html": [
              ""
            ],
            "text/plain": [
              "<IPython.core.display.HTML object>"
            ]
          },
          "metadata": {
            "tags": []
          }
        },
        {
          "output_type": "execute_result",
          "data": {
            "text/plain": [
              "[PosixPath('/root/.fastai/data/imdb_sample/texts.csv')]"
            ]
          },
          "metadata": {
            "tags": []
          },
          "execution_count": 5
        }
      ]
    },
    {
      "cell_type": "markdown",
      "metadata": {
        "hidden": true,
        "id": "kXROCNTfm1An"
      },
      "source": [
        "It only contains one csv file, let's have a look at it."
      ]
    },
    {
      "cell_type": "markdown",
      "metadata": {
        "hidden": true,
        "id": "-n9GSAp2m1An"
      },
      "source": [
        "It contains one line per review, with the label ('negative' or 'positive'), the text and a flag to determine if it should be part of the validation set or the training set. If we ignore this flag, we can create a `DataBunch` containing this data in one line of code:"
      ]
    },
    {
      "cell_type": "markdown",
      "metadata": {
        "id": "MPrA4Grem1Ao"
      },
      "source": [
        "### Load and preprocess the data and form a `databunch`\n",
        "Add workaround for the bug in the `fastai Text API`"
      ]
    },
    {
      "cell_type": "code",
      "metadata": {
        "hidden": true,
        "id": "Rpanjtx7m1Ao",
        "colab": {
          "base_uri": "https://localhost:8080/",
          "height": 208
        },
        "outputId": "3c252cb7-4fd7-4c41-da69-59838bc3150e"
      },
      "source": [
        "%%time\n",
        "\n",
        "# throws `BrokenProcessPool' Error sometimes. Keep trying `till it works!\n",
        "count = 0\n",
        "error = True\n",
        "while error:\n",
        "    try: \n",
        "        # Preprocessing steps\n",
        "        data_lm = TextDataBunch.from_csv(path, 'texts.csv')\n",
        "        error = False\n",
        "        print(f'failure count is {count}\\n')    \n",
        "    except: # catch *all* exceptions\n",
        "        # accumulate failure count\n",
        "        count = count + 1\n",
        "        print(f'failure count is {count}')"
      ],
      "execution_count": 6,
      "outputs": [
        {
          "output_type": "display_data",
          "data": {
            "text/html": [
              ""
            ],
            "text/plain": [
              "<IPython.core.display.HTML object>"
            ]
          },
          "metadata": {
            "tags": []
          }
        },
        {
          "output_type": "stream",
          "text": [
            "/usr/local/lib/python3.6/dist-packages/fastai/core.py:302: VisibleDeprecationWarning: Creating an ndarray from ragged nested sequences (which is a list-or-tuple of lists-or-tuples-or ndarrays with different lengths or shapes) is deprecated. If you meant to do this, you must specify 'dtype=object' when creating the ndarray\n",
            "  return np.array(a, dtype=dtype, **kwargs)\n"
          ],
          "name": "stderr"
        },
        {
          "output_type": "display_data",
          "data": {
            "text/html": [
              ""
            ],
            "text/plain": [
              "<IPython.core.display.HTML object>"
            ]
          },
          "metadata": {
            "tags": []
          }
        },
        {
          "output_type": "stream",
          "text": [
            "failure count is 0\n",
            "\n",
            "CPU times: user 341 ms, sys: 59.8 ms, total: 401 ms\n",
            "Wall time: 3.15 s\n"
          ],
          "name": "stdout"
        },
        {
          "output_type": "stream",
          "text": [
            "/usr/local/lib/python3.6/dist-packages/numpy/core/_asarray.py:83: VisibleDeprecationWarning: Creating an ndarray from ragged nested sequences (which is a list-or-tuple of lists-or-tuples-or ndarrays with different lengths or shapes) is deprecated. If you meant to do this, you must specify 'dtype=object' when creating the ndarray\n",
            "  return array(a, dtype, copy=False, order=order)\n",
            "<string>:6: VisibleDeprecationWarning: Creating an ndarray from ragged nested sequences (which is a list-or-tuple of lists-or-tuples-or ndarrays with different lengths or shapes) is deprecated. If you meant to do this, you must specify 'dtype=object' when creating the ndarray\n"
          ],
          "name": "stderr"
        }
      ]
    },
    {
      "cell_type": "markdown",
      "metadata": {
        "hidden": true,
        "id": "RMiO5nPSm1Ap"
      },
      "source": [
        "By executing this line a process was launched that took a bit of time. Let's dig a bit into it. Images could be fed (almost) directly into a model because they're just a big array of pixel values that are floats between 0 and 1. A text is composed of words, and we can't apply mathematical functions to them directly. We first have to convert them to numbers. This is done in two differents steps: tokenization and numericalization. A `TextDataBunch` does all of that behind the scenes for you."
      ]
    },
    {
      "cell_type": "markdown",
      "metadata": {
        "heading_collapsed": true,
        "hidden": true,
        "id": "PlPy7eIwm1Ap"
      },
      "source": [
        "### Tokenization"
      ]
    },
    {
      "cell_type": "markdown",
      "metadata": {
        "hidden": true,
        "id": "MydQD98Dm1Aq"
      },
      "source": [
        "The first step of processing we make texts go through is to split the raw sentences into words, or more exactly tokens. The easiest way to do this would be to split the string on spaces, but we can be smarter:\n",
        "\n",
        "- we need to take care of punctuation\n",
        "- some words are contractions of two different words, like isn't or don't\n",
        "- we may need to clean some parts of our texts, if there's HTML code for instance\n",
        "\n",
        "To see what the tokenizer had done behind the scenes, let's have a look at a few texts in a batch."
      ]
    },
    {
      "cell_type": "markdown",
      "metadata": {
        "hidden": true,
        "id": "dpUbsqKOm1Aq"
      },
      "source": [
        "The texts are truncated at 100 tokens for more readability. We can see that it did more than just split on space and punctuation symbols: \n",
        "- the \"'s\" are grouped together in one token\n",
        "- the contractions are separated like this: \"did\", \"n't\"\n",
        "- content has been cleaned for any HTML symbol and lower cased\n",
        "- there are several special tokens (all those that begin by xx), to replace unkown tokens (see below) or to introduce different text fields (here we only have one)."
      ]
    },
    {
      "cell_type": "markdown",
      "metadata": {
        "heading_collapsed": true,
        "hidden": true,
        "id": "o1O2sfa8m1Ar"
      },
      "source": [
        "### Numericalization"
      ]
    },
    {
      "cell_type": "markdown",
      "metadata": {
        "hidden": true,
        "id": "dktMjqMom1Ar"
      },
      "source": [
        "Once we have extracted tokens from our texts, we convert to integers by creating a list of all the words used. We only keep the ones that appear at list twice with a maximum vocabulary size of 60,000 (by default) and replace the ones that don't make the cut by the unknown token `UNK`.\n",
        "\n",
        "The correspondance from ids tokens is stored in the `vocab` attribute of our datasets, in a dictionary called `itos` (for int to string)."
      ]
    },
    {
      "cell_type": "code",
      "metadata": {
        "hidden": true,
        "id": "zffIOHtsm1As",
        "colab": {
          "base_uri": "https://localhost:8080/"
        },
        "outputId": "abc716c1-f08d-4d73-f935-9f784ac3e9a1"
      },
      "source": [
        "data_lm.vocab.itos[:10]"
      ],
      "execution_count": 7,
      "outputs": [
        {
          "output_type": "execute_result",
          "data": {
            "text/plain": [
              "['xxunk',\n",
              " 'xxpad',\n",
              " 'xxbos',\n",
              " 'xxeos',\n",
              " 'xxfld',\n",
              " 'xxmaj',\n",
              " 'xxup',\n",
              " 'xxrep',\n",
              " 'xxwrep',\n",
              " 'the']"
            ]
          },
          "metadata": {
            "tags": []
          },
          "execution_count": 7
        }
      ]
    },
    {
      "cell_type": "markdown",
      "metadata": {
        "hidden": true,
        "id": "IRisUytwm1As"
      },
      "source": [
        "And if we look at what a what's in our datasets, we'll see the tokenized text as a representation:"
      ]
    },
    {
      "cell_type": "code",
      "metadata": {
        "hidden": true,
        "id": "hBorIyN1m1As",
        "colab": {
          "base_uri": "https://localhost:8080/"
        },
        "outputId": "43a62bf8-88fe-4335-9498-d78a41aaf817"
      },
      "source": [
        "data_lm.train_ds[0][0]"
      ],
      "execution_count": 8,
      "outputs": [
        {
          "output_type": "execute_result",
          "data": {
            "text/plain": [
              "Text [   2   19  165 6148 ...   14   21 2819   11]"
            ]
          },
          "metadata": {
            "tags": []
          },
          "execution_count": 8
        }
      ]
    },
    {
      "cell_type": "markdown",
      "metadata": {
        "hidden": true,
        "id": "6osCJ-oZm1At"
      },
      "source": [
        "But the underlying data is all numbers"
      ]
    },
    {
      "cell_type": "code",
      "metadata": {
        "hidden": true,
        "id": "xH_oqsgVm1At",
        "colab": {
          "base_uri": "https://localhost:8080/"
        },
        "outputId": "48c94b91-7a27-4092-a291-dfdbe33f97df"
      },
      "source": [
        "data_lm.train_ds[0][0].data[:10]"
      ],
      "execution_count": 9,
      "outputs": [
        {
          "output_type": "execute_result",
          "data": {
            "text/plain": [
              "array([   2,   19,  165, 6148,   20,    9, 1177,    0, 1297,  531])"
            ]
          },
          "metadata": {
            "tags": []
          },
          "execution_count": 9
        }
      ]
    },
    {
      "cell_type": "markdown",
      "metadata": {
        "heading_collapsed": true,
        "hidden": true,
        "id": "YcO_BMOJm1Au"
      },
      "source": [
        "### Alternative approach: with the `data block API`"
      ]
    },
    {
      "cell_type": "markdown",
      "metadata": {
        "hidden": true,
        "id": "mwhbKCY8m1Au"
      },
      "source": [
        "We can use the data block API with NLP and have a lot more flexibility than what the default factory methods offer. In the previous example for instance, the data was randomly split between train and validation instead of reading the third column of the csv.\n",
        "\n",
        "With the data block API though, we have to manually call the tokenize and numericalize steps. This allows more flexibility, and if you're not using the defaults from fastai, the various arguments to pass will appear in the step they're relevant, so it'll be more readable."
      ]
    },
    {
      "cell_type": "markdown",
      "metadata": {
        "id": "MGxPV5efm1Ax"
      },
      "source": [
        "### Load and preprocess the data and form a `datablock`\n",
        "Add workaround for the bug in the `fastai Text API`"
      ]
    },
    {
      "cell_type": "code",
      "metadata": {
        "hidden": true,
        "id": "TTHbnENWm1Az",
        "colab": {
          "base_uri": "https://localhost:8080/",
          "height": 208
        },
        "outputId": "8598f079-fc45-4c33-c929-064964d854ca"
      },
      "source": [
        "%%time\n",
        "\n",
        "# throws `BrokenProcessPool' Error sometimes. Keep trying `till it works!\n",
        "count = 0\n",
        "error = True\n",
        "while error:\n",
        "    try: \n",
        "        # Preprocessing steps\n",
        "        data = (TextList.from_csv(path, 'texts.csv', cols='text')\n",
        "                .split_from_df(col=2)\n",
        "                .label_from_df(cols=0)\n",
        "                .databunch())        \n",
        "        error = False\n",
        "        print(f'failure count is {count}\\n')    \n",
        "    except: # catch *all* exceptions\n",
        "        # accumulate failure count\n",
        "        count = count + 1\n",
        "        print(f'failure count is {count}')"
      ],
      "execution_count": 10,
      "outputs": [
        {
          "output_type": "display_data",
          "data": {
            "text/html": [
              ""
            ],
            "text/plain": [
              "<IPython.core.display.HTML object>"
            ]
          },
          "metadata": {
            "tags": []
          }
        },
        {
          "output_type": "stream",
          "text": [
            "/usr/local/lib/python3.6/dist-packages/fastai/core.py:302: VisibleDeprecationWarning: Creating an ndarray from ragged nested sequences (which is a list-or-tuple of lists-or-tuples-or ndarrays with different lengths or shapes) is deprecated. If you meant to do this, you must specify 'dtype=object' when creating the ndarray\n",
            "  return np.array(a, dtype=dtype, **kwargs)\n"
          ],
          "name": "stderr"
        },
        {
          "output_type": "display_data",
          "data": {
            "text/html": [
              ""
            ],
            "text/plain": [
              "<IPython.core.display.HTML object>"
            ]
          },
          "metadata": {
            "tags": []
          }
        },
        {
          "output_type": "stream",
          "text": [
            "failure count is 0\n",
            "\n",
            "CPU times: user 267 ms, sys: 46.3 ms, total: 313 ms\n",
            "Wall time: 2.93 s\n"
          ],
          "name": "stdout"
        },
        {
          "output_type": "stream",
          "text": [
            "/usr/local/lib/python3.6/dist-packages/numpy/core/_asarray.py:83: VisibleDeprecationWarning: Creating an ndarray from ragged nested sequences (which is a list-or-tuple of lists-or-tuples-or ndarrays with different lengths or shapes) is deprecated. If you meant to do this, you must specify 'dtype=object' when creating the ndarray\n",
            "  return array(a, dtype, copy=False, order=order)\n",
            "<string>:6: VisibleDeprecationWarning: Creating an ndarray from ragged nested sequences (which is a list-or-tuple of lists-or-tuples-or ndarrays with different lengths or shapes) is deprecated. If you meant to do this, you must specify 'dtype=object' when creating the ndarray\n"
          ],
          "name": "stderr"
        }
      ]
    },
    {
      "cell_type": "markdown",
      "metadata": {
        "id": "T1b10CSKm1A0"
      },
      "source": [
        "## 2. Transfer Learning <br>\n",
        "### We are going to create an `IMDb` language model starting with the pretrained weights from the `wikitext-103` language model."
      ]
    },
    {
      "cell_type": "markdown",
      "metadata": {
        "id": "iOzWx3ljm1A0"
      },
      "source": [
        "Now let's grab the full `IMDb` dataset for what follows."
      ]
    },
    {
      "cell_type": "code",
      "metadata": {
        "id": "pwF5usj_m1A1",
        "colab": {
          "base_uri": "https://localhost:8080/",
          "height": 169
        },
        "outputId": "e77a7704-765f-4004-aff7-6a03a2d5e1ec"
      },
      "source": [
        "path = untar_data(URLs.IMDB)\n",
        "path.ls()"
      ],
      "execution_count": 11,
      "outputs": [
        {
          "output_type": "stream",
          "text": [
            "Downloading https://s3.amazonaws.com/fast-ai-nlp/imdb.tgz\n"
          ],
          "name": "stdout"
        },
        {
          "output_type": "display_data",
          "data": {
            "text/html": [
              ""
            ],
            "text/plain": [
              "<IPython.core.display.HTML object>"
            ]
          },
          "metadata": {
            "tags": []
          }
        },
        {
          "output_type": "execute_result",
          "data": {
            "text/plain": [
              "[PosixPath('/root/.fastai/data/imdb/imdb.vocab'),\n",
              " PosixPath('/root/.fastai/data/imdb/tmp_clas'),\n",
              " PosixPath('/root/.fastai/data/imdb/test'),\n",
              " PosixPath('/root/.fastai/data/imdb/README'),\n",
              " PosixPath('/root/.fastai/data/imdb/tmp_lm'),\n",
              " PosixPath('/root/.fastai/data/imdb/train'),\n",
              " PosixPath('/root/.fastai/data/imdb/unsup')]"
            ]
          },
          "metadata": {
            "tags": []
          },
          "execution_count": 11
        }
      ]
    },
    {
      "cell_type": "code",
      "metadata": {
        "id": "qQ0BGjK5m1A1",
        "colab": {
          "base_uri": "https://localhost:8080/"
        },
        "outputId": "008eb490-075a-463f-abfc-ccc5d92f01a5"
      },
      "source": [
        "(path/'train').ls()"
      ],
      "execution_count": 12,
      "outputs": [
        {
          "output_type": "execute_result",
          "data": {
            "text/plain": [
              "[PosixPath('/root/.fastai/data/imdb/train/unsupBow.feat'),\n",
              " PosixPath('/root/.fastai/data/imdb/train/labeledBow.feat'),\n",
              " PosixPath('/root/.fastai/data/imdb/train/pos'),\n",
              " PosixPath('/root/.fastai/data/imdb/train/neg')]"
            ]
          },
          "metadata": {
            "tags": []
          },
          "execution_count": 12
        }
      ]
    },
    {
      "cell_type": "markdown",
      "metadata": {
        "id": "SeMz6ZHXm1A2"
      },
      "source": [
        "The reviews are in a training and test set following an imagenet structure. The only difference is that there is an `unsup` folder in `train` that contains the unlabelled data.\n",
        "\n",
        "We're not going to train a model that classifies the reviews from scratch. Like in computer vision, we'll use a model pretrained on a bigger dataset (a cleaned subset of wikipedia called [wikitext-103](https://s3.amazonaws.com/research.metamind.io/wikitext/wikitext-103-v1.zip)). That model has been trained to guess what the next word, its input being all the previous words. It has a recurrent structure and a hidden state that is updated each time it sees a new word. This hidden state thus contains information about the sentence up to that point.\n",
        "\n",
        "We are going to use that 'knowledge' of the English language to build our classifier, but first, like for computer vision, we need to fine-tune the pretrained model to our particular dataset. Because the English of the reviews left by people on IMDB isn't the same as the English of wikipedia, we'll need to adjust a little bit the parameters of our model. Plus there might be some words extremely common in that dataset that were barely present in wikipedia, and therefore might no be part of the vocabulary the model was trained on."
      ]
    },
    {
      "cell_type": "markdown",
      "metadata": {
        "heading_collapsed": true,
        "id": "8ybWECiHm1A2"
      },
      "source": [
        "### More about WikiText-103"
      ]
    },
    {
      "cell_type": "markdown",
      "metadata": {
        "hidden": true,
        "id": "1Smv2swEm1A3"
      },
      "source": [
        "We will be using the `WikiText-103` dataset created by [Stephen Merity](https://smerity.com/) to pre-train a language model.\n",
        "\n",
        "To quote [Stephen's post](https://blog.einstein.ai/the-wikitext-long-term-dependency-language-modeling-dataset/):\n",
        "\n",
        "*The WikiText language modeling dataset is a collection of over 100 million tokens extracted from the set of verified Good and Featured articles on Wikipedia. The dataset is available under the Creative Commons Attribution-ShareAlike License.*\n",
        "\n",
        "*Compared to the preprocessed version of Penn Treebank (PTB), WikiText-2 is over 2 times larger and WikiText-103 is over 110 times larger. The WikiText dataset also features a far larger vocabulary and retains the original case, punctuation and numbers - all of which are removed in PTB. As it is composed of full articles, the dataset is well suited for models that can take advantage of long term dependencies.*"
      ]
    },
    {
      "cell_type": "markdown",
      "metadata": {
        "id": "6Z17xm4Hm1A3"
      },
      "source": [
        "[Download wikitext-103](https://s3.amazonaws.com/research.metamind.io/wikitext/wikitext-103-v1.zip). Unzip it into the `.fastai/data/` folder on your computer."
      ]
    },
    {
      "cell_type": "markdown",
      "metadata": {
        "heading_collapsed": true,
        "id": "1dSjHakfm1A3"
      },
      "source": [
        "### 2A. Package the `IMDb` data into a language model `databunch`"
      ]
    },
    {
      "cell_type": "markdown",
      "metadata": {
        "hidden": true,
        "id": "rZjJHc5xm1A3"
      },
      "source": [
        "This is where the unlabelled data is going to be useful to us, as we can use it to fine-tune our model. Let's create our data object with the data block API (this takes a few minutes).\n",
        "\n",
        "We'll to use a special kind of `TextDataBunch` for the language model, that ignores the labels (that's why we put 0 everywhere), will shuffle the texts at each epoch before concatenating them all together (only for training; we don't shuffle for the validation set) and will send batches that read that text in order with targets that are the next word in the sentence.\n",
        "\n",
        "Add a `try-except` wrapper as a workaround for the bug in the `fastai Text API`"
      ]
    },
    {
      "cell_type": "code",
      "metadata": {
        "hidden": true,
        "id": "LKfwLJE7m1A4",
        "colab": {
          "base_uri": "https://localhost:8080/"
        },
        "outputId": "a9bd7ba9-83cc-4dc9-f28d-caf23dd15793"
      },
      "source": [
        "%%time\n",
        "\n",
        "# throws `BrokenProcessPool` Error sometimes. Keep trying `till it works!\n",
        "count = 0\n",
        "error = True\n",
        "while error:\n",
        "    try: \n",
        "        # Preprocessing steps\n",
        "        data_lm = (TextList.from_folder(path)\n",
        "           #Inputs: all the text files in path\n",
        "            .filter_by_folder(include=['train', 'test', 'unsup']) \n",
        "           # notebook 3-logreg-nb-imbd used .split_by_folder instead of .filter_by_folder\n",
        "            # and this took less time to run. Can we do the same here?\n",
        "           #We may have other temp folders that contain text files so we only keep what's in train and test\n",
        "            .split_by_rand_pct(0.1, seed=42))\n",
        "           #We randomly split and keep 10% (10,000 reviews) for validation\n",
        "            #.label_for_lm()           \n",
        "           #We want to make a language model so we label accordingly\n",
        "            #.databunch(bs=bs, num_workers=1))\n",
        "        error = False\n",
        "        print(f'failure count is {count}\\n')    \n",
        "    except: # catch *all* exceptions\n",
        "        # accumulate failure count\n",
        "        count = count + 1\n",
        "        print(f'failure count is {count}')"
      ],
      "execution_count": 13,
      "outputs": [
        {
          "output_type": "stream",
          "text": [
            "failure count is 0\n",
            "\n",
            "CPU times: user 1.39 s, sys: 53.2 ms, total: 1.45 s\n",
            "Wall time: 1.45 s\n"
          ],
          "name": "stdout"
        }
      ]
    },
    {
      "cell_type": "markdown",
      "metadata": {
        "id": "23VAkozKm1A4"
      },
      "source": [
        "#### I got faster results when I do the last two steps in a separate cell:\n",
        "\n",
        "This is just processing the data, the movie reviews."
      ]
    },
    {
      "cell_type": "code",
      "metadata": {
        "id": "saC_KHdqm1A4",
        "colab": {
          "base_uri": "https://localhost:8080/",
          "height": 151
        },
        "outputId": "4adfb8eb-e04a-4b3e-dd43-007b184f5e21"
      },
      "source": [
        "%%time\n",
        "\n",
        "# throws `BrokenProcessPool' Error sometimes. Keep trying `till it works!\n",
        "count = 0\n",
        "error = True\n",
        "while error:\n",
        "    try: \n",
        "        # Preprocessing steps\n",
        "        #     the next step is the bottleneck\n",
        "        data_lm = (data_lm.label_for_lm()           \n",
        "           #We want to make a language model so we label accordingly\n",
        "            .databunch(bs=bs, num_workers=1))\n",
        "        error = False\n",
        "        print(f'failure count is {count}\\n')    \n",
        "    except: # catch *all* exceptions\n",
        "        # accumulate failure count\n",
        "        count = count + 1\n",
        "        print(f'failure count is {count}')"
      ],
      "execution_count": 14,
      "outputs": [
        {
          "output_type": "display_data",
          "data": {
            "text/html": [
              ""
            ],
            "text/plain": [
              "<IPython.core.display.HTML object>"
            ]
          },
          "metadata": {
            "tags": []
          }
        },
        {
          "output_type": "stream",
          "text": [
            "/usr/local/lib/python3.6/dist-packages/fastai/core.py:302: VisibleDeprecationWarning: Creating an ndarray from ragged nested sequences (which is a list-or-tuple of lists-or-tuples-or ndarrays with different lengths or shapes) is deprecated. If you meant to do this, you must specify 'dtype=object' when creating the ndarray\n",
            "  return np.array(a, dtype=dtype, **kwargs)\n"
          ],
          "name": "stderr"
        },
        {
          "output_type": "display_data",
          "data": {
            "text/html": [
              ""
            ],
            "text/plain": [
              "<IPython.core.display.HTML object>"
            ]
          },
          "metadata": {
            "tags": []
          }
        },
        {
          "output_type": "stream",
          "text": [
            "failure count is 0\n",
            "\n",
            "CPU times: user 16.1 s, sys: 3.11 s, total: 19.2 s\n",
            "Wall time: 2min 38s\n"
          ],
          "name": "stdout"
        }
      ]
    },
    {
      "cell_type": "code",
      "metadata": {
        "hidden": true,
        "scrolled": true,
        "id": "mS43gBgum1A5",
        "colab": {
          "base_uri": "https://localhost:8080/"
        },
        "outputId": "e2bf5418-d1ec-4058-e899-41a99dc73be3"
      },
      "source": [
        "len(data_lm.vocab.itos),len(data_lm.train_ds)"
      ],
      "execution_count": 15,
      "outputs": [
        {
          "output_type": "execute_result",
          "data": {
            "text/plain": [
              "(60000, 90000)"
            ]
          },
          "metadata": {
            "tags": []
          },
          "execution_count": 15
        }
      ]
    },
    {
      "cell_type": "code",
      "metadata": {
        "hidden": true,
        "id": "vD1siLnGm1A5",
        "colab": {
          "base_uri": "https://localhost:8080/",
          "height": 289
        },
        "outputId": "64d8e278-777b-45b3-b350-2656bdbeee35"
      },
      "source": [
        "data_lm.show_batch()"
      ],
      "execution_count": 19,
      "outputs": [
        {
          "output_type": "display_data",
          "data": {
            "text/html": [
              "<table border=\"1\" class=\"dataframe\">\n",
              "  <thead>\n",
              "    <tr style=\"text-align: right;\">\n",
              "      <th>idx</th>\n",
              "      <th>text</th>\n",
              "    </tr>\n",
              "  </thead>\n",
              "  <tbody>\n",
              "    <tr>\n",
              "      <td>0</td>\n",
              "      <td>to provide . xxmaj mind you that these women know karate , and are fine foxy ladies . \\n \\n  xxup spoiler -- the end fight scene is pretty crazy , with xxmaj dolemite ripping the heart out of xxmaj willy xxmaj green . xxmaj make sure your copy is unrated . \\n \\n  xxmaj plus there are a cast full of innovative brilliant characters like the xxmaj</td>\n",
              "    </tr>\n",
              "    <tr>\n",
              "      <td>1</td>\n",
              "      <td>may turn into something horribly wrong in the future . xxmaj this movie did have a good original message but it just did not deliver it right . xxmaj overall though it was entertaining . xxbos \" xxmaj watch the xxmaj skies \" ( 2005 - 60 minutes ) is an excellent documentary about movies of xxmaj science xxmaj fiction . xxmaj it was produced and directed by the critic</td>\n",
              "    </tr>\n",
              "    <tr>\n",
              "      <td>2</td>\n",
              "      <td>young man , so in love with a woman that is possessed by demons , that he 'll never be able to chase away or get her to love him in a normal manner . \\n \\n  xxmaj michael xxmaj haneke films are always disturbing to watch , yet they offer so many rewards because he dares to go where other men do n't . xxmaj the magnificent music</td>\n",
              "    </tr>\n",
              "    <tr>\n",
              "      <td>3</td>\n",
              "      <td>much to protect himself . xxmaj his allies are in the police department but just about everything else is pretty corrupt . xxmaj he perseveres ( almost too good to be true ) , of course , and we pull for him . xxmaj the problem for me is a lack of sustained suspense . xxmaj it would have been much better if he had had to clear his name</td>\n",
              "    </tr>\n",
              "    <tr>\n",
              "      <td>4</td>\n",
              "      <td>xxmaj iraq , the film is surprisingly relevant . xxmaj estevez does a magnificent job with material . xxmaj he gets a lot of help from a hand - picked cast . xxmaj martin xxmaj sheen and xxmaj kathy xxmaj bates in particular are superb as the parents . a truly moving film . xxmaj highly recommended xxbos xxmaj this is the best xxup 3-d experience xxmaj disney has at</td>\n",
              "    </tr>\n",
              "  </tbody>\n",
              "</table>"
            ],
            "text/plain": [
              "<IPython.core.display.HTML object>"
            ]
          },
          "metadata": {
            "tags": []
          }
        }
      ]
    },
    {
      "cell_type": "markdown",
      "metadata": {
        "hidden": true,
        "id": "ykp4NZyFm1A5"
      },
      "source": [
        "#### Save the `databunch` for next time."
      ]
    },
    {
      "cell_type": "code",
      "metadata": {
        "id": "CIGtUdy6m1A6"
      },
      "source": [
        "data_lm.save()"
      ],
      "execution_count": 17,
      "outputs": []
    },
    {
      "cell_type": "markdown",
      "metadata": {
        "id": "X4QFaXDGm1A6"
      },
      "source": [
        "#### Load the saved data"
      ]
    },
    {
      "cell_type": "code",
      "metadata": {
        "id": "SvzgyFwUm1A7",
        "colab": {
          "base_uri": "https://localhost:8080/",
          "height": 175
        },
        "outputId": "a4c8db32-9159-467a-cd42-5f547d50c5b6"
      },
      "source": [
        "data_lm = load_data(path, 'lm_databunch', bs=bs)"
      ],
      "execution_count": 2,
      "outputs": [
        {
          "output_type": "error",
          "ename": "NameError",
          "evalue": "ignored",
          "traceback": [
            "\u001b[0;31m---------------------------------------------------------------------------\u001b[0m",
            "\u001b[0;31mNameError\u001b[0m                                 Traceback (most recent call last)",
            "\u001b[0;32m<ipython-input-2-d082362144ce>\u001b[0m in \u001b[0;36m<module>\u001b[0;34m()\u001b[0m\n\u001b[0;32m----> 1\u001b[0;31m \u001b[0mdata_lm\u001b[0m \u001b[0;34m=\u001b[0m \u001b[0mload_data\u001b[0m\u001b[0;34m(\u001b[0m\u001b[0mpath\u001b[0m\u001b[0;34m,\u001b[0m \u001b[0;34m'lm_databunch'\u001b[0m\u001b[0;34m,\u001b[0m \u001b[0mbs\u001b[0m\u001b[0;34m=\u001b[0m\u001b[0mbs\u001b[0m\u001b[0;34m)\u001b[0m\u001b[0;34m\u001b[0m\u001b[0;34m\u001b[0m\u001b[0m\n\u001b[0m",
            "\u001b[0;31mNameError\u001b[0m: name 'load_data' is not defined"
          ]
        }
      ]
    },
    {
      "cell_type": "markdown",
      "metadata": {
        "id": "2JXQDSqZm1A7"
      },
      "source": [
        "### 2B. The **Transfer Learning** step.\n",
        "#### This is where the magic happens!\n",
        "#### The `AWD_LSTM` object contains the pretrained weights and the neural net architecture of the `wikitext-103` language model. These will be downloaded the first time you execute the following line, and stored in `~/.fastai/models/` (or elsewhere if you specified different paths in your config file). \n",
        "\n",
        "We import these into the `language_model_learner` object (coming from fastai library) for our `IMDb` language model as follows:"
      ]
    },
    {
      "cell_type": "code",
      "metadata": {
        "scrolled": true,
        "id": "u4u2xQrSm1A7",
        "colab": {
          "base_uri": "https://localhost:8080/",
          "height": 36
        },
        "outputId": "a72534e8-b4c2-4ff6-e646-d66e9edd965c"
      },
      "source": [
        "learn_lm = language_model_learner(data_lm, AWD_LSTM, drop_mult=0.3)"
      ],
      "execution_count": 20,
      "outputs": [
        {
          "output_type": "stream",
          "text": [
            "Downloading https://s3.amazonaws.com/fast-ai-modelzoo/wt103-fwd.tgz\n"
          ],
          "name": "stdout"
        },
        {
          "output_type": "display_data",
          "data": {
            "text/html": [
              ""
            ],
            "text/plain": [
              "<IPython.core.display.HTML object>"
            ]
          },
          "metadata": {
            "tags": []
          }
        }
      ]
    },
    {
      "cell_type": "markdown",
      "metadata": {
        "id": "PY8HoIFOm1A7"
      },
      "source": [
        "#### Get the `IMDb` language model `vocabulary`"
      ]
    },
    {
      "cell_type": "code",
      "metadata": {
        "id": "TMe7KadQm1A8"
      },
      "source": [
        "vocab = data_lm.vocab"
      ],
      "execution_count": 21,
      "outputs": []
    },
    {
      "cell_type": "code",
      "metadata": {
        "id": "3BlQmJ-sm1A8",
        "colab": {
          "base_uri": "https://localhost:8080/"
        },
        "outputId": "94b6b41c-73c7-4e18-8449-e5e9c14b350d"
      },
      "source": [
        "vocab.stoi[\"stingray\"]"
      ],
      "execution_count": 22,
      "outputs": [
        {
          "output_type": "execute_result",
          "data": {
            "text/plain": [
              "37906"
            ]
          },
          "metadata": {
            "tags": []
          },
          "execution_count": 22
        }
      ]
    },
    {
      "cell_type": "code",
      "metadata": {
        "id": "87CNV_ETm1A8",
        "colab": {
          "base_uri": "https://localhost:8080/",
          "height": 37
        },
        "outputId": "7d6fd085-a5e1-4e7a-bfde-e3f8ecc9824a"
      },
      "source": [
        "vocab.itos[vocab.stoi[\"stingray\"]]"
      ],
      "execution_count": 23,
      "outputs": [
        {
          "output_type": "execute_result",
          "data": {
            "application/vnd.google.colaboratory.intrinsic+json": {
              "type": "string"
            },
            "text/plain": [
              "'stingray'"
            ]
          },
          "metadata": {
            "tags": []
          },
          "execution_count": 23
        }
      ]
    },
    {
      "cell_type": "code",
      "metadata": {
        "id": "zmjJbpAjm1A9",
        "colab": {
          "base_uri": "https://localhost:8080/",
          "height": 37
        },
        "outputId": "0c2d897c-fa23-4cbf-cd77-eb5ca1431041"
      },
      "source": [
        "vocab.itos[vocab.stoi[\"mobula\"]]"
      ],
      "execution_count": 24,
      "outputs": [
        {
          "output_type": "execute_result",
          "data": {
            "application/vnd.google.colaboratory.intrinsic+json": {
              "type": "string"
            },
            "text/plain": [
              "'xxunk'"
            ]
          },
          "metadata": {
            "tags": []
          },
          "execution_count": 24
        }
      ]
    },
    {
      "cell_type": "code",
      "metadata": {
        "id": "MRLpH84vm1A9"
      },
      "source": [
        "awd = learn_lm.model[0]"
      ],
      "execution_count": 25,
      "outputs": []
    },
    {
      "cell_type": "markdown",
      "metadata": {
        "id": "yXK5i807m1A9"
      },
      "source": [
        "#### Get the `IMDb` language model `encoder`. Recall that the `encoder` translates tokens into numerical vectors in the space defined by the `IMDb` vocabulary."
      ]
    },
    {
      "cell_type": "code",
      "metadata": {
        "id": "02Jw0dN2m1A9"
      },
      "source": [
        "enc = learn_lm.model[0].encoder"
      ],
      "execution_count": 26,
      "outputs": []
    },
    {
      "cell_type": "code",
      "metadata": {
        "id": "9ugjP7gDm1A-",
        "colab": {
          "base_uri": "https://localhost:8080/"
        },
        "outputId": "e112bb6b-0c4b-40ec-f364-98dc442e32dc"
      },
      "source": [
        "enc.weight.size()"
      ],
      "execution_count": 27,
      "outputs": [
        {
          "output_type": "execute_result",
          "data": {
            "text/plain": [
              "torch.Size([60000, 400])"
            ]
          },
          "metadata": {
            "tags": []
          },
          "execution_count": 27
        }
      ]
    },
    {
      "cell_type": "markdown",
      "metadata": {
        "heading_collapsed": true,
        "id": "3HXeDxtKm1A-"
      },
      "source": [
        "#### Difference in vocabulary between IMDB and Wikipedia language models"
      ]
    },
    {
      "cell_type": "markdown",
      "metadata": {
        "hidden": true,
        "id": "bcyj7q5rm1A-"
      },
      "source": [
        "We are going to load `wiki_itos` (the index-to-string list) from the `wikitext 103` language model.  We will compare the vocabularies of `wikitext-103` and `IMDB`.  It is to be expected that the two sets have some different vocabulary words, and that is no problem for transfer learning!"
      ]
    },
    {
      "cell_type": "code",
      "metadata": {
        "id": "afDTlxxom1A-"
      },
      "source": [
        "#wiki_itos = pickle.load(open(Config().model_path()/'wt103-1/itos_wt103.pkl', 'rb'))\n",
        "wiki_itos = pickle.load(open(Config().model_path()/'wt103-fwd/itos_wt103.pkl', 'rb'))"
      ],
      "execution_count": 28,
      "outputs": []
    },
    {
      "cell_type": "code",
      "metadata": {
        "scrolled": true,
        "id": "uwIgTfEFm1A-",
        "colab": {
          "base_uri": "https://localhost:8080/"
        },
        "outputId": "ba5b6df0-27ad-4d05-92a8-f95ccabb4391"
      },
      "source": [
        "wiki_itos[:10]"
      ],
      "execution_count": 29,
      "outputs": [
        {
          "output_type": "execute_result",
          "data": {
            "text/plain": [
              "['xxunk',\n",
              " 'xxpad',\n",
              " 'xxbos',\n",
              " 'xxeos',\n",
              " 'xxfld',\n",
              " 'xxmaj',\n",
              " 'xxup',\n",
              " 'xxrep',\n",
              " 'xxwrep',\n",
              " 'the']"
            ]
          },
          "metadata": {
            "tags": []
          },
          "execution_count": 29
        }
      ]
    },
    {
      "cell_type": "code",
      "metadata": {
        "hidden": true,
        "id": "coxDPkmVm1A_",
        "colab": {
          "base_uri": "https://localhost:8080/"
        },
        "outputId": "5f6f5ccd-36cc-4533-dcee-538e445cf256"
      },
      "source": [
        "len(wiki_itos)"
      ],
      "execution_count": 30,
      "outputs": [
        {
          "output_type": "execute_result",
          "data": {
            "text/plain": [
              "60000"
            ]
          },
          "metadata": {
            "tags": []
          },
          "execution_count": 30
        }
      ]
    },
    {
      "cell_type": "code",
      "metadata": {
        "hidden": true,
        "id": "dyrdpO16m1A_",
        "colab": {
          "base_uri": "https://localhost:8080/"
        },
        "outputId": "499e6964-26c6-4a38-8f58-babb77ffdc79"
      },
      "source": [
        "len(vocab.itos)"
      ],
      "execution_count": 31,
      "outputs": [
        {
          "output_type": "execute_result",
          "data": {
            "text/plain": [
              "60000"
            ]
          },
          "metadata": {
            "tags": []
          },
          "execution_count": 31
        }
      ]
    },
    {
      "cell_type": "code",
      "metadata": {
        "hidden": true,
        "id": "kFsvpLkMm1A_"
      },
      "source": [
        "i, unks = 0, []\n",
        "while len(unks) < 50:\n",
        "    if data_lm.vocab.itos[i] not in wiki_itos: unks.append((i,data_lm.vocab.itos[i]))\n",
        "    i += 1"
      ],
      "execution_count": 32,
      "outputs": []
    },
    {
      "cell_type": "code",
      "metadata": {
        "hidden": true,
        "id": "2jQMSZlgm1BA"
      },
      "source": [
        "wiki_words = set(wiki_itos)"
      ],
      "execution_count": 33,
      "outputs": []
    },
    {
      "cell_type": "code",
      "metadata": {
        "hidden": true,
        "id": "g8YganmEm1BA"
      },
      "source": [
        "imdb_words = set(vocab.itos)"
      ],
      "execution_count": 34,
      "outputs": []
    },
    {
      "cell_type": "code",
      "metadata": {
        "hidden": true,
        "id": "UQ9CpCvgm1BA"
      },
      "source": [
        "wiki_not_imbdb = wiki_words.difference(imdb_words)"
      ],
      "execution_count": 35,
      "outputs": []
    },
    {
      "cell_type": "code",
      "metadata": {
        "hidden": true,
        "id": "IlXUL2zHm1BA"
      },
      "source": [
        "imdb_not_wiki = imdb_words.difference(wiki_words)"
      ],
      "execution_count": 36,
      "outputs": []
    },
    {
      "cell_type": "code",
      "metadata": {
        "hidden": true,
        "id": "TVBtOPB8m1BA"
      },
      "source": [
        "wiki_not_imdb_list = []\n",
        "\n",
        "for i in range(100):\n",
        "    word = wiki_not_imbdb.pop()\n",
        "    wiki_not_imdb_list.append(word)\n",
        "    wiki_not_imbdb.add(word)"
      ],
      "execution_count": 37,
      "outputs": []
    },
    {
      "cell_type": "code",
      "metadata": {
        "hidden": true,
        "scrolled": true,
        "id": "QvQhXpEGm1BA",
        "colab": {
          "base_uri": "https://localhost:8080/"
        },
        "outputId": "155a4f0d-842b-4e99-c9fa-789152374466"
      },
      "source": [
        "wiki_not_imdb_list[:15]"
      ],
      "execution_count": 38,
      "outputs": [
        {
          "output_type": "execute_result",
          "data": {
            "text/plain": [
              "['nwo',\n",
              " 'tipu',\n",
              " '200th',\n",
              " 'cosplay',\n",
              " 'chesnutt',\n",
              " 'arnolfini',\n",
              " 'soli',\n",
              " '95,000',\n",
              " 'mayen',\n",
              " 'sawtooth',\n",
              " 'pby',\n",
              " 'freewheelin',\n",
              " 'prosaurolophus',\n",
              " 'watten',\n",
              " 'volt']"
            ]
          },
          "metadata": {
            "tags": []
          },
          "execution_count": 38
        }
      ]
    },
    {
      "cell_type": "code",
      "metadata": {
        "hidden": true,
        "id": "SJipH2Wim1BB"
      },
      "source": [
        "imdb_not_wiki_list = []\n",
        "\n",
        "for i in range(100):\n",
        "    word = imdb_not_wiki.pop()\n",
        "    imdb_not_wiki_list.append(word)\n",
        "    imdb_not_wiki.add(word)"
      ],
      "execution_count": 39,
      "outputs": []
    },
    {
      "cell_type": "code",
      "metadata": {
        "hidden": true,
        "id": "EoJ6gkhIm1BB",
        "colab": {
          "base_uri": "https://localhost:8080/"
        },
        "outputId": "d85e2f49-20c0-408c-c056-123e42e4b305"
      },
      "source": [
        "imdb_not_wiki_list[:15]"
      ],
      "execution_count": 40,
      "outputs": [
        {
          "output_type": "execute_result",
          "data": {
            "text/plain": [
              "['haven`t',\n",
              " 'synchronizer',\n",
              " 'irréversible',\n",
              " 'pariahs',\n",
              " 'espandi',\n",
              " 'dangle',\n",
              " 'pacte',\n",
              " 'amping',\n",
              " 'arif',\n",
              " 'buffoonish',\n",
              " 'chokher',\n",
              " 'hoodie',\n",
              " 'flatulent',\n",
              " 'electroshock',\n",
              " 'fanboys']"
            ]
          },
          "metadata": {
            "tags": []
          },
          "execution_count": 40
        }
      ]
    },
    {
      "cell_type": "markdown",
      "metadata": {
        "hidden": true,
        "id": "5tDUE1aYm1BB"
      },
      "source": [
        "All words that appear in the `IMDB` vocab, but not the `wikitext-103` vocab, will be initialized to the same random vector in a model.  As the model trains, we will learn their weights."
      ]
    },
    {
      "cell_type": "code",
      "metadata": {
        "hidden": true,
        "id": "1sPsgod9m1BB",
        "colab": {
          "base_uri": "https://localhost:8080/"
        },
        "outputId": "500838f2-561c-4dfd-f3e4-758e7bad6823"
      },
      "source": [
        "vocab.stoi[\"modernisation\"]"
      ],
      "execution_count": 41,
      "outputs": [
        {
          "output_type": "execute_result",
          "data": {
            "text/plain": [
              "0"
            ]
          },
          "metadata": {
            "tags": []
          },
          "execution_count": 41
        }
      ]
    },
    {
      "cell_type": "code",
      "metadata": {
        "hidden": true,
        "id": "0txtQU2Mm1BC",
        "colab": {
          "base_uri": "https://localhost:8080/"
        },
        "outputId": "545cec33-a694-4ff1-9af4-b6376be00f78"
      },
      "source": [
        "\"modernisation\" in wiki_words"
      ],
      "execution_count": 42,
      "outputs": [
        {
          "output_type": "execute_result",
          "data": {
            "text/plain": [
              "True"
            ]
          },
          "metadata": {
            "tags": []
          },
          "execution_count": 42
        }
      ]
    },
    {
      "cell_type": "code",
      "metadata": {
        "hidden": true,
        "id": "IugwWOiym1BC",
        "colab": {
          "base_uri": "https://localhost:8080/"
        },
        "outputId": "c55c4fa9-5ef9-47e7-97a2-f3ed4028d372"
      },
      "source": [
        "vocab.stoi[\"30-something\"]"
      ],
      "execution_count": 43,
      "outputs": [
        {
          "output_type": "execute_result",
          "data": {
            "text/plain": [
              "28139"
            ]
          },
          "metadata": {
            "tags": []
          },
          "execution_count": 43
        }
      ]
    },
    {
      "cell_type": "code",
      "metadata": {
        "hidden": true,
        "id": "7-z5gCxfm1BD",
        "colab": {
          "base_uri": "https://localhost:8080/"
        },
        "outputId": "0002d375-e15a-44b8-922d-d7df1dfa6cbe"
      },
      "source": [
        "\"30-something\" in wiki_words, \"30-something\" in imdb_words"
      ],
      "execution_count": 44,
      "outputs": [
        {
          "output_type": "execute_result",
          "data": {
            "text/plain": [
              "(False, True)"
            ]
          },
          "metadata": {
            "tags": []
          },
          "execution_count": 44
        }
      ]
    },
    {
      "cell_type": "code",
      "metadata": {
        "hidden": true,
        "id": "V4z2iVPmm1BD",
        "colab": {
          "base_uri": "https://localhost:8080/"
        },
        "outputId": "1e26c51e-34fa-4f00-aaaf-13d414596745"
      },
      "source": [
        "vocab.stoi[\"linklater\"]"
      ],
      "execution_count": 45,
      "outputs": [
        {
          "output_type": "execute_result",
          "data": {
            "text/plain": [
              "16706"
            ]
          },
          "metadata": {
            "tags": []
          },
          "execution_count": 45
        }
      ]
    },
    {
      "cell_type": "code",
      "metadata": {
        "hidden": true,
        "id": "HYvWBoEkm1BE",
        "colab": {
          "base_uri": "https://localhost:8080/"
        },
        "outputId": "11e034b2-a435-488e-eab3-48830e51d127"
      },
      "source": [
        "\"linklater\" in wiki_words, \"linklater\" in imdb_words"
      ],
      "execution_count": 46,
      "outputs": [
        {
          "output_type": "execute_result",
          "data": {
            "text/plain": [
              "(False, True)"
            ]
          },
          "metadata": {
            "tags": []
          },
          "execution_count": 46
        }
      ]
    },
    {
      "cell_type": "code",
      "metadata": {
        "hidden": true,
        "scrolled": true,
        "id": "o_V76uVNm1BE",
        "outputId": "6f03ade6-4692-46ee-8209-52b0c88d4a2a"
      },
      "source": [
        "\"house\" in wiki_words, \"house\" in imdb_words"
      ],
      "execution_count": null,
      "outputs": [
        {
          "output_type": "execute_result",
          "data": {
            "text/plain": [
              "(True, True)"
            ]
          },
          "metadata": {
            "tags": []
          },
          "execution_count": 46
        }
      ]
    },
    {
      "cell_type": "code",
      "metadata": {
        "hidden": true,
        "id": "7k4G_2X8m1BE",
        "colab": {
          "base_uri": "https://localhost:8080/",
          "height": 427
        },
        "outputId": "ababb33c-cf14-4968-a9c8-bc3ecb2fc18b"
      },
      "source": [
        "np.allclose(enc.weight[vocab.stoi[\"30-something\"], :], \n",
        "            enc.weight[vocab.stoi[\"linklater\"], :])"
      ],
      "execution_count": 47,
      "outputs": [
        {
          "output_type": "error",
          "ename": "TypeError",
          "evalue": "ignored",
          "traceback": [
            "\u001b[0;31m---------------------------------------------------------------------------\u001b[0m",
            "\u001b[0;31mTypeError\u001b[0m                                 Traceback (most recent call last)",
            "\u001b[0;32m<ipython-input-47-87773d7b962f>\u001b[0m in \u001b[0;36m<module>\u001b[0;34m()\u001b[0m\n\u001b[1;32m      1\u001b[0m np.allclose(enc.weight[vocab.stoi[\"30-something\"], :], \n\u001b[0;32m----> 2\u001b[0;31m             enc.weight[vocab.stoi[\"linklater\"], :])\n\u001b[0m",
            "\u001b[0;32m<__array_function__ internals>\u001b[0m in \u001b[0;36mallclose\u001b[0;34m(*args, **kwargs)\u001b[0m\n",
            "\u001b[0;32m/usr/local/lib/python3.6/dist-packages/numpy/core/numeric.py\u001b[0m in \u001b[0;36mallclose\u001b[0;34m(a, b, rtol, atol, equal_nan)\u001b[0m\n\u001b[1;32m   2187\u001b[0m \u001b[0;34m\u001b[0m\u001b[0m\n\u001b[1;32m   2188\u001b[0m     \"\"\"\n\u001b[0;32m-> 2189\u001b[0;31m     \u001b[0mres\u001b[0m \u001b[0;34m=\u001b[0m \u001b[0mall\u001b[0m\u001b[0;34m(\u001b[0m\u001b[0misclose\u001b[0m\u001b[0;34m(\u001b[0m\u001b[0ma\u001b[0m\u001b[0;34m,\u001b[0m \u001b[0mb\u001b[0m\u001b[0;34m,\u001b[0m \u001b[0mrtol\u001b[0m\u001b[0;34m=\u001b[0m\u001b[0mrtol\u001b[0m\u001b[0;34m,\u001b[0m \u001b[0matol\u001b[0m\u001b[0;34m=\u001b[0m\u001b[0matol\u001b[0m\u001b[0;34m,\u001b[0m \u001b[0mequal_nan\u001b[0m\u001b[0;34m=\u001b[0m\u001b[0mequal_nan\u001b[0m\u001b[0;34m)\u001b[0m\u001b[0;34m)\u001b[0m\u001b[0;34m\u001b[0m\u001b[0;34m\u001b[0m\u001b[0m\n\u001b[0m\u001b[1;32m   2190\u001b[0m     \u001b[0;32mreturn\u001b[0m \u001b[0mbool\u001b[0m\u001b[0;34m(\u001b[0m\u001b[0mres\u001b[0m\u001b[0;34m)\u001b[0m\u001b[0;34m\u001b[0m\u001b[0;34m\u001b[0m\u001b[0m\n\u001b[1;32m   2191\u001b[0m \u001b[0;34m\u001b[0m\u001b[0m\n",
            "\u001b[0;32m<__array_function__ internals>\u001b[0m in \u001b[0;36misclose\u001b[0;34m(*args, **kwargs)\u001b[0m\n",
            "\u001b[0;32m/usr/local/lib/python3.6/dist-packages/numpy/core/numeric.py\u001b[0m in \u001b[0;36misclose\u001b[0;34m(a, b, rtol, atol, equal_nan)\u001b[0m\n\u001b[1;32m   2276\u001b[0m             \u001b[0;32mreturn\u001b[0m \u001b[0mless_equal\u001b[0m\u001b[0;34m(\u001b[0m\u001b[0mabs\u001b[0m\u001b[0;34m(\u001b[0m\u001b[0mx\u001b[0m\u001b[0;34m-\u001b[0m\u001b[0my\u001b[0m\u001b[0;34m)\u001b[0m\u001b[0;34m,\u001b[0m \u001b[0matol\u001b[0m \u001b[0;34m+\u001b[0m \u001b[0mrtol\u001b[0m \u001b[0;34m*\u001b[0m \u001b[0mabs\u001b[0m\u001b[0;34m(\u001b[0m\u001b[0my\u001b[0m\u001b[0;34m)\u001b[0m\u001b[0;34m)\u001b[0m\u001b[0;34m\u001b[0m\u001b[0;34m\u001b[0m\u001b[0m\n\u001b[1;32m   2277\u001b[0m \u001b[0;34m\u001b[0m\u001b[0m\n\u001b[0;32m-> 2278\u001b[0;31m     \u001b[0mx\u001b[0m \u001b[0;34m=\u001b[0m \u001b[0masanyarray\u001b[0m\u001b[0;34m(\u001b[0m\u001b[0ma\u001b[0m\u001b[0;34m)\u001b[0m\u001b[0;34m\u001b[0m\u001b[0;34m\u001b[0m\u001b[0m\n\u001b[0m\u001b[1;32m   2279\u001b[0m     \u001b[0my\u001b[0m \u001b[0;34m=\u001b[0m \u001b[0masanyarray\u001b[0m\u001b[0;34m(\u001b[0m\u001b[0mb\u001b[0m\u001b[0;34m)\u001b[0m\u001b[0;34m\u001b[0m\u001b[0;34m\u001b[0m\u001b[0m\n\u001b[1;32m   2280\u001b[0m \u001b[0;34m\u001b[0m\u001b[0m\n",
            "\u001b[0;32m/usr/local/lib/python3.6/dist-packages/numpy/core/_asarray.py\u001b[0m in \u001b[0;36masanyarray\u001b[0;34m(a, dtype, order)\u001b[0m\n\u001b[1;32m    134\u001b[0m \u001b[0;34m\u001b[0m\u001b[0m\n\u001b[1;32m    135\u001b[0m     \"\"\"\n\u001b[0;32m--> 136\u001b[0;31m     \u001b[0;32mreturn\u001b[0m \u001b[0marray\u001b[0m\u001b[0;34m(\u001b[0m\u001b[0ma\u001b[0m\u001b[0;34m,\u001b[0m \u001b[0mdtype\u001b[0m\u001b[0;34m,\u001b[0m \u001b[0mcopy\u001b[0m\u001b[0;34m=\u001b[0m\u001b[0;32mFalse\u001b[0m\u001b[0;34m,\u001b[0m \u001b[0morder\u001b[0m\u001b[0;34m=\u001b[0m\u001b[0morder\u001b[0m\u001b[0;34m,\u001b[0m \u001b[0msubok\u001b[0m\u001b[0;34m=\u001b[0m\u001b[0;32mTrue\u001b[0m\u001b[0;34m)\u001b[0m\u001b[0;34m\u001b[0m\u001b[0;34m\u001b[0m\u001b[0m\n\u001b[0m\u001b[1;32m    137\u001b[0m \u001b[0;34m\u001b[0m\u001b[0m\n\u001b[1;32m    138\u001b[0m \u001b[0;34m\u001b[0m\u001b[0m\n",
            "\u001b[0;32m/usr/local/lib/python3.6/dist-packages/torch/tensor.py\u001b[0m in \u001b[0;36m__array__\u001b[0;34m(self, dtype)\u001b[0m\n\u001b[1;32m    628\u001b[0m             \u001b[0;32mreturn\u001b[0m \u001b[0mhandle_torch_function\u001b[0m\u001b[0;34m(\u001b[0m\u001b[0mTensor\u001b[0m\u001b[0;34m.\u001b[0m\u001b[0m__array__\u001b[0m\u001b[0;34m,\u001b[0m \u001b[0mrelevant_args\u001b[0m\u001b[0;34m,\u001b[0m \u001b[0mself\u001b[0m\u001b[0;34m,\u001b[0m \u001b[0mdtype\u001b[0m\u001b[0;34m=\u001b[0m\u001b[0mdtype\u001b[0m\u001b[0;34m)\u001b[0m\u001b[0;34m\u001b[0m\u001b[0;34m\u001b[0m\u001b[0m\n\u001b[1;32m    629\u001b[0m         \u001b[0;32mif\u001b[0m \u001b[0mdtype\u001b[0m \u001b[0;32mis\u001b[0m \u001b[0;32mNone\u001b[0m\u001b[0;34m:\u001b[0m\u001b[0;34m\u001b[0m\u001b[0;34m\u001b[0m\u001b[0m\n\u001b[0;32m--> 630\u001b[0;31m             \u001b[0;32mreturn\u001b[0m \u001b[0mself\u001b[0m\u001b[0;34m.\u001b[0m\u001b[0mnumpy\u001b[0m\u001b[0;34m(\u001b[0m\u001b[0;34m)\u001b[0m\u001b[0;34m\u001b[0m\u001b[0;34m\u001b[0m\u001b[0m\n\u001b[0m\u001b[1;32m    631\u001b[0m         \u001b[0;32melse\u001b[0m\u001b[0;34m:\u001b[0m\u001b[0;34m\u001b[0m\u001b[0;34m\u001b[0m\u001b[0m\n\u001b[1;32m    632\u001b[0m             \u001b[0;32mreturn\u001b[0m \u001b[0mself\u001b[0m\u001b[0;34m.\u001b[0m\u001b[0mnumpy\u001b[0m\u001b[0;34m(\u001b[0m\u001b[0;34m)\u001b[0m\u001b[0;34m.\u001b[0m\u001b[0mastype\u001b[0m\u001b[0;34m(\u001b[0m\u001b[0mdtype\u001b[0m\u001b[0;34m,\u001b[0m \u001b[0mcopy\u001b[0m\u001b[0;34m=\u001b[0m\u001b[0;32mFalse\u001b[0m\u001b[0;34m)\u001b[0m\u001b[0;34m\u001b[0m\u001b[0;34m\u001b[0m\u001b[0m\n",
            "\u001b[0;31mTypeError\u001b[0m: can't convert cuda:0 device type tensor to numpy. Use Tensor.cpu() to copy the tensor to host memory first."
          ]
        }
      ]
    },
    {
      "cell_type": "code",
      "metadata": {
        "hidden": true,
        "id": "2aebrxZIm1BF",
        "outputId": "0c6b1004-1db8-4ad0-8e6b-a5f923930ba7"
      },
      "source": [
        "np.allclose(enc.weight[vocab.stoi[\"30-something\"], :], \n",
        "            enc.weight[vocab.stoi[\"house\"], :])"
      ],
      "execution_count": null,
      "outputs": [
        {
          "output_type": "execute_result",
          "data": {
            "text/plain": [
              "False"
            ]
          },
          "metadata": {
            "tags": []
          },
          "execution_count": 48
        }
      ]
    },
    {
      "cell_type": "code",
      "metadata": {
        "hidden": true,
        "id": "HEMK1RT-m1BF"
      },
      "source": [
        "new_word_vec = enc.weight[vocab.stoi[\"linklater\"], :]"
      ],
      "execution_count": 48,
      "outputs": []
    },
    {
      "cell_type": "markdown",
      "metadata": {
        "heading_collapsed": true,
        "id": "xyRVkWMZm1BF"
      },
      "source": [
        "#### Generating fake movie review-like text with the **untrained** `IMDb` language model"
      ]
    },
    {
      "cell_type": "code",
      "metadata": {
        "hidden": true,
        "id": "snwtFithm1BF"
      },
      "source": [
        "TEXT = \"The color of the sky is\"\n",
        "N_WORDS = 40\n",
        "N_SENTENCES = 2"
      ],
      "execution_count": 49,
      "outputs": []
    },
    {
      "cell_type": "code",
      "metadata": {
        "hidden": true,
        "scrolled": false,
        "id": "Bwy4Dlwwm1BG",
        "colab": {
          "base_uri": "https://localhost:8080/"
        },
        "outputId": "c92bf285-8cc1-496a-a05d-857704710b76"
      },
      "source": [
        "print(\"\\n\".join(learn_lm.predict(TEXT, N_WORDS, temperature=0.75) for _ in range(N_SENTENCES)))"
      ],
      "execution_count": 50,
      "outputs": [
        {
          "output_type": "stream",
          "text": [
            "The color of the sky is portrayed as follows : \n",
            " \n",
            "  = = = Stairway to the Sky = = = \n",
            " \n",
            "  The trio 's view is that a girl who is a girl with a white hair is said to be \"\n",
            "The color of the sky is black and the sky is blue . The television series Star Wars takes place on the planet 's sky and represents the existence of Earth 's sky . However , the sky and the sky\n"
          ],
          "name": "stdout"
        }
      ]
    },
    {
      "cell_type": "code",
      "metadata": {
        "hidden": true,
        "id": "uqgu67Wem1BG"
      },
      "source": [
        "TEXT = \"I hated this movie\"\n",
        "N_WORDS = 30\n",
        "N_SENTENCES = 2"
      ],
      "execution_count": 51,
      "outputs": []
    },
    {
      "cell_type": "code",
      "metadata": {
        "hidden": true,
        "id": "_FmPwbWMm1BH",
        "colab": {
          "base_uri": "https://localhost:8080/"
        },
        "outputId": "df5f74d5-5763-4ba4-d9f9-70e131a4d7a0"
      },
      "source": [
        "print(\"\\n\".join(learn_lm.predict(TEXT, N_WORDS, temperature=0.75) for _ in range(N_SENTENCES)))"
      ],
      "execution_count": 52,
      "outputs": [
        {
          "output_type": "stream",
          "text": [
            "I hated this movie and it was a parody of the English literature . The film 's soundtrack was composed by Marcel Longingly , in response to the 1976\n",
            "I hated this movie by the French director of the French Academy of Film and Television Arts , Jean - Baptiste Jacques Du\n"
          ],
          "name": "stdout"
        }
      ]
    },
    {
      "cell_type": "code",
      "metadata": {
        "hidden": true,
        "scrolled": true,
        "id": "ECsJUNBCm1BH",
        "colab": {
          "base_uri": "https://localhost:8080/"
        },
        "outputId": "c9c06531-b18e-49b1-bbf7-735b454f082a"
      },
      "source": [
        "print(\"\\n\".join(learn_lm.predict(TEXT, N_WORDS, temperature=0.75) for _ in range(N_SENTENCES)))"
      ],
      "execution_count": 53,
      "outputs": [
        {
          "output_type": "stream",
          "text": [
            "I hated this movie , for which the British Board of Film Classification rejected the Academy Award for Best Picture , but British Film\n",
            "I hated this movie = \n",
            " \n",
            "  The 1995 film Dracula 's Daughter was the first Paranormal Fantasy title to be taken by a \" Twilight Zone \"\n"
          ],
          "name": "stdout"
        }
      ]
    },
    {
      "cell_type": "code",
      "metadata": {
        "hidden": true,
        "id": "j13nxFECm1BI",
        "colab": {
          "base_uri": "https://localhost:8080/",
          "height": 198
        },
        "outputId": "2072f7e2-d4eb-4e37-f062-518a6d2b62fe"
      },
      "source": [
        "doc(LanguageLearner.predict)\n",
        "#Predict returns text and the n_words that come after it."
      ],
      "execution_count": 54,
      "outputs": [
        {
          "output_type": "display_data",
          "data": {
            "text/html": [
              "<h4 id=\"LanguageLearner.predict\" class=\"doc_header\"><code>predict</code><a href=\"https://github.com/fastai/fastai/blob/master/fastai/text/learner.py#L120\" class=\"source_link\" style=\"float:right\">[source]</a><a class=\"source_link\" data-toggle=\"collapse\" data-target=\"#LanguageLearner-predict-pytest\" style=\"float:right; padding-right:10px\">[test]</a></h4><blockquote><p><code>predict</code>(<strong><code>text</code></strong>:<code>str</code>, <strong><code>n_words</code></strong>:<code>int</code>=<strong><em><code>1</code></em></strong>, <strong><code>no_unk</code></strong>:<code>bool</code>=<strong><em><code>True</code></em></strong>, <strong><code>temperature</code></strong>:<code>float</code>=<strong><em><code>1.0</code></em></strong>, <strong><code>min_p</code></strong>:<code>float</code>=<strong><em><code>None</code></em></strong>, <strong><code>sep</code></strong>:<code>str</code>=<strong><em><code>' '</code></em></strong>, <strong><code>decoder</code></strong>=<strong><em><code>'decode_spec_tokens'</code></em></strong>)</p>\n",
              "</blockquote>\n",
              "<div class=\"collapse\" id=\"LanguageLearner-predict-pytest\"><div class=\"card card-body pytest_card\"><a type=\"button\" data-toggle=\"collapse\" data-target=\"#LanguageLearner-predict-pytest\" class=\"close\" aria-label=\"Close\"><span aria-hidden=\"true\">&times;</span></a><p>No tests found for <code>predict</code>. To contribute a test please refer to <a href=\"/dev/test.html\">this guide</a> and <a href=\"https://forums.fast.ai/t/improving-expanding-functional-tests/32929\">this discussion</a>.</p></div></div><p>Return <code>text</code> and the <code>n_words</code> that come after</p>\n",
              "<p><a href=\"https://docs.fast.ai/text.learner.html#LanguageLearner.predict\" target=\"_blank\" rel=\"noreferrer noopener\">Show in docs</a></p>\n"
            ],
            "text/plain": [
              "<IPython.core.display.HTML object>"
            ]
          },
          "metadata": {
            "tags": []
          }
        }
      ]
    },
    {
      "cell_type": "markdown",
      "metadata": {
        "hidden": true,
        "id": "okktQ5KBm1BI"
      },
      "source": [
        "Lowering the `temperature` will make the texts less randomized."
      ]
    },
    {
      "cell_type": "code",
      "metadata": {
        "hidden": true,
        "scrolled": true,
        "id": "mbas2Bapm1BJ",
        "colab": {
          "base_uri": "https://localhost:8080/"
        },
        "outputId": "2008c420-a6e9-4dec-b4b5-562270049a44"
      },
      "source": [
        "print(\"\\n\".join(learn_lm.predict(TEXT, N_WORDS, temperature=0.10) for _ in range(N_SENTENCES)))"
      ],
      "execution_count": 55,
      "outputs": [
        {
          "output_type": "stream",
          "text": [
            "I hated this movie by John Lennon , and he said he was \" a fan of John Lennon \" . He also said that he was \" a\n",
            "I hated this movie by John Lennon , and he said , \" It 's a great movie . It 's a great film . It 's a great\n"
          ],
          "name": "stdout"
        }
      ]
    },
    {
      "cell_type": "code",
      "metadata": {
        "hidden": true,
        "id": "L76zreIYm1BJ",
        "colab": {
          "base_uri": "https://localhost:8080/"
        },
        "outputId": "26833c04-a594-46b6-8fea-e4cf1d34fa69"
      },
      "source": [
        "print(\"\\n\".join(learn_lm.predict(TEXT, N_WORDS, temperature=0.10) for _ in range(N_SENTENCES)))"
      ],
      "execution_count": 57,
      "outputs": [
        {
          "output_type": "stream",
          "text": [
            "I hated this movie by John Lennon , and he said he was \" very disappointed \" with the film . He said that he was \" very disappointed \" with\n",
            "I hated this movie by John Lennon , and he said he was \" a little bit of a fan of the Beatles \" . He said that he was\n"
          ],
          "name": "stdout"
        }
      ]
    },
    {
      "cell_type": "markdown",
      "metadata": {
        "id": "4w_i55iTm1BJ"
      },
      "source": [
        "### 2C. Training (fine-tuning) the `IMDb` language model\n",
        "#### Starting with the `wikitext-103` pretrained weights, we'll fine-tune the model to \"learn\" the structure in the \"language\" of IMDb movie reviews."
      ]
    },
    {
      "cell_type": "markdown",
      "metadata": {
        "id": "n1_jza9ym1BK"
      },
      "source": [
        "#### Choose an appropriate learning rate.\n",
        "\n",
        "You want to choose something where the loss is low and still decreasing at the point you choose it."
      ]
    },
    {
      "cell_type": "code",
      "metadata": {
        "id": "L4M9bHnJm1BK",
        "colab": {
          "base_uri": "https://localhost:8080/",
          "height": 114
        },
        "outputId": "d903f918-0037-4dc6-a6f0-8b07e2e6c2c4"
      },
      "source": [
        "learn_lm.lr_find()\n",
        "#Default for stop_div is true, so stop testing learning rates once loss function starts to diverge or increase."
      ],
      "execution_count": 58,
      "outputs": [
        {
          "output_type": "display_data",
          "data": {
            "text/html": [
              "\n",
              "    <div>\n",
              "        <style>\n",
              "            /* Turns off some styling */\n",
              "            progress {\n",
              "                /* gets rid of default border in Firefox and Opera. */\n",
              "                border: none;\n",
              "                /* Needs to be in here for Safari polyfill so background images work as expected. */\n",
              "                background-size: auto;\n",
              "            }\n",
              "            .progress-bar-interrupted, .progress-bar-interrupted::-webkit-progress-bar {\n",
              "                background: #F44336;\n",
              "            }\n",
              "        </style>\n",
              "      <progress value='0' class='' max='1' style='width:300px; height:20px; vertical-align: middle;'></progress>\n",
              "      0.00% [0/1 00:00<00:00]\n",
              "    </div>\n",
              "    \n",
              "<table border=\"1\" class=\"dataframe\">\n",
              "  <thead>\n",
              "    <tr style=\"text-align: left;\">\n",
              "      <th>epoch</th>\n",
              "      <th>train_loss</th>\n",
              "      <th>valid_loss</th>\n",
              "      <th>accuracy</th>\n",
              "      <th>time</th>\n",
              "    </tr>\n",
              "  </thead>\n",
              "  <tbody>\n",
              "  </tbody>\n",
              "</table><p>\n",
              "\n",
              "    <div>\n",
              "        <style>\n",
              "            /* Turns off some styling */\n",
              "            progress {\n",
              "                /* gets rid of default border in Firefox and Opera. */\n",
              "                border: none;\n",
              "                /* Needs to be in here for Safari polyfill so background images work as expected. */\n",
              "                background-size: auto;\n",
              "            }\n",
              "            .progress-bar-interrupted, .progress-bar-interrupted::-webkit-progress-bar {\n",
              "                background: #F44336;\n",
              "            }\n",
              "        </style>\n",
              "      <progress value='99' class='' max='8060' style='width:300px; height:20px; vertical-align: middle;'></progress>\n",
              "      1.23% [99/8060 00:33<44:47 11.5469]\n",
              "    </div>\n",
              "    "
            ],
            "text/plain": [
              "<IPython.core.display.HTML object>"
            ]
          },
          "metadata": {
            "tags": []
          }
        },
        {
          "output_type": "stream",
          "text": [
            "LR Finder is complete, type {learner_name}.recorder.plot() to see the graph.\n"
          ],
          "name": "stdout"
        }
      ]
    },
    {
      "cell_type": "code",
      "metadata": {
        "id": "ASY7g5wLm1BK",
        "colab": {
          "base_uri": "https://localhost:8080/",
          "height": 279
        },
        "outputId": "8baf179c-4ac7-41d5-bce3-ed3137742882"
      },
      "source": [
        "learn_lm.recorder.plot(skip_end=15)"
      ],
      "execution_count": 59,
      "outputs": [
        {
          "output_type": "display_data",
          "data": {
            "image/png": "[encoded data removed]",
            "text/plain": [
              "<Figure size 432x288 with 1 Axes>"
            ]
          },
          "metadata": {
            "tags": [],
            "needs_background": "light"
          }
        }
      ]
    },
    {
      "cell_type": "code",
      "metadata": {
        "id": "WBVNvhX6m1BL"
      },
      "source": [
        "lr = 1e-3\n",
        "lr *= bs/48"
      ],
      "execution_count": 60,
      "outputs": []
    },
    {
      "cell_type": "markdown",
      "metadata": {
        "id": "u3so3bOXm1BL"
      },
      "source": [
        "#### Use the mixed-precision option, if you have it, otherwise omit this step"
      ]
    },
    {
      "cell_type": "code",
      "metadata": {
        "id": "ln9sFRc3m1BL",
        "colab": {
          "base_uri": "https://localhost:8080/"
        },
        "outputId": "1b8696f8-4889-4566-f5ca-721d0dedbd76"
      },
      "source": [
        "learn_lm.to_fp16()"
      ],
      "execution_count": 61,
      "outputs": [
        {
          "output_type": "execute_result",
          "data": {
            "text/plain": [
              "LanguageLearner(data=TextLMDataBunch;\n",
              "\n",
              "Train: LabelList (90000 items)\n",
              "x: LMTextList\n",
              "xxbos xxmaj jim xxmaj varney 's performances as the xxmaj harem xxmaj girl and xxup xxunk are amazingly funny -- on a level surpassing xxmaj chaplin and xxmaj keaton . xxmaj linda xxmaj kash is great in her once - in - a - lifetime role as the hometown waffle waitress longing for adventure . xxmaj unfortunately , the remaining 90 % of the movie was unwatchably bad due to the atrocious plot . xxmaj the makers of xxmaj ernest xxmaj goes to xxmaj africa did not rise to the creative challenges inherent in low budget film production . xxmaj only worth seeing on cable .,xxbos xxmaj dolemite is one of the best movies featuring a pimp as a hero , who takes down the man , meanwhile hooking up with all the finest women that the ghetto has to provide . xxmaj mind you that these women know karate , and are fine foxy ladies . \n",
              " \n",
              "  xxup spoiler -- the end fight scene is pretty crazy , with xxmaj dolemite ripping the heart out of xxmaj willy xxmaj green . xxmaj make sure your copy is unrated . \n",
              " \n",
              "  xxmaj plus there are a cast full of innovative brilliant characters like the xxmaj hamburger xxmaj pimp , xxmaj reverend , xxmaj mayor , xxmaj queen xxmaj bee , and others . xxmaj the apparel is great , and the sets are full of 70 's style . xxmaj there are a few mess - ups in the production , such as boom mikes accidentally appearing , among other things , but that adds to the charm and laughs . \n",
              " \n",
              "  i would recommend drinking a 6-pack before and during this movie , and keeping squares and the man a far distance away .,xxbos xxmaj this is the last film of a trilogy by the brilliant xxmaj turkish director , xxmaj nuri xxmaj bilge xxmaj ceylan , whose last film xxmaj mayis xxmaj sikintisi -which was very xxmaj xxunk was shown in prestigious film festivals . xxmaj differing from his previous films , the story of ' xxmaj uzak ' is set on xxmaj istanbul which is one of the most crowded cities of the world . xxmaj however , in xxmaj ceylan 's film , we do see only minor traces of that huge crowd . xxmaj rather he choose to focus on two characters , one photographer and one of his relatives who comes from his small village to find a job on transatlantic ships . xxmaj the photographer , who -we understand that- has also immigrated to the city , seems to be inhabited the customs of the city life , not only in material sense . xxmaj in his relation to his relative , we see him first as caring and tolerant , however , when he could not find a job , our xxunk character starts to be disturbed for sharing his private ' space ' with someone whose leaving date becomes ambiguous . i will not reveal the tactics he develops in order to pull his relative out of his life to prevent any harm on your viewing pleasure , but it is enough to say that xxmaj ceylan shows us the tactics that we acquire within the routine of xxunk life ; ' tactics ' to keep our own private space , ' tactics ' in order not to communicate with other people , ' tactics ' to prevent our relationships from gaining a complex nature ( since our own experience , we believe that , is complex enough ) . \n",
              " \n",
              "  xxmaj ceylan 's film presents a clear picture of what a human being becomes within the borders of modern ( or postmodern ? ) city by depicting the two characters in different manners . xxmaj but , he does n't condemn any of the two characters for doing this , rather he uses the power of cinematic language to underline this difference . xxmaj for example , in search of new opportunities , we always see the character coming from the village in open spaces . xxmaj even within the house , he prefers balcony as his favourite space . xxmaj on the other hand , we see the photographer always within the closed spaces , and generally at his home . xxmaj although there are more than 10 million people out there , and lots of adventures , lots of interesting things to discover ( or are there any ? ) he prefers sitting at home , watching xxup tv , etc . xxmaj his home is like his temple , a kind of sacred place . \n",
              " \n",
              "  xxmaj everyone living in a big city , and conscious of the experience he is living through , will find something belonging to himself in xxmaj uzak . xxmaj if you like this film , i am sure that you will like xxmaj ceylan 's other two films , xxmaj mayis xxmaj sikintisi ( xxmaj the xxmaj clouds of xxmaj may ) and xxmaj xxunk ( xxmaj the xxmaj town ) . xxmaj go and find them ! .,xxbos i absolutely loved this show . xxmaj never understood why it was called xxmaj bug xxmaj juice though . i must have been about 13 when it came out . i remember they ran it over the summer holidays on channel 4 , between re - runs of xxmaj xxunk summer and xxmaj saved by the bell or something like that . i remember sitting there and wishing i was at summer camp too - ha ha . xxmaj all the kids in it looked to be having so much fun , it was all about \" discovering who you are \" and \" growing up . \" xxmaj first kisses and all that stuff . i remember there was this really cute guy in it , i think he was the main reason i got up in the mornings that particular summer . xxmaj they should have more teen docu - soaps like this , i thought it was great !,xxbos xxmaj if you like xxmaj cagney you 'll like this film . xxmaj it has the pretense of xxmaj american integrity at any cost , personal or social . xxmaj cagney plays the head of weights and measures in xxup nyc . xxmaj cagney goes up against crooked politicians , the criminal underground , a prominent philanthropist and simple xxunk who add a few ounces to the price of a chicken . xxmaj the chicken scene is hilarious where xxmaj cagney finds a weight placed in the bird cavity by an unsuspecting butcher . xxmaj the chicken gets tossed around the shop in a hilarious scene about who controls the \" evidence \" . xxmaj if you like old telephones there are interesting scenes of dials , phones and even bizarre phone cords . xxmaj compared to a lot of film made today this is pure entertainment and includes mystery with comedy and a message that honesty above all should be the guiding principle of humanity . xxmaj made in simpler times it reflects a world we ca n't find today . xxmaj the fashion ( especially hats ) xxunk and automobiles all play a prominent visual role in defining this little film .\n",
              "y: LMLabelList\n",
              ",,,,\n",
              "Path: /root/.fastai/data/imdb;\n",
              "\n",
              "Valid: LabelList (10000 items)\n",
              "x: LMTextList\n",
              "xxbos a sepia - toned soporific bore , xxmaj elegy is an insult to every older man who enjoyed his relationship with a younger woman . xxmaj heinously miscast as a playboy professor , xxmaj ben xxmaj kingsley is far too stiff , depressed and stiff - backed for the part . xxmaj this is a character tailor - made for xxmaj jeremy xxmaj irons or perhaps xxmaj john xxmaj malkovich , someone with wit and movement . xxmaj in one scene where he is moodily staring out his rain - xxunk apartment window , his posture is less like a man contemplating mortality than someone pondering the sewage system of his street . xxmaj it 's virtually impossible to imagine xxmaj kingsley 's character , xxmaj david xxmaj xxunk , pursuing anything sexual . xxmaj and the scenes where he xxunk lover xxmaj penelope xxmaj cruz are cringe - inducing . xxmaj the film only comes to life in the brief , male bonding scenes with xxmaj dennis xxmaj hopper . i 've not been a fan of xxmaj penelope xxmaj cruz until recently . xxmaj but with her work in xxmaj vicki xxmaj christina xxmaj barcelona and this warm , sensual , intelligent and open performance in xxmaj elegy , i 'm a fan now . xxmaj hopper is lively and fun , even if his character is a slightly mean - spirited xxunk of bad advice . xxmaj patricia xxmaj clarkson is lovely and expressive in her brief scenes , too . xxmaj avoid !,xxbos i really do not like being harsh but this movie is awful ! i mean sometimes i find at least one good thing to say about a movie but there nothing good to be said about this one . xxmaj there is a a lot of senseless action in the movie that has no flow , people die needlessly and repeatedly , there is scary music when there is no need for it , importance is placed on certain roles and then they are removed from the movie by being killed off , and the action scenes involving the lead actress is like watching a xxmaj barbie doll trying to defend herself . xxmaj especially at the end when she plants the ankh in the neck of the woman ! xxmaj it really looks like she does not have the strength to hold the ankh let alone drive it through someone 's neck . xxmaj also let 's not forget how she evades the mummies at the motel . xxmaj she can play an intellect in front of a camera but someone put this actress in a class that teaches how to act out action scenes . \n",
              " \n",
              "  i usually keep a copy of all my movies but not of this one . i am deleting this one just like i deleted xxmaj gargoyles by xxmaj jim xxmaj wynorski .,xxbos xxmaj this is easily the worst adaptation of xxmaj greek mythology i 've ever seen . xxmaj it utterly fails as an adaptation of the original myth , inventing silly plot twists and reducing the 12 xxunk to ... 3 or 4 , i think . xxmaj it makes up utterly needless things to try to integrate other myths in clumsy ways which bring into question the writers ' having ever read the myths , like changing birds to harpies , lions to xxunk , the xxmaj oracle of xxmaj xxunk to xxmaj xxunk , and bulls to a pedantic version of xxmaj xxunk , even integrating aspects , never seen outside of xxmaj sam xxmaj raimi 's entertaining series , concerning his first marriage , to a woman with the co - opted name of one of the xxmaj furies so it sounds appropriate to the period . \n",
              " \n",
              "  i could accept much of that , but it also fails completely in pure film standards ; most painful is the dialogue , leaden , portentous pseudo - xxmaj shakespearean tripe . xxmaj it is a poor re - interpretation of the myths , making a sad attempt at the kind of post - modern revisionism that xxmaj crichton 's \" xxmaj the 13th xxmaj warrior \" attempted in regards to the xxmaj beowulf legend , while still including the strictly mythological elements such as clear interference from the gods and magical super - strength . a sad , sad failure of an entertainment experience , who i 'm sure many of the quality actors involved regret deeply .,xxbos xxmaj amazing that money is still being spent on making such rubbish . xxmaj full of clichés and one - liners , it is one of the cheapest xxup ww2 movies i 've seen . xxmaj build a farmhouse out of a heap of timber , use the leftovers to glue a tower together with a propeller on it so that it vaguely resembles a windmill and ... presto , we are in xxmaj holland ! xxmaj take a xxmaj russian xxmaj antonov biplane , delete the top wing , glue a pair of ( xxunk driven ? ) engines on the wings and put it on xxunk ... a nazi seaplane ! xxmaj life can be so simple . xxmaj let some men in a mixture of uniforms run trough a deserted forest making a lot of noise . xxmaj and whatever happens , whoever shoots who , make sure the black ss uniforms stay in pristine condition ... who 's funding this ?,xxbos xxmaj this movie is one of the worst of the xxunk , the only actor with a hint of talent is xxmaj evan xxmaj lurie ( xxmaj david ) . \n",
              " \n",
              "  xxmaj the story centers around two rivals a cop , and a playboy . xxmaj they are both in love with the same woman , and neither of them knows if her daughter is their child . xxmaj and when the child is kidnapped they put their differences aside and join forces in the search for the kidnappers . \n",
              " \n",
              "  xxmaj on the whole a bad movie with , but with some good fighting scenes . \n",
              " \n",
              "  i give it 2 / 10\n",
              "y: LMLabelList\n",
              ",,,,\n",
              "Path: /root/.fastai/data/imdb;\n",
              "\n",
              "Test: None, model=SequentialRNN(\n",
              "  (0): AWD_LSTM(\n",
              "    (encoder): Embedding(60000, 400, padding_idx=1)\n",
              "    (encoder_dp): EmbeddingDropout(\n",
              "      (emb): Embedding(60000, 400, padding_idx=1)\n",
              "    )\n",
              "    (rnns): ModuleList(\n",
              "      (0): WeightDropout(\n",
              "        (module): LSTM(400, 1152, batch_first=True)\n",
              "      )\n",
              "      (1): WeightDropout(\n",
              "        (module): LSTM(1152, 1152, batch_first=True)\n",
              "      )\n",
              "      (2): WeightDropout(\n",
              "        (module): LSTM(1152, 400, batch_first=True)\n",
              "      )\n",
              "    )\n",
              "    (input_dp): RNNDropout()\n",
              "    (hidden_dps): ModuleList(\n",
              "      (0): RNNDropout()\n",
              "      (1): RNNDropout()\n",
              "      (2): RNNDropout()\n",
              "    )\n",
              "  )\n",
              "  (1): LinearDecoder(\n",
              "    (decoder): Linear(in_features=400, out_features=60000, bias=True)\n",
              "    (output_dp): RNNDropout()\n",
              "  )\n",
              "), opt_func=functools.partial(<class 'torch.optim.adam.Adam'>, betas=(0.9, 0.99)), loss_func=FlattenedLoss of CrossEntropyLoss(), metrics=[<function accuracy at 0x7fefc1d04a60>], true_wd=True, bn_wd=True, wd=0.01, train_bn=True, path=PosixPath('/root/.fastai/data/imdb'), model_dir='models', callback_fns=[functools.partial(<class 'fastai.basic_train.Recorder'>, add_time=True, silent=False)], callbacks=[RNNTrainer\n",
              "learn: LanguageLearner(data=TextLMDataBunch;\n",
              "\n",
              "Train: LabelList (90000 items)\n",
              "x: LMTextList\n",
              "xxbos xxmaj jim xxmaj varney 's performances as the xxmaj harem xxmaj girl and xxup xxunk are amazingly funny -- on a level surpassing xxmaj chaplin and xxmaj keaton . xxmaj linda xxmaj kash is great in her once - in - a - lifetime role as the hometown waffle waitress longing for adventure . xxmaj unfortunately , the remaining 90 % of the movie was unwatchably bad due to the atrocious plot . xxmaj the makers of xxmaj ernest xxmaj goes to xxmaj africa did not rise to the creative challenges inherent in low budget film production . xxmaj only worth seeing on cable .,xxbos xxmaj dolemite is one of the best movies featuring a pimp as a hero , who takes down the man , meanwhile hooking up with all the finest women that the ghetto has to provide . xxmaj mind you that these women know karate , and are fine foxy ladies . \n",
              " \n",
              "  xxup spoiler -- the end fight scene is pretty crazy , with xxmaj dolemite ripping the heart out of xxmaj willy xxmaj green . xxmaj make sure your copy is unrated . \n",
              " \n",
              "  xxmaj plus there are a cast full of innovative brilliant characters like the xxmaj hamburger xxmaj pimp , xxmaj reverend , xxmaj mayor , xxmaj queen xxmaj bee , and others . xxmaj the apparel is great , and the sets are full of 70 's style . xxmaj there are a few mess - ups in the production , such as boom mikes accidentally appearing , among other things , but that adds to the charm and laughs . \n",
              " \n",
              "  i would recommend drinking a 6-pack before and during this movie , and keeping squares and the man a far distance away .,xxbos xxmaj this is the last film of a trilogy by the brilliant xxmaj turkish director , xxmaj nuri xxmaj bilge xxmaj ceylan , whose last film xxmaj mayis xxmaj sikintisi -which was very xxmaj xxunk was shown in prestigious film festivals . xxmaj differing from his previous films , the story of ' xxmaj uzak ' is set on xxmaj istanbul which is one of the most crowded cities of the world . xxmaj however , in xxmaj ceylan 's film , we do see only minor traces of that huge crowd . xxmaj rather he choose to focus on two characters , one photographer and one of his relatives who comes from his small village to find a job on transatlantic ships . xxmaj the photographer , who -we understand that- has also immigrated to the city , seems to be inhabited the customs of the city life , not only in material sense . xxmaj in his relation to his relative , we see him first as caring and tolerant , however , when he could not find a job , our xxunk character starts to be disturbed for sharing his private ' space ' with someone whose leaving date becomes ambiguous . i will not reveal the tactics he develops in order to pull his relative out of his life to prevent any harm on your viewing pleasure , but it is enough to say that xxmaj ceylan shows us the tactics that we acquire within the routine of xxunk life ; ' tactics ' to keep our own private space , ' tactics ' in order not to communicate with other people , ' tactics ' to prevent our relationships from gaining a complex nature ( since our own experience , we believe that , is complex enough ) . \n",
              " \n",
              "  xxmaj ceylan 's film presents a clear picture of what a human being becomes within the borders of modern ( or postmodern ? ) city by depicting the two characters in different manners . xxmaj but , he does n't condemn any of the two characters for doing this , rather he uses the power of cinematic language to underline this difference . xxmaj for example , in search of new opportunities , we always see the character coming from the village in open spaces . xxmaj even within the house , he prefers balcony as his favourite space . xxmaj on the other hand , we see the photographer always within the closed spaces , and generally at his home . xxmaj although there are more than 10 million people out there , and lots of adventures , lots of interesting things to discover ( or are there any ? ) he prefers sitting at home , watching xxup tv , etc . xxmaj his home is like his temple , a kind of sacred place . \n",
              " \n",
              "  xxmaj everyone living in a big city , and conscious of the experience he is living through , will find something belonging to himself in xxmaj uzak . xxmaj if you like this film , i am sure that you will like xxmaj ceylan 's other two films , xxmaj mayis xxmaj sikintisi ( xxmaj the xxmaj clouds of xxmaj may ) and xxmaj xxunk ( xxmaj the xxmaj town ) . xxmaj go and find them ! .,xxbos i absolutely loved this show . xxmaj never understood why it was called xxmaj bug xxmaj juice though . i must have been about 13 when it came out . i remember they ran it over the summer holidays on channel 4 , between re - runs of xxmaj xxunk summer and xxmaj saved by the bell or something like that . i remember sitting there and wishing i was at summer camp too - ha ha . xxmaj all the kids in it looked to be having so much fun , it was all about \" discovering who you are \" and \" growing up . \" xxmaj first kisses and all that stuff . i remember there was this really cute guy in it , i think he was the main reason i got up in the mornings that particular summer . xxmaj they should have more teen docu - soaps like this , i thought it was great !,xxbos xxmaj if you like xxmaj cagney you 'll like this film . xxmaj it has the pretense of xxmaj american integrity at any cost , personal or social . xxmaj cagney plays the head of weights and measures in xxup nyc . xxmaj cagney goes up against crooked politicians , the criminal underground , a prominent philanthropist and simple xxunk who add a few ounces to the price of a chicken . xxmaj the chicken scene is hilarious where xxmaj cagney finds a weight placed in the bird cavity by an unsuspecting butcher . xxmaj the chicken gets tossed around the shop in a hilarious scene about who controls the \" evidence \" . xxmaj if you like old telephones there are interesting scenes of dials , phones and even bizarre phone cords . xxmaj compared to a lot of film made today this is pure entertainment and includes mystery with comedy and a message that honesty above all should be the guiding principle of humanity . xxmaj made in simpler times it reflects a world we ca n't find today . xxmaj the fashion ( especially hats ) xxunk and automobiles all play a prominent visual role in defining this little film .\n",
              "y: LMLabelList\n",
              ",,,,\n",
              "Path: /root/.fastai/data/imdb;\n",
              "\n",
              "Valid: LabelList (10000 items)\n",
              "x: LMTextList\n",
              "xxbos a sepia - toned soporific bore , xxmaj elegy is an insult to every older man who enjoyed his relationship with a younger woman . xxmaj heinously miscast as a playboy professor , xxmaj ben xxmaj kingsley is far too stiff , depressed and stiff - backed for the part . xxmaj this is a character tailor - made for xxmaj jeremy xxmaj irons or perhaps xxmaj john xxmaj malkovich , someone with wit and movement . xxmaj in one scene where he is moodily staring out his rain - xxunk apartment window , his posture is less like a man contemplating mortality than someone pondering the sewage system of his street . xxmaj it 's virtually impossible to imagine xxmaj kingsley 's character , xxmaj david xxmaj xxunk , pursuing anything sexual . xxmaj and the scenes where he xxunk lover xxmaj penelope xxmaj cruz are cringe - inducing . xxmaj the film only comes to life in the brief , male bonding scenes with xxmaj dennis xxmaj hopper . i 've not been a fan of xxmaj penelope xxmaj cruz until recently . xxmaj but with her work in xxmaj vicki xxmaj christina xxmaj barcelona and this warm , sensual , intelligent and open performance in xxmaj elegy , i 'm a fan now . xxmaj hopper is lively and fun , even if his character is a slightly mean - spirited xxunk of bad advice . xxmaj patricia xxmaj clarkson is lovely and expressive in her brief scenes , too . xxmaj avoid !,xxbos i really do not like being harsh but this movie is awful ! i mean sometimes i find at least one good thing to say about a movie but there nothing good to be said about this one . xxmaj there is a a lot of senseless action in the movie that has no flow , people die needlessly and repeatedly , there is scary music when there is no need for it , importance is placed on certain roles and then they are removed from the movie by being killed off , and the action scenes involving the lead actress is like watching a xxmaj barbie doll trying to defend herself . xxmaj especially at the end when she plants the ankh in the neck of the woman ! xxmaj it really looks like she does not have the strength to hold the ankh let alone drive it through someone 's neck . xxmaj also let 's not forget how she evades the mummies at the motel . xxmaj she can play an intellect in front of a camera but someone put this actress in a class that teaches how to act out action scenes . \n",
              " \n",
              "  i usually keep a copy of all my movies but not of this one . i am deleting this one just like i deleted xxmaj gargoyles by xxmaj jim xxmaj wynorski .,xxbos xxmaj this is easily the worst adaptation of xxmaj greek mythology i 've ever seen . xxmaj it utterly fails as an adaptation of the original myth , inventing silly plot twists and reducing the 12 xxunk to ... 3 or 4 , i think . xxmaj it makes up utterly needless things to try to integrate other myths in clumsy ways which bring into question the writers ' having ever read the myths , like changing birds to harpies , lions to xxunk , the xxmaj oracle of xxmaj xxunk to xxmaj xxunk , and bulls to a pedantic version of xxmaj xxunk , even integrating aspects , never seen outside of xxmaj sam xxmaj raimi 's entertaining series , concerning his first marriage , to a woman with the co - opted name of one of the xxmaj furies so it sounds appropriate to the period . \n",
              " \n",
              "  i could accept much of that , but it also fails completely in pure film standards ; most painful is the dialogue , leaden , portentous pseudo - xxmaj shakespearean tripe . xxmaj it is a poor re - interpretation of the myths , making a sad attempt at the kind of post - modern revisionism that xxmaj crichton 's \" xxmaj the 13th xxmaj warrior \" attempted in regards to the xxmaj beowulf legend , while still including the strictly mythological elements such as clear interference from the gods and magical super - strength . a sad , sad failure of an entertainment experience , who i 'm sure many of the quality actors involved regret deeply .,xxbos xxmaj amazing that money is still being spent on making such rubbish . xxmaj full of clichés and one - liners , it is one of the cheapest xxup ww2 movies i 've seen . xxmaj build a farmhouse out of a heap of timber , use the leftovers to glue a tower together with a propeller on it so that it vaguely resembles a windmill and ... presto , we are in xxmaj holland ! xxmaj take a xxmaj russian xxmaj antonov biplane , delete the top wing , glue a pair of ( xxunk driven ? ) engines on the wings and put it on xxunk ... a nazi seaplane ! xxmaj life can be so simple . xxmaj let some men in a mixture of uniforms run trough a deserted forest making a lot of noise . xxmaj and whatever happens , whoever shoots who , make sure the black ss uniforms stay in pristine condition ... who 's funding this ?,xxbos xxmaj this movie is one of the worst of the xxunk , the only actor with a hint of talent is xxmaj evan xxmaj lurie ( xxmaj david ) . \n",
              " \n",
              "  xxmaj the story centers around two rivals a cop , and a playboy . xxmaj they are both in love with the same woman , and neither of them knows if her daughter is their child . xxmaj and when the child is kidnapped they put their differences aside and join forces in the search for the kidnappers . \n",
              " \n",
              "  xxmaj on the whole a bad movie with , but with some good fighting scenes . \n",
              " \n",
              "  i give it 2 / 10\n",
              "y: LMLabelList\n",
              ",,,,\n",
              "Path: /root/.fastai/data/imdb;\n",
              "\n",
              "Test: None, model=SequentialRNN(\n",
              "  (0): AWD_LSTM(\n",
              "    (encoder): Embedding(60000, 400, padding_idx=1)\n",
              "    (encoder_dp): EmbeddingDropout(\n",
              "      (emb): Embedding(60000, 400, padding_idx=1)\n",
              "    )\n",
              "    (rnns): ModuleList(\n",
              "      (0): WeightDropout(\n",
              "        (module): LSTM(400, 1152, batch_first=True)\n",
              "      )\n",
              "      (1): WeightDropout(\n",
              "        (module): LSTM(1152, 1152, batch_first=True)\n",
              "      )\n",
              "      (2): WeightDropout(\n",
              "        (module): LSTM(1152, 400, batch_first=True)\n",
              "      )\n",
              "    )\n",
              "    (input_dp): RNNDropout()\n",
              "    (hidden_dps): ModuleList(\n",
              "      (0): RNNDropout()\n",
              "      (1): RNNDropout()\n",
              "      (2): RNNDropout()\n",
              "    )\n",
              "  )\n",
              "  (1): LinearDecoder(\n",
              "    (decoder): Linear(in_features=400, out_features=60000, bias=True)\n",
              "    (output_dp): RNNDropout()\n",
              "  )\n",
              "), opt_func=functools.partial(<class 'torch.optim.adam.Adam'>, betas=(0.9, 0.99)), loss_func=FlattenedLoss of CrossEntropyLoss(), metrics=[<function accuracy at 0x7fefc1d04a60>], true_wd=True, bn_wd=True, wd=0.01, train_bn=True, path=PosixPath('/root/.fastai/data/imdb'), model_dir='models', callback_fns=[functools.partial(<class 'fastai.basic_train.Recorder'>, add_time=True, silent=False)], callbacks=[...], layer_groups=[Sequential(\n",
              "  (0): WeightDropout(\n",
              "    (module): LSTM(400, 1152, batch_first=True)\n",
              "  )\n",
              "  (1): RNNDropout()\n",
              "), Sequential(\n",
              "  (0): WeightDropout(\n",
              "    (module): LSTM(1152, 1152, batch_first=True)\n",
              "  )\n",
              "  (1): RNNDropout()\n",
              "), Sequential(\n",
              "  (0): WeightDropout(\n",
              "    (module): LSTM(1152, 400, batch_first=True)\n",
              "  )\n",
              "  (1): RNNDropout()\n",
              "), Sequential(\n",
              "  (0): Embedding(60000, 400, padding_idx=1)\n",
              "  (1): EmbeddingDropout(\n",
              "    (emb): Embedding(60000, 400, padding_idx=1)\n",
              "  )\n",
              "  (2): LinearDecoder(\n",
              "    (decoder): Linear(in_features=400, out_features=60000, bias=True)\n",
              "    (output_dp): RNNDropout()\n",
              "  )\n",
              ")], add_time=True, silent=False)\n",
              "alpha: 2.0\n",
              "beta: 1.0, MixedPrecision\n",
              "learn: LanguageLearner(data=TextLMDataBunch;\n",
              "\n",
              "Train: LabelList (90000 items)\n",
              "x: LMTextList\n",
              "xxbos xxmaj jim xxmaj varney 's performances as the xxmaj harem xxmaj girl and xxup xxunk are amazingly funny -- on a level surpassing xxmaj chaplin and xxmaj keaton . xxmaj linda xxmaj kash is great in her once - in - a - lifetime role as the hometown waffle waitress longing for adventure . xxmaj unfortunately , the remaining 90 % of the movie was unwatchably bad due to the atrocious plot . xxmaj the makers of xxmaj ernest xxmaj goes to xxmaj africa did not rise to the creative challenges inherent in low budget film production . xxmaj only worth seeing on cable .,xxbos xxmaj dolemite is one of the best movies featuring a pimp as a hero , who takes down the man , meanwhile hooking up with all the finest women that the ghetto has to provide . xxmaj mind you that these women know karate , and are fine foxy ladies . \n",
              " \n",
              "  xxup spoiler -- the end fight scene is pretty crazy , with xxmaj dolemite ripping the heart out of xxmaj willy xxmaj green . xxmaj make sure your copy is unrated . \n",
              " \n",
              "  xxmaj plus there are a cast full of innovative brilliant characters like the xxmaj hamburger xxmaj pimp , xxmaj reverend , xxmaj mayor , xxmaj queen xxmaj bee , and others . xxmaj the apparel is great , and the sets are full of 70 's style . xxmaj there are a few mess - ups in the production , such as boom mikes accidentally appearing , among other things , but that adds to the charm and laughs . \n",
              " \n",
              "  i would recommend drinking a 6-pack before and during this movie , and keeping squares and the man a far distance away .,xxbos xxmaj this is the last film of a trilogy by the brilliant xxmaj turkish director , xxmaj nuri xxmaj bilge xxmaj ceylan , whose last film xxmaj mayis xxmaj sikintisi -which was very xxmaj xxunk was shown in prestigious film festivals . xxmaj differing from his previous films , the story of ' xxmaj uzak ' is set on xxmaj istanbul which is one of the most crowded cities of the world . xxmaj however , in xxmaj ceylan 's film , we do see only minor traces of that huge crowd . xxmaj rather he choose to focus on two characters , one photographer and one of his relatives who comes from his small village to find a job on transatlantic ships . xxmaj the photographer , who -we understand that- has also immigrated to the city , seems to be inhabited the customs of the city life , not only in material sense . xxmaj in his relation to his relative , we see him first as caring and tolerant , however , when he could not find a job , our xxunk character starts to be disturbed for sharing his private ' space ' with someone whose leaving date becomes ambiguous . i will not reveal the tactics he develops in order to pull his relative out of his life to prevent any harm on your viewing pleasure , but it is enough to say that xxmaj ceylan shows us the tactics that we acquire within the routine of xxunk life ; ' tactics ' to keep our own private space , ' tactics ' in order not to communicate with other people , ' tactics ' to prevent our relationships from gaining a complex nature ( since our own experience , we believe that , is complex enough ) . \n",
              " \n",
              "  xxmaj ceylan 's film presents a clear picture of what a human being becomes within the borders of modern ( or postmodern ? ) city by depicting the two characters in different manners . xxmaj but , he does n't condemn any of the two characters for doing this , rather he uses the power of cinematic language to underline this difference . xxmaj for example , in search of new opportunities , we always see the character coming from the village in open spaces . xxmaj even within the house , he prefers balcony as his favourite space . xxmaj on the other hand , we see the photographer always within the closed spaces , and generally at his home . xxmaj although there are more than 10 million people out there , and lots of adventures , lots of interesting things to discover ( or are there any ? ) he prefers sitting at home , watching xxup tv , etc . xxmaj his home is like his temple , a kind of sacred place . \n",
              " \n",
              "  xxmaj everyone living in a big city , and conscious of the experience he is living through , will find something belonging to himself in xxmaj uzak . xxmaj if you like this film , i am sure that you will like xxmaj ceylan 's other two films , xxmaj mayis xxmaj sikintisi ( xxmaj the xxmaj clouds of xxmaj may ) and xxmaj xxunk ( xxmaj the xxmaj town ) . xxmaj go and find them ! .,xxbos i absolutely loved this show . xxmaj never understood why it was called xxmaj bug xxmaj juice though . i must have been about 13 when it came out . i remember they ran it over the summer holidays on channel 4 , between re - runs of xxmaj xxunk summer and xxmaj saved by the bell or something like that . i remember sitting there and wishing i was at summer camp too - ha ha . xxmaj all the kids in it looked to be having so much fun , it was all about \" discovering who you are \" and \" growing up . \" xxmaj first kisses and all that stuff . i remember there was this really cute guy in it , i think he was the main reason i got up in the mornings that particular summer . xxmaj they should have more teen docu - soaps like this , i thought it was great !,xxbos xxmaj if you like xxmaj cagney you 'll like this film . xxmaj it has the pretense of xxmaj american integrity at any cost , personal or social . xxmaj cagney plays the head of weights and measures in xxup nyc . xxmaj cagney goes up against crooked politicians , the criminal underground , a prominent philanthropist and simple xxunk who add a few ounces to the price of a chicken . xxmaj the chicken scene is hilarious where xxmaj cagney finds a weight placed in the bird cavity by an unsuspecting butcher . xxmaj the chicken gets tossed around the shop in a hilarious scene about who controls the \" evidence \" . xxmaj if you like old telephones there are interesting scenes of dials , phones and even bizarre phone cords . xxmaj compared to a lot of film made today this is pure entertainment and includes mystery with comedy and a message that honesty above all should be the guiding principle of humanity . xxmaj made in simpler times it reflects a world we ca n't find today . xxmaj the fashion ( especially hats ) xxunk and automobiles all play a prominent visual role in defining this little film .\n",
              "y: LMLabelList\n",
              ",,,,\n",
              "Path: /root/.fastai/data/imdb;\n",
              "\n",
              "Valid: LabelList (10000 items)\n",
              "x: LMTextList\n",
              "xxbos a sepia - toned soporific bore , xxmaj elegy is an insult to every older man who enjoyed his relationship with a younger woman . xxmaj heinously miscast as a playboy professor , xxmaj ben xxmaj kingsley is far too stiff , depressed and stiff - backed for the part . xxmaj this is a character tailor - made for xxmaj jeremy xxmaj irons or perhaps xxmaj john xxmaj malkovich , someone with wit and movement . xxmaj in one scene where he is moodily staring out his rain - xxunk apartment window , his posture is less like a man contemplating mortality than someone pondering the sewage system of his street . xxmaj it 's virtually impossible to imagine xxmaj kingsley 's character , xxmaj david xxmaj xxunk , pursuing anything sexual . xxmaj and the scenes where he xxunk lover xxmaj penelope xxmaj cruz are cringe - inducing . xxmaj the film only comes to life in the brief , male bonding scenes with xxmaj dennis xxmaj hopper . i 've not been a fan of xxmaj penelope xxmaj cruz until recently . xxmaj but with her work in xxmaj vicki xxmaj christina xxmaj barcelona and this warm , sensual , intelligent and open performance in xxmaj elegy , i 'm a fan now . xxmaj hopper is lively and fun , even if his character is a slightly mean - spirited xxunk of bad advice . xxmaj patricia xxmaj clarkson is lovely and expressive in her brief scenes , too . xxmaj avoid !,xxbos i really do not like being harsh but this movie is awful ! i mean sometimes i find at least one good thing to say about a movie but there nothing good to be said about this one . xxmaj there is a a lot of senseless action in the movie that has no flow , people die needlessly and repeatedly , there is scary music when there is no need for it , importance is placed on certain roles and then they are removed from the movie by being killed off , and the action scenes involving the lead actress is like watching a xxmaj barbie doll trying to defend herself . xxmaj especially at the end when she plants the ankh in the neck of the woman ! xxmaj it really looks like she does not have the strength to hold the ankh let alone drive it through someone 's neck . xxmaj also let 's not forget how she evades the mummies at the motel . xxmaj she can play an intellect in front of a camera but someone put this actress in a class that teaches how to act out action scenes . \n",
              " \n",
              "  i usually keep a copy of all my movies but not of this one . i am deleting this one just like i deleted xxmaj gargoyles by xxmaj jim xxmaj wynorski .,xxbos xxmaj this is easily the worst adaptation of xxmaj greek mythology i 've ever seen . xxmaj it utterly fails as an adaptation of the original myth , inventing silly plot twists and reducing the 12 xxunk to ... 3 or 4 , i think . xxmaj it makes up utterly needless things to try to integrate other myths in clumsy ways which bring into question the writers ' having ever read the myths , like changing birds to harpies , lions to xxunk , the xxmaj oracle of xxmaj xxunk to xxmaj xxunk , and bulls to a pedantic version of xxmaj xxunk , even integrating aspects , never seen outside of xxmaj sam xxmaj raimi 's entertaining series , concerning his first marriage , to a woman with the co - opted name of one of the xxmaj furies so it sounds appropriate to the period . \n",
              " \n",
              "  i could accept much of that , but it also fails completely in pure film standards ; most painful is the dialogue , leaden , portentous pseudo - xxmaj shakespearean tripe . xxmaj it is a poor re - interpretation of the myths , making a sad attempt at the kind of post - modern revisionism that xxmaj crichton 's \" xxmaj the 13th xxmaj warrior \" attempted in regards to the xxmaj beowulf legend , while still including the strictly mythological elements such as clear interference from the gods and magical super - strength . a sad , sad failure of an entertainment experience , who i 'm sure many of the quality actors involved regret deeply .,xxbos xxmaj amazing that money is still being spent on making such rubbish . xxmaj full of clichés and one - liners , it is one of the cheapest xxup ww2 movies i 've seen . xxmaj build a farmhouse out of a heap of timber , use the leftovers to glue a tower together with a propeller on it so that it vaguely resembles a windmill and ... presto , we are in xxmaj holland ! xxmaj take a xxmaj russian xxmaj antonov biplane , delete the top wing , glue a pair of ( xxunk driven ? ) engines on the wings and put it on xxunk ... a nazi seaplane ! xxmaj life can be so simple . xxmaj let some men in a mixture of uniforms run trough a deserted forest making a lot of noise . xxmaj and whatever happens , whoever shoots who , make sure the black ss uniforms stay in pristine condition ... who 's funding this ?,xxbos xxmaj this movie is one of the worst of the xxunk , the only actor with a hint of talent is xxmaj evan xxmaj lurie ( xxmaj david ) . \n",
              " \n",
              "  xxmaj the story centers around two rivals a cop , and a playboy . xxmaj they are both in love with the same woman , and neither of them knows if her daughter is their child . xxmaj and when the child is kidnapped they put their differences aside and join forces in the search for the kidnappers . \n",
              " \n",
              "  xxmaj on the whole a bad movie with , but with some good fighting scenes . \n",
              " \n",
              "  i give it 2 / 10\n",
              "y: LMLabelList\n",
              ",,,,\n",
              "Path: /root/.fastai/data/imdb;\n",
              "\n",
              "Test: None, model=SequentialRNN(\n",
              "  (0): AWD_LSTM(\n",
              "    (encoder): Embedding(60000, 400, padding_idx=1)\n",
              "    (encoder_dp): EmbeddingDropout(\n",
              "      (emb): Embedding(60000, 400, padding_idx=1)\n",
              "    )\n",
              "    (rnns): ModuleList(\n",
              "      (0): WeightDropout(\n",
              "        (module): LSTM(400, 1152, batch_first=True)\n",
              "      )\n",
              "      (1): WeightDropout(\n",
              "        (module): LSTM(1152, 1152, batch_first=True)\n",
              "      )\n",
              "      (2): WeightDropout(\n",
              "        (module): LSTM(1152, 400, batch_first=True)\n",
              "      )\n",
              "    )\n",
              "    (input_dp): RNNDropout()\n",
              "    (hidden_dps): ModuleList(\n",
              "      (0): RNNDropout()\n",
              "      (1): RNNDropout()\n",
              "      (2): RNNDropout()\n",
              "    )\n",
              "  )\n",
              "  (1): LinearDecoder(\n",
              "    (decoder): Linear(in_features=400, out_features=60000, bias=True)\n",
              "    (output_dp): RNNDropout()\n",
              "  )\n",
              "), opt_func=functools.partial(<class 'torch.optim.adam.Adam'>, betas=(0.9, 0.99)), loss_func=FlattenedLoss of CrossEntropyLoss(), metrics=[<function accuracy at 0x7fefc1d04a60>], true_wd=True, bn_wd=True, wd=0.01, train_bn=True, path=PosixPath('/root/.fastai/data/imdb'), model_dir='models', callback_fns=[functools.partial(<class 'fastai.basic_train.Recorder'>, add_time=True, silent=False)], callbacks=[...], layer_groups=[Sequential(\n",
              "  (0): WeightDropout(\n",
              "    (module): LSTM(400, 1152, batch_first=True)\n",
              "  )\n",
              "  (1): RNNDropout()\n",
              "), Sequential(\n",
              "  (0): WeightDropout(\n",
              "    (module): LSTM(1152, 1152, batch_first=True)\n",
              "  )\n",
              "  (1): RNNDropout()\n",
              "), Sequential(\n",
              "  (0): WeightDropout(\n",
              "    (module): LSTM(1152, 400, batch_first=True)\n",
              "  )\n",
              "  (1): RNNDropout()\n",
              "), Sequential(\n",
              "  (0): Embedding(60000, 400, padding_idx=1)\n",
              "  (1): EmbeddingDropout(\n",
              "    (emb): Embedding(60000, 400, padding_idx=1)\n",
              "  )\n",
              "  (2): LinearDecoder(\n",
              "    (decoder): Linear(in_features=400, out_features=60000, bias=True)\n",
              "    (output_dp): RNNDropout()\n",
              "  )\n",
              ")], add_time=True, silent=False)\n",
              "loss_scale: 65536\n",
              "max_noskip: 1000\n",
              "dynamic: True\n",
              "clip: None\n",
              "flat_master: False\n",
              "max_scale: 16777216\n",
              "loss_fp32: True], layer_groups=[Sequential(\n",
              "  (0): WeightDropout(\n",
              "    (module): LSTM(400, 1152, batch_first=True)\n",
              "  )\n",
              "  (1): RNNDropout()\n",
              "), Sequential(\n",
              "  (0): WeightDropout(\n",
              "    (module): LSTM(1152, 1152, batch_first=True)\n",
              "  )\n",
              "  (1): RNNDropout()\n",
              "), Sequential(\n",
              "  (0): WeightDropout(\n",
              "    (module): LSTM(1152, 400, batch_first=True)\n",
              "  )\n",
              "  (1): RNNDropout()\n",
              "), Sequential(\n",
              "  (0): Embedding(60000, 400, padding_idx=1)\n",
              "  (1): EmbeddingDropout(\n",
              "    (emb): Embedding(60000, 400, padding_idx=1)\n",
              "  )\n",
              "  (2): LinearDecoder(\n",
              "    (decoder): Linear(in_features=400, out_features=60000, bias=True)\n",
              "    (output_dp): RNNDropout()\n",
              "  )\n",
              ")], add_time=True, silent=False)"
            ]
          },
          "metadata": {
            "tags": []
          },
          "execution_count": 61
        }
      ]
    },
    {
      "cell_type": "markdown",
      "metadata": {
        "id": "PrYDmOr3m1BL"
      },
      "source": [
        "#### The first step in fine-tuning is to train only the last layer of the model. \n",
        "This takes about a half-hour on an NVIDIA RTX-2070 GPU"
      ]
    },
    {
      "cell_type": "code",
      "metadata": {
        "id": "7W7j8j-fm1BM",
        "colab": {
          "base_uri": "https://localhost:8080/",
          "height": 80
        },
        "outputId": "fc097c77-df16-4c74-8a16-8053b41f669e"
      },
      "source": [
        "learn_lm.fit_one_cycle(1, lr*10, moms=(0.8,0.7))"
      ],
      "execution_count": 62,
      "outputs": [
        {
          "output_type": "display_data",
          "data": {
            "text/html": [
              "<table border=\"1\" class=\"dataframe\">\n",
              "  <thead>\n",
              "    <tr style=\"text-align: left;\">\n",
              "      <th>epoch</th>\n",
              "      <th>train_loss</th>\n",
              "      <th>valid_loss</th>\n",
              "      <th>accuracy</th>\n",
              "      <th>time</th>\n",
              "    </tr>\n",
              "  </thead>\n",
              "  <tbody>\n",
              "    <tr>\n",
              "      <td>0</td>\n",
              "      <td>4.176245</td>\n",
              "      <td>4.637182</td>\n",
              "      <td>0.300000</td>\n",
              "      <td>16:32</td>\n",
              "    </tr>\n",
              "  </tbody>\n",
              "</table>"
            ],
            "text/plain": [
              "<IPython.core.display.HTML object>"
            ]
          },
          "metadata": {
            "tags": []
          }
        }
      ]
    },
    {
      "cell_type": "markdown",
      "metadata": {
        "id": "rhQUQdscm1BM"
      },
      "source": [
        "Since this is relatively slow to train, we will save our weights:"
      ]
    },
    {
      "cell_type": "code",
      "metadata": {
        "id": "A5w9AcM0m1BN"
      },
      "source": [
        "learn_lm.save('fit_1')"
      ],
      "execution_count": 63,
      "outputs": []
    },
    {
      "cell_type": "code",
      "metadata": {
        "id": "EOb0vO8zm1BN",
        "colab": {
          "base_uri": "https://localhost:8080/",
          "height": 175
        },
        "outputId": "77799091-edb4-44e1-ac90-f02a0da3db8b"
      },
      "source": [
        "learn_lm.load('fit_1')"
      ],
      "execution_count": 1,
      "outputs": [
        {
          "output_type": "error",
          "ename": "NameError",
          "evalue": "ignored",
          "traceback": [
            "\u001b[0;31m---------------------------------------------------------------------------\u001b[0m",
            "\u001b[0;31mNameError\u001b[0m                                 Traceback (most recent call last)",
            "\u001b[0;32m<ipython-input-1-e25040e49916>\u001b[0m in \u001b[0;36m<module>\u001b[0;34m()\u001b[0m\n\u001b[0;32m----> 1\u001b[0;31m \u001b[0mlearn_lm\u001b[0m\u001b[0;34m.\u001b[0m\u001b[0mload\u001b[0m\u001b[0;34m(\u001b[0m\u001b[0;34m'fit_1'\u001b[0m\u001b[0;34m)\u001b[0m\u001b[0;34m\u001b[0m\u001b[0;34m\u001b[0m\u001b[0m\n\u001b[0m",
            "\u001b[0;31mNameError\u001b[0m: name 'learn_lm' is not defined"
          ]
        }
      ]
    },
    {
      "cell_type": "markdown",
      "metadata": {
        "id": "G2oLN0Qcm1BN"
      },
      "source": [
        "#### To complete the fine-tuning, we unfreeze all the weights and retrain\n",
        "Adopting the `wikitext-103` weights as initial values, our neural network will adjust them via optimization, finding new values that are specialized to the \"language\" of `IMDb` movie reviews."
      ]
    },
    {
      "cell_type": "code",
      "metadata": {
        "id": "rn8ZUXnum1BN"
      },
      "source": [
        "learn_lm.unfreeze()"
      ],
      "execution_count": null,
      "outputs": []
    },
    {
      "cell_type": "markdown",
      "metadata": {
        "id": "x6BOvruim1BO"
      },
      "source": [
        "Fine tuning the model takes ~30 minutes per epoch on an NVIDIA RTX-2070 GPU, with bs=48<br>\n",
        "Note the relatively low value of accuracy, which did not improve significantly beyond `epoch 4`.\n",
        "The one cycle policy allows to train very quickly, a phenomenon termed superconvergence. Original one cycle policy has 3 steps:\n",
        "1. We progressively increase our learning rate from lr_max/div_factor to lr_max and at the same time we progressively decrease our momentum from mom_max to mom_min.\n",
        "2. We do the exact opposite: we progressively decrease our learning rate from lr_max to lr_max/div_factor and at the same time we progressively increase our momentum from mom_min to mom_max.\n",
        "3. We further decrease our learning rate from lr_max/div_factor to lr_max/(div_factor x 100) and we keep momentum steady at mom_max."
      ]
    },
    {
      "cell_type": "code",
      "metadata": {
        "scrolled": false,
        "id": "M8XQzpjtm1BO",
        "outputId": "4cad545e-1547-44ca-9a4f-ac1f234d3aaf"
      },
      "source": [
        "learn_lm.fit_one_cycle(10, lr, moms=(0.8,0.7))"
      ],
      "execution_count": null,
      "outputs": [
        {
          "output_type": "display_data",
          "data": {
            "text/html": [
              "<table border=\"1\" class=\"dataframe\">\n",
              "  <thead>\n",
              "    <tr style=\"text-align: left;\">\n",
              "      <th>epoch</th>\n",
              "      <th>train_loss</th>\n",
              "      <th>valid_loss</th>\n",
              "      <th>accuracy</th>\n",
              "      <th>time</th>\n",
              "    </tr>\n",
              "  </thead>\n",
              "  <tbody>\n",
              "    <tr>\n",
              "      <td>0</td>\n",
              "      <td>3.824557</td>\n",
              "      <td>3.145828</td>\n",
              "      <td>0.428571</td>\n",
              "      <td>30:49</td>\n",
              "    </tr>\n",
              "    <tr>\n",
              "      <td>1</td>\n",
              "      <td>3.785742</td>\n",
              "      <td>3.277813</td>\n",
              "      <td>0.442857</td>\n",
              "      <td>30:39</td>\n",
              "    </tr>\n",
              "    <tr>\n",
              "      <td>2</td>\n",
              "      <td>3.753288</td>\n",
              "      <td>3.111610</td>\n",
              "      <td>0.400000</td>\n",
              "      <td>30:37</td>\n",
              "    </tr>\n",
              "    <tr>\n",
              "      <td>3</td>\n",
              "      <td>3.676771</td>\n",
              "      <td>3.163547</td>\n",
              "      <td>0.357143</td>\n",
              "      <td>30:31</td>\n",
              "    </tr>\n",
              "    <tr>\n",
              "      <td>4</td>\n",
              "      <td>3.605899</td>\n",
              "      <td>3.077933</td>\n",
              "      <td>0.457143</td>\n",
              "      <td>30:21</td>\n",
              "    </tr>\n",
              "    <tr>\n",
              "      <td>5</td>\n",
              "      <td>3.567794</td>\n",
              "      <td>3.045043</td>\n",
              "      <td>0.457143</td>\n",
              "      <td>30:18</td>\n",
              "    </tr>\n",
              "    <tr>\n",
              "      <td>6</td>\n",
              "      <td>3.490480</td>\n",
              "      <td>3.072821</td>\n",
              "      <td>0.414286</td>\n",
              "      <td>30:27</td>\n",
              "    </tr>\n",
              "    <tr>\n",
              "      <td>7</td>\n",
              "      <td>3.434875</td>\n",
              "      <td>3.052906</td>\n",
              "      <td>0.400000</td>\n",
              "      <td>30:18</td>\n",
              "    </tr>\n",
              "    <tr>\n",
              "      <td>8</td>\n",
              "      <td>3.370924</td>\n",
              "      <td>2.990984</td>\n",
              "      <td>0.442857</td>\n",
              "      <td>30:10</td>\n",
              "    </tr>\n",
              "    <tr>\n",
              "      <td>9</td>\n",
              "      <td>3.336241</td>\n",
              "      <td>2.994531</td>\n",
              "      <td>0.457143</td>\n",
              "      <td>30:21</td>\n",
              "    </tr>\n",
              "  </tbody>\n",
              "</table>"
            ],
            "text/plain": [
              "<IPython.core.display.HTML object>"
            ]
          },
          "metadata": {
            "tags": []
          }
        }
      ]
    },
    {
      "cell_type": "markdown",
      "metadata": {
        "id": "enldqkvAm1BO"
      },
      "source": [
        "#### Save the fine-tuned **language model** and the **encoder**\n",
        "We have to save not just the `fine-tuned` **IMDb language model** but also its **encoder**. The **language model** is the part that tries to guess the next word. The **encoder** is the part that's responsible for creating and updating the hidden state. \n",
        "\n",
        "In the next part we will build a **sentiment classifier** for the IMDb movie reviews. To do this we will need the **encoder** from the **IMDb language model** that we built."
      ]
    },
    {
      "cell_type": "code",
      "metadata": {
        "id": "bMAxcmZfm1BO"
      },
      "source": [
        "learn_lm.save('fine_tuned')"
      ],
      "execution_count": null,
      "outputs": []
    },
    {
      "cell_type": "code",
      "metadata": {
        "id": "-0qFuA9-m1BP"
      },
      "source": [
        "learn_lm.save_encoder('fine_tuned_enc')"
      ],
      "execution_count": null,
      "outputs": []
    },
    {
      "cell_type": "markdown",
      "metadata": {
        "heading_collapsed": true,
        "id": "rF5MJmBAm1BP"
      },
      "source": [
        "#### Load the saved **model** and its **encoder**"
      ]
    },
    {
      "cell_type": "code",
      "metadata": {
        "hidden": true,
        "id": "qY2UzO_lm1BQ",
        "outputId": "f687c718-008c-433b-a1e6-77b5f40e6bcf"
      },
      "source": [
        "learn_lm.load('fine_tuned')"
      ],
      "execution_count": null,
      "outputs": [
        {
          "output_type": "execute_result",
          "data": {
            "text/plain": [
              "LanguageLearner(data=TextLMDataBunch;\n",
              "\n",
              "Train: LabelList (90000 items)\n",
              "x: LMTextList\n",
              "  xxwrep 18 xxbos xxmaj once again xxmaj mr. xxmaj costner has dragged out a movie for far longer than necessary . xxmaj aside from the terrific sea rescue sequences , of which there are very few i just did not care about any of the characters . xxmaj most of us have ghosts in the closet , and xxmaj costner 's character are realized early on , and then forgotten until much later , by which time i did not care . xxmaj the character we should really care about is a very cocky , overconfident xxmaj ashton xxmaj kutcher . xxmaj the problem is he comes off as kid who thinks he 's better than anyone else around him and shows no signs of a cluttered closet . xxmaj his only obstacle appears to be winning over xxmaj costner . xxmaj finally when we are well past the half way point of this stinker , xxmaj costner tells us all about xxmaj kutcher 's ghosts . xxmaj we are told why xxmaj kutcher is driven to be the best with no prior inkling or foreshadowing . xxmaj no magic here , it was all i could do to keep from turning it off an hour in .,  xxwrep 18 xxbos xxmaj this is an example of why the majority of action films are the same . xxmaj generic and boring , there 's really nothing worth watching here . a complete waste of the then barely - tapped talents of xxmaj ice - t and xxmaj ice xxmaj cube , who 've each proven many times over that they are capable of acting , and acting well . xxmaj do n't bother with this one , go see xxmaj new xxmaj jack xxmaj city , xxmaj ricochet or watch xxmaj new xxmaj york xxmaj undercover for xxmaj ice - t , or xxmaj boyz n the xxmaj hood , xxmaj higher xxmaj learning or xxmaj friday for xxmaj ice xxmaj cube and see the real deal . xxmaj ice - t 's horribly cliched dialogue alone makes this film grate at the teeth , and i 'm still wondering what the heck xxmaj bill xxmaj paxton was doing in this film ? xxmaj and why the heck does he always play the exact same character ? xxmaj from xxmaj aliens onward , every film i 've seen with xxmaj bill xxmaj paxton has him playing the exact same irritating character , and at least in xxmaj aliens his character died , which made it somewhat gratifying ... \n",
              " \n",
              "  xxmaj overall , this is second - rate action trash . xxmaj there are countless better films to see , and if you really want to see this one , watch xxmaj judgement xxmaj night , which is practically a carbon copy but has better acting and a better script . xxmaj the only thing that made this at all worth watching was a decent hand on the camera - the cinematography was almost refreshing , which comes close to making up for the horrible film itself - but not quite . 4 / 10 .,  xxwrep 18 xxbos xxmaj first of all i hate those moronic rappers , who could'nt act if they had a gun pressed against their foreheads . xxmaj all they do is curse and shoot each other and acting like xxunk version of gangsters . \n",
              " \n",
              "  xxmaj the movie does n't take more than five minutes to explain what is going on before we 're already at the warehouse xxmaj there is not a single sympathetic character in this movie , except for the homeless guy , who is also the only one with half a brain . \n",
              " \n",
              "  xxmaj bill xxmaj paxton and xxmaj william xxmaj sadler are both hill billies and xxmaj xxunk character is just as much a villain as the gangsters . i did'nt like him right from the start . \n",
              " \n",
              "  xxmaj the movie is filled with pointless violence and xxmaj walter xxmaj hills specialty : people falling through windows with glass flying everywhere . xxmaj there is pretty much no plot and it is a big problem when you root for no - one . xxmaj everybody dies , except from xxmaj paxton and the homeless guy and everybody get what they deserve . \n",
              " \n",
              "  xxmaj the only two black people that can act is the homeless guy and the junkie but they 're actors by profession , not annoying ugly brain dead rappers . \n",
              " \n",
              "  xxmaj stay away from this crap and watch 48 hours 1 and 2 instead . xxmaj at lest they have characters you care about , a sense of humor and nothing but real actors in the cast .,  xxwrep 18 xxbos xxmaj not even the xxmaj beatles could write songs everyone liked , and although xxmaj walter xxmaj hill is no mop - top he 's second to none when it comes to thought provoking action movies . xxmaj the nineties came and social platforms were changing in music and film , the emergence of the xxmaj rapper turned movie star was in full swing , the acting took a back seat to each man 's overpowering regional accent and transparent acting . xxmaj this was one of the many ice - t movies i saw as a kid and loved , only to watch them later and cringe . xxmaj bill xxmaj paxton and xxmaj william xxmaj sadler are firemen with basic lives until a burning building tenant about to go up in flames hands over a map with gold implications . i hand it to xxmaj walter for quickly and neatly setting up the main characters and location . xxmaj but i fault everyone involved for turning out xxmaj lame - o performances . xxmaj ice - t and cube must have been red hot at this time , and while i 've enjoyed both their careers as rappers , in my opinion they fell flat in this movie . xxmaj it 's about ninety minutes of one guy ridiculously turning his back on the other guy to the point you find yourself locked in multiple states of disbelief . xxmaj now this is a movie , its not a documentary so i wo nt waste my time recounting all the stupid plot twists in this movie , but there were many , and they led nowhere . i got the feeling watching this that everyone on set was xxunk of confused and just playing things off the cuff . xxmaj there are two things i still enjoy about it , one involves a scene with a needle and the other is xxmaj sadler 's huge 45 pistol . xxmaj bottom line this movie is like domino 's pizza . xxmaj yeah ill eat it if i 'm hungry and i do n't feel like cooking , xxmaj but i 'm well aware it tastes like crap . 3 stars , meh .,  xxwrep 18 xxbos xxmaj brass pictures ( movies is not a fitting word for them ) really are somewhat brassy . xxmaj their alluring visual qualities are reminiscent of expensive high class xxup tv commercials . xxmaj but unfortunately xxmaj brass pictures are feature films with the pretense of wanting to entertain viewers for over two hours ! xxmaj in this they fail miserably , their undeniable , but rather soft and flabby than steamy , erotic qualities non withstanding . \n",
              " \n",
              "  xxmaj senso ' 45 is a remake of a film by xxmaj luchino xxmaj visconti with the same title and xxmaj alida xxmaj valli and xxmaj farley xxmaj granger in the lead . xxmaj the original tells a story of senseless love and lust in and around xxmaj venice during the xxmaj italian wars of independence . xxmaj brass moved the action from the 19th into the 20th century , 1945 to be exact , so there are xxmaj mussolini murals , men in black shirts , xxmaj german uniforms or the tattered garb of the partisans . xxmaj but it is just window dressing , the historic context is completely negligible . \n",
              " \n",
              "  xxmaj anna xxmaj xxunk plays the attractive aristocratic woman who falls for the amoral xxup ss guy who always puts on too much lipstick . xxmaj she is an attractive , versatile , well trained xxmaj italian actress and clearly above the material . xxmaj her wide range of facial expressions ( xxunk boredom , loathing , delight , fear , hate ... and ecstasy ) are the best reason to watch this picture and worth two stars . xxmaj she endures this basically trashy stuff with an astonishing amount of dignity . i wish some really good parts come along for her . xxmaj she really deserves it .\n",
              "y: LMLabelList\n",
              ",,,,\n",
              "Path: C:\\Users\\cross-entropy\\.fastai\\data\\imdb;\n",
              "\n",
              "Valid: LabelList (10000 items)\n",
              "x: LMTextList\n",
              "xxbos xxup cavite is an example of ultimate independent film , with a very short budget , a very simple concept , an exotic locale , a minimal cast , and a hand - held camera . \n",
              " \n",
              "  xxmaj the story is simple : xxmaj adam ( xxmaj ian xxmaj gamazon ) is called home to the xxmaj phillipines because of a family crisis . xxmaj instead of his family picking him up , he finds himself forced to follow instructions of a man claiming to have his family . xxmaj there 's no clear reason for the abduction , or what makes xxmaj adam a target ; all xxmaj adam really knows is that his every move is watched , and the kidnappers have no regard for their victims . \n",
              " \n",
              "  xxmaj as xxmaj adam follows the obscure instructions , and the obstacles in his way , the audience ca n't help but be caught up in his plight . xxmaj the hand held camera and jumpy editing style enhances the sense of desperation and time . xxmaj the scenes of urban xxmaj phillipines , particular the markets and the squatter holdings are a vivid cacophony . \n",
              " \n",
              "  xxmaj co - directors and xxmaj co - writers xxmaj neill xxmaj xxunk xxmaj xxunk and xxmaj ian xxmaj gamazon have done an outstanding job of making the most out of limited means . xxmaj the economy of the film makes it both intimate and discomfiting , as xxmaj adam is an everyman who only wants his family safe and instead is completely at the whim of an omniscient tormentor . \n",
              " \n",
              "  xxup cavite is an absolute must for anyone who has an interest in film , as storytelling , in it 's structure , and as an art form .,xxbos xxmaj decades ago , a crate filled with weapons grade plutonium crashes on an island and soaks into the ground . xxmaj today , a team of military men are sent to track down a notorious terrorist ( of ambiguous national origin ) and they track him to this polluted island . xxmaj when their raft is destroyed , the team must spend the night on shore , but soon discover that the plutonium has done something awful to the island -- it has called forth hundreds of bloodthirsty velociraptors . \n",
              " \n",
              "  xxmaj let me start this with a lesson : do n't lend a movie to your friend before you 've seen it , especially if you are supposed to be reviewing it for the internet 's finest horror movie site . xxmaj it took me almost a year to get this film back , and the person who borrowed it still had not watched it ( though we ended up seeing it together ) . xxmaj and a second , more important , lesson : when you do watch this , keep your expectations as low as humanly possible . xxmaj because this film ranks among the worst i 've ever seen . \n",
              " \n",
              "  xxmaj my acting in 8th grade was more convincing than the seasoned actors who appear in this film ( xxmaj lorenzo xxmaj lamas , xxmaj stephen xxmaj bauer ) . xxmaj line delivery is very fake , and the words themselves are poorly scripted . xxmaj the opening words come from a man checking out his gun 's scope : \" xxmaj boom . xxmaj dead bad guys . \" xxmaj yes , that 's pure genius at work . xxmaj the only conversation with any depth has two main characters explaining their histories . xxmaj but it , too , seems unnatural and a poor attempt to provide character background and to fill time . xxmaj we did n't need to know anything about their histories , so why bore us with it ? xxmaj and if you think the conversations are bad , you ai n't seen nothing yet . \n",
              " \n",
              "  xxmaj the lighting is atrocious . i generally do n't notice lighting , but my friend ( a former film school student ) was practically vomiting in rage at the way more often than not shadows fell on the actors ' faces and the light would be in the background , focused on nothing in particular . xxmaj most lighting looks like a spotlight in a dim room , and many of the scenes involve a deep , subterranean cavern -- which you 'd then expect to be poorly lit , but had lights coming from all sorts of random angles . xxmaj do n't ask me why . \n",
              " \n",
              "  xxmaj the plot was pretty bad . xxmaj some films can take the idea of military men chasing a terrorist and make a convincing film out of it . xxmaj cat and mouse stories are riveting . xxmaj well , not here . xxmaj the terrorist is really not even part of the story , just an excuse to go to the island . xxmaj and the raptors ? xxmaj and the allosaurus ? xxmaj sure , they came from the plutonium that soaked into the ground . xxmaj but if that makes sense to you , please explain it to me because i have no clue how radiation brings dinosaurs back from millions of years of extinction . \n",
              " \n",
              "  xxmaj by far the worst part of \" xxmaj raptor xxmaj island \" is the animation of the raptors . xxmaj that 's right -- the selling point of the film is the worst aspect . xxmaj the animation is n't just bad , it 's subpar . i ca n't even express the hilarity of cartoons this cheesy . xxmaj and when they get shot ? xxmaj red splats like one would see in an old video game . xxmaj even the airplane , helicopter and xxmaj navy ship are cartoons ... how hard is it to get a model plane ? xxmaj please do n't see \" xxmaj raptor xxmaj island \" unless you need a good laugh or want to get sickeningly drunk . xxmaj sure , you probably want to see it before you see \" xxmaj raptor xxmaj island 2 \" ( which seems to be getting better reviews ) . xxmaj but just avoiding it entirely is your best bet . xxmaj the closest thing i can compare it to is \" xxmaj pinata : xxmaj survival xxmaj island \" , and unfortunately this film makes the pinata look good by comparison . xxmaj you have been warned .,xxbos xxmaj this is one creepy underrated xxmaj gem with chilling performances and a fantastic xxunk xxmaj all the characters are great , and the story was awesome , plus i thought the ending was really xxunk xxmaj the plot was great , and it never bored me , plus while the child actors were bad , they gave me the xxunk xxmaj this happened to be on the space channel a while ago , so i decided to check it out and tape it , i read some good reviews from fellow horror fans , i must say i agree with them , it 's very creepy , and suspenseful , plus xxmaj strother xxmaj martin , was fantastic in his role , as the xxmaj satan worshiper . xxmaj it has tons of creepy atmosphere , and it keeps you guessing throughout , plus all the characters were very likable , and you really start to root for xxmaj ben and his xxunk xxmaj it has plenty of disturbing moments , and the film really shocked me at times , plus , it 's extremely well made on a low xxunk xxmaj this is one creepy underrated gem , with chilling performances and a fantastic finale ! , i highly recommend this one!. xxmaj the xxmaj direction is very good!. xxmaj bernard mceveety does a very good job here , with great camera work , creating a lot of creepy atmosphere , and keeping the film at a very fast pace!. xxmaj ther is a little bit of blood and gore . xxmaj we get a severed leg , lots of bloody corpses , bloody slit throat , slicing and dicing , decapitation , and an impaling . xxmaj the xxmaj acting is xxunk xxmaj strother xxmaj martin is fantastic here ! as the xxmaj satan worshiper , he is extremely creepy , very convincing , was quite chilling , was extremely intense , seemed to be enjoying himself , and just did a fantastic job xxunk xxmaj charles xxmaj bateman is great as the xxmaj dad , he was very caring , very likable , and gave a good show ! , i liked him lots . xxup l.q. xxmaj jones is awesome as the xxmaj sheriff , he was funny , on top of things , looked very young , had a cool character , and just did an awesome job xxunk xxmaj ahna xxmaj capri is good as the girlfriend and did what she had to do pretty well . xxmaj charles xxmaj robinson overacted to the extreme as the xxmaj priest and did n't convince me one bit ! , and that laugh of his was especially bad . xxmaj geri xxmaj reischl is actually decent as the daughter , she was somewhat likable , and only got on my nerves a couple times , i rather liked her . xxmaj alvy xxmaj moore was goofy , but very likable in his role as xxmaj tobey i dug him!. xxmaj rest of the cast do good . xxmaj overall i highly recommend it!. * * * 1 / 2 out of 5,xxbos xxmaj aside from the gross factual inaccuracies of this movie ( ie king xxmaj richard having a son and that son replacing xxmaj john on the throne ) this movie was a sweet love tale full of adventure . i 'm sure that this movie will appeal to the younger generation of girls and boys .,xxbos xxmaj the special effects again are superb but this is xxmaj finding xxmaj nemo in reverse i.e the parents get taken away and xxmaj pi ( xxmaj nemo ) is left behind , if you have n't seen xxmaj finding xxmaj nemo you will like it . \n",
              " \n",
              "  xxmaj it becomes very clear at the beginning of the film what the plot is and takes a long time to reach the end ! \n",
              " \n",
              "  xxmaj there 's is nothing new or nail biting in this one and there is no humour at all , which is very disappointing . \n",
              " \n",
              "  xxmaj all in all very disappointing as a follow up movie to xxmaj shark xxmaj tale which there really are no similarities with it should have been called xxmaj finding xxmaj nemo 2 xxrep 56 !\n",
              "y: LMLabelList\n",
              ",,,,\n",
              "Path: C:\\Users\\cross-entropy\\.fastai\\data\\imdb;\n",
              "\n",
              "Test: None, model=SequentialRNN(\n",
              "  (0): AWD_LSTM(\n",
              "    (encoder): Embedding(60000, 400, padding_idx=1)\n",
              "    (encoder_dp): EmbeddingDropout(\n",
              "      (emb): Embedding(60000, 400, padding_idx=1)\n",
              "    )\n",
              "    (rnns): ModuleList(\n",
              "      (0): WeightDropout(\n",
              "        (module): LSTM(400, 1152, batch_first=True)\n",
              "      )\n",
              "      (1): WeightDropout(\n",
              "        (module): LSTM(1152, 1152, batch_first=True)\n",
              "      )\n",
              "      (2): WeightDropout(\n",
              "        (module): LSTM(1152, 400, batch_first=True)\n",
              "      )\n",
              "    )\n",
              "    (input_dp): RNNDropout()\n",
              "    (hidden_dps): ModuleList(\n",
              "      (0): RNNDropout()\n",
              "      (1): RNNDropout()\n",
              "      (2): RNNDropout()\n",
              "    )\n",
              "  )\n",
              "  (1): LinearDecoder(\n",
              "    (decoder): Linear(in_features=400, out_features=60000, bias=True)\n",
              "    (output_dp): RNNDropout()\n",
              "  )\n",
              "), opt_func=functools.partial(<class 'torch.optim.adam.Adam'>, betas=(0.9, 0.99)), loss_func=FlattenedLoss of CrossEntropyLoss(), metrics=[<function accuracy at 0x00000236A8585048>], true_wd=True, bn_wd=True, wd=0.01, train_bn=True, path=WindowsPath('C:/Users/cross-entropy/.fastai/data/imdb'), model_dir='models', callback_fns=[functools.partial(<class 'fastai.basic_train.Recorder'>, add_time=True, silent=False)], callbacks=[RNNTrainer\n",
              "learn: ...\n",
              "alpha: 2.0\n",
              "beta: 1.0, MixedPrecision\n",
              "learn: ...\n",
              "loss_scale: 2097152.0\n",
              "max_noskip: 1000\n",
              "dynamic: True\n",
              "clip: None\n",
              "flat_master: False\n",
              "max_scale: 16777216\n",
              "loss_fp32: True], layer_groups=[Sequential(\n",
              "  (0): WeightDropout(\n",
              "    (module): LSTM(400, 1152, batch_first=True)\n",
              "  )\n",
              "  (1): RNNDropout()\n",
              "), Sequential(\n",
              "  (0): WeightDropout(\n",
              "    (module): LSTM(1152, 1152, batch_first=True)\n",
              "  )\n",
              "  (1): RNNDropout()\n",
              "), Sequential(\n",
              "  (0): WeightDropout(\n",
              "    (module): LSTM(1152, 400, batch_first=True)\n",
              "  )\n",
              "  (1): RNNDropout()\n",
              "), Sequential(\n",
              "  (0): Embedding(60000, 400, padding_idx=1)\n",
              "  (1): EmbeddingDropout(\n",
              "    (emb): Embedding(60000, 400, padding_idx=1)\n",
              "  )\n",
              "  (2): LinearDecoder(\n",
              "    (decoder): Linear(in_features=400, out_features=60000, bias=True)\n",
              "    (output_dp): RNNDropout()\n",
              "  )\n",
              ")], add_time=True, silent=False)"
            ]
          },
          "metadata": {
            "tags": []
          },
          "execution_count": 70
        }
      ]
    },
    {
      "cell_type": "markdown",
      "metadata": {
        "hidden": true,
        "id": "rrMOZ70hm1BQ"
      },
      "source": [
        "Now that we've trained our model, different representations have been learned for the words that were in `IMDb` but not `wikitext-103` (remember that at the beginning we had initialized them all to the same thing):"
      ]
    },
    {
      "cell_type": "code",
      "metadata": {
        "hidden": true,
        "id": "0wucCj9-m1BR"
      },
      "source": [
        "enc = learn_lm.model[0].encoder"
      ],
      "execution_count": null,
      "outputs": []
    },
    {
      "cell_type": "code",
      "metadata": {
        "hidden": true,
        "id": "VCChzELsm1BR",
        "outputId": "04dddff8-8f64-4b6f-ee4a-90cf4da97d71"
      },
      "source": [
        "np.allclose(enc.weight[vocab.stoi[\"30-something\"], :], \n",
        "            enc.weight[vocab.stoi[\"linklater\"], :])"
      ],
      "execution_count": null,
      "outputs": [
        {
          "output_type": "execute_result",
          "data": {
            "text/plain": [
              "False"
            ]
          },
          "metadata": {
            "tags": []
          },
          "execution_count": 72
        }
      ]
    },
    {
      "cell_type": "code",
      "metadata": {
        "hidden": true,
        "id": "-nYRm__4m1BS",
        "outputId": "847c49d7-1995-4843-a71b-01cc33e8f081"
      },
      "source": [
        "np.allclose(enc.weight[vocab.stoi[\"30-something\"], :], new_word_vec)"
      ],
      "execution_count": null,
      "outputs": [
        {
          "output_type": "execute_result",
          "data": {
            "text/plain": [
              "False"
            ]
          },
          "metadata": {
            "tags": []
          },
          "execution_count": 73
        }
      ]
    },
    {
      "cell_type": "markdown",
      "metadata": {
        "heading_collapsed": true,
        "id": "5YEl6B88m1BS"
      },
      "source": [
        "#### Generate movie review-like text, with the **fine-tuned** ` IMDb` language model\n",
        "Compare these texts to the ones generated with the **untrained** `IMDb model` in part **2A**. Do they seem qualitatively better?"
      ]
    },
    {
      "cell_type": "markdown",
      "metadata": {
        "hidden": true,
        "id": "PcdjGhewm1BS"
      },
      "source": [
        "How good is our fine-tuned IMDb language model? Well let's try to see what it predicts when given a phrase that might appear in a movie review."
      ]
    },
    {
      "cell_type": "code",
      "metadata": {
        "hidden": true,
        "id": "XUSvaRtam1BT"
      },
      "source": [
        "TEXT = \"i liked this movie because\"\n",
        "N_WORDS = 40\n",
        "N_SENTENCES = 2"
      ],
      "execution_count": null,
      "outputs": []
    },
    {
      "cell_type": "code",
      "metadata": {
        "hidden": true,
        "id": "BHTNMnaUm1BT",
        "outputId": "07e7f849-1cc6-4916-98a7-ac31f39a04f2"
      },
      "source": [
        "print(\"\\n\".join(learn_lm.predict(TEXT, N_WORDS, temperature=0.75) for _ in range(N_SENTENCES)))"
      ],
      "execution_count": null,
      "outputs": [
        {
          "output_type": "stream",
          "text": [
            "i liked this movie because it gave a new perspective on the subject . The story of how to kill a dog was actually a good concept that i found to be very funny . The whole movie is shot with a sense\n",
            "i liked this movie because it was fun to see Fred Macmurray - a good actor - and this movie had a good cast like Gene Hackman , Gene Hackman , Catherine o'hara , William Hurt\n"
          ],
          "name": "stdout"
        }
      ]
    },
    {
      "cell_type": "code",
      "metadata": {
        "hidden": true,
        "id": "egywGXB8m1BT"
      },
      "source": [
        "TEXT = \"This movie was\"\n",
        "N_WORDS = 30\n",
        "N_SENTENCES = 2"
      ],
      "execution_count": null,
      "outputs": []
    },
    {
      "cell_type": "code",
      "metadata": {
        "hidden": true,
        "id": "7RararjAm1BT",
        "outputId": "98150910-bdd9-4d47-f963-5881b53bd64d"
      },
      "source": [
        "print(\"\\n\".join(learn_lm.predict(TEXT, N_WORDS, temperature=0.75) for _ in range(N_SENTENCES)))"
      ],
      "execution_count": null,
      "outputs": [
        {
          "output_type": "stream",
          "text": [
            "This movie was just awful . i mean , they had a lot of money , i mean , they wanted to make money with a $ 35 million budget . And\n",
            "This movie was very pleasant to watch , but it was just too dull . It took us a few minutes to catch the Mexican guy , but he seemed to\n"
          ],
          "name": "stdout"
        }
      ]
    },
    {
      "cell_type": "code",
      "metadata": {
        "hidden": true,
        "id": "OiC0zMShm1BU"
      },
      "source": [
        "TEXT = \"I hated this movie\"\n",
        "N_WORDS = 40\n",
        "N_SENTENCES = 2"
      ],
      "execution_count": null,
      "outputs": []
    },
    {
      "cell_type": "code",
      "metadata": {
        "hidden": true,
        "id": "CziX5Wjdm1BU",
        "outputId": "4cfeb921-4e0f-48bf-9302-1d8bffedb4c5"
      },
      "source": [
        "print(\"\\n\".join(learn_lm.predict(TEXT, N_WORDS, temperature=0.75) for _ in range(N_SENTENCES)))"
      ],
      "execution_count": null,
      "outputs": [
        {
          "output_type": "stream",
          "text": [
            "I hated this movie , if only it ever made it to DVD . If you are planning to see this : 1 ) i would recommend that you buy this movie instead of the movie . 2 . It is\n",
            "I hated this movie . It was a little too distant from the book , but the acting was good and the at least some scenes were funny . The story line was pretty good , but it was n't the best\n"
          ],
          "name": "stdout"
        }
      ]
    },
    {
      "cell_type": "markdown",
      "metadata": {
        "heading_collapsed": true,
        "id": "DlIVnRTTm1BU"
      },
      "source": [
        "#### Risks of language models"
      ]
    },
    {
      "cell_type": "markdown",
      "metadata": {
        "hidden": true,
        "id": "szRU7aXFm1BU"
      },
      "source": [
        "We will talk about ethical concerns raised by very accurate language models in lesson 7, but here are a few brief notes:\n",
        "\n",
        "In reference to [OpenAI's GPT-2](https://www.theverge.com/2019/2/14/18224704/ai-machine-learning-language-models-read-write-openai-gpt2): Jeremy Howard said, *I’ve been trying to warn people about this for a while. We have the technology to totally fill Twitter, email, and the web up with reasonable-sounding, context-appropriate prose, which would drown out all other speech and be impossible to filter.*\n",
        "\n",
        "For a small example, consider when completely incorrect (but reasonable sounding) ML generated answers were [posted to StackOverflow](https://meta.stackoverflow.com/questions/384596/completely-incorrect-machine-learning-generated-answers?stw=2):\n",
        "\n",
        "<img src=\"https://github.com/bcollister01/course-nlp/blob/master/images/robot-overflow.png?raw=1\" alt=\"Roboflow\" style=\"width: 80%\"/>"
      ]
    },
    {
      "cell_type": "markdown",
      "metadata": {
        "hidden": true,
        "id": "oTvCYzLXm1BV"
      },
      "source": [
        "<img src=\"https://github.com/bcollister01/course-nlp/blob/master/images/husain-tweet.png?raw=1\" alt=\"Roboflow\" style=\"width: 60%\"/>"
      ]
    },
    {
      "cell_type": "markdown",
      "metadata": {
        "id": "sxGppf29m1BW"
      },
      "source": [
        "## 3. Building an `IMDb Sentiment Classifier`\n",
        "#### We'll now use **transfer learning** to create a `classifier`, again starting from the pretrained weights of the `wikitext-103` language model.  We'll also need the `IMDb language model` **encoder** that we saved previously. "
      ]
    },
    {
      "cell_type": "markdown",
      "metadata": {
        "id": "iKKbgayam1BX"
      },
      "source": [
        "### 3A. Load and preprocess the data, and form a `databunch`\n",
        "Using fastai's flexible API, we will now create a different kind of `databunch` object, one that is suitable for a **classifier** rather than a for **language model** (as we did in **2A**). This time we'll keep the labels for the `IMDb` movie reviews data. \n",
        "\n",
        "Add the `try-except` wrapper workaround for the bug in the `fastai Text API`\n",
        "\n",
        "Here the batch size is decreased from 48 to 8, to avoid a `CUDA out of memory error`; your hardware may be able to handle a larger batch, in which case training will likely be faster.\n",
        "\n",
        "Again, this takes a bit of time."
      ]
    },
    {
      "cell_type": "code",
      "metadata": {
        "id": "3eJso9Skm1BY"
      },
      "source": [
        "bs=8"
      ],
      "execution_count": null,
      "outputs": []
    },
    {
      "cell_type": "code",
      "metadata": {
        "hidden": true,
        "id": "U-eoY_lKm1BY",
        "outputId": "4e37ee65-841f-477b-f5ae-93c079533de0"
      },
      "source": [
        "%%time\n",
        "\n",
        "# throws `BrokenProcessPool' Error sometimes. Keep trying `till it works!\n",
        "#    the progress bar has to complete three consecutive steps. Why three? \n",
        "#    fails nearly 100 times, and doesn't respond to interrupt\n",
        "count = 0\n",
        "error = True\n",
        "while error:\n",
        "    try: \n",
        "        # Preprocessing steps\n",
        "        data_clas = (TextList.from_folder(path, vocab=data_lm.vocab)\n",
        "             #grab all the text files in path\n",
        "             .split_by_folder(valid='test')\n",
        "             #split by train and valid folder (that only keeps 'train' and 'test' so no need to filter)\n",
        "             .label_from_folder(classes=['neg', 'pos']))\n",
        "             #label them all with their folders\n",
        "             #.databunch(bs=bs, num_workers=1))\n",
        "        error = False\n",
        "        print(f'failure count is {count}\\n')   \n",
        "        \n",
        "    except: # catch *all* exceptions\n",
        "        # accumulate failure count\n",
        "        count = count + 1\n",
        "        print(f'failure count is {count}')"
      ],
      "execution_count": null,
      "outputs": [
        {
          "output_type": "stream",
          "text": [
            "failure count is 5\n",
            "\n",
            "Wall time: 9min 15s\n"
          ],
          "name": "stdout"
        }
      ]
    },
    {
      "cell_type": "markdown",
      "metadata": {
        "id": "GvExWjgim1BZ"
      },
      "source": [
        "#### Form the preprocessed data into a `databunch`"
      ]
    },
    {
      "cell_type": "code",
      "metadata": {
        "id": "biC-wSxOm1BZ"
      },
      "source": [
        "data_clas = data_clas.databunch(bs=bs, num_workers=1)"
      ],
      "execution_count": null,
      "outputs": []
    },
    {
      "cell_type": "markdown",
      "metadata": {
        "id": "pGAOkOsYm1BZ"
      },
      "source": [
        "#### Save the databunch (since it took so long to make) and load it"
      ]
    },
    {
      "cell_type": "code",
      "metadata": {
        "id": "YIxFxcUem1BZ"
      },
      "source": [
        "data_clas.save('imdb_textlist_class')"
      ],
      "execution_count": null,
      "outputs": []
    },
    {
      "cell_type": "code",
      "metadata": {
        "id": "Q1jgMw_um1Ba"
      },
      "source": [
        "data_clas = load_data(path, 'imdb_textlist_class', bs=bs, num_workers=1)"
      ],
      "execution_count": null,
      "outputs": []
    },
    {
      "cell_type": "code",
      "metadata": {
        "id": "E5DDgKQlm1Ba",
        "outputId": "d8d217e9-d549-450f-83c3-615e979ae074"
      },
      "source": [
        "data_clas.show_batch()"
      ],
      "execution_count": null,
      "outputs": [
        {
          "output_type": "display_data",
          "data": {
            "text/html": [
              "<table border=\"1\" class=\"dataframe\">\n",
              "  <thead>\n",
              "    <tr style=\"text-align: right;\">\n",
              "      <th>text</th>\n",
              "      <th>target</th>\n",
              "    </tr>\n",
              "  </thead>\n",
              "  <tbody>\n",
              "    <tr>\n",
              "      <td>xxbos xxmaj match 1 : xxmaj tag xxmaj team xxmaj table xxmaj match xxmaj bubba xxmaj ray and xxmaj spike xxmaj dudley vs xxmaj eddie xxmaj guerrero and xxmaj chris xxmaj benoit xxmaj bubba xxmaj ray and xxmaj spike xxmaj dudley started things off with a xxmaj tag xxmaj team xxmaj table xxmaj match against xxmaj eddie xxmaj guerrero and xxmaj chris xxmaj benoit . xxmaj according to the rules</td>\n",
              "      <td>pos</td>\n",
              "    </tr>\n",
              "    <tr>\n",
              "      <td>xxbos xxmaj some have praised _ xxunk _ as a xxmaj disney adventure for adults . i do n't think so -- at least not for thinking adults . \\n \\n  xxmaj this script suggests a beginning as a live - action movie , that struck someone as the type of crap you can not sell to adults anymore . xxmaj the \" crack staff \" of many older</td>\n",
              "      <td>neg</td>\n",
              "    </tr>\n",
              "    <tr>\n",
              "      <td>xxbos xxmaj this movie was recently released on xxup dvd in the xxup us and i finally got the chance to see this hard - to - find gem . xxmaj it even came with original theatrical previews of other xxmaj italian horror classics like \" xxup xxunk \" and \" xxup beyond xxup the xxup darkness \" . xxmaj unfortunately , the previews were the best thing about this</td>\n",
              "      <td>neg</td>\n",
              "    </tr>\n",
              "    <tr>\n",
              "      <td>xxbos xxmaj there are many adaptations of xxmaj charlotte xxmaj brontë 's classic novel \" xxmaj jane xxmaj eyre \" , and taking into consideration the numerous reviews written about them there is also a lively discussion on which of them is the best . xxmaj the short film adaptations all suffer from the fact that it is simply not possible to cram the whole plot of the novel into</td>\n",
              "      <td>pos</td>\n",
              "    </tr>\n",
              "    <tr>\n",
              "      <td>xxbos xxmaj title : xxmaj zombie 3 ( 1988 ) \\n \\n  xxmaj directors : xxmaj mostly xxmaj lucio xxmaj fulci , but also xxmaj claudio xxmaj fragasso and xxmaj bruno xxmaj mattei \\n \\n  xxmaj cast : xxmaj xxunk xxunk , xxmaj massimo xxmaj xxunk , xxmaj beatrice xxmaj ring , xxmaj deran xxmaj xxunk \\n \\n  xxmaj review : \\n \\n  xxmaj to review</td>\n",
              "      <td>neg</td>\n",
              "    </tr>\n",
              "  </tbody>\n",
              "</table>"
            ],
            "text/plain": [
              "<IPython.core.display.HTML object>"
            ]
          },
          "metadata": {
            "tags": []
          }
        }
      ]
    },
    {
      "cell_type": "markdown",
      "metadata": {
        "id": "seXkC7fmm1Ba"
      },
      "source": [
        "### 3B. Create a model to **classify** the `IMDb` reviews, and load the **encoder** we saved before.\n",
        "#### Freeze the weights for all but the last layer and find a good value for the learning rate. "
      ]
    },
    {
      "cell_type": "code",
      "metadata": {
        "id": "j_mC4EK5m1Bb"
      },
      "source": [
        "learn_c = text_classifier_learner(data_clas, AWD_LSTM, drop_mult=0.3).to_fp16()\n",
        "learn_c.load_encoder('fine_tuned_enc')\n",
        "learn_c.freeze()"
      ],
      "execution_count": null,
      "outputs": []
    },
    {
      "cell_type": "code",
      "metadata": {
        "id": "W0FrEEgjm1Bb",
        "outputId": "b6d7db4c-7768-48a8-97ec-e96e3e90ffe7"
      },
      "source": [
        "learn_c.lr_find()"
      ],
      "execution_count": null,
      "outputs": [
        {
          "output_type": "display_data",
          "data": {
            "text/html": [
              ""
            ],
            "text/plain": [
              "<IPython.core.display.HTML object>"
            ]
          },
          "metadata": {
            "tags": []
          }
        },
        {
          "output_type": "stream",
          "text": [
            "LR Finder is complete, type {learner_name}.recorder.plot() to see the graph.\n"
          ],
          "name": "stdout"
        }
      ]
    },
    {
      "cell_type": "code",
      "metadata": {
        "id": "FlvZ-gcUm1Bb",
        "outputId": "1862016e-7ac3-42e1-d444-3af0d09bf94d"
      },
      "source": [
        "learn_c.recorder.plot()"
      ],
      "execution_count": null,
      "outputs": [
        {
          "output_type": "display_data",
          "data": {
            "image/png": "[encoded data removed]",
            "text/plain": [
              "<Figure size 432x288 with 1 Axes>"
            ]
          },
          "metadata": {
            "tags": [],
            "needs_background": "light"
          }
        }
      ]
    },
    {
      "cell_type": "markdown",
      "metadata": {
        "id": "qPMJ0IOwm1Bb"
      },
      "source": [
        "### 3C. Training and fine-tuning the `IMDb sentiment classifier`"
      ]
    },
    {
      "cell_type": "markdown",
      "metadata": {
        "id": "bnmCeKEAm1Bc"
      },
      "source": [
        "#### Train for one cycle, save intermediate result"
      ]
    },
    {
      "cell_type": "code",
      "metadata": {
        "scrolled": false,
        "id": "jJ_7sbqym1Bc",
        "outputId": "67c074c4-ac0c-4ed5-869e-78845a831685"
      },
      "source": [
        "learn_c.fit_one_cycle(1, 2e-2, moms=(0.8,0.7))"
      ],
      "execution_count": null,
      "outputs": [
        {
          "output_type": "display_data",
          "data": {
            "text/html": [
              "<table border=\"1\" class=\"dataframe\">\n",
              "  <thead>\n",
              "    <tr style=\"text-align: left;\">\n",
              "      <th>epoch</th>\n",
              "      <th>train_loss</th>\n",
              "      <th>valid_loss</th>\n",
              "      <th>accuracy</th>\n",
              "      <th>time</th>\n",
              "    </tr>\n",
              "  </thead>\n",
              "  <tbody>\n",
              "    <tr>\n",
              "      <td>0</td>\n",
              "      <td>0.287057</td>\n",
              "      <td>0.202339</td>\n",
              "      <td>0.932720</td>\n",
              "      <td>06:29</td>\n",
              "    </tr>\n",
              "  </tbody>\n",
              "</table>"
            ],
            "text/plain": [
              "<IPython.core.display.HTML object>"
            ]
          },
          "metadata": {
            "tags": []
          }
        }
      ]
    },
    {
      "cell_type": "code",
      "metadata": {
        "id": "Xj-GgfbLm1Bd"
      },
      "source": [
        "learn_c.save('first')"
      ],
      "execution_count": null,
      "outputs": []
    },
    {
      "cell_type": "code",
      "metadata": {
        "id": "ClxzakW9m1Bd"
      },
      "source": [
        "learn_c.load('first');"
      ],
      "execution_count": null,
      "outputs": []
    },
    {
      "cell_type": "markdown",
      "metadata": {
        "id": "gvJOHYbQm1Bd"
      },
      "source": [
        "#### Unfreeze last two layers and train for one cycle, save intermediate result."
      ]
    },
    {
      "cell_type": "code",
      "metadata": {
        "id": "K5JKBoWRm1Bd",
        "outputId": "e7f4b35e-2f7b-46b9-d2e3-733c8aa273f2"
      },
      "source": [
        "learn_c.freeze_to(-2)\n",
        "learn_c.fit_one_cycle(1, slice(1e-2/(2.6**4),1e-2), moms=(0.8,0.7))"
      ],
      "execution_count": null,
      "outputs": [
        {
          "output_type": "display_data",
          "data": {
            "text/html": [
              "<table border=\"1\" class=\"dataframe\">\n",
              "  <thead>\n",
              "    <tr style=\"text-align: left;\">\n",
              "      <th>epoch</th>\n",
              "      <th>train_loss</th>\n",
              "      <th>valid_loss</th>\n",
              "      <th>accuracy</th>\n",
              "      <th>time</th>\n",
              "    </tr>\n",
              "  </thead>\n",
              "  <tbody>\n",
              "    <tr>\n",
              "      <td>0</td>\n",
              "      <td>0.253536</td>\n",
              "      <td>0.164451</td>\n",
              "      <td>0.943320</td>\n",
              "      <td>07:25</td>\n",
              "    </tr>\n",
              "  </tbody>\n",
              "</table>"
            ],
            "text/plain": [
              "<IPython.core.display.HTML object>"
            ]
          },
          "metadata": {
            "tags": []
          }
        }
      ]
    },
    {
      "cell_type": "code",
      "metadata": {
        "id": "u815_QBIm1Bd"
      },
      "source": [
        "learn_c.save('2nd')"
      ],
      "execution_count": null,
      "outputs": []
    },
    {
      "cell_type": "markdown",
      "metadata": {
        "id": "R8xr3MKwm1Be"
      },
      "source": [
        "#### Unfreeze the last three layers, and train for one cycle, and save intermediate result.\n",
        "At this point we've already beaten the 2017 (pre-transfer learning) state of the art!"
      ]
    },
    {
      "cell_type": "code",
      "metadata": {
        "id": "1H2FgUq-m1Be",
        "outputId": "630c1fbd-ede0-48f0-fd41-f9279217a1c9"
      },
      "source": [
        "learn_c.freeze_to(-3)\n",
        "learn_c.fit_one_cycle(1, slice(5e-3/(2.6**4),5e-3), moms=(0.8,0.7))"
      ],
      "execution_count": null,
      "outputs": [
        {
          "output_type": "display_data",
          "data": {
            "text/html": [
              "<table border=\"1\" class=\"dataframe\">\n",
              "  <thead>\n",
              "    <tr style=\"text-align: left;\">\n",
              "      <th>epoch</th>\n",
              "      <th>train_loss</th>\n",
              "      <th>valid_loss</th>\n",
              "      <th>accuracy</th>\n",
              "      <th>time</th>\n",
              "    </tr>\n",
              "  </thead>\n",
              "  <tbody>\n",
              "    <tr>\n",
              "      <td>0</td>\n",
              "      <td>0.207790</td>\n",
              "      <td>0.151074</td>\n",
              "      <td>0.947320</td>\n",
              "      <td>09:21</td>\n",
              "    </tr>\n",
              "  </tbody>\n",
              "</table>"
            ],
            "text/plain": [
              "<IPython.core.display.HTML object>"
            ]
          },
          "metadata": {
            "tags": []
          }
        }
      ]
    },
    {
      "cell_type": "code",
      "metadata": {
        "id": "0qmk7nK3m1Be"
      },
      "source": [
        "learn_c.save('3rd')"
      ],
      "execution_count": null,
      "outputs": []
    },
    {
      "cell_type": "code",
      "metadata": {
        "id": "TQwdZyYZm1Be",
        "outputId": "f0df160e-d8c2-47e4-ab4c-ad329c8102f4"
      },
      "source": [
        "learn_c.load('3rd')"
      ],
      "execution_count": null,
      "outputs": [
        {
          "output_type": "execute_result",
          "data": {
            "text/plain": [
              "RNNLearner(data=TextClasDataBunch;\n",
              "\n",
              "Train: LabelList (25000 items)\n",
              "x: TextList\n",
              "xxbos xxmaj story of a man who has unnatural feelings for a pig . xxmaj starts out with a opening scene that is a terrific example of absurd comedy . a formal orchestra audience is turned into an insane , violent mob by the crazy xxunk of it 's singers . xxmaj unfortunately it stays absurd the xxup whole time with no general narrative eventually making it just too off putting . xxmaj even those from the era should be turned off . xxmaj the cryptic dialogue would make xxmaj shakespeare seem easy to a third grader . xxmaj on a technical level it 's better than you might think with some good cinematography by future great xxmaj vilmos xxmaj zsigmond . xxmaj future stars xxmaj sally xxmaj kirkland and xxmaj frederic xxmaj forrest can be seen briefly .,xxbos xxmaj airport ' 77 starts as a brand new luxury 747 plane is loaded up with valuable paintings & such belonging to rich businessman xxmaj philip xxmaj stevens ( xxmaj james xxmaj stewart ) who is flying them & a bunch of xxup vip 's to his estate in preparation of it being opened to the public as a museum , also on board is xxmaj stevens daughter xxmaj julie ( xxmaj kathleen xxmaj quinlan ) & her son . xxmaj the luxury jetliner takes off as planned but mid - air the plane is hi - jacked by the co - pilot xxmaj chambers ( xxmaj robert xxmaj foxworth ) & his two accomplice 's xxmaj banker ( xxmaj monte xxmaj markham ) & xxmaj wilson ( xxmaj michael xxmaj pataki ) who knock the passengers & crew out with sleeping gas , they plan to steal the valuable cargo & land on a disused plane strip on an isolated island but while making his descent xxmaj chambers almost hits an oil rig in the xxmaj ocean & loses control of the plane sending it crashing into the sea where it sinks to the bottom right bang in the middle of the xxmaj bermuda xxmaj triangle . xxmaj with air in short supply , water leaking in & having flown over 200 miles off course the problems mount for the survivor 's as they await help with time fast running out ... \n",
              " \n",
              "  xxmaj also known under the slightly different tile xxmaj airport 1977 this second sequel to the smash - hit disaster thriller xxmaj airport ( 1970 ) was directed by xxmaj jerry xxmaj jameson & while once again like it 's predecessors i ca n't say xxmaj airport ' 77 is any sort of forgotten classic it is entertaining although not necessarily for the right reasons . xxmaj out of the three xxmaj airport films i have seen so far i actually liked this one the best , just . xxmaj it has my favourite plot of the three with a nice mid - air hi - jacking & then the crashing ( did n't he see the oil rig ? ) & sinking of the 747 ( maybe the makers were trying to cross the original xxmaj airport with another popular disaster flick of the period xxmaj the xxmaj poseidon xxmaj adventure ( 1972 ) ) & submerged is where it stays until the end with a stark dilemma facing those trapped inside , either suffocate when the air runs out or drown as the 747 floods or if any of the doors are opened & it 's a decent idea that could have made for a great little disaster flick but bad unsympathetic character 's , dull dialogue , lethargic set - pieces & a real lack of danger or suspense or tension means this is a missed opportunity . xxmaj while the rather sluggish plot keeps one entertained for 108 odd minutes not that much happens after the plane sinks & there 's not as much urgency as i thought there should have been . xxmaj even when the xxmaj navy become involved things do n't pick up that much with a few shots of huge ships & helicopters flying about but there 's just something lacking here . xxmaj george xxmaj kennedy as the jinxed airline worker xxmaj joe xxmaj patroni is back but only gets a couple of scenes & barely even says anything preferring to just look worried in the background . \n",
              " \n",
              "  xxmaj the home video & theatrical version of xxmaj airport ' 77 run 108 minutes while the xxup us xxup tv versions add an extra hour of footage including a new opening credits sequence , many more scenes with xxmaj george xxmaj kennedy as xxmaj patroni , flashbacks to flesh out character 's , longer rescue scenes & the discovery or another couple of dead bodies including the navigator . xxmaj while i would like to see this extra footage i am not sure i could sit through a near three hour cut of xxmaj airport ' 77 . xxmaj as expected the film has dated badly with horrible fashions & interior design choices , i will say no more other than the toy plane model effects are n't great either . xxmaj along with the other two xxmaj airport sequels this takes pride of place in the xxmaj razzie xxmaj award 's xxmaj hall of xxmaj shame although i can think of lots of worse films than this so i reckon that 's a little harsh . xxmaj the action scenes are a little dull unfortunately , the pace is slow & not much excitement or tension is generated which is a shame as i reckon this could have been a pretty good film if made properly . \n",
              " \n",
              "  xxmaj the production values are alright if nothing spectacular . xxmaj the acting is n't great , two time xxmaj oscar winner xxmaj jack xxmaj lemmon has said since it was a mistake to star in this , one time xxmaj oscar winner xxmaj james xxmaj stewart looks old & frail , also one time xxmaj oscar winner xxmaj lee xxmaj grant looks drunk while xxmaj sir xxmaj christopher xxmaj lee is given little to do & there are plenty of other familiar faces to look out for too . \n",
              " \n",
              "  xxmaj airport ' 77 is the most disaster orientated of the three xxmaj airport films so far & i liked the ideas behind it even if they were a bit silly , the production & bland direction does n't help though & a film about a sunken plane just should n't be this boring or lethargic . xxmaj followed by xxmaj the xxmaj concorde ... xxmaj airport ' 79 ( 1979 ) .,xxbos xxmaj this film lacked something i could n't put my finger on at first : charisma on the part of the leading actress . xxmaj this inevitably translated to lack of chemistry when she shared the screen with her leading man . xxmaj even the romantic scenes came across as being merely the actors at play . xxmaj it could very well have been the director who miscalculated what he needed from the actors . i just do n't know . \n",
              " \n",
              "  xxmaj but could it have been the screenplay ? xxmaj just exactly who was the chef in love with ? xxmaj he seemed more enamored of his culinary skills and restaurant , and ultimately of himself and his youthful exploits , than of anybody or anything else . xxmaj he never convinced me he was in love with the princess . \n",
              " \n",
              "  i was disappointed in this movie . xxmaj but , do n't forget it was nominated for an xxmaj oscar , so judge for yourself .,xxbos xxmaj sorry everyone , , , i know this is supposed to be an \" art \" film , , but wow , they should have handed out guns at the screening so people could blow their brains out and not watch . xxmaj although the scene design and photographic direction was excellent , this story is too painful to watch . xxmaj the absence of a sound track was brutal . xxmaj the l xxrep 4 o xxrep 5 n g shots were too long . xxmaj how long can you watch two people just sitting there and talking ? xxmaj especially when the dialogue is two people complaining . i really had a hard time just getting through this film . xxmaj the performances were excellent , but how much of that dark , sombre , uninspired , stuff can you take ? xxmaj the only thing i liked was xxmaj maureen xxmaj stapleton and her red dress and dancing scene . xxmaj otherwise this was a ripoff of xxmaj bergman . xxmaj and i 'm no fan f his either . i think anyone who says they enjoyed 1 1 / 2 hours of this is , , well , lying .,xxbos xxmaj when i was little my parents took me along to the theater to see xxmaj interiors . xxmaj it was one of many movies i watched with my parents , but this was the only one we walked out of . xxmaj since then i had never seen xxmaj interiors until just recently , and i could have lived out the rest of my life without it . xxmaj what a pretentious , ponderous , and painfully boring piece of 70 's wine and cheese tripe . xxmaj woody xxmaj allen is one of my favorite directors but xxmaj interiors is by far the worst piece of crap of his career . xxmaj in the unmistakable style of xxmaj ingmar xxmaj berman , xxmaj allen gives us a dark , angular , muted , insight in to the lives of a family wrought by the psychological damage caused by divorce , estrangement , career , love , non - love , xxunk , whatever . xxmaj the film , intentionally , has no comic relief , no music , and is drenched in shadowy pathos . xxmaj this film style can be best defined as expressionist in nature , using an improvisational method of dialogue to illicit a \" more pronounced depth of meaning and truth \" . xxmaj but xxmaj woody xxmaj allen is no xxmaj ingmar xxmaj bergman . xxmaj the film is painfully slow and dull . xxmaj but beyond that , i simply had no connection with or sympathy for any of the characters . xxmaj instead i felt only contempt for this parade of shuffling , whining , nicotine stained , martyrs in a perpetual quest for identity . xxmaj amid a backdrop of cosmopolitan affluence and baked xxmaj brie intelligentsia the story looms like a fart in the room . xxmaj everyone speaks in affected platitudes and elevated language between cigarettes . xxmaj everyone is \" lost \" and \" struggling \" , desperate to find direction or understanding or whatever and it just goes on and on to the point where you just want to slap all of them . xxmaj it 's never about resolution , it 's only about interminable introspective babble . xxmaj it is nothing more than a psychological drama taken to an extreme beyond the audience 's ability to connect . xxmaj woody xxmaj allen chose to make characters so immersed in themselves we feel left out . xxmaj and for that reason i found this movie painfully self indulgent and spiritually draining . i see what he was going for but his insistence on promoting his message through xxmaj prozac prose and distorted film techniques jettisons it past the point of relevance . i highly recommend this one if you 're feeling a little too happy and need something to remind you of death . xxmaj otherwise , let 's just pretend this film never happened .\n",
              "y: CategoryList\n",
              "neg,neg,neg,neg,neg\n",
              "Path: C:\\Users\\cross-entropy\\.fastai\\data\\imdb;\n",
              "\n",
              "Valid: LabelList (25000 items)\n",
              "x: TextList\n",
              "xxbos xxmaj once again xxmaj mr. xxmaj costner has dragged out a movie for far longer than necessary . xxmaj aside from the terrific sea rescue sequences , of which there are very few i just did not care about any of the characters . xxmaj most of us have ghosts in the closet , and xxmaj costner 's character are realized early on , and then forgotten until much later , by which time i did not care . xxmaj the character we should really care about is a very cocky , overconfident xxmaj ashton xxmaj kutcher . xxmaj the problem is he comes off as kid who thinks he 's better than anyone else around him and shows no signs of a cluttered closet . xxmaj his only obstacle appears to be winning over xxmaj costner . xxmaj finally when we are well past the half way point of this stinker , xxmaj costner tells us all about xxmaj kutcher 's ghosts . xxmaj we are told why xxmaj kutcher is driven to be the best with no prior inkling or foreshadowing . xxmaj no magic here , it was all i could do to keep from turning it off an hour in .,xxbos xxmaj this is an example of why the majority of action films are the same . xxmaj generic and boring , there 's really nothing worth watching here . a complete waste of the then barely - tapped talents of xxmaj ice - t and xxmaj ice xxmaj cube , who 've each proven many times over that they are capable of acting , and acting well . xxmaj do n't bother with this one , go see xxmaj new xxmaj jack xxmaj city , xxmaj ricochet or watch xxmaj new xxmaj york xxmaj undercover for xxmaj ice - t , or xxmaj boyz n the xxmaj hood , xxmaj higher xxmaj learning or xxmaj friday for xxmaj ice xxmaj cube and see the real deal . xxmaj ice - t 's horribly cliched dialogue alone makes this film grate at the teeth , and i 'm still wondering what the heck xxmaj bill xxmaj paxton was doing in this film ? xxmaj and why the heck does he always play the exact same character ? xxmaj from xxmaj aliens onward , every film i 've seen with xxmaj bill xxmaj paxton has him playing the exact same irritating character , and at least in xxmaj aliens his character died , which made it somewhat gratifying ... \n",
              " \n",
              "  xxmaj overall , this is second - rate action trash . xxmaj there are countless better films to see , and if you really want to see this one , watch xxmaj judgement xxmaj night , which is practically a carbon copy but has better acting and a better script . xxmaj the only thing that made this at all worth watching was a decent hand on the camera - the cinematography was almost refreshing , which comes close to making up for the horrible film itself - but not quite . 4 / 10 .,xxbos xxmaj first of all i hate those moronic rappers , who could'nt act if they had a gun pressed against their foreheads . xxmaj all they do is curse and shoot each other and acting like xxunk version of gangsters . \n",
              " \n",
              "  xxmaj the movie does n't take more than five minutes to explain what is going on before we 're already at the warehouse xxmaj there is not a single sympathetic character in this movie , except for the homeless guy , who is also the only one with half a brain . \n",
              " \n",
              "  xxmaj bill xxmaj paxton and xxmaj william xxmaj sadler are both hill billies and xxmaj xxunk character is just as much a villain as the gangsters . i did'nt like him right from the start . \n",
              " \n",
              "  xxmaj the movie is filled with pointless violence and xxmaj walter xxmaj hills specialty : people falling through windows with glass flying everywhere . xxmaj there is pretty much no plot and it is a big problem when you root for no - one . xxmaj everybody dies , except from xxmaj paxton and the homeless guy and everybody get what they deserve . \n",
              " \n",
              "  xxmaj the only two black people that can act is the homeless guy and the junkie but they 're actors by profession , not annoying ugly brain dead rappers . \n",
              " \n",
              "  xxmaj stay away from this crap and watch 48 hours 1 and 2 instead . xxmaj at lest they have characters you care about , a sense of humor and nothing but real actors in the cast .,xxbos xxmaj not even the xxmaj beatles could write songs everyone liked , and although xxmaj walter xxmaj hill is no mop - top he 's second to none when it comes to thought provoking action movies . xxmaj the nineties came and social platforms were changing in music and film , the emergence of the xxmaj rapper turned movie star was in full swing , the acting took a back seat to each man 's overpowering regional accent and transparent acting . xxmaj this was one of the many ice - t movies i saw as a kid and loved , only to watch them later and cringe . xxmaj bill xxmaj paxton and xxmaj william xxmaj sadler are firemen with basic lives until a burning building tenant about to go up in flames hands over a map with gold implications . i hand it to xxmaj walter for quickly and neatly setting up the main characters and location . xxmaj but i fault everyone involved for turning out xxmaj lame - o performances . xxmaj ice - t and cube must have been red hot at this time , and while i 've enjoyed both their careers as rappers , in my opinion they fell flat in this movie . xxmaj it 's about ninety minutes of one guy ridiculously turning his back on the other guy to the point you find yourself locked in multiple states of disbelief . xxmaj now this is a movie , its not a documentary so i wo nt waste my time recounting all the stupid plot twists in this movie , but there were many , and they led nowhere . i got the feeling watching this that everyone on set was xxunk of confused and just playing things off the cuff . xxmaj there are two things i still enjoy about it , one involves a scene with a needle and the other is xxmaj sadler 's huge 45 pistol . xxmaj bottom line this movie is like domino 's pizza . xxmaj yeah ill eat it if i 'm hungry and i do n't feel like cooking , xxmaj but i 'm well aware it tastes like crap . 3 stars , meh .,xxbos xxmaj brass pictures ( movies is not a fitting word for them ) really are somewhat brassy . xxmaj their alluring visual qualities are reminiscent of expensive high class xxup tv commercials . xxmaj but unfortunately xxmaj brass pictures are feature films with the pretense of wanting to entertain viewers for over two hours ! xxmaj in this they fail miserably , their undeniable , but rather soft and flabby than steamy , erotic qualities non withstanding . \n",
              " \n",
              "  xxmaj senso ' 45 is a remake of a film by xxmaj luchino xxmaj visconti with the same title and xxmaj alida xxmaj valli and xxmaj farley xxmaj granger in the lead . xxmaj the original tells a story of senseless love and lust in and around xxmaj venice during the xxmaj italian wars of independence . xxmaj brass moved the action from the 19th into the 20th century , 1945 to be exact , so there are xxmaj mussolini murals , men in black shirts , xxmaj german uniforms or the tattered garb of the partisans . xxmaj but it is just window dressing , the historic context is completely negligible . \n",
              " \n",
              "  xxmaj anna xxmaj xxunk plays the attractive aristocratic woman who falls for the amoral xxup ss guy who always puts on too much lipstick . xxmaj she is an attractive , versatile , well trained xxmaj italian actress and clearly above the material . xxmaj her wide range of facial expressions ( xxunk boredom , loathing , delight , fear , hate ... and ecstasy ) are the best reason to watch this picture and worth two stars . xxmaj she endures this basically trashy stuff with an astonishing amount of dignity . i wish some really good parts come along for her . xxmaj she really deserves it .\n",
              "y: CategoryList\n",
              "neg,neg,neg,neg,neg\n",
              "Path: C:\\Users\\cross-entropy\\.fastai\\data\\imdb;\n",
              "\n",
              "Test: None, model=SequentialRNN(\n",
              "  (0): MultiBatchEncoder(\n",
              "    (module): AWD_LSTM(\n",
              "      (encoder): Embedding(60000, 400, padding_idx=1)\n",
              "      (encoder_dp): EmbeddingDropout(\n",
              "        (emb): Embedding(60000, 400, padding_idx=1)\n",
              "      )\n",
              "      (rnns): ModuleList(\n",
              "        (0): WeightDropout(\n",
              "          (module): LSTM(400, 1152, batch_first=True)\n",
              "        )\n",
              "        (1): WeightDropout(\n",
              "          (module): LSTM(1152, 1152, batch_first=True)\n",
              "        )\n",
              "        (2): WeightDropout(\n",
              "          (module): LSTM(1152, 400, batch_first=True)\n",
              "        )\n",
              "      )\n",
              "      (input_dp): RNNDropout()\n",
              "      (hidden_dps): ModuleList(\n",
              "        (0): RNNDropout()\n",
              "        (1): RNNDropout()\n",
              "        (2): RNNDropout()\n",
              "      )\n",
              "    )\n",
              "  )\n",
              "  (1): PoolingLinearClassifier(\n",
              "    (layers): Sequential(\n",
              "      (0): BatchNorm1d(1200, eps=1e-05, momentum=0.1, affine=True, track_running_stats=True)\n",
              "      (1): Dropout(p=0.12, inplace=False)\n",
              "      (2): Linear(in_features=1200, out_features=50, bias=True)\n",
              "      (3): ReLU(inplace=True)\n",
              "      (4): BatchNorm1d(50, eps=1e-05, momentum=0.1, affine=True, track_running_stats=True)\n",
              "      (5): Dropout(p=0.1, inplace=False)\n",
              "      (6): Linear(in_features=50, out_features=2, bias=True)\n",
              "    )\n",
              "  )\n",
              "), opt_func=functools.partial(<class 'torch.optim.adam.Adam'>, betas=(0.9, 0.99)), loss_func=FlattenedLoss of CrossEntropyLoss(), metrics=[<function accuracy at 0x000001BC017E0F28>], true_wd=True, bn_wd=True, wd=0.01, train_bn=True, path=WindowsPath('C:/Users/cross-entropy/.fastai/data/imdb'), model_dir='models', callback_fns=[functools.partial(<class 'fastai.basic_train.Recorder'>, add_time=True, silent=False)], callbacks=[RNNTrainer\n",
              "learn: ...\n",
              "alpha: 2.0\n",
              "beta: 1.0, MixedPrecision\n",
              "learn: ...\n",
              "loss_scale: 65536\n",
              "max_noskip: 1000\n",
              "dynamic: True\n",
              "clip: None\n",
              "flat_master: False\n",
              "max_scale: 16777216\n",
              "loss_fp32: True], layer_groups=[Sequential(\n",
              "  (0): Embedding(60000, 400, padding_idx=1)\n",
              "  (1): EmbeddingDropout(\n",
              "    (emb): Embedding(60000, 400, padding_idx=1)\n",
              "  )\n",
              "), Sequential(\n",
              "  (0): WeightDropout(\n",
              "    (module): LSTM(400, 1152, batch_first=True)\n",
              "  )\n",
              "  (1): RNNDropout()\n",
              "), Sequential(\n",
              "  (0): WeightDropout(\n",
              "    (module): LSTM(1152, 1152, batch_first=True)\n",
              "  )\n",
              "  (1): RNNDropout()\n",
              "), Sequential(\n",
              "  (0): WeightDropout(\n",
              "    (module): LSTM(1152, 400, batch_first=True)\n",
              "  )\n",
              "  (1): RNNDropout()\n",
              "), Sequential(\n",
              "  (0): PoolingLinearClassifier(\n",
              "    (layers): Sequential(\n",
              "      (0): BatchNorm1d(1200, eps=1e-05, momentum=0.1, affine=True, track_running_stats=True)\n",
              "      (1): Dropout(p=0.12, inplace=False)\n",
              "      (2): Linear(in_features=1200, out_features=50, bias=True)\n",
              "      (3): ReLU(inplace=True)\n",
              "      (4): BatchNorm1d(50, eps=1e-05, momentum=0.1, affine=True, track_running_stats=True)\n",
              "      (5): Dropout(p=0.1, inplace=False)\n",
              "      (6): Linear(in_features=50, out_features=2, bias=True)\n",
              "    )\n",
              "  )\n",
              ")], add_time=True, silent=False)"
            ]
          },
          "metadata": {
            "tags": []
          },
          "execution_count": 10
        }
      ]
    },
    {
      "cell_type": "markdown",
      "metadata": {
        "id": "CRhGLEN7m1Bf"
      },
      "source": [
        "#### Unfreeze all the layers, train for two cycles, and save the result."
      ]
    },
    {
      "cell_type": "markdown",
      "metadata": {
        "id": "dGcTn_L6m1Bf"
      },
      "source": [
        "Note: at this step I encountered a `CUDA error: unspecified launch failure`. This is a known (and unsolved) problem with PyTorch when using an LSTM. https://github.com/pytorch/pytorch/issues/27837\n",
        "\n",
        "Nothing to do but try again... and it worked on the second try."
      ]
    },
    {
      "cell_type": "code",
      "metadata": {
        "id": "kKxJxwxXm1Bf",
        "outputId": "9448e7f8-6deb-4a70-da63-826cec4ec0f7"
      },
      "source": [
        "learn_c.unfreeze()\n",
        "learn_c.fit_one_cycle(2, slice(1e-3/(2.6**4),1e-3), moms=(0.8,0.7))"
      ],
      "execution_count": null,
      "outputs": [
        {
          "output_type": "display_data",
          "data": {
            "text/html": [
              "<table border=\"1\" class=\"dataframe\">\n",
              "  <thead>\n",
              "    <tr style=\"text-align: left;\">\n",
              "      <th>epoch</th>\n",
              "      <th>train_loss</th>\n",
              "      <th>valid_loss</th>\n",
              "      <th>accuracy</th>\n",
              "      <th>time</th>\n",
              "    </tr>\n",
              "  </thead>\n",
              "  <tbody>\n",
              "    <tr>\n",
              "      <td>0</td>\n",
              "      <td>0.205716</td>\n",
              "      <td>0.144805</td>\n",
              "      <td>0.948720</td>\n",
              "      <td>12:00</td>\n",
              "    </tr>\n",
              "    <tr>\n",
              "      <td>1</td>\n",
              "      <td>0.132235</td>\n",
              "      <td>0.142493</td>\n",
              "      <td>0.949320</td>\n",
              "      <td>12:01</td>\n",
              "    </tr>\n",
              "  </tbody>\n",
              "</table>"
            ],
            "text/plain": [
              "<IPython.core.display.HTML object>"
            ]
          },
          "metadata": {
            "tags": []
          }
        }
      ]
    },
    {
      "cell_type": "markdown",
      "metadata": {
        "id": "ode2RpKkm1Bg"
      },
      "source": [
        "The state of the art for this dataset in 2017 was 94.1%, and we have crushed it!!!"
      ]
    },
    {
      "cell_type": "markdown",
      "metadata": {
        "id": "EpGKtWElm1Bg"
      },
      "source": [
        "#### Save the IMDb classifer model"
      ]
    },
    {
      "cell_type": "code",
      "metadata": {
        "id": "vDWvwVtjm1Bg"
      },
      "source": [
        "learn_c.save('clas')"
      ],
      "execution_count": null,
      "outputs": []
    },
    {
      "cell_type": "markdown",
      "metadata": {
        "id": "DKfTDZffm1Bg"
      },
      "source": [
        "#### Let's look at a few examples, just to check that the classifier is working as we think it should. \n",
        "The three outputs of the model predition are the label (`pos` or `neg`) and the class probability estimates for `neg` and `pos`, which measure the model's confidence in it's prediction. As we'd expect, the model is extremely confident that the first review is `pos` and quite confident that the second review is `neg`. So it passes the test with flying colors. "
      ]
    },
    {
      "cell_type": "code",
      "metadata": {
        "id": "6qdQcNthm1Bh",
        "outputId": "6a272b17-990b-42c4-d28d-7ae05c0ee47e"
      },
      "source": [
        "learn_c.predict(\"I really loved that movie, it was awesome!\")"
      ],
      "execution_count": null,
      "outputs": [
        {
          "output_type": "stream",
          "text": [
            "C:\\Users\\cross-entropy\\Anaconda3\\envs\\fastai\\lib\\site-packages\\fastai\\torch_core.py:83: UserWarning: Tensor is int32: upgrading to int64; for better performance use int64 input\n",
            "  warn('Tensor is int32: upgrading to int64; for better performance use int64 input')\n"
          ],
          "name": "stderr"
        },
        {
          "output_type": "execute_result",
          "data": {
            "text/plain": [
              "(Category pos, tensor(1), tensor([0.0161, 0.9839]))"
            ]
          },
          "metadata": {
            "tags": []
          },
          "execution_count": 13
        }
      ]
    },
    {
      "cell_type": "code",
      "metadata": {
        "id": "obVcTCwqm1Bh",
        "outputId": "dc054377-ceae-4146-d31b-5be36b0d45ca"
      },
      "source": [
        "learn_c.predict(\"I didn't really love that movie, and I didn't think it was awesome.\")"
      ],
      "execution_count": null,
      "outputs": [
        {
          "output_type": "stream",
          "text": [
            "C:\\Users\\cross-entropy\\Anaconda3\\envs\\fastai\\lib\\site-packages\\fastai\\torch_core.py:83: UserWarning: Tensor is int32: upgrading to int64; for better performance use int64 input\n",
            "  warn('Tensor is int32: upgrading to int64; for better performance use int64 input')\n"
          ],
          "name": "stderr"
        },
        {
          "output_type": "execute_result",
          "data": {
            "text/plain": [
              "(Category neg, tensor(0), tensor([0.9698, 0.0302]))"
            ]
          },
          "metadata": {
            "tags": []
          },
          "execution_count": 14
        }
      ]
    },
    {
      "cell_type": "markdown",
      "metadata": {
        "id": "NFIU27qdm1Bi"
      },
      "source": [
        "#### Now that we've built the model, here is the part where you get to have some fun!! Take the model for a spin, try out your own examples!!"
      ]
    },
    {
      "cell_type": "markdown",
      "metadata": {
        "heading_collapsed": true,
        "id": "HS6_Da5rm1Bi"
      },
      "source": [
        "## Appendix: Language Model Zoo"
      ]
    },
    {
      "cell_type": "markdown",
      "metadata": {
        "hidden": true,
        "id": "Njvhg4Zcm1Bj"
      },
      "source": [
        "fast.ai alumni have applied ULMFit to dozens of different languages, and have beat the SOTA in Thai, Polish, German, Indonesian, Hindi, & Malay.\n",
        "\n",
        "They share tips and best practices in [this forum thread](https://forums.fast.ai/t/language-model-zoo-gorilla/14623) in case you are interested in getting involved!\n",
        "\n",
        "<img src=\"https://github.com/bcollister01/course-nlp/blob/master/images/language_model_zoo.png?raw=1\" alt=\"language model zoo\" style=\"width: 80%\"/>"
      ]
    },
    {
      "cell_type": "code",
      "metadata": {
        "hidden": true,
        "id": "aNTxLPfJm1Bj"
      },
      "source": [
        ""
      ],
      "execution_count": null,
      "outputs": []
    }
  ]
}