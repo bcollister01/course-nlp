{
  "nbformat": 4,
  "nbformat_minor": 0,
  "metadata": {
    "kernelspec": {
      "display_name": "Python 3",
      "language": "python",
      "name": "python3"
    },
    "language_info": {
      "codemirror_mode": {
        "name": "ipython",
        "version": 3
      },
      "file_extension": ".py",
      "mimetype": "text/x-python",
      "name": "python",
      "nbconvert_exporter": "python",
      "pygments_lexer": "ipython3",
      "version": "3.7.1"
    },
    "colab": {
      "name": "Ben nn-imdb-more.ipynb",
      "provenance": [],
      "collapsed_sections": [],
      "include_colab_link": true
    }
  },
  "cells": [
    {
      "cell_type": "markdown",
      "metadata": {
        "id": "view-in-github",
        "colab_type": "text"
      },
      "source": [
        "<a href=\"https://colab.research.google.com/github/bcollister01/course-nlp/blob/master/Ben_nn_imdb_more.ipynb\" target=\"_parent\"><img src=\"https://colab.research.google.com/assets/colab-badge.svg\" alt=\"Open In Colab\"/></a>"
      ]
    },
    {
      "cell_type": "markdown",
      "metadata": {
        "id": "VaF97Gs_0iLM"
      },
      "source": [
        "# Language Modeling & Sentiment Analysis of IMDB movie reviews"
      ]
    },
    {
      "cell_type": "code",
      "metadata": {
        "id": "fD2hbHHI0iLY"
      },
      "source": [
        "%reload_ext autoreload\n",
        "%autoreload 2\n",
        "%matplotlib inline\n",
        "\n",
        "from fastai import *\n",
        "from fastai.text import *"
      ],
      "execution_count": null,
      "outputs": []
    },
    {
      "cell_type": "code",
      "metadata": {
        "id": "dS68iklP0iLZ"
      },
      "source": [
        "# bs=48\n",
        "bs=128"
      ],
      "execution_count": null,
      "outputs": []
    },
    {
      "cell_type": "code",
      "metadata": {
        "id": "UdXnnfhE0iLZ"
      },
      "source": [
        "path = untar_data(URLs.IMDB)"
      ],
      "execution_count": null,
      "outputs": []
    },
    {
      "cell_type": "markdown",
      "metadata": {
        "id": "0KiVn8CP0iLa"
      },
      "source": [
        "## Language model\n",
        "\n",
        "Starting with the Wikipedia language model. IMDB has a directory called unsup for unsupervised - movie reviews that don't have a rating attached. Initially, doesn't sound useful for sentiment classification.\n",
        "Semi-supervised learning - trying to do something useful with the unlabelled data. Most companies aren't aware of this. For NLP classification, we can add unsupervised text to our language model."
      ]
    },
    {
      "cell_type": "code",
      "metadata": {
        "id": "3udkcpVl0iLa"
      },
      "source": [
        "\n",
        "\n",
        "data_lm = (TextList.from_folder(path)\n",
        "            .filter_by_folder(include=['train', 'test', 'unsup']) \n",
        "            .split_by_rand_pct(0.1, seed=42)\n",
        "            .label_for_lm()           \n",
        "            .databunch(bs=bs, num_workers=1))\n",
        "\n",
        "len(data_lm.vocab.itos),len(data_lm.train_ds)"
      ],
      "execution_count": null,
      "outputs": []
    },
    {
      "cell_type": "code",
      "metadata": {
        "id": "Y-pPfFZ40iLb"
      },
      "source": [
        "data_lm.save('lm_databunch')"
      ],
      "execution_count": null,
      "outputs": []
    },
    {
      "cell_type": "code",
      "metadata": {
        "id": "DDAqXwnh0iLb"
      },
      "source": [
        "data_lm = load_data(path, 'lm_databunch', bs=bs)"
      ],
      "execution_count": null,
      "outputs": []
    },
    {
      "cell_type": "markdown",
      "metadata": {
        "id": "fVrmSMKo1528"
      },
      "source": [
        ".to_fp16() tells fastai to use mixed precision training. Rather than using 32 bit floats, use 16 bit floats. Until recently, people thought 32 bit was minimum to be useful. Deep learning models are meant to be approximate - we could maybe use less precise values. Most CPUs don't support half precision floating point but recently, some GPUs starting supporting it. In some of the GPUs, it runs 8-10x faster using half precision floats.\n",
        "\n",
        "In some parts of calculation, half precision fine but single precision needed for other calculations like loss function or multiplying gradient by small numbers. So we have to use mixed precision - do some calculations in half precision and some in single precision.\n",
        "\n",
        "drop_mult: Dropout is where we delete some of the activations at random, helps the model to generalise better - it can't learn to have a single activation to a single thing. \n",
        "\n",
        "AWD_LSTM - Regular RNN - allows for dropout at lots of different points in the model. There are actually 5 different types of dropout in this model. Luckily, documentation recommends values of these hyperparameters and for fastai, they set it so you can control with drop_multi the multiplicative factor applied to these default hyperparameter values. If you are currently overfitting, you increase dropout and vice versa."
      ]
    },
    {
      "cell_type": "code",
      "metadata": {
        "scrolled": true,
        "id": "XN8oZUZS0iLc"
      },
      "source": [
        "learn_lm = language_model_learner(data_lm, AWD_LSTM, drop_mult=1.).to_fp16()"
      ],
      "execution_count": null,
      "outputs": []
    },
    {
      "cell_type": "code",
      "metadata": {
        "id": "P2fdsQ8b0iLc"
      },
      "source": [
        "lr = 1e-2\n",
        "lr *= bs/48"
      ],
      "execution_count": null,
      "outputs": []
    },
    {
      "cell_type": "code",
      "metadata": {
        "id": "H_p16O1g0iLc",
        "outputId": "b39819fb-9e39-4f6a-805c-49375dbfc230"
      },
      "source": [
        "learn_lm.fit_one_cycle(1, lr, moms=(0.8,0.7))"
      ],
      "execution_count": null,
      "outputs": [
        {
          "output_type": "display_data",
          "data": {
            "text/html": [
              "<table border=\"1\" class=\"dataframe\">\n",
              "  <thead>\n",
              "    <tr style=\"text-align: left;\">\n",
              "      <th>epoch</th>\n",
              "      <th>train_loss</th>\n",
              "      <th>valid_loss</th>\n",
              "      <th>accuracy</th>\n",
              "      <th>time</th>\n",
              "    </tr>\n",
              "  </thead>\n",
              "  <tbody>\n",
              "    <tr>\n",
              "      <td>0</td>\n",
              "      <td>4.604046</td>\n",
              "      <td>4.189002</td>\n",
              "      <td>0.278265</td>\n",
              "      <td>18:36</td>\n",
              "    </tr>\n",
              "  </tbody>\n",
              "</table>"
            ],
            "text/plain": [
              "<IPython.core.display.HTML object>"
            ]
          },
          "metadata": {
            "tags": []
          }
        }
      ]
    },
    {
      "cell_type": "markdown",
      "metadata": {
        "id": "cbzFkpTf1pj8"
      },
      "source": [
        "Because we have more data, we can train for much longer without overfitting language model."
      ]
    },
    {
      "cell_type": "code",
      "metadata": {
        "id": "KzIb_2BS0iLe"
      },
      "source": [
        "learn_lm.unfreeze()\n",
        "learn_lm.fit_one_cycle(10, lr/10, moms=(0.8,0.7))"
      ],
      "execution_count": null,
      "outputs": []
    },
    {
      "cell_type": "markdown",
      "metadata": {
        "id": "n-251Uyq_bwe"
      },
      "source": [
        "The encoder part of the language model learner is the bit we want to keep - we aren't interested in the classifier part for predicting the next word for the task of sentiment classification."
      ]
    },
    {
      "cell_type": "code",
      "metadata": {
        "id": "kOiufuJ-0iLe"
      },
      "source": [
        "learn_lm.save('fine_tuned_10')\n",
        "learn_lm.save_encoder('fine_tuned_enc_10')"
      ],
      "execution_count": null,
      "outputs": []
    },
    {
      "cell_type": "markdown",
      "metadata": {
        "id": "pCEMxSWc0iLe"
      },
      "source": [
        "## Classifier"
      ]
    },
    {
      "cell_type": "code",
      "metadata": {
        "id": "K9KGa0Qy0iLf"
      },
      "source": [
        "data_clas = (TextList.from_folder(path, vocab=data_lm.vocab)\n",
        "             .split_by_folder(valid='test')\n",
        "             .label_from_folder(classes=['neg', 'pos'])\n",
        "             .databunch(bs=bs, num_workers=1))"
      ],
      "execution_count": null,
      "outputs": []
    },
    {
      "cell_type": "code",
      "metadata": {
        "id": "mRWI3mvU0iLg"
      },
      "source": [
        "data_clas.save('imdb_textlist_class')"
      ],
      "execution_count": null,
      "outputs": []
    },
    {
      "cell_type": "code",
      "metadata": {
        "id": "ZGtAEChE0iLh"
      },
      "source": [
        "data_clas = load_data(path, 'imdb_textlist_class', bs=bs, num_workers=1)"
      ],
      "execution_count": null,
      "outputs": []
    },
    {
      "cell_type": "code",
      "metadata": {
        "id": "P-OEingR0iLh"
      },
      "source": [
        "learn_c = text_classifier_learner(data_clas, AWD_LSTM, drop_mult=0.5).to_fp16()\n",
        "learn_c.load_encoder('fine_tuned_enc_10')\n",
        "learn_c.freeze()"
      ],
      "execution_count": null,
      "outputs": []
    },
    {
      "cell_type": "code",
      "metadata": {
        "id": "KWMfqmGo0iLi"
      },
      "source": [
        "lr=2e-2\n",
        "lr *= bs/48"
      ],
      "execution_count": null,
      "outputs": []
    },
    {
      "cell_type": "code",
      "metadata": {
        "scrolled": false,
        "id": "U0NWo1pE0iLi",
        "outputId": "bd698656-eb74-4d8d-f38d-11f0bafc05f0"
      },
      "source": [
        "learn_c.fit_one_cycle(1, lr, moms=(0.8,0.7))"
      ],
      "execution_count": null,
      "outputs": [
        {
          "output_type": "display_data",
          "data": {
            "text/html": [
              "<table border=\"1\" class=\"dataframe\">\n",
              "  <thead>\n",
              "    <tr style=\"text-align: left;\">\n",
              "      <th>epoch</th>\n",
              "      <th>train_loss</th>\n",
              "      <th>valid_loss</th>\n",
              "      <th>accuracy</th>\n",
              "      <th>time</th>\n",
              "    </tr>\n",
              "  </thead>\n",
              "  <tbody>\n",
              "    <tr>\n",
              "      <td>0</td>\n",
              "      <td>0.241523</td>\n",
              "      <td>0.190128</td>\n",
              "      <td>0.926600</td>\n",
              "      <td>01:16</td>\n",
              "    </tr>\n",
              "  </tbody>\n",
              "</table>"
            ],
            "text/plain": [
              "<IPython.core.display.HTML object>"
            ]
          },
          "metadata": {
            "tags": []
          }
        }
      ]
    },
    {
      "cell_type": "code",
      "metadata": {
        "id": "_B9Ust3M0iLk"
      },
      "source": [
        "learn_c.save('1')"
      ],
      "execution_count": null,
      "outputs": []
    },
    {
      "cell_type": "code",
      "metadata": {
        "id": "ITFEE1I50iLl",
        "outputId": "d00db1d4-ac83-4841-a248-2cbb6f49bc87"
      },
      "source": [
        "learn_c.freeze_to(-2)\n",
        "learn_c.fit_one_cycle(1, slice(lr/(2.6**4),lr), moms=(0.8,0.7))"
      ],
      "execution_count": null,
      "outputs": [
        {
          "output_type": "display_data",
          "data": {
            "text/html": [
              "<table border=\"1\" class=\"dataframe\">\n",
              "  <thead>\n",
              "    <tr style=\"text-align: left;\">\n",
              "      <th>epoch</th>\n",
              "      <th>train_loss</th>\n",
              "      <th>valid_loss</th>\n",
              "      <th>accuracy</th>\n",
              "      <th>time</th>\n",
              "    </tr>\n",
              "  </thead>\n",
              "  <tbody>\n",
              "    <tr>\n",
              "      <td>0</td>\n",
              "      <td>0.204818</td>\n",
              "      <td>0.161675</td>\n",
              "      <td>0.938640</td>\n",
              "      <td>02:00</td>\n",
              "    </tr>\n",
              "  </tbody>\n",
              "</table>"
            ],
            "text/plain": [
              "<IPython.core.display.HTML object>"
            ]
          },
          "metadata": {
            "tags": []
          }
        }
      ]
    },
    {
      "cell_type": "code",
      "metadata": {
        "id": "ZdAPLwkX0iLm"
      },
      "source": [
        "learn_c.save('2nd')"
      ],
      "execution_count": null,
      "outputs": []
    },
    {
      "cell_type": "code",
      "metadata": {
        "id": "I2GWI1Hh0iLn",
        "outputId": "bfbb51ae-9ebc-489c-9ef0-cc9b12ce2bb2"
      },
      "source": [
        "learn_c.freeze_to(-3)\n",
        "learn_c.fit_one_cycle(1, slice(lr/2/(2.6**4),lr/2), moms=(0.8,0.7))"
      ],
      "execution_count": null,
      "outputs": [
        {
          "output_type": "display_data",
          "data": {
            "text/html": [
              "<table border=\"1\" class=\"dataframe\">\n",
              "  <thead>\n",
              "    <tr style=\"text-align: left;\">\n",
              "      <th>epoch</th>\n",
              "      <th>train_loss</th>\n",
              "      <th>valid_loss</th>\n",
              "      <th>accuracy</th>\n",
              "      <th>time</th>\n",
              "    </tr>\n",
              "  </thead>\n",
              "  <tbody>\n",
              "    <tr>\n",
              "      <td>0</td>\n",
              "      <td>0.179451</td>\n",
              "      <td>0.144047</td>\n",
              "      <td>0.945840</td>\n",
              "      <td>02:56</td>\n",
              "    </tr>\n",
              "  </tbody>\n",
              "</table>"
            ],
            "text/plain": [
              "<IPython.core.display.HTML object>"
            ]
          },
          "metadata": {
            "tags": []
          }
        }
      ]
    },
    {
      "cell_type": "code",
      "metadata": {
        "id": "m-MxQ3lB0iLn"
      },
      "source": [
        "learn_c.save('3rd')"
      ],
      "execution_count": null,
      "outputs": []
    },
    {
      "cell_type": "code",
      "metadata": {
        "id": "-gRk3k1n0iLo",
        "outputId": "c9c30dfa-f02a-423c-a0bd-4cc421756e1b"
      },
      "source": [
        "learn_c.unfreeze()\n",
        "learn_c.fit_one_cycle(2, slice(lr/10/(2.6**4),lr/10), moms=(0.8,0.7))"
      ],
      "execution_count": null,
      "outputs": [
        {
          "output_type": "display_data",
          "data": {
            "text/html": [
              "<table border=\"1\" class=\"dataframe\">\n",
              "  <thead>\n",
              "    <tr style=\"text-align: left;\">\n",
              "      <th>epoch</th>\n",
              "      <th>train_loss</th>\n",
              "      <th>valid_loss</th>\n",
              "      <th>accuracy</th>\n",
              "      <th>time</th>\n",
              "    </tr>\n",
              "  </thead>\n",
              "  <tbody>\n",
              "    <tr>\n",
              "      <td>0</td>\n",
              "      <td>0.120063</td>\n",
              "      <td>0.145701</td>\n",
              "      <td>0.947000</td>\n",
              "      <td>03:24</td>\n",
              "    </tr>\n",
              "    <tr>\n",
              "      <td>1</td>\n",
              "      <td>0.087303</td>\n",
              "      <td>0.152943</td>\n",
              "      <td>0.948080</td>\n",
              "      <td>03:09</td>\n",
              "    </tr>\n",
              "  </tbody>\n",
              "</table>"
            ],
            "text/plain": [
              "<IPython.core.display.HTML object>"
            ]
          },
          "metadata": {
            "tags": []
          }
        }
      ]
    },
    {
      "cell_type": "code",
      "metadata": {
        "id": "EAfwCITT0iLo"
      },
      "source": [
        "learn_c.save('clas')"
      ],
      "execution_count": null,
      "outputs": []
    },
    {
      "cell_type": "code",
      "metadata": {
        "id": "SXwuSoP30iLp"
      },
      "source": [
        ""
      ],
      "execution_count": null,
      "outputs": []
    }
  ]
}