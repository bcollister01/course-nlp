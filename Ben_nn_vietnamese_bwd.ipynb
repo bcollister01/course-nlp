{
  "nbformat": 4,
  "nbformat_minor": 0,
  "metadata": {
    "kernelspec": {
      "display_name": "Python 3",
      "language": "python",
      "name": "python3"
    },
    "language_info": {
      "codemirror_mode": {
        "name": "ipython",
        "version": 3
      },
      "file_extension": ".py",
      "mimetype": "text/x-python",
      "name": "python",
      "nbconvert_exporter": "python",
      "pygments_lexer": "ipython3",
      "version": "3.7.4"
    },
    "toc": {
      "base_numbering": 1,
      "nav_menu": {},
      "number_sections": false,
      "sideBar": true,
      "skip_h1_title": true,
      "title_cell": "Table of Contents",
      "title_sidebar": "Contents",
      "toc_cell": false,
      "toc_position": {},
      "toc_section_display": true,
      "toc_window_display": false
    },
    "colab": {
      "name": "Ben nn-vietnamese-bwd.ipynb",
      "provenance": [],
      "include_colab_link": true
    }
  },
  "cells": [
    {
      "cell_type": "markdown",
      "metadata": {
        "id": "view-in-github",
        "colab_type": "text"
      },
      "source": [
        "<a href=\"https://colab.research.google.com/github/bcollister01/course-nlp/blob/master/Ben_nn_vietnamese_bwd.ipynb\" target=\"_parent\"><img src=\"https://colab.research.google.com/assets/colab-badge.svg\" alt=\"Open In Colab\"/></a>"
      ]
    },
    {
      "cell_type": "markdown",
      "metadata": {
        "id": "8nqT4_rWwDuX"
      },
      "source": [
        "# Vietnamese ULMFiT from scratch (backwards)"
      ]
    },
    {
      "cell_type": "code",
      "metadata": {
        "id": "Mq29iKODwDua"
      },
      "source": [
        "%reload_ext autoreload\n",
        "%autoreload 2\n",
        "%matplotlib inline\n",
        "\n",
        "from fastai import *\n",
        "from fastai.text import *"
      ],
      "execution_count": null,
      "outputs": []
    },
    {
      "cell_type": "code",
      "metadata": {
        "id": "fp8oeVztwDub"
      },
      "source": [
        "bs=128"
      ],
      "execution_count": null,
      "outputs": []
    },
    {
      "cell_type": "code",
      "metadata": {
        "id": "0lQI2Nw2wDuc"
      },
      "source": [
        "data_path = Config.data_path()\n",
        "lang = 'vi'\n",
        "name = f'{lang}wiki'\n",
        "path = data_path/name\n",
        "dest = path/'docs'\n",
        "lm_fns = [f'{lang}_wt_bwd', f'{lang}_wt_vocab_bwd']"
      ],
      "execution_count": null,
      "outputs": []
    },
    {
      "cell_type": "markdown",
      "metadata": {
        "id": "bR3QBExZwDuh"
      },
      "source": [
        "## Vietnamese wikipedia model"
      ]
    },
    {
      "cell_type": "code",
      "metadata": {
        "id": "gu7w_n0MwDui"
      },
      "source": [
        "data = (TextList.from_folder(dest)\n",
        "            .split_by_rand_pct(0.1, seed=42)\n",
        "            .label_for_lm()\n",
        "            .databunch(bs=bs, num_workers=1, backwards=True))\n",
        "\n",
        "data.save(f'{lang}_databunch_bwd')"
      ],
      "execution_count": null,
      "outputs": []
    },
    {
      "cell_type": "code",
      "metadata": {
        "id": "jsUWv8I8wDui",
        "outputId": "0acdc3d5-a51d-4eef-f96c-cce44d6dfee8"
      },
      "source": [
        "data = load_data(dest, f'{lang}_databunch_bwd', bs=bs, backwards=True)"
      ],
      "execution_count": null,
      "outputs": [
        {
          "output_type": "stream",
          "text": [
            "/home/jhoward/anaconda3/lib/python3.7/site-packages/torch/serialization.py:493: SourceChangeWarning: source code of class 'torch.nn.modules.loss.CrossEntropyLoss' has changed. you can retrieve the original source code by accessing the object's source attribute or set `torch.nn.Module.dump_patches = True` and use the patch tool to revert the changes.\n",
            "  warnings.warn(msg, SourceChangeWarning)\n"
          ],
          "name": "stderr"
        }
      ]
    },
    {
      "cell_type": "code",
      "metadata": {
        "scrolled": false,
        "id": "eDSM7QlmwDuk"
      },
      "source": [
        "learn = language_model_learner(data, AWD_LSTM, drop_mult=0.5, pretrained=False).to_fp16()"
      ],
      "execution_count": null,
      "outputs": []
    },
    {
      "cell_type": "code",
      "metadata": {
        "id": "J71VZAQmwDul"
      },
      "source": [
        "lr = 3e-3\n",
        "lr *= bs/48  # Scale learning rate by batch size"
      ],
      "execution_count": null,
      "outputs": []
    },
    {
      "cell_type": "code",
      "metadata": {
        "id": "kGsRis9OwDum",
        "outputId": "75f0ce68-6e8e-4ce5-916c-b63be784b5ad"
      },
      "source": [
        "learn.unfreeze()\n",
        "learn.fit_one_cycle(10, lr, moms=(0.8,0.7))"
      ],
      "execution_count": null,
      "outputs": [
        {
          "output_type": "display_data",
          "data": {
            "text/html": [
              "<table border=\"1\" class=\"dataframe\">\n",
              "  <thead>\n",
              "    <tr style=\"text-align: left;\">\n",
              "      <th>epoch</th>\n",
              "      <th>train_loss</th>\n",
              "      <th>valid_loss</th>\n",
              "      <th>accuracy</th>\n",
              "      <th>time</th>\n",
              "    </tr>\n",
              "  </thead>\n",
              "  <tbody>\n",
              "    <tr>\n",
              "      <td>0</td>\n",
              "      <td>3.445849</td>\n",
              "      <td>3.424579</td>\n",
              "      <td>0.401327</td>\n",
              "      <td>32:56</td>\n",
              "    </tr>\n",
              "    <tr>\n",
              "      <td>1</td>\n",
              "      <td>3.420865</td>\n",
              "      <td>3.383994</td>\n",
              "      <td>0.402841</td>\n",
              "      <td>33:31</td>\n",
              "    </tr>\n",
              "    <tr>\n",
              "      <td>2</td>\n",
              "      <td>3.374694</td>\n",
              "      <td>3.330634</td>\n",
              "      <td>0.407800</td>\n",
              "      <td>33:26</td>\n",
              "    </tr>\n",
              "    <tr>\n",
              "      <td>3</td>\n",
              "      <td>3.273197</td>\n",
              "      <td>3.257108</td>\n",
              "      <td>0.416047</td>\n",
              "      <td>32:54</td>\n",
              "    </tr>\n",
              "    <tr>\n",
              "      <td>4</td>\n",
              "      <td>3.223044</td>\n",
              "      <td>3.200649</td>\n",
              "      <td>0.422695</td>\n",
              "      <td>32:56</td>\n",
              "    </tr>\n",
              "    <tr>\n",
              "      <td>5</td>\n",
              "      <td>3.134357</td>\n",
              "      <td>3.132859</td>\n",
              "      <td>0.430725</td>\n",
              "      <td>31:35</td>\n",
              "    </tr>\n",
              "    <tr>\n",
              "      <td>6</td>\n",
              "      <td>3.135637</td>\n",
              "      <td>3.057030</td>\n",
              "      <td>0.439737</td>\n",
              "      <td>31:41</td>\n",
              "    </tr>\n",
              "    <tr>\n",
              "      <td>7</td>\n",
              "      <td>3.080461</td>\n",
              "      <td>2.992323</td>\n",
              "      <td>0.447939</td>\n",
              "      <td>31:45</td>\n",
              "    </tr>\n",
              "    <tr>\n",
              "      <td>8</td>\n",
              "      <td>3.075036</td>\n",
              "      <td>2.943683</td>\n",
              "      <td>0.454494</td>\n",
              "      <td>31:39</td>\n",
              "    </tr>\n",
              "    <tr>\n",
              "      <td>9</td>\n",
              "      <td>2.947997</td>\n",
              "      <td>2.929258</td>\n",
              "      <td>0.456500</td>\n",
              "      <td>31:46</td>\n",
              "    </tr>\n",
              "  </tbody>\n",
              "</table>"
            ],
            "text/plain": [
              "<IPython.core.display.HTML object>"
            ]
          },
          "metadata": {
            "tags": []
          }
        }
      ]
    },
    {
      "cell_type": "code",
      "metadata": {
        "id": "3KhFChYdwDum"
      },
      "source": [
        "mdl_path = path/'models'\n",
        "mdl_path.mkdir(exist_ok=True)\n",
        "learn.to_fp32().save(mdl_path/lm_fns[0], with_opt=False)\n",
        "learn.data.vocab.save(mdl_path/(lm_fns[1] + '.pkl'))"
      ],
      "execution_count": null,
      "outputs": []
    },
    {
      "cell_type": "markdown",
      "metadata": {
        "id": "e0NLg4lOwDun"
      },
      "source": [
        "## Vietnamese sentiment analysis"
      ]
    },
    {
      "cell_type": "markdown",
      "metadata": {
        "heading_collapsed": true,
        "id": "-FZkCgKFwDun"
      },
      "source": [
        "### Language model"
      ]
    },
    {
      "cell_type": "code",
      "metadata": {
        "hidden": true,
        "id": "BoKclmWOwDun"
      },
      "source": [
        "train_df = pd.read_csv(path/'train.csv')\n",
        "train_df.loc[pd.isna(train_df.comment),'comment']='NA'\n",
        "\n",
        "test_df = pd.read_csv(path/'test.csv')\n",
        "test_df.loc[pd.isna(test_df.comment),'comment']='NA'\n",
        "test_df['label'] = 0\n",
        "\n",
        "df = pd.concat([train_df,test_df])"
      ],
      "execution_count": null,
      "outputs": []
    },
    {
      "cell_type": "code",
      "metadata": {
        "hidden": true,
        "id": "hyKSxIDJwDuo",
        "outputId": "421463dc-b8a3-4674-d272-c247c0a3e586"
      },
      "source": [
        "data_lm = (TextList.from_df(df, path, cols='comment')\n",
        "    .split_by_rand_pct(0.1, seed=42)\n",
        "    .label_for_lm()           \n",
        "    .databunch(bs=bs, num_workers=1, backwards=True))\n",
        "\n",
        "learn_lm = language_model_learner(data_lm, AWD_LSTM, config={**awd_lstm_lm_config, 'n_hid': 1152},\n",
        "                                  pretrained_fnames=lm_fns, drop_mult=1.0)"
      ],
      "execution_count": null,
      "outputs": [
        {
          "output_type": "display_data",
          "data": {
            "text/html": [
              ""
            ],
            "text/plain": [
              "<IPython.core.display.HTML object>"
            ]
          },
          "metadata": {
            "tags": []
          }
        },
        {
          "output_type": "display_data",
          "data": {
            "text/html": [
              ""
            ],
            "text/plain": [
              "<IPython.core.display.HTML object>"
            ]
          },
          "metadata": {
            "tags": []
          }
        }
      ]
    },
    {
      "cell_type": "code",
      "metadata": {
        "hidden": true,
        "id": "92cwFLJfwDuo"
      },
      "source": [
        "lr = 1e-3\n",
        "lr *= bs/48"
      ],
      "execution_count": null,
      "outputs": []
    },
    {
      "cell_type": "code",
      "metadata": {
        "hidden": true,
        "id": "a5UgHZG_wDuo",
        "outputId": "db4cd41a-534a-4047-8215-c3a37864f374"
      },
      "source": [
        "learn_lm.fit_one_cycle(2, lr*10, moms=(0.8,0.7))"
      ],
      "execution_count": null,
      "outputs": [
        {
          "output_type": "display_data",
          "data": {
            "text/html": [
              "<table border=\"1\" class=\"dataframe\">\n",
              "  <thead>\n",
              "    <tr style=\"text-align: left;\">\n",
              "      <th>epoch</th>\n",
              "      <th>train_loss</th>\n",
              "      <th>valid_loss</th>\n",
              "      <th>accuracy</th>\n",
              "      <th>time</th>\n",
              "    </tr>\n",
              "  </thead>\n",
              "  <tbody>\n",
              "    <tr>\n",
              "      <td>0</td>\n",
              "      <td>4.797052</td>\n",
              "      <td>4.025901</td>\n",
              "      <td>0.323326</td>\n",
              "      <td>00:07</td>\n",
              "    </tr>\n",
              "    <tr>\n",
              "      <td>1</td>\n",
              "      <td>4.275975</td>\n",
              "      <td>3.914450</td>\n",
              "      <td>0.333719</td>\n",
              "      <td>00:06</td>\n",
              "    </tr>\n",
              "  </tbody>\n",
              "</table>"
            ],
            "text/plain": [
              "<IPython.core.display.HTML object>"
            ]
          },
          "metadata": {
            "tags": []
          }
        }
      ]
    },
    {
      "cell_type": "code",
      "metadata": {
        "hidden": true,
        "id": "u27Eujv2wDup",
        "outputId": "5174317f-444a-4777-d008-de54130e80a6"
      },
      "source": [
        "learn_lm.unfreeze()\n",
        "learn_lm.fit_one_cycle(8, lr, moms=(0.8,0.7))"
      ],
      "execution_count": null,
      "outputs": [
        {
          "output_type": "display_data",
          "data": {
            "text/html": [
              "<table border=\"1\" class=\"dataframe\">\n",
              "  <thead>\n",
              "    <tr style=\"text-align: left;\">\n",
              "      <th>epoch</th>\n",
              "      <th>train_loss</th>\n",
              "      <th>valid_loss</th>\n",
              "      <th>accuracy</th>\n",
              "      <th>time</th>\n",
              "    </tr>\n",
              "  </thead>\n",
              "  <tbody>\n",
              "    <tr>\n",
              "      <td>0</td>\n",
              "      <td>3.996770</td>\n",
              "      <td>3.809489</td>\n",
              "      <td>0.346052</td>\n",
              "      <td>00:09</td>\n",
              "    </tr>\n",
              "    <tr>\n",
              "      <td>1</td>\n",
              "      <td>3.856959</td>\n",
              "      <td>3.664919</td>\n",
              "      <td>0.363239</td>\n",
              "      <td>00:09</td>\n",
              "    </tr>\n",
              "    <tr>\n",
              "      <td>2</td>\n",
              "      <td>3.726143</td>\n",
              "      <td>3.584303</td>\n",
              "      <td>0.369685</td>\n",
              "      <td>00:09</td>\n",
              "    </tr>\n",
              "    <tr>\n",
              "      <td>3</td>\n",
              "      <td>3.608569</td>\n",
              "      <td>3.531390</td>\n",
              "      <td>0.375307</td>\n",
              "      <td>00:09</td>\n",
              "    </tr>\n",
              "    <tr>\n",
              "      <td>4</td>\n",
              "      <td>3.514265</td>\n",
              "      <td>3.500826</td>\n",
              "      <td>0.379701</td>\n",
              "      <td>00:09</td>\n",
              "    </tr>\n",
              "    <tr>\n",
              "      <td>5</td>\n",
              "      <td>3.446292</td>\n",
              "      <td>3.486931</td>\n",
              "      <td>0.380859</td>\n",
              "      <td>00:09</td>\n",
              "    </tr>\n",
              "    <tr>\n",
              "      <td>6</td>\n",
              "      <td>3.392542</td>\n",
              "      <td>3.479732</td>\n",
              "      <td>0.382520</td>\n",
              "      <td>00:09</td>\n",
              "    </tr>\n",
              "    <tr>\n",
              "      <td>7</td>\n",
              "      <td>3.357502</td>\n",
              "      <td>3.478930</td>\n",
              "      <td>0.382520</td>\n",
              "      <td>00:09</td>\n",
              "    </tr>\n",
              "  </tbody>\n",
              "</table>"
            ],
            "text/plain": [
              "<IPython.core.display.HTML object>"
            ]
          },
          "metadata": {
            "tags": []
          }
        }
      ]
    },
    {
      "cell_type": "code",
      "metadata": {
        "hidden": true,
        "id": "ZXusCvx_wDup"
      },
      "source": [
        "learn_lm.save(f'{lang}fine_tuned_bwd')\n",
        "learn_lm.save_encoder(f'{lang}fine_tuned_enc_bwd')"
      ],
      "execution_count": null,
      "outputs": []
    },
    {
      "cell_type": "markdown",
      "metadata": {
        "id": "31Aav2PjwDup"
      },
      "source": [
        "### Classifier"
      ]
    },
    {
      "cell_type": "code",
      "metadata": {
        "id": "1CpZiswSwDup",
        "outputId": "ace4bbdb-8c5b-46c8-edeb-1de1bbf721d9"
      },
      "source": [
        "data_clas = (TextList.from_df(train_df, path, vocab=data_lm.vocab, cols='comment')\n",
        "    .split_by_rand_pct(0.1, seed=42)\n",
        "    .label_from_df(cols='label')\n",
        "    .databunch(bs=bs, num_workers=1, backwards=True))\n",
        "\n",
        "data_clas.save(f'{lang}_textlist_class_bwd')"
      ],
      "execution_count": null,
      "outputs": [
        {
          "output_type": "display_data",
          "data": {
            "text/html": [
              ""
            ],
            "text/plain": [
              "<IPython.core.display.HTML object>"
            ]
          },
          "metadata": {
            "tags": []
          }
        },
        {
          "output_type": "display_data",
          "data": {
            "text/html": [
              ""
            ],
            "text/plain": [
              "<IPython.core.display.HTML object>"
            ]
          },
          "metadata": {
            "tags": []
          }
        }
      ]
    },
    {
      "cell_type": "code",
      "metadata": {
        "id": "BeFIqor4wDuq"
      },
      "source": [
        "data_clas = load_data(path, f'{lang}_textlist_class_bwd', bs=bs, num_workers=1, backwards=True)"
      ],
      "execution_count": null,
      "outputs": []
    },
    {
      "cell_type": "code",
      "metadata": {
        "id": "EH_RDyznwDuq"
      },
      "source": [
        "from sklearn.metrics import f1_score\n",
        "\n",
        "@np_func\n",
        "def f1(inp,targ): return f1_score(targ, np.argmax(inp, axis=-1))"
      ],
      "execution_count": null,
      "outputs": []
    },
    {
      "cell_type": "code",
      "metadata": {
        "id": "ol2yfUwdwDuq"
      },
      "source": [
        "learn_c = text_classifier_learner(data_clas, AWD_LSTM, drop_mult=0.5, metrics=[accuracy,f1]).to_fp16()\n",
        "learn_c.load_encoder(f'{lang}fine_tuned_enc_bwd')\n",
        "learn_c.freeze()"
      ],
      "execution_count": null,
      "outputs": []
    },
    {
      "cell_type": "code",
      "metadata": {
        "id": "-Pe7ik_awDur"
      },
      "source": [
        "lr=2e-2\n",
        "lr *= bs/48"
      ],
      "execution_count": null,
      "outputs": []
    },
    {
      "cell_type": "code",
      "metadata": {
        "scrolled": false,
        "id": "ZolwIg4swDur",
        "outputId": "02718e82-f9e9-43b3-ce2b-f88cc2649f9a"
      },
      "source": [
        "learn_c.fit_one_cycle(2, lr, moms=(0.8,0.7))"
      ],
      "execution_count": null,
      "outputs": [
        {
          "output_type": "display_data",
          "data": {
            "text/html": [
              "<table border=\"1\" class=\"dataframe\">\n",
              "  <thead>\n",
              "    <tr style=\"text-align: left;\">\n",
              "      <th>epoch</th>\n",
              "      <th>train_loss</th>\n",
              "      <th>valid_loss</th>\n",
              "      <th>accuracy</th>\n",
              "      <th>f1</th>\n",
              "      <th>time</th>\n",
              "    </tr>\n",
              "  </thead>\n",
              "  <tbody>\n",
              "    <tr>\n",
              "      <td>0</td>\n",
              "      <td>0.369300</td>\n",
              "      <td>0.363769</td>\n",
              "      <td>0.834577</td>\n",
              "      <td>0.826098</td>\n",
              "      <td>00:03</td>\n",
              "    </tr>\n",
              "    <tr>\n",
              "      <td>1</td>\n",
              "      <td>0.328192</td>\n",
              "      <td>0.278986</td>\n",
              "      <td>0.874378</td>\n",
              "      <td>0.851747</td>\n",
              "      <td>00:02</td>\n",
              "    </tr>\n",
              "  </tbody>\n",
              "</table>"
            ],
            "text/plain": [
              "<IPython.core.display.HTML object>"
            ]
          },
          "metadata": {
            "tags": []
          }
        }
      ]
    },
    {
      "cell_type": "code",
      "metadata": {
        "id": "BGspV0ZXwDus",
        "outputId": "b8dcad0b-b181-4cdf-a78f-4c5f091363c8"
      },
      "source": [
        "learn_c.freeze_to(-2)\n",
        "learn_c.fit_one_cycle(2, slice(lr/(2.6**4),lr), moms=(0.8,0.7))"
      ],
      "execution_count": null,
      "outputs": [
        {
          "output_type": "display_data",
          "data": {
            "text/html": [
              "<table border=\"1\" class=\"dataframe\">\n",
              "  <thead>\n",
              "    <tr style=\"text-align: left;\">\n",
              "      <th>epoch</th>\n",
              "      <th>train_loss</th>\n",
              "      <th>valid_loss</th>\n",
              "      <th>accuracy</th>\n",
              "      <th>f1</th>\n",
              "      <th>time</th>\n",
              "    </tr>\n",
              "  </thead>\n",
              "  <tbody>\n",
              "    <tr>\n",
              "      <td>0</td>\n",
              "      <td>0.337875</td>\n",
              "      <td>0.306132</td>\n",
              "      <td>0.876866</td>\n",
              "      <td>0.860107</td>\n",
              "      <td>00:03</td>\n",
              "    </tr>\n",
              "    <tr>\n",
              "      <td>1</td>\n",
              "      <td>0.276982</td>\n",
              "      <td>0.237260</td>\n",
              "      <td>0.906095</td>\n",
              "      <td>0.886427</td>\n",
              "      <td>00:03</td>\n",
              "    </tr>\n",
              "  </tbody>\n",
              "</table>"
            ],
            "text/plain": [
              "<IPython.core.display.HTML object>"
            ]
          },
          "metadata": {
            "tags": []
          }
        }
      ]
    },
    {
      "cell_type": "code",
      "metadata": {
        "id": "eNMw44E6wDut",
        "outputId": "f7544afe-a6e3-409b-a1cd-3922c2a37c48"
      },
      "source": [
        "learn_c.freeze_to(-3)\n",
        "learn_c.fit_one_cycle(2, slice(lr/2/(2.6**4),lr/2), moms=(0.8,0.7))"
      ],
      "execution_count": null,
      "outputs": [
        {
          "output_type": "display_data",
          "data": {
            "text/html": [
              "<table border=\"1\" class=\"dataframe\">\n",
              "  <thead>\n",
              "    <tr style=\"text-align: left;\">\n",
              "      <th>epoch</th>\n",
              "      <th>train_loss</th>\n",
              "      <th>valid_loss</th>\n",
              "      <th>accuracy</th>\n",
              "      <th>f1</th>\n",
              "      <th>time</th>\n",
              "    </tr>\n",
              "  </thead>\n",
              "  <tbody>\n",
              "    <tr>\n",
              "      <td>0</td>\n",
              "      <td>0.292297</td>\n",
              "      <td>0.252393</td>\n",
              "      <td>0.896144</td>\n",
              "      <td>0.877916</td>\n",
              "      <td>00:04</td>\n",
              "    </tr>\n",
              "    <tr>\n",
              "      <td>1</td>\n",
              "      <td>0.255284</td>\n",
              "      <td>0.213655</td>\n",
              "      <td>0.912313</td>\n",
              "      <td>0.892551</td>\n",
              "      <td>00:04</td>\n",
              "    </tr>\n",
              "  </tbody>\n",
              "</table>"
            ],
            "text/plain": [
              "<IPython.core.display.HTML object>"
            ]
          },
          "metadata": {
            "tags": []
          }
        }
      ]
    },
    {
      "cell_type": "code",
      "metadata": {
        "id": "1_EoSM41wDut",
        "outputId": "25093d65-9656-4c7d-ddd0-f1881130e6dc"
      },
      "source": [
        "learn_c.unfreeze()\n",
        "learn_c.fit_one_cycle(1, slice(lr/10/(2.6**4),lr/10), moms=(0.8,0.7))"
      ],
      "execution_count": null,
      "outputs": [
        {
          "output_type": "display_data",
          "data": {
            "text/html": [
              "<table border=\"1\" class=\"dataframe\">\n",
              "  <thead>\n",
              "    <tr style=\"text-align: left;\">\n",
              "      <th>epoch</th>\n",
              "      <th>train_loss</th>\n",
              "      <th>valid_loss</th>\n",
              "      <th>accuracy</th>\n",
              "      <th>f1</th>\n",
              "      <th>time</th>\n",
              "    </tr>\n",
              "  </thead>\n",
              "  <tbody>\n",
              "    <tr>\n",
              "      <td>0</td>\n",
              "      <td>0.167376</td>\n",
              "      <td>0.266633</td>\n",
              "      <td>0.904851</td>\n",
              "      <td>0.885386</td>\n",
              "      <td>00:04</td>\n",
              "    </tr>\n",
              "  </tbody>\n",
              "</table>"
            ],
            "text/plain": [
              "<IPython.core.display.HTML object>"
            ]
          },
          "metadata": {
            "tags": []
          }
        }
      ]
    },
    {
      "cell_type": "code",
      "metadata": {
        "id": "U2KeUZPnwDuu"
      },
      "source": [
        "learn_c.save(f'{lang}clas_bwd')"
      ],
      "execution_count": null,
      "outputs": []
    },
    {
      "cell_type": "code",
      "metadata": {
        "id": "odM4vBCLwDuv"
      },
      "source": [
        ""
      ],
      "execution_count": null,
      "outputs": []
    }
  ]
}